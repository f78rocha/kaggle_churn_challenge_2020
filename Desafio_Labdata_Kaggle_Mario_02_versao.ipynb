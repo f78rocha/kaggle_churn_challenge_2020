{
 "cells": [
  {
   "cell_type": "markdown",
   "metadata": {},
   "source": [
    "## Problema:\n",
    "O objetivo desta análise consiste em prever a probabilidade de churn dos clientes de uma empresa de telecomunicações, isto é, a probabilidade de o cliente deixar de ser cliente."
   ]
  },
  {
   "cell_type": "markdown",
   "metadata": {},
   "source": [
    "## Controle de versões\n",
    "1. Versão: Seleção de variáveis - uso de variaveis selecionadas no modelo <br>\n",
    "Score: 0.77840 <br>\n",
    "2. Versão: Uso de todas as variáveis no modelo<br>\n",
    "Score: 0.78977  MELHOR SCORE ATÉ O MOMENTO !"
   ]
  },
  {
   "cell_type": "markdown",
   "metadata": {},
   "source": [
    "## Configuração do ambiente"
   ]
  },
  {
   "cell_type": "code",
   "execution_count": 1,
   "metadata": {},
   "outputs": [
    {
     "name": "stdout",
     "output_type": "stream",
     "text": [
      "3.7.3\n"
     ]
    }
   ],
   "source": [
    "from platform import python_version\n",
    "print(python_version())"
   ]
  },
  {
   "cell_type": "markdown",
   "metadata": {},
   "source": [
    "## Obtenção dos dados"
   ]
  },
  {
   "cell_type": "markdown",
   "metadata": {},
   "source": [
    "### Importação das bibliotecas"
   ]
  },
  {
   "cell_type": "code",
   "execution_count": 2,
   "metadata": {},
   "outputs": [],
   "source": [
    "import pandas as pd\n",
    "import numpy as np\n",
    "import matplotlib.pyplot as plt\n",
    "import seaborn as sns\n",
    "import warnings\n",
    "warnings.filterwarnings(\"ignore\", category=FutureWarning)\n",
    "pd.options.display.float_format = '{:,.2f}'.format\n",
    "pd.set_option('display.max_columns', None)\n",
    "pd.set_option('display.max_rows', 72)"
   ]
  },
  {
   "cell_type": "markdown",
   "metadata": {},
   "source": [
    "### Carregamento dos dados"
   ]
  },
  {
   "cell_type": "code",
   "execution_count": 3,
   "metadata": {},
   "outputs": [],
   "source": [
    "dados = pd.read_csv('train.csv',sep=',')"
   ]
  },
  {
   "cell_type": "markdown",
   "metadata": {},
   "source": [
    "### Visualização das linhas iniciais de dados"
   ]
  },
  {
   "cell_type": "code",
   "execution_count": 4,
   "metadata": {},
   "outputs": [
    {
     "data": {
      "text/html": [
       "<div>\n",
       "<style scoped>\n",
       "    .dataframe tbody tr th:only-of-type {\n",
       "        vertical-align: middle;\n",
       "    }\n",
       "\n",
       "    .dataframe tbody tr th {\n",
       "        vertical-align: top;\n",
       "    }\n",
       "\n",
       "    .dataframe thead th {\n",
       "        text-align: right;\n",
       "    }\n",
       "</style>\n",
       "<table border=\"1\" class=\"dataframe\">\n",
       "  <thead>\n",
       "    <tr style=\"text-align: right;\">\n",
       "      <th></th>\n",
       "      <th>id</th>\n",
       "      <th>gender</th>\n",
       "      <th>SeniorCitizen</th>\n",
       "      <th>Partner</th>\n",
       "      <th>Dependents</th>\n",
       "      <th>tenure</th>\n",
       "      <th>PhoneService</th>\n",
       "      <th>MultipleLines</th>\n",
       "      <th>InternetService</th>\n",
       "      <th>OnlineSecurity</th>\n",
       "      <th>OnlineBackup</th>\n",
       "      <th>DeviceProtection</th>\n",
       "      <th>TechSupport</th>\n",
       "      <th>StreamingTV</th>\n",
       "      <th>StreamingMovies</th>\n",
       "      <th>Contract</th>\n",
       "      <th>PaperlessBilling</th>\n",
       "      <th>PaymentMethod</th>\n",
       "      <th>MonthlyCharges</th>\n",
       "      <th>TotalCharges</th>\n",
       "      <th>Churn</th>\n",
       "    </tr>\n",
       "  </thead>\n",
       "  <tbody>\n",
       "    <tr>\n",
       "      <th>0</th>\n",
       "      <td>4030</td>\n",
       "      <td>Female</td>\n",
       "      <td>0</td>\n",
       "      <td>No</td>\n",
       "      <td>No</td>\n",
       "      <td>56.00</td>\n",
       "      <td>No</td>\n",
       "      <td>No phone service</td>\n",
       "      <td>DSL</td>\n",
       "      <td>Yes</td>\n",
       "      <td>Yes</td>\n",
       "      <td>Yes</td>\n",
       "      <td>Yes</td>\n",
       "      <td>No</td>\n",
       "      <td>No</td>\n",
       "      <td>Two year</td>\n",
       "      <td>No</td>\n",
       "      <td>NaN</td>\n",
       "      <td>45.05</td>\n",
       "      <td>2560.1</td>\n",
       "      <td>0</td>\n",
       "    </tr>\n",
       "    <tr>\n",
       "      <th>1</th>\n",
       "      <td>6731</td>\n",
       "      <td>Male</td>\n",
       "      <td>0</td>\n",
       "      <td>Yes</td>\n",
       "      <td>Yes</td>\n",
       "      <td>nan</td>\n",
       "      <td>Yes</td>\n",
       "      <td>No</td>\n",
       "      <td>No</td>\n",
       "      <td>No internet service</td>\n",
       "      <td>No internet service</td>\n",
       "      <td>No internet service</td>\n",
       "      <td>No internet service</td>\n",
       "      <td>No internet service</td>\n",
       "      <td>No internet service</td>\n",
       "      <td>One year</td>\n",
       "      <td>No</td>\n",
       "      <td>Mailed check</td>\n",
       "      <td>19.65</td>\n",
       "      <td>332.65</td>\n",
       "      <td>0</td>\n",
       "    </tr>\n",
       "    <tr>\n",
       "      <th>2</th>\n",
       "      <td>6479</td>\n",
       "      <td>Female</td>\n",
       "      <td>0</td>\n",
       "      <td>Yes</td>\n",
       "      <td>No</td>\n",
       "      <td>60.00</td>\n",
       "      <td>Yes</td>\n",
       "      <td>Yes</td>\n",
       "      <td>Fiber optic</td>\n",
       "      <td>No</td>\n",
       "      <td>Yes</td>\n",
       "      <td>Yes</td>\n",
       "      <td>Yes</td>\n",
       "      <td>Yes</td>\n",
       "      <td>Yes</td>\n",
       "      <td>Two year</td>\n",
       "      <td>Yes</td>\n",
       "      <td>Credit card (automatic)</td>\n",
       "      <td>110.80</td>\n",
       "      <td>6640.7</td>\n",
       "      <td>0</td>\n",
       "    </tr>\n",
       "    <tr>\n",
       "      <th>3</th>\n",
       "      <td>6861</td>\n",
       "      <td>Female</td>\n",
       "      <td>0</td>\n",
       "      <td>No</td>\n",
       "      <td>No</td>\n",
       "      <td>37.00</td>\n",
       "      <td>Yes</td>\n",
       "      <td>Yes</td>\n",
       "      <td>Fiber optic</td>\n",
       "      <td>No</td>\n",
       "      <td>Yes</td>\n",
       "      <td>Yes</td>\n",
       "      <td>No</td>\n",
       "      <td>Yes</td>\n",
       "      <td>Yes</td>\n",
       "      <td>Month-to-month</td>\n",
       "      <td>Yes</td>\n",
       "      <td>Bank transfer (automatic)</td>\n",
       "      <td>101.90</td>\n",
       "      <td>3545.35</td>\n",
       "      <td>1</td>\n",
       "    </tr>\n",
       "    <tr>\n",
       "      <th>4</th>\n",
       "      <td>3266</td>\n",
       "      <td>Male</td>\n",
       "      <td>0</td>\n",
       "      <td>Yes</td>\n",
       "      <td>Yes</td>\n",
       "      <td>29.00</td>\n",
       "      <td>Yes</td>\n",
       "      <td>No</td>\n",
       "      <td>Fiber optic</td>\n",
       "      <td>No</td>\n",
       "      <td>No</td>\n",
       "      <td>No</td>\n",
       "      <td>No</td>\n",
       "      <td>No</td>\n",
       "      <td>No</td>\n",
       "      <td>Month-to-month</td>\n",
       "      <td>Yes</td>\n",
       "      <td>Electronic check</td>\n",
       "      <td>70.75</td>\n",
       "      <td>1974.8</td>\n",
       "      <td>1</td>\n",
       "    </tr>\n",
       "  </tbody>\n",
       "</table>\n",
       "</div>"
      ],
      "text/plain": [
       "     id  gender  SeniorCitizen Partner Dependents  tenure PhoneService  \\\n",
       "0  4030  Female              0      No         No   56.00           No   \n",
       "1  6731    Male              0     Yes        Yes     nan          Yes   \n",
       "2  6479  Female              0     Yes         No   60.00          Yes   \n",
       "3  6861  Female              0      No         No   37.00          Yes   \n",
       "4  3266    Male              0     Yes        Yes   29.00          Yes   \n",
       "\n",
       "      MultipleLines InternetService       OnlineSecurity         OnlineBackup  \\\n",
       "0  No phone service             DSL                  Yes                  Yes   \n",
       "1                No              No  No internet service  No internet service   \n",
       "2               Yes     Fiber optic                   No                  Yes   \n",
       "3               Yes     Fiber optic                   No                  Yes   \n",
       "4                No     Fiber optic                   No                   No   \n",
       "\n",
       "      DeviceProtection          TechSupport          StreamingTV  \\\n",
       "0                  Yes                  Yes                   No   \n",
       "1  No internet service  No internet service  No internet service   \n",
       "2                  Yes                  Yes                  Yes   \n",
       "3                  Yes                   No                  Yes   \n",
       "4                   No                   No                   No   \n",
       "\n",
       "       StreamingMovies        Contract PaperlessBilling  \\\n",
       "0                   No        Two year               No   \n",
       "1  No internet service        One year               No   \n",
       "2                  Yes        Two year              Yes   \n",
       "3                  Yes  Month-to-month              Yes   \n",
       "4                   No  Month-to-month              Yes   \n",
       "\n",
       "               PaymentMethod  MonthlyCharges TotalCharges  Churn  \n",
       "0                        NaN           45.05       2560.1      0  \n",
       "1               Mailed check           19.65       332.65      0  \n",
       "2    Credit card (automatic)          110.80       6640.7      0  \n",
       "3  Bank transfer (automatic)          101.90      3545.35      1  \n",
       "4           Electronic check           70.75       1974.8      1  "
      ]
     },
     "execution_count": 4,
     "metadata": {},
     "output_type": "execute_result"
    }
   ],
   "source": [
    "dados.head()"
   ]
  },
  {
   "cell_type": "markdown",
   "metadata": {},
   "source": [
    "## Manipulação inicial do banco de dados"
   ]
  },
  {
   "cell_type": "markdown",
   "metadata": {},
   "source": [
    "### Renomeando o banco de dados"
   ]
  },
  {
   "cell_type": "code",
   "execution_count": 5,
   "metadata": {},
   "outputs": [],
   "source": [
    "dados = dados.rename(columns={\n",
    "    'id':'id',\n",
    "    'gender':'genero',\n",
    "    'SeniorCitizen':'Idoso',\n",
    "    'Partner':'TemParceiro',\n",
    "    'Dependents':'TemDependentes',\n",
    "    'tenure':'MesesNaCompanhia',\n",
    "    'PhoneService':'TemTelefone',\n",
    "    'MultipleLines':'MaisLinhas',\n",
    "    'InternetService':'TemInternet',\n",
    "    'OnlineSecurity':'ServicoSegurancaOnline',\n",
    "    'OnlineBackup':'ServicoBackupOnline',\n",
    "    'DeviceProtection':'ServicoProtecaoOnline',\n",
    "    'TechSupport':'ServicoSuporteOnline',\n",
    "    'StreamingTV':'ServicoTV',\n",
    "    'StreamingMovies':'ServicoPctFilmes',\n",
    "    'Contract':'Contrato',\n",
    "    'PaperlessBilling':'ContaOnline',\n",
    "    'PaymentMethod':'MetodoPagamento',\n",
    "    'MonthlyCharges':'CobrancaMensal',\n",
    "    'TotalCharges':'CobrancaTotal',\n",
    "    'Churn':'Churn'\n",
    "})"
   ]
  },
  {
   "cell_type": "markdown",
   "metadata": {},
   "source": [
    "### Visualizando o banco de dados"
   ]
  },
  {
   "cell_type": "code",
   "execution_count": 6,
   "metadata": {},
   "outputs": [],
   "source": [
    "# Exporta dados para Excel\n",
    "dados.to_excel('train2.xlsx')"
   ]
  },
  {
   "cell_type": "code",
   "execution_count": 7,
   "metadata": {},
   "outputs": [
    {
     "data": {
      "text/html": [
       "<div>\n",
       "<style scoped>\n",
       "    .dataframe tbody tr th:only-of-type {\n",
       "        vertical-align: middle;\n",
       "    }\n",
       "\n",
       "    .dataframe tbody tr th {\n",
       "        vertical-align: top;\n",
       "    }\n",
       "\n",
       "    .dataframe thead th {\n",
       "        text-align: right;\n",
       "    }\n",
       "</style>\n",
       "<table border=\"1\" class=\"dataframe\">\n",
       "  <thead>\n",
       "    <tr style=\"text-align: right;\">\n",
       "      <th></th>\n",
       "      <th>0</th>\n",
       "      <th>1</th>\n",
       "      <th>2</th>\n",
       "      <th>3</th>\n",
       "      <th>4</th>\n",
       "      <th>5</th>\n",
       "      <th>6</th>\n",
       "      <th>7</th>\n",
       "      <th>8</th>\n",
       "      <th>9</th>\n",
       "    </tr>\n",
       "  </thead>\n",
       "  <tbody>\n",
       "    <tr>\n",
       "      <th>id</th>\n",
       "      <td>4030</td>\n",
       "      <td>6731</td>\n",
       "      <td>6479</td>\n",
       "      <td>6861</td>\n",
       "      <td>3266</td>\n",
       "      <td>6368</td>\n",
       "      <td>5830</td>\n",
       "      <td>4476</td>\n",
       "      <td>1508</td>\n",
       "      <td>2921</td>\n",
       "    </tr>\n",
       "    <tr>\n",
       "      <th>genero</th>\n",
       "      <td>Female</td>\n",
       "      <td>Male</td>\n",
       "      <td>Female</td>\n",
       "      <td>Female</td>\n",
       "      <td>Male</td>\n",
       "      <td>Male</td>\n",
       "      <td>Male</td>\n",
       "      <td>Female</td>\n",
       "      <td>Male</td>\n",
       "      <td>Female</td>\n",
       "    </tr>\n",
       "    <tr>\n",
       "      <th>Idoso</th>\n",
       "      <td>0</td>\n",
       "      <td>0</td>\n",
       "      <td>0</td>\n",
       "      <td>0</td>\n",
       "      <td>0</td>\n",
       "      <td>0</td>\n",
       "      <td>0</td>\n",
       "      <td>0</td>\n",
       "      <td>0</td>\n",
       "      <td>0</td>\n",
       "    </tr>\n",
       "    <tr>\n",
       "      <th>TemParceiro</th>\n",
       "      <td>No</td>\n",
       "      <td>Yes</td>\n",
       "      <td>Yes</td>\n",
       "      <td>No</td>\n",
       "      <td>Yes</td>\n",
       "      <td>No</td>\n",
       "      <td>Yes</td>\n",
       "      <td>No</td>\n",
       "      <td>No</td>\n",
       "      <td>Yes</td>\n",
       "    </tr>\n",
       "    <tr>\n",
       "      <th>TemDependentes</th>\n",
       "      <td>No</td>\n",
       "      <td>Yes</td>\n",
       "      <td>No</td>\n",
       "      <td>No</td>\n",
       "      <td>Yes</td>\n",
       "      <td>No</td>\n",
       "      <td>Yes</td>\n",
       "      <td>No</td>\n",
       "      <td>No</td>\n",
       "      <td>No</td>\n",
       "    </tr>\n",
       "    <tr>\n",
       "      <th>MesesNaCompanhia</th>\n",
       "      <td>56.00</td>\n",
       "      <td>NaN</td>\n",
       "      <td>60.00</td>\n",
       "      <td>37.00</td>\n",
       "      <td>29.00</td>\n",
       "      <td>70.00</td>\n",
       "      <td>31.00</td>\n",
       "      <td>3.00</td>\n",
       "      <td>54.00</td>\n",
       "      <td>72.00</td>\n",
       "    </tr>\n",
       "    <tr>\n",
       "      <th>TemTelefone</th>\n",
       "      <td>No</td>\n",
       "      <td>Yes</td>\n",
       "      <td>Yes</td>\n",
       "      <td>Yes</td>\n",
       "      <td>Yes</td>\n",
       "      <td>No</td>\n",
       "      <td>No</td>\n",
       "      <td>Yes</td>\n",
       "      <td>Yes</td>\n",
       "      <td>Yes</td>\n",
       "    </tr>\n",
       "    <tr>\n",
       "      <th>MaisLinhas</th>\n",
       "      <td>No phone service</td>\n",
       "      <td>No</td>\n",
       "      <td>Yes</td>\n",
       "      <td>Yes</td>\n",
       "      <td>No</td>\n",
       "      <td>No phone service</td>\n",
       "      <td>No phone service</td>\n",
       "      <td>No</td>\n",
       "      <td>No</td>\n",
       "      <td>No</td>\n",
       "    </tr>\n",
       "    <tr>\n",
       "      <th>TemInternet</th>\n",
       "      <td>DSL</td>\n",
       "      <td>No</td>\n",
       "      <td>Fiber optic</td>\n",
       "      <td>Fiber optic</td>\n",
       "      <td>Fiber optic</td>\n",
       "      <td>DSL</td>\n",
       "      <td>DSL</td>\n",
       "      <td>No</td>\n",
       "      <td>No</td>\n",
       "      <td>DSL</td>\n",
       "    </tr>\n",
       "    <tr>\n",
       "      <th>ServicoSegurancaOnline</th>\n",
       "      <td>Yes</td>\n",
       "      <td>No internet service</td>\n",
       "      <td>No</td>\n",
       "      <td>No</td>\n",
       "      <td>No</td>\n",
       "      <td>Yes</td>\n",
       "      <td>Yes</td>\n",
       "      <td>No internet service</td>\n",
       "      <td>No internet service</td>\n",
       "      <td>Yes</td>\n",
       "    </tr>\n",
       "    <tr>\n",
       "      <th>ServicoBackupOnline</th>\n",
       "      <td>Yes</td>\n",
       "      <td>No internet service</td>\n",
       "      <td>Yes</td>\n",
       "      <td>Yes</td>\n",
       "      <td>No</td>\n",
       "      <td>No</td>\n",
       "      <td>No</td>\n",
       "      <td>No internet service</td>\n",
       "      <td>No internet service</td>\n",
       "      <td>Yes</td>\n",
       "    </tr>\n",
       "    <tr>\n",
       "      <th>ServicoProtecaoOnline</th>\n",
       "      <td>Yes</td>\n",
       "      <td>No internet service</td>\n",
       "      <td>Yes</td>\n",
       "      <td>Yes</td>\n",
       "      <td>No</td>\n",
       "      <td>Yes</td>\n",
       "      <td>Yes</td>\n",
       "      <td>No internet service</td>\n",
       "      <td>No internet service</td>\n",
       "      <td>Yes</td>\n",
       "    </tr>\n",
       "    <tr>\n",
       "      <th>ServicoSuporteOnline</th>\n",
       "      <td>Yes</td>\n",
       "      <td>No internet service</td>\n",
       "      <td>Yes</td>\n",
       "      <td>No</td>\n",
       "      <td>No</td>\n",
       "      <td>Yes</td>\n",
       "      <td>Yes</td>\n",
       "      <td>No internet service</td>\n",
       "      <td>No internet service</td>\n",
       "      <td>Yes</td>\n",
       "    </tr>\n",
       "    <tr>\n",
       "      <th>ServicoTV</th>\n",
       "      <td>No</td>\n",
       "      <td>No internet service</td>\n",
       "      <td>Yes</td>\n",
       "      <td>Yes</td>\n",
       "      <td>No</td>\n",
       "      <td>No</td>\n",
       "      <td>Yes</td>\n",
       "      <td>No internet service</td>\n",
       "      <td>No internet service</td>\n",
       "      <td>Yes</td>\n",
       "    </tr>\n",
       "    <tr>\n",
       "      <th>ServicoPctFilmes</th>\n",
       "      <td>No</td>\n",
       "      <td>No internet service</td>\n",
       "      <td>Yes</td>\n",
       "      <td>Yes</td>\n",
       "      <td>No</td>\n",
       "      <td>Yes</td>\n",
       "      <td>Yes</td>\n",
       "      <td>No internet service</td>\n",
       "      <td>No internet service</td>\n",
       "      <td>Yes</td>\n",
       "    </tr>\n",
       "    <tr>\n",
       "      <th>Contrato</th>\n",
       "      <td>Two year</td>\n",
       "      <td>One year</td>\n",
       "      <td>Two year</td>\n",
       "      <td>Month-to-month</td>\n",
       "      <td>Month-to-month</td>\n",
       "      <td>Two year</td>\n",
       "      <td>One year</td>\n",
       "      <td>Month-to-month</td>\n",
       "      <td>Two year</td>\n",
       "      <td>Two year</td>\n",
       "    </tr>\n",
       "    <tr>\n",
       "      <th>ContaOnline</th>\n",
       "      <td>No</td>\n",
       "      <td>No</td>\n",
       "      <td>Yes</td>\n",
       "      <td>Yes</td>\n",
       "      <td>Yes</td>\n",
       "      <td>No</td>\n",
       "      <td>No</td>\n",
       "      <td>No</td>\n",
       "      <td>No</td>\n",
       "      <td>No</td>\n",
       "    </tr>\n",
       "    <tr>\n",
       "      <th>MetodoPagamento</th>\n",
       "      <td>NaN</td>\n",
       "      <td>Mailed check</td>\n",
       "      <td>Credit card (automatic)</td>\n",
       "      <td>Bank transfer (automatic)</td>\n",
       "      <td>Electronic check</td>\n",
       "      <td>Bank transfer (automatic)</td>\n",
       "      <td>Electronic check</td>\n",
       "      <td>Electronic check</td>\n",
       "      <td>Credit card (automatic)</td>\n",
       "      <td>Mailed check</td>\n",
       "    </tr>\n",
       "    <tr>\n",
       "      <th>CobrancaMensal</th>\n",
       "      <td>45.05</td>\n",
       "      <td>19.65</td>\n",
       "      <td>110.80</td>\n",
       "      <td>101.90</td>\n",
       "      <td>70.75</td>\n",
       "      <td>48.40</td>\n",
       "      <td>59.95</td>\n",
       "      <td>19.55</td>\n",
       "      <td>19.65</td>\n",
       "      <td>85.10</td>\n",
       "    </tr>\n",
       "    <tr>\n",
       "      <th>CobrancaTotal</th>\n",
       "      <td>2560.1</td>\n",
       "      <td>332.65</td>\n",
       "      <td>6640.7</td>\n",
       "      <td>3545.35</td>\n",
       "      <td>1974.8</td>\n",
       "      <td>3442.8</td>\n",
       "      <td>1848.8</td>\n",
       "      <td>61.05</td>\n",
       "      <td>1008.7</td>\n",
       "      <td>6155.4</td>\n",
       "    </tr>\n",
       "    <tr>\n",
       "      <th>Churn</th>\n",
       "      <td>0</td>\n",
       "      <td>0</td>\n",
       "      <td>0</td>\n",
       "      <td>1</td>\n",
       "      <td>1</td>\n",
       "      <td>0</td>\n",
       "      <td>0</td>\n",
       "      <td>0</td>\n",
       "      <td>0</td>\n",
       "      <td>0</td>\n",
       "    </tr>\n",
       "  </tbody>\n",
       "</table>\n",
       "</div>"
      ],
      "text/plain": [
       "                                       0                    1  \\\n",
       "id                                  4030                 6731   \n",
       "genero                            Female                 Male   \n",
       "Idoso                                  0                    0   \n",
       "TemParceiro                           No                  Yes   \n",
       "TemDependentes                        No                  Yes   \n",
       "MesesNaCompanhia                   56.00                  NaN   \n",
       "TemTelefone                           No                  Yes   \n",
       "MaisLinhas              No phone service                   No   \n",
       "TemInternet                          DSL                   No   \n",
       "ServicoSegurancaOnline               Yes  No internet service   \n",
       "ServicoBackupOnline                  Yes  No internet service   \n",
       "ServicoProtecaoOnline                Yes  No internet service   \n",
       "ServicoSuporteOnline                 Yes  No internet service   \n",
       "ServicoTV                             No  No internet service   \n",
       "ServicoPctFilmes                      No  No internet service   \n",
       "Contrato                        Two year             One year   \n",
       "ContaOnline                           No                   No   \n",
       "MetodoPagamento                      NaN         Mailed check   \n",
       "CobrancaMensal                     45.05                19.65   \n",
       "CobrancaTotal                     2560.1               332.65   \n",
       "Churn                                  0                    0   \n",
       "\n",
       "                                              2                          3  \\\n",
       "id                                         6479                       6861   \n",
       "genero                                   Female                     Female   \n",
       "Idoso                                         0                          0   \n",
       "TemParceiro                                 Yes                         No   \n",
       "TemDependentes                               No                         No   \n",
       "MesesNaCompanhia                          60.00                      37.00   \n",
       "TemTelefone                                 Yes                        Yes   \n",
       "MaisLinhas                                  Yes                        Yes   \n",
       "TemInternet                         Fiber optic                Fiber optic   \n",
       "ServicoSegurancaOnline                       No                         No   \n",
       "ServicoBackupOnline                         Yes                        Yes   \n",
       "ServicoProtecaoOnline                       Yes                        Yes   \n",
       "ServicoSuporteOnline                        Yes                         No   \n",
       "ServicoTV                                   Yes                        Yes   \n",
       "ServicoPctFilmes                            Yes                        Yes   \n",
       "Contrato                               Two year             Month-to-month   \n",
       "ContaOnline                                 Yes                        Yes   \n",
       "MetodoPagamento         Credit card (automatic)  Bank transfer (automatic)   \n",
       "CobrancaMensal                           110.80                     101.90   \n",
       "CobrancaTotal                            6640.7                    3545.35   \n",
       "Churn                                         0                          1   \n",
       "\n",
       "                                       4                          5  \\\n",
       "id                                  3266                       6368   \n",
       "genero                              Male                       Male   \n",
       "Idoso                                  0                          0   \n",
       "TemParceiro                          Yes                         No   \n",
       "TemDependentes                       Yes                         No   \n",
       "MesesNaCompanhia                   29.00                      70.00   \n",
       "TemTelefone                          Yes                         No   \n",
       "MaisLinhas                            No           No phone service   \n",
       "TemInternet                  Fiber optic                        DSL   \n",
       "ServicoSegurancaOnline                No                        Yes   \n",
       "ServicoBackupOnline                   No                         No   \n",
       "ServicoProtecaoOnline                 No                        Yes   \n",
       "ServicoSuporteOnline                  No                        Yes   \n",
       "ServicoTV                             No                         No   \n",
       "ServicoPctFilmes                      No                        Yes   \n",
       "Contrato                  Month-to-month                   Two year   \n",
       "ContaOnline                          Yes                         No   \n",
       "MetodoPagamento         Electronic check  Bank transfer (automatic)   \n",
       "CobrancaMensal                     70.75                      48.40   \n",
       "CobrancaTotal                     1974.8                     3442.8   \n",
       "Churn                                  1                          0   \n",
       "\n",
       "                                       6                    7  \\\n",
       "id                                  5830                 4476   \n",
       "genero                              Male               Female   \n",
       "Idoso                                  0                    0   \n",
       "TemParceiro                          Yes                   No   \n",
       "TemDependentes                       Yes                   No   \n",
       "MesesNaCompanhia                   31.00                 3.00   \n",
       "TemTelefone                           No                  Yes   \n",
       "MaisLinhas              No phone service                   No   \n",
       "TemInternet                          DSL                   No   \n",
       "ServicoSegurancaOnline               Yes  No internet service   \n",
       "ServicoBackupOnline                   No  No internet service   \n",
       "ServicoProtecaoOnline                Yes  No internet service   \n",
       "ServicoSuporteOnline                 Yes  No internet service   \n",
       "ServicoTV                            Yes  No internet service   \n",
       "ServicoPctFilmes                     Yes  No internet service   \n",
       "Contrato                        One year       Month-to-month   \n",
       "ContaOnline                           No                   No   \n",
       "MetodoPagamento         Electronic check     Electronic check   \n",
       "CobrancaMensal                     59.95                19.55   \n",
       "CobrancaTotal                     1848.8                61.05   \n",
       "Churn                                  0                    0   \n",
       "\n",
       "                                              8             9  \n",
       "id                                         1508          2921  \n",
       "genero                                     Male        Female  \n",
       "Idoso                                         0             0  \n",
       "TemParceiro                                  No           Yes  \n",
       "TemDependentes                               No            No  \n",
       "MesesNaCompanhia                          54.00         72.00  \n",
       "TemTelefone                                 Yes           Yes  \n",
       "MaisLinhas                                   No            No  \n",
       "TemInternet                                  No           DSL  \n",
       "ServicoSegurancaOnline      No internet service           Yes  \n",
       "ServicoBackupOnline         No internet service           Yes  \n",
       "ServicoProtecaoOnline       No internet service           Yes  \n",
       "ServicoSuporteOnline        No internet service           Yes  \n",
       "ServicoTV                   No internet service           Yes  \n",
       "ServicoPctFilmes            No internet service           Yes  \n",
       "Contrato                               Two year      Two year  \n",
       "ContaOnline                                  No            No  \n",
       "MetodoPagamento         Credit card (automatic)  Mailed check  \n",
       "CobrancaMensal                            19.65         85.10  \n",
       "CobrancaTotal                            1008.7        6155.4  \n",
       "Churn                                         0             0  "
      ]
     },
     "execution_count": 7,
     "metadata": {},
     "output_type": "execute_result"
    }
   ],
   "source": [
    "dados.head(10).T  #.T faz a transposta da exibiçao do comando head"
   ]
  },
  {
   "cell_type": "markdown",
   "metadata": {},
   "source": [
    "### Verificando os tipos de dados"
   ]
  },
  {
   "cell_type": "code",
   "execution_count": 8,
   "metadata": {},
   "outputs": [
    {
     "name": "stdout",
     "output_type": "stream",
     "text": [
      "<class 'pandas.core.frame.DataFrame'>\n",
      "RangeIndex: 5634 entries, 0 to 5633\n",
      "Data columns (total 21 columns):\n",
      "id                        5634 non-null int64\n",
      "genero                    5634 non-null object\n",
      "Idoso                     5634 non-null int64\n",
      "TemParceiro               5634 non-null object\n",
      "TemDependentes            5416 non-null object\n",
      "MesesNaCompanhia          5173 non-null float64\n",
      "TemTelefone               5634 non-null object\n",
      "MaisLinhas                5634 non-null object\n",
      "TemInternet               5634 non-null object\n",
      "ServicoSegurancaOnline    5634 non-null object\n",
      "ServicoBackupOnline       5634 non-null object\n",
      "ServicoProtecaoOnline     5634 non-null object\n",
      "ServicoSuporteOnline      5634 non-null object\n",
      "ServicoTV                 5634 non-null object\n",
      "ServicoPctFilmes          5634 non-null object\n",
      "Contrato                  5634 non-null object\n",
      "ContaOnline               5634 non-null object\n",
      "MetodoPagamento           5535 non-null object\n",
      "CobrancaMensal            5634 non-null float64\n",
      "CobrancaTotal             5634 non-null object\n",
      "Churn                     5634 non-null int64\n",
      "dtypes: float64(2), int64(3), object(16)\n",
      "memory usage: 924.4+ KB\n"
     ]
    }
   ],
   "source": [
    "dados.info()"
   ]
  },
  {
   "cell_type": "markdown",
   "metadata": {},
   "source": [
    "## EDA - Análise Exploratória de Dados"
   ]
  },
  {
   "cell_type": "markdown",
   "metadata": {},
   "source": [
    "### Separando as variáveis por tipo"
   ]
  },
  {
   "cell_type": "code",
   "execution_count": 9,
   "metadata": {},
   "outputs": [],
   "source": [
    "quantitativas = dados[['MesesNaCompanhia','CobrancaMensal','CobrancaTotal']]\n",
    "categóricas = dados.drop(columns=['id','MesesNaCompanhia','CobrancaMensal','CobrancaTotal','Churn'],\n",
    "                         axis=1)\n",
    "target = dados['Churn']"
   ]
  },
  {
   "cell_type": "code",
   "execution_count": 10,
   "metadata": {},
   "outputs": [
    {
     "data": {
      "text/html": [
       "<div>\n",
       "<style scoped>\n",
       "    .dataframe tbody tr th:only-of-type {\n",
       "        vertical-align: middle;\n",
       "    }\n",
       "\n",
       "    .dataframe tbody tr th {\n",
       "        vertical-align: top;\n",
       "    }\n",
       "\n",
       "    .dataframe thead th {\n",
       "        text-align: right;\n",
       "    }\n",
       "</style>\n",
       "<table border=\"1\" class=\"dataframe\">\n",
       "  <thead>\n",
       "    <tr style=\"text-align: right;\">\n",
       "      <th></th>\n",
       "      <th>MesesNaCompanhia</th>\n",
       "      <th>CobrancaMensal</th>\n",
       "      <th>CobrancaTotal</th>\n",
       "    </tr>\n",
       "  </thead>\n",
       "  <tbody>\n",
       "    <tr>\n",
       "      <th>0</th>\n",
       "      <td>56.00</td>\n",
       "      <td>45.05</td>\n",
       "      <td>2560.1</td>\n",
       "    </tr>\n",
       "    <tr>\n",
       "      <th>1</th>\n",
       "      <td>nan</td>\n",
       "      <td>19.65</td>\n",
       "      <td>332.65</td>\n",
       "    </tr>\n",
       "    <tr>\n",
       "      <th>2</th>\n",
       "      <td>60.00</td>\n",
       "      <td>110.80</td>\n",
       "      <td>6640.7</td>\n",
       "    </tr>\n",
       "    <tr>\n",
       "      <th>3</th>\n",
       "      <td>37.00</td>\n",
       "      <td>101.90</td>\n",
       "      <td>3545.35</td>\n",
       "    </tr>\n",
       "    <tr>\n",
       "      <th>4</th>\n",
       "      <td>29.00</td>\n",
       "      <td>70.75</td>\n",
       "      <td>1974.8</td>\n",
       "    </tr>\n",
       "  </tbody>\n",
       "</table>\n",
       "</div>"
      ],
      "text/plain": [
       "   MesesNaCompanhia  CobrancaMensal CobrancaTotal\n",
       "0             56.00           45.05        2560.1\n",
       "1               nan           19.65        332.65\n",
       "2             60.00          110.80        6640.7\n",
       "3             37.00          101.90       3545.35\n",
       "4             29.00           70.75        1974.8"
      ]
     },
     "execution_count": 10,
     "metadata": {},
     "output_type": "execute_result"
    }
   ],
   "source": [
    "quantitativas.head()"
   ]
  },
  {
   "cell_type": "code",
   "execution_count": 11,
   "metadata": {},
   "outputs": [
    {
     "data": {
      "text/html": [
       "<div>\n",
       "<style scoped>\n",
       "    .dataframe tbody tr th:only-of-type {\n",
       "        vertical-align: middle;\n",
       "    }\n",
       "\n",
       "    .dataframe tbody tr th {\n",
       "        vertical-align: top;\n",
       "    }\n",
       "\n",
       "    .dataframe thead th {\n",
       "        text-align: right;\n",
       "    }\n",
       "</style>\n",
       "<table border=\"1\" class=\"dataframe\">\n",
       "  <thead>\n",
       "    <tr style=\"text-align: right;\">\n",
       "      <th></th>\n",
       "      <th>genero</th>\n",
       "      <th>Idoso</th>\n",
       "      <th>TemParceiro</th>\n",
       "      <th>TemDependentes</th>\n",
       "      <th>TemTelefone</th>\n",
       "      <th>MaisLinhas</th>\n",
       "      <th>TemInternet</th>\n",
       "      <th>ServicoSegurancaOnline</th>\n",
       "      <th>ServicoBackupOnline</th>\n",
       "      <th>ServicoProtecaoOnline</th>\n",
       "      <th>ServicoSuporteOnline</th>\n",
       "      <th>ServicoTV</th>\n",
       "      <th>ServicoPctFilmes</th>\n",
       "      <th>Contrato</th>\n",
       "      <th>ContaOnline</th>\n",
       "      <th>MetodoPagamento</th>\n",
       "    </tr>\n",
       "  </thead>\n",
       "  <tbody>\n",
       "    <tr>\n",
       "      <th>0</th>\n",
       "      <td>Female</td>\n",
       "      <td>0</td>\n",
       "      <td>No</td>\n",
       "      <td>No</td>\n",
       "      <td>No</td>\n",
       "      <td>No phone service</td>\n",
       "      <td>DSL</td>\n",
       "      <td>Yes</td>\n",
       "      <td>Yes</td>\n",
       "      <td>Yes</td>\n",
       "      <td>Yes</td>\n",
       "      <td>No</td>\n",
       "      <td>No</td>\n",
       "      <td>Two year</td>\n",
       "      <td>No</td>\n",
       "      <td>NaN</td>\n",
       "    </tr>\n",
       "    <tr>\n",
       "      <th>1</th>\n",
       "      <td>Male</td>\n",
       "      <td>0</td>\n",
       "      <td>Yes</td>\n",
       "      <td>Yes</td>\n",
       "      <td>Yes</td>\n",
       "      <td>No</td>\n",
       "      <td>No</td>\n",
       "      <td>No internet service</td>\n",
       "      <td>No internet service</td>\n",
       "      <td>No internet service</td>\n",
       "      <td>No internet service</td>\n",
       "      <td>No internet service</td>\n",
       "      <td>No internet service</td>\n",
       "      <td>One year</td>\n",
       "      <td>No</td>\n",
       "      <td>Mailed check</td>\n",
       "    </tr>\n",
       "    <tr>\n",
       "      <th>2</th>\n",
       "      <td>Female</td>\n",
       "      <td>0</td>\n",
       "      <td>Yes</td>\n",
       "      <td>No</td>\n",
       "      <td>Yes</td>\n",
       "      <td>Yes</td>\n",
       "      <td>Fiber optic</td>\n",
       "      <td>No</td>\n",
       "      <td>Yes</td>\n",
       "      <td>Yes</td>\n",
       "      <td>Yes</td>\n",
       "      <td>Yes</td>\n",
       "      <td>Yes</td>\n",
       "      <td>Two year</td>\n",
       "      <td>Yes</td>\n",
       "      <td>Credit card (automatic)</td>\n",
       "    </tr>\n",
       "    <tr>\n",
       "      <th>3</th>\n",
       "      <td>Female</td>\n",
       "      <td>0</td>\n",
       "      <td>No</td>\n",
       "      <td>No</td>\n",
       "      <td>Yes</td>\n",
       "      <td>Yes</td>\n",
       "      <td>Fiber optic</td>\n",
       "      <td>No</td>\n",
       "      <td>Yes</td>\n",
       "      <td>Yes</td>\n",
       "      <td>No</td>\n",
       "      <td>Yes</td>\n",
       "      <td>Yes</td>\n",
       "      <td>Month-to-month</td>\n",
       "      <td>Yes</td>\n",
       "      <td>Bank transfer (automatic)</td>\n",
       "    </tr>\n",
       "    <tr>\n",
       "      <th>4</th>\n",
       "      <td>Male</td>\n",
       "      <td>0</td>\n",
       "      <td>Yes</td>\n",
       "      <td>Yes</td>\n",
       "      <td>Yes</td>\n",
       "      <td>No</td>\n",
       "      <td>Fiber optic</td>\n",
       "      <td>No</td>\n",
       "      <td>No</td>\n",
       "      <td>No</td>\n",
       "      <td>No</td>\n",
       "      <td>No</td>\n",
       "      <td>No</td>\n",
       "      <td>Month-to-month</td>\n",
       "      <td>Yes</td>\n",
       "      <td>Electronic check</td>\n",
       "    </tr>\n",
       "  </tbody>\n",
       "</table>\n",
       "</div>"
      ],
      "text/plain": [
       "   genero  Idoso TemParceiro TemDependentes TemTelefone        MaisLinhas  \\\n",
       "0  Female      0          No             No          No  No phone service   \n",
       "1    Male      0         Yes            Yes         Yes                No   \n",
       "2  Female      0         Yes             No         Yes               Yes   \n",
       "3  Female      0          No             No         Yes               Yes   \n",
       "4    Male      0         Yes            Yes         Yes                No   \n",
       "\n",
       "   TemInternet ServicoSegurancaOnline  ServicoBackupOnline  \\\n",
       "0          DSL                    Yes                  Yes   \n",
       "1           No    No internet service  No internet service   \n",
       "2  Fiber optic                     No                  Yes   \n",
       "3  Fiber optic                     No                  Yes   \n",
       "4  Fiber optic                     No                   No   \n",
       "\n",
       "  ServicoProtecaoOnline ServicoSuporteOnline            ServicoTV  \\\n",
       "0                   Yes                  Yes                   No   \n",
       "1   No internet service  No internet service  No internet service   \n",
       "2                   Yes                  Yes                  Yes   \n",
       "3                   Yes                   No                  Yes   \n",
       "4                    No                   No                   No   \n",
       "\n",
       "      ServicoPctFilmes        Contrato ContaOnline            MetodoPagamento  \n",
       "0                   No        Two year          No                        NaN  \n",
       "1  No internet service        One year          No               Mailed check  \n",
       "2                  Yes        Two year         Yes    Credit card (automatic)  \n",
       "3                  Yes  Month-to-month         Yes  Bank transfer (automatic)  \n",
       "4                   No  Month-to-month         Yes           Electronic check  "
      ]
     },
     "execution_count": 11,
     "metadata": {},
     "output_type": "execute_result"
    }
   ],
   "source": [
    "categóricas.head()"
   ]
  },
  {
   "cell_type": "code",
   "execution_count": 12,
   "metadata": {},
   "outputs": [
    {
     "data": {
      "text/plain": [
       "0    0\n",
       "1    0\n",
       "2    0\n",
       "3    1\n",
       "4    1\n",
       "Name: Churn, dtype: int64"
      ]
     },
     "execution_count": 12,
     "metadata": {},
     "output_type": "execute_result"
    }
   ],
   "source": [
    "target.head()"
   ]
  },
  {
   "cell_type": "markdown",
   "metadata": {},
   "source": [
    "### Variáveis quantitativas"
   ]
  },
  {
   "cell_type": "markdown",
   "metadata": {},
   "source": [
    "#### Verificação dos tipos de dados das variáveis quantitativas"
   ]
  },
  {
   "cell_type": "code",
   "execution_count": 13,
   "metadata": {},
   "outputs": [
    {
     "data": {
      "text/plain": [
       "MesesNaCompanhia    float64\n",
       "CobrancaMensal      float64\n",
       "CobrancaTotal        object\n",
       "dtype: object"
      ]
     },
     "execution_count": 13,
     "metadata": {},
     "output_type": "execute_result"
    }
   ],
   "source": [
    "quantitativas.dtypes"
   ]
  },
  {
   "cell_type": "markdown",
   "metadata": {},
   "source": [
    "#### Correção da variável 'CobrançaTotal'\n",
    "Essa variável é quantitativa, mas foi importada como sendo do tipo Object. <br>\n",
    "Portanto, precisa ser alterada para o tipo numerico."
   ]
  },
  {
   "cell_type": "code",
   "execution_count": 14,
   "metadata": {},
   "outputs": [],
   "source": [
    "import pandas"
   ]
  },
  {
   "cell_type": "code",
   "execution_count": 15,
   "metadata": {},
   "outputs": [
    {
     "name": "stderr",
     "output_type": "stream",
     "text": [
      "D:\\ANACONDA\\lib\\site-packages\\ipykernel_launcher.py:2: SettingWithCopyWarning: \n",
      "A value is trying to be set on a copy of a slice from a DataFrame.\n",
      "Try using .loc[row_indexer,col_indexer] = value instead\n",
      "\n",
      "See the caveats in the documentation: http://pandas.pydata.org/pandas-docs/stable/indexing.html#indexing-view-versus-copy\n",
      "  \n"
     ]
    }
   ],
   "source": [
    "dados['CobrancaTotal'] = pd.to_numeric(dados['CobrancaTotal'], errors='coerce')\n",
    "quantitativas['CobrancaTotal'] = pd.to_numeric(quantitativas['CobrancaTotal'], errors='coerce')"
   ]
  },
  {
   "cell_type": "markdown",
   "metadata": {},
   "source": [
    "#### Verificação dos tipos de dados.\n",
    "Verifica-se que CobrançaTotal foi corrigida."
   ]
  },
  {
   "cell_type": "code",
   "execution_count": 16,
   "metadata": {},
   "outputs": [
    {
     "name": "stdout",
     "output_type": "stream",
     "text": [
      "<class 'pandas.core.frame.DataFrame'>\n",
      "RangeIndex: 5634 entries, 0 to 5633\n",
      "Data columns (total 3 columns):\n",
      "MesesNaCompanhia    5173 non-null float64\n",
      "CobrancaMensal      5634 non-null float64\n",
      "CobrancaTotal       5626 non-null float64\n",
      "dtypes: float64(3)\n",
      "memory usage: 132.1 KB\n"
     ]
    }
   ],
   "source": [
    "quantitativas.info()"
   ]
  },
  {
   "cell_type": "markdown",
   "metadata": {},
   "source": [
    "#### Sumário estatístico das variáveis quantitativas"
   ]
  },
  {
   "cell_type": "code",
   "execution_count": 17,
   "metadata": {
    "scrolled": false
   },
   "outputs": [
    {
     "data": {
      "text/html": [
       "<div>\n",
       "<style scoped>\n",
       "    .dataframe tbody tr th:only-of-type {\n",
       "        vertical-align: middle;\n",
       "    }\n",
       "\n",
       "    .dataframe tbody tr th {\n",
       "        vertical-align: top;\n",
       "    }\n",
       "\n",
       "    .dataframe thead th {\n",
       "        text-align: right;\n",
       "    }\n",
       "</style>\n",
       "<table border=\"1\" class=\"dataframe\">\n",
       "  <thead>\n",
       "    <tr style=\"text-align: right;\">\n",
       "      <th></th>\n",
       "      <th>MesesNaCompanhia</th>\n",
       "      <th>CobrancaMensal</th>\n",
       "      <th>CobrancaTotal</th>\n",
       "    </tr>\n",
       "  </thead>\n",
       "  <tbody>\n",
       "    <tr>\n",
       "      <th>count</th>\n",
       "      <td>5,173.00</td>\n",
       "      <td>5,634.00</td>\n",
       "      <td>5,626.00</td>\n",
       "    </tr>\n",
       "    <tr>\n",
       "      <th>mean</th>\n",
       "      <td>32.33</td>\n",
       "      <td>64.63</td>\n",
       "      <td>2,273.51</td>\n",
       "    </tr>\n",
       "    <tr>\n",
       "      <th>std</th>\n",
       "      <td>24.46</td>\n",
       "      <td>30.02</td>\n",
       "      <td>2,258.38</td>\n",
       "    </tr>\n",
       "    <tr>\n",
       "      <th>min</th>\n",
       "      <td>0.00</td>\n",
       "      <td>18.25</td>\n",
       "      <td>18.80</td>\n",
       "    </tr>\n",
       "    <tr>\n",
       "      <th>25%</th>\n",
       "      <td>9.00</td>\n",
       "      <td>35.46</td>\n",
       "      <td>401.59</td>\n",
       "    </tr>\n",
       "    <tr>\n",
       "      <th>50%</th>\n",
       "      <td>29.00</td>\n",
       "      <td>70.25</td>\n",
       "      <td>1,396.12</td>\n",
       "    </tr>\n",
       "    <tr>\n",
       "      <th>75%</th>\n",
       "      <td>55.00</td>\n",
       "      <td>89.80</td>\n",
       "      <td>3,764.29</td>\n",
       "    </tr>\n",
       "    <tr>\n",
       "      <th>max</th>\n",
       "      <td>72.00</td>\n",
       "      <td>118.75</td>\n",
       "      <td>8,684.80</td>\n",
       "    </tr>\n",
       "  </tbody>\n",
       "</table>\n",
       "</div>"
      ],
      "text/plain": [
       "       MesesNaCompanhia  CobrancaMensal  CobrancaTotal\n",
       "count          5,173.00        5,634.00       5,626.00\n",
       "mean              32.33           64.63       2,273.51\n",
       "std               24.46           30.02       2,258.38\n",
       "min                0.00           18.25          18.80\n",
       "25%                9.00           35.46         401.59\n",
       "50%               29.00           70.25       1,396.12\n",
       "75%               55.00           89.80       3,764.29\n",
       "max               72.00          118.75       8,684.80"
      ]
     },
     "execution_count": 17,
     "metadata": {},
     "output_type": "execute_result"
    }
   ],
   "source": [
    "quantitativas.describe()"
   ]
  },
  {
   "cell_type": "markdown",
   "metadata": {},
   "source": [
    "#### Boxplot"
   ]
  },
  {
   "cell_type": "code",
   "execution_count": 18,
   "metadata": {},
   "outputs": [
    {
     "data": {
      "text/plain": [
       "<seaborn.axisgrid.FacetGrid at 0x202d8774d30>"
      ]
     },
     "execution_count": 18,
     "metadata": {},
     "output_type": "execute_result"
    },
    {
     "data": {
      "image/png": "[encoded data removed]",
      "text/plain": [
       "<Figure size 1260x504 with 1 Axes>"
      ]
     },
     "metadata": {
      "needs_background": "light"
     },
     "output_type": "display_data"
    }
   ],
   "source": [
    "sns.catplot(data=quantitativas,\n",
    "              kind='box',\n",
    "              height=7,\n",
    "              aspect=2.5)"
   ]
  },
  {
   "cell_type": "markdown",
   "metadata": {},
   "source": [
    "#### Verificação dos missing values das variáveis quantitativas"
   ]
  },
  {
   "cell_type": "code",
   "execution_count": 19,
   "metadata": {},
   "outputs": [
    {
     "data": {
      "text/plain": [
       "MesesNaCompanhia    461\n",
       "CobrancaMensal        0\n",
       "CobrancaTotal         8\n",
       "dtype: int64"
      ]
     },
     "execution_count": 19,
     "metadata": {},
     "output_type": "execute_result"
    }
   ],
   "source": [
    "quantitativas.isnull().sum()"
   ]
  },
  {
   "cell_type": "markdown",
   "metadata": {},
   "source": [
    "#### Variável quantitativa 'CobrancaMernsal'"
   ]
  },
  {
   "cell_type": "code",
   "execution_count": 20,
   "metadata": {},
   "outputs": [
    {
     "data": {
      "text/plain": [
       "array([[<matplotlib.axes._subplots.AxesSubplot object at 0x00000202D877E8D0>]],\n",
       "      dtype=object)"
      ]
     },
     "execution_count": 20,
     "metadata": {},
     "output_type": "execute_result"
    },
    {
     "data": {
      "image/png": "[encoded data removed]",
      "text/plain": [
       "<Figure size 432x288 with 1 Axes>"
      ]
     },
     "metadata": {
      "needs_background": "light"
     },
     "output_type": "display_data"
    }
   ],
   "source": [
    "quantitativas[['CobrancaMensal']].hist(bins=150)"
   ]
  },
  {
   "cell_type": "code",
   "execution_count": 21,
   "metadata": {},
   "outputs": [
    {
     "data": {
      "text/html": [
       "<div>\n",
       "<style scoped>\n",
       "    .dataframe tbody tr th:only-of-type {\n",
       "        vertical-align: middle;\n",
       "    }\n",
       "\n",
       "    .dataframe tbody tr th {\n",
       "        vertical-align: top;\n",
       "    }\n",
       "\n",
       "    .dataframe thead th {\n",
       "        text-align: right;\n",
       "    }\n",
       "</style>\n",
       "<table border=\"1\" class=\"dataframe\">\n",
       "  <thead>\n",
       "    <tr style=\"text-align: right;\">\n",
       "      <th></th>\n",
       "      <th>CobrancaMensal</th>\n",
       "    </tr>\n",
       "  </thead>\n",
       "  <tbody>\n",
       "    <tr>\n",
       "      <th>0</th>\n",
       "      <td>20.05</td>\n",
       "    </tr>\n",
       "  </tbody>\n",
       "</table>\n",
       "</div>"
      ],
      "text/plain": [
       "   CobrancaMensal\n",
       "0           20.05"
      ]
     },
     "execution_count": 21,
     "metadata": {},
     "output_type": "execute_result"
    }
   ],
   "source": [
    "quantitativas[['CobrancaMensal']].mode()"
   ]
  },
  {
   "cell_type": "code",
   "execution_count": 22,
   "metadata": {},
   "outputs": [
    {
     "data": {
      "text/html": [
       "<div>\n",
       "<style scoped>\n",
       "    .dataframe tbody tr th:only-of-type {\n",
       "        vertical-align: middle;\n",
       "    }\n",
       "\n",
       "    .dataframe tbody tr th {\n",
       "        vertical-align: top;\n",
       "    }\n",
       "\n",
       "    .dataframe thead th {\n",
       "        text-align: right;\n",
       "    }\n",
       "</style>\n",
       "<table border=\"1\" class=\"dataframe\">\n",
       "  <thead>\n",
       "    <tr style=\"text-align: right;\">\n",
       "      <th></th>\n",
       "      <th>CobrancaMensal</th>\n",
       "    </tr>\n",
       "  </thead>\n",
       "  <tbody>\n",
       "    <tr>\n",
       "      <th>count</th>\n",
       "      <td>5,634.00</td>\n",
       "    </tr>\n",
       "    <tr>\n",
       "      <th>mean</th>\n",
       "      <td>64.63</td>\n",
       "    </tr>\n",
       "    <tr>\n",
       "      <th>std</th>\n",
       "      <td>30.02</td>\n",
       "    </tr>\n",
       "    <tr>\n",
       "      <th>min</th>\n",
       "      <td>18.25</td>\n",
       "    </tr>\n",
       "    <tr>\n",
       "      <th>25%</th>\n",
       "      <td>35.46</td>\n",
       "    </tr>\n",
       "    <tr>\n",
       "      <th>50%</th>\n",
       "      <td>70.25</td>\n",
       "    </tr>\n",
       "    <tr>\n",
       "      <th>75%</th>\n",
       "      <td>89.80</td>\n",
       "    </tr>\n",
       "    <tr>\n",
       "      <th>max</th>\n",
       "      <td>118.75</td>\n",
       "    </tr>\n",
       "  </tbody>\n",
       "</table>\n",
       "</div>"
      ],
      "text/plain": [
       "       CobrancaMensal\n",
       "count        5,634.00\n",
       "mean            64.63\n",
       "std             30.02\n",
       "min             18.25\n",
       "25%             35.46\n",
       "50%             70.25\n",
       "75%             89.80\n",
       "max            118.75"
      ]
     },
     "execution_count": 22,
     "metadata": {},
     "output_type": "execute_result"
    }
   ],
   "source": [
    "quantitativas[['CobrancaMensal']].describe()"
   ]
  },
  {
   "cell_type": "code",
   "execution_count": 23,
   "metadata": {},
   "outputs": [
    {
     "data": {
      "text/plain": [
       "CobrancaMensal   46.45\n",
       "dtype: float64"
      ]
     },
     "execution_count": 23,
     "metadata": {},
     "output_type": "execute_result"
    }
   ],
   "source": [
    "# Coeficiente de variação\n",
    "quantitativas[['CobrancaMensal']].std()/quantitativas[['CobrancaMensal']].mean()*100"
   ]
  },
  {
   "cell_type": "code",
   "execution_count": 24,
   "metadata": {},
   "outputs": [
    {
     "data": {
      "text/plain": [
       "<seaborn.axisgrid.FacetGrid at 0x202d8a4a390>"
      ]
     },
     "execution_count": 24,
     "metadata": {},
     "output_type": "execute_result"
    },
    {
     "data": {
      "image/png": "[encoded data removed]",
      "text/plain": [
       "<Figure size 450x180 with 1 Axes>"
      ]
     },
     "metadata": {
      "needs_background": "light"
     },
     "output_type": "display_data"
    }
   ],
   "source": [
    "sns.catplot(data=quantitativas[['CobrancaMensal']],\n",
    "              kind='box',\n",
    "              height=2.5,\n",
    "              aspect=2.5)"
   ]
  },
  {
   "cell_type": "markdown",
   "metadata": {},
   "source": [
    "#### Variável quantitativa 'CobrancaTotal'"
   ]
  },
  {
   "cell_type": "code",
   "execution_count": 25,
   "metadata": {},
   "outputs": [
    {
     "data": {
      "text/html": [
       "<div>\n",
       "<style scoped>\n",
       "    .dataframe tbody tr th:only-of-type {\n",
       "        vertical-align: middle;\n",
       "    }\n",
       "\n",
       "    .dataframe tbody tr th {\n",
       "        vertical-align: top;\n",
       "    }\n",
       "\n",
       "    .dataframe thead th {\n",
       "        text-align: right;\n",
       "    }\n",
       "</style>\n",
       "<table border=\"1\" class=\"dataframe\">\n",
       "  <thead>\n",
       "    <tr style=\"text-align: right;\">\n",
       "      <th></th>\n",
       "      <th>CobrancaTotal</th>\n",
       "    </tr>\n",
       "  </thead>\n",
       "  <tbody>\n",
       "    <tr>\n",
       "      <th>count</th>\n",
       "      <td>5,626.00</td>\n",
       "    </tr>\n",
       "    <tr>\n",
       "      <th>mean</th>\n",
       "      <td>2,273.51</td>\n",
       "    </tr>\n",
       "    <tr>\n",
       "      <th>std</th>\n",
       "      <td>2,258.38</td>\n",
       "    </tr>\n",
       "    <tr>\n",
       "      <th>min</th>\n",
       "      <td>18.80</td>\n",
       "    </tr>\n",
       "    <tr>\n",
       "      <th>25%</th>\n",
       "      <td>401.59</td>\n",
       "    </tr>\n",
       "    <tr>\n",
       "      <th>50%</th>\n",
       "      <td>1,396.12</td>\n",
       "    </tr>\n",
       "    <tr>\n",
       "      <th>75%</th>\n",
       "      <td>3,764.29</td>\n",
       "    </tr>\n",
       "    <tr>\n",
       "      <th>max</th>\n",
       "      <td>8,684.80</td>\n",
       "    </tr>\n",
       "  </tbody>\n",
       "</table>\n",
       "</div>"
      ],
      "text/plain": [
       "       CobrancaTotal\n",
       "count       5,626.00\n",
       "mean        2,273.51\n",
       "std         2,258.38\n",
       "min            18.80\n",
       "25%           401.59\n",
       "50%         1,396.12\n",
       "75%         3,764.29\n",
       "max         8,684.80"
      ]
     },
     "execution_count": 25,
     "metadata": {},
     "output_type": "execute_result"
    }
   ],
   "source": [
    "quantitativas[['CobrancaTotal']].describe()"
   ]
  },
  {
   "cell_type": "code",
   "execution_count": 26,
   "metadata": {},
   "outputs": [
    {
     "data": {
      "text/plain": [
       "CobrancaTotal   99.33\n",
       "dtype: float64"
      ]
     },
     "execution_count": 26,
     "metadata": {},
     "output_type": "execute_result"
    }
   ],
   "source": [
    "# Coeficiente de variação\n",
    "quantitativas[['CobrancaTotal']].std() / quantitativas[['CobrancaTotal']].mean() * 100"
   ]
  },
  {
   "cell_type": "code",
   "execution_count": 27,
   "metadata": {
    "scrolled": true
   },
   "outputs": [
    {
     "data": {
      "text/html": [
       "<div>\n",
       "<style scoped>\n",
       "    .dataframe tbody tr th:only-of-type {\n",
       "        vertical-align: middle;\n",
       "    }\n",
       "\n",
       "    .dataframe tbody tr th {\n",
       "        vertical-align: top;\n",
       "    }\n",
       "\n",
       "    .dataframe thead th {\n",
       "        text-align: right;\n",
       "    }\n",
       "</style>\n",
       "<table border=\"1\" class=\"dataframe\">\n",
       "  <thead>\n",
       "    <tr style=\"text-align: right;\">\n",
       "      <th></th>\n",
       "      <th>CobrancaTotal</th>\n",
       "    </tr>\n",
       "  </thead>\n",
       "  <tbody>\n",
       "    <tr>\n",
       "      <th>0</th>\n",
       "      <td>20.20</td>\n",
       "    </tr>\n",
       "  </tbody>\n",
       "</table>\n",
       "</div>"
      ],
      "text/plain": [
       "   CobrancaTotal\n",
       "0          20.20"
      ]
     },
     "execution_count": 27,
     "metadata": {},
     "output_type": "execute_result"
    }
   ],
   "source": [
    "quantitativas[['CobrancaTotal']].mode()"
   ]
  },
  {
   "cell_type": "code",
   "execution_count": 28,
   "metadata": {},
   "outputs": [
    {
     "data": {
      "text/plain": [
       "array([[<matplotlib.axes._subplots.AxesSubplot object at 0x00000202D8BE72E8>]],\n",
       "      dtype=object)"
      ]
     },
     "execution_count": 28,
     "metadata": {},
     "output_type": "execute_result"
    },
    {
     "data": {
      "image/png": "[encoded data removed]",
      "text/plain": [
       "<Figure size 432x288 with 1 Axes>"
      ]
     },
     "metadata": {
      "needs_background": "light"
     },
     "output_type": "display_data"
    }
   ],
   "source": [
    "quantitativas[['CobrancaTotal']].hist(bins=150)"
   ]
  },
  {
   "cell_type": "code",
   "execution_count": 29,
   "metadata": {},
   "outputs": [
    {
     "data": {
      "text/plain": [
       "<seaborn.axisgrid.FacetGrid at 0x202d8a81320>"
      ]
     },
     "execution_count": 29,
     "metadata": {},
     "output_type": "execute_result"
    },
    {
     "data": {
      "image/png": "[encoded data removed]",
      "text/plain": [
       "<Figure size 540x216 with 1 Axes>"
      ]
     },
     "metadata": {
      "needs_background": "light"
     },
     "output_type": "display_data"
    }
   ],
   "source": [
    "sns.catplot(data=quantitativas[['CobrancaTotal']],\n",
    "              kind='box',\n",
    "              height=3,\n",
    "              aspect=2.5)"
   ]
  },
  {
   "cell_type": "code",
   "execution_count": 30,
   "metadata": {},
   "outputs": [
    {
     "name": "stderr",
     "output_type": "stream",
     "text": [
      "D:\\ANACONDA\\lib\\site-packages\\ipykernel_launcher.py:2: SettingWithCopyWarning: \n",
      "A value is trying to be set on a copy of a slice from a DataFrame.\n",
      "Try using .loc[row_indexer,col_indexer] = value instead\n",
      "\n",
      "See the caveats in the documentation: http://pandas.pydata.org/pandas-docs/stable/indexing.html#indexing-view-versus-copy\n",
      "  \n"
     ]
    }
   ],
   "source": [
    "# Criou a coluna CobrancaTotal_2 e a preencheu os nans com a moda. Acho que seria melhor usa os valores da CobrancaMensal \n",
    "# (vide as 2 próximas células)\n",
    "\n",
    "quantitativas['CobrancaTotal_2'] = quantitativas['CobrancaTotal'].fillna(quantitativas['CobrancaTotal'].mode()[0])"
   ]
  },
  {
   "cell_type": "code",
   "execution_count": 31,
   "metadata": {},
   "outputs": [
    {
     "data": {
      "text/plain": [
       "161    61.90\n",
       "416    19.70\n",
       "1766   73.35\n",
       "2145   80.85\n",
       "3375   25.35\n",
       "3404   25.75\n",
       "4008   19.85\n",
       "5151   56.05\n",
       "Name: CobrancaMensal, dtype: float64"
      ]
     },
     "execution_count": 31,
     "metadata": {},
     "output_type": "execute_result"
    }
   ],
   "source": [
    "# FBR: Ver os registros vazios na coluna cobrança total:\n",
    "\n",
    "quantitativas['CobrancaMensal'][quantitativas['CobrancaTotal'].isnull()]"
   ]
  },
  {
   "cell_type": "code",
   "execution_count": 32,
   "metadata": {},
   "outputs": [
    {
     "data": {
      "text/html": [
       "<div>\n",
       "<style scoped>\n",
       "    .dataframe tbody tr th:only-of-type {\n",
       "        vertical-align: middle;\n",
       "    }\n",
       "\n",
       "    .dataframe tbody tr th {\n",
       "        vertical-align: top;\n",
       "    }\n",
       "\n",
       "    .dataframe thead th {\n",
       "        text-align: right;\n",
       "    }\n",
       "</style>\n",
       "<table border=\"1\" class=\"dataframe\">\n",
       "  <thead>\n",
       "    <tr style=\"text-align: right;\">\n",
       "      <th></th>\n",
       "      <th>MesesNaCompanhia</th>\n",
       "      <th>CobrancaMensal</th>\n",
       "      <th>CobrancaTotal</th>\n",
       "      <th>CobrancaTotal_2</th>\n",
       "    </tr>\n",
       "  </thead>\n",
       "  <tbody>\n",
       "    <tr>\n",
       "      <th>161</th>\n",
       "      <td>0.00</td>\n",
       "      <td>61.90</td>\n",
       "      <td>nan</td>\n",
       "      <td>20.20</td>\n",
       "    </tr>\n",
       "    <tr>\n",
       "      <th>416</th>\n",
       "      <td>0.00</td>\n",
       "      <td>19.70</td>\n",
       "      <td>nan</td>\n",
       "      <td>20.20</td>\n",
       "    </tr>\n",
       "    <tr>\n",
       "      <th>1766</th>\n",
       "      <td>0.00</td>\n",
       "      <td>73.35</td>\n",
       "      <td>nan</td>\n",
       "      <td>20.20</td>\n",
       "    </tr>\n",
       "    <tr>\n",
       "      <th>2145</th>\n",
       "      <td>0.00</td>\n",
       "      <td>80.85</td>\n",
       "      <td>nan</td>\n",
       "      <td>20.20</td>\n",
       "    </tr>\n",
       "    <tr>\n",
       "      <th>3375</th>\n",
       "      <td>0.00</td>\n",
       "      <td>25.35</td>\n",
       "      <td>nan</td>\n",
       "      <td>20.20</td>\n",
       "    </tr>\n",
       "    <tr>\n",
       "      <th>3404</th>\n",
       "      <td>0.00</td>\n",
       "      <td>25.75</td>\n",
       "      <td>nan</td>\n",
       "      <td>20.20</td>\n",
       "    </tr>\n",
       "    <tr>\n",
       "      <th>4008</th>\n",
       "      <td>0.00</td>\n",
       "      <td>19.85</td>\n",
       "      <td>nan</td>\n",
       "      <td>20.20</td>\n",
       "    </tr>\n",
       "    <tr>\n",
       "      <th>5151</th>\n",
       "      <td>0.00</td>\n",
       "      <td>56.05</td>\n",
       "      <td>nan</td>\n",
       "      <td>20.20</td>\n",
       "    </tr>\n",
       "  </tbody>\n",
       "</table>\n",
       "</div>"
      ],
      "text/plain": [
       "      MesesNaCompanhia  CobrancaMensal  CobrancaTotal  CobrancaTotal_2\n",
       "161               0.00           61.90            nan            20.20\n",
       "416               0.00           19.70            nan            20.20\n",
       "1766              0.00           73.35            nan            20.20\n",
       "2145              0.00           80.85            nan            20.20\n",
       "3375              0.00           25.35            nan            20.20\n",
       "3404              0.00           25.75            nan            20.20\n",
       "4008              0.00           19.85            nan            20.20\n",
       "5151              0.00           56.05            nan            20.20"
      ]
     },
     "execution_count": 32,
     "metadata": {},
     "output_type": "execute_result"
    }
   ],
   "source": [
    "# FBR: Ver os registros vazios na coluna cobrança total:\n",
    "\n",
    "quantitativas[quantitativas['CobrancaTotal'].isnull()]"
   ]
  },
  {
   "cell_type": "code",
   "execution_count": 33,
   "metadata": {},
   "outputs": [
    {
     "data": {
      "text/plain": [
       "CobrancaTotal_2    False\n",
       "dtype: bool"
      ]
     },
     "execution_count": 33,
     "metadata": {},
     "output_type": "execute_result"
    }
   ],
   "source": [
    "quantitativas[['CobrancaTotal_2']].isnull().any()"
   ]
  },
  {
   "cell_type": "markdown",
   "metadata": {},
   "source": [
    "#### Variável quantitativa 'MesesNaCompanhia'"
   ]
  },
  {
   "cell_type": "code",
   "execution_count": 34,
   "metadata": {},
   "outputs": [
    {
     "data": {
      "text/html": [
       "<div>\n",
       "<style scoped>\n",
       "    .dataframe tbody tr th:only-of-type {\n",
       "        vertical-align: middle;\n",
       "    }\n",
       "\n",
       "    .dataframe tbody tr th {\n",
       "        vertical-align: top;\n",
       "    }\n",
       "\n",
       "    .dataframe thead th {\n",
       "        text-align: right;\n",
       "    }\n",
       "</style>\n",
       "<table border=\"1\" class=\"dataframe\">\n",
       "  <thead>\n",
       "    <tr style=\"text-align: right;\">\n",
       "      <th></th>\n",
       "      <th>0</th>\n",
       "      <th>1</th>\n",
       "      <th>2</th>\n",
       "      <th>3</th>\n",
       "      <th>4</th>\n",
       "      <th>5</th>\n",
       "      <th>6</th>\n",
       "      <th>7</th>\n",
       "      <th>8</th>\n",
       "      <th>9</th>\n",
       "      <th>10</th>\n",
       "      <th>11</th>\n",
       "      <th>12</th>\n",
       "      <th>13</th>\n",
       "      <th>14</th>\n",
       "      <th>15</th>\n",
       "      <th>16</th>\n",
       "      <th>17</th>\n",
       "      <th>18</th>\n",
       "      <th>19</th>\n",
       "      <th>20</th>\n",
       "      <th>21</th>\n",
       "      <th>22</th>\n",
       "    </tr>\n",
       "  </thead>\n",
       "  <tbody>\n",
       "    <tr>\n",
       "      <th>MesesNaCompanhia</th>\n",
       "      <td>56.00</td>\n",
       "      <td>nan</td>\n",
       "      <td>60.00</td>\n",
       "      <td>37.00</td>\n",
       "      <td>29.00</td>\n",
       "      <td>70.00</td>\n",
       "      <td>31.00</td>\n",
       "      <td>3.00</td>\n",
       "      <td>54.00</td>\n",
       "      <td>72.00</td>\n",
       "      <td>6.00</td>\n",
       "      <td>nan</td>\n",
       "      <td>7.00</td>\n",
       "      <td>1.00</td>\n",
       "      <td>72.00</td>\n",
       "      <td>19.00</td>\n",
       "      <td>8.00</td>\n",
       "      <td>72.00</td>\n",
       "      <td>4.00</td>\n",
       "      <td>38.00</td>\n",
       "      <td>17.00</td>\n",
       "      <td>25.00</td>\n",
       "      <td>70.00</td>\n",
       "    </tr>\n",
       "    <tr>\n",
       "      <th>CobrancaMensal</th>\n",
       "      <td>45.05</td>\n",
       "      <td>19.65</td>\n",
       "      <td>110.80</td>\n",
       "      <td>101.90</td>\n",
       "      <td>70.75</td>\n",
       "      <td>48.40</td>\n",
       "      <td>59.95</td>\n",
       "      <td>19.55</td>\n",
       "      <td>19.65</td>\n",
       "      <td>85.10</td>\n",
       "      <td>18.95</td>\n",
       "      <td>94.90</td>\n",
       "      <td>66.85</td>\n",
       "      <td>69.80</td>\n",
       "      <td>84.45</td>\n",
       "      <td>69.60</td>\n",
       "      <td>43.45</td>\n",
       "      <td>90.45</td>\n",
       "      <td>76.05</td>\n",
       "      <td>81.85</td>\n",
       "      <td>44.45</td>\n",
       "      <td>61.60</td>\n",
       "      <td>57.80</td>\n",
       "    </tr>\n",
       "    <tr>\n",
       "      <th>CobrancaTotal</th>\n",
       "      <td>2,560.10</td>\n",
       "      <td>332.65</td>\n",
       "      <td>6,640.70</td>\n",
       "      <td>3,545.35</td>\n",
       "      <td>1,974.80</td>\n",
       "      <td>3,442.80</td>\n",
       "      <td>1,848.80</td>\n",
       "      <td>61.05</td>\n",
       "      <td>1,008.70</td>\n",
       "      <td>6,155.40</td>\n",
       "      <td>110.15</td>\n",
       "      <td>4,422.95</td>\n",
       "      <td>458.10</td>\n",
       "      <td>69.80</td>\n",
       "      <td>6,033.10</td>\n",
       "      <td>1,394.55</td>\n",
       "      <td>345.50</td>\n",
       "      <td>6,565.85</td>\n",
       "      <td>318.90</td>\n",
       "      <td>3,141.70</td>\n",
       "      <td>792.15</td>\n",
       "      <td>1,611.00</td>\n",
       "      <td>4,039.30</td>\n",
       "    </tr>\n",
       "    <tr>\n",
       "      <th>CobrancaTotal_2</th>\n",
       "      <td>2,560.10</td>\n",
       "      <td>332.65</td>\n",
       "      <td>6,640.70</td>\n",
       "      <td>3,545.35</td>\n",
       "      <td>1,974.80</td>\n",
       "      <td>3,442.80</td>\n",
       "      <td>1,848.80</td>\n",
       "      <td>61.05</td>\n",
       "      <td>1,008.70</td>\n",
       "      <td>6,155.40</td>\n",
       "      <td>110.15</td>\n",
       "      <td>4,422.95</td>\n",
       "      <td>458.10</td>\n",
       "      <td>69.80</td>\n",
       "      <td>6,033.10</td>\n",
       "      <td>1,394.55</td>\n",
       "      <td>345.50</td>\n",
       "      <td>6,565.85</td>\n",
       "      <td>318.90</td>\n",
       "      <td>3,141.70</td>\n",
       "      <td>792.15</td>\n",
       "      <td>1,611.00</td>\n",
       "      <td>4,039.30</td>\n",
       "    </tr>\n",
       "  </tbody>\n",
       "</table>\n",
       "</div>"
      ],
      "text/plain": [
       "                       0      1        2        3        4        5        6   \\\n",
       "MesesNaCompanhia    56.00    nan    60.00    37.00    29.00    70.00    31.00   \n",
       "CobrancaMensal      45.05  19.65   110.80   101.90    70.75    48.40    59.95   \n",
       "CobrancaTotal    2,560.10 332.65 6,640.70 3,545.35 1,974.80 3,442.80 1,848.80   \n",
       "CobrancaTotal_2  2,560.10 332.65 6,640.70 3,545.35 1,974.80 3,442.80 1,848.80   \n",
       "\n",
       "                    7        8        9      10       11     12    13  \\\n",
       "MesesNaCompanhia  3.00    54.00    72.00   6.00      nan   7.00  1.00   \n",
       "CobrancaMensal   19.55    19.65    85.10  18.95    94.90  66.85 69.80   \n",
       "CobrancaTotal    61.05 1,008.70 6,155.40 110.15 4,422.95 458.10 69.80   \n",
       "CobrancaTotal_2  61.05 1,008.70 6,155.40 110.15 4,422.95 458.10 69.80   \n",
       "\n",
       "                       14       15     16       17     18       19     20  \\\n",
       "MesesNaCompanhia    72.00    19.00   8.00    72.00   4.00    38.00  17.00   \n",
       "CobrancaMensal      84.45    69.60  43.45    90.45  76.05    81.85  44.45   \n",
       "CobrancaTotal    6,033.10 1,394.55 345.50 6,565.85 318.90 3,141.70 792.15   \n",
       "CobrancaTotal_2  6,033.10 1,394.55 345.50 6,565.85 318.90 3,141.70 792.15   \n",
       "\n",
       "                       21       22  \n",
       "MesesNaCompanhia    25.00    70.00  \n",
       "CobrancaMensal      61.60    57.80  \n",
       "CobrancaTotal    1,611.00 4,039.30  \n",
       "CobrancaTotal_2  1,611.00 4,039.30  "
      ]
     },
     "execution_count": 34,
     "metadata": {},
     "output_type": "execute_result"
    }
   ],
   "source": [
    "quantitativas.head(23).T"
   ]
  },
  {
   "cell_type": "code",
   "execution_count": 35,
   "metadata": {},
   "outputs": [
    {
     "name": "stderr",
     "output_type": "stream",
     "text": [
      "D:\\ANACONDA\\lib\\site-packages\\ipykernel_launcher.py:2: SettingWithCopyWarning: \n",
      "A value is trying to be set on a copy of a slice from a DataFrame.\n",
      "Try using .loc[row_indexer,col_indexer] = value instead\n",
      "\n",
      "See the caveats in the documentation: http://pandas.pydata.org/pandas-docs/stable/indexing.html#indexing-view-versus-copy\n",
      "  \n"
     ]
    }
   ],
   "source": [
    "# Cria a coluna 'RazaoCobrTotalMensal'para contabilizar a razão entre a Cobrança Total e a Mensal:\n",
    "quantitativas['RazaoCobrTotalMensal'] = quantitativas['CobrancaTotal']/quantitativas['CobrancaMensal']"
   ]
  },
  {
   "cell_type": "code",
   "execution_count": 36,
   "metadata": {},
   "outputs": [
    {
     "name": "stderr",
     "output_type": "stream",
     "text": [
      "D:\\ANACONDA\\lib\\site-packages\\ipykernel_launcher.py:3: SettingWithCopyWarning: \n",
      "A value is trying to be set on a copy of a slice from a DataFrame.\n",
      "Try using .loc[row_indexer,col_indexer] = value instead\n",
      "\n",
      "See the caveats in the documentation: http://pandas.pydata.org/pandas-docs/stable/indexing.html#indexing-view-versus-copy\n",
      "  This is separate from the ipykernel package so we can avoid doing imports until\n"
     ]
    },
    {
     "data": {
      "text/html": [
       "<div>\n",
       "<style scoped>\n",
       "    .dataframe tbody tr th:only-of-type {\n",
       "        vertical-align: middle;\n",
       "    }\n",
       "\n",
       "    .dataframe tbody tr th {\n",
       "        vertical-align: top;\n",
       "    }\n",
       "\n",
       "    .dataframe thead th {\n",
       "        text-align: right;\n",
       "    }\n",
       "</style>\n",
       "<table border=\"1\" class=\"dataframe\">\n",
       "  <thead>\n",
       "    <tr style=\"text-align: right;\">\n",
       "      <th></th>\n",
       "      <th>MesesNaCompanhia</th>\n",
       "      <th>CobrancaMensal</th>\n",
       "      <th>CobrancaTotal</th>\n",
       "      <th>CobrancaTotal_2</th>\n",
       "      <th>RazaoCobrTotalMensal</th>\n",
       "      <th>DiferencapercRazaoCobrTotMensal</th>\n",
       "    </tr>\n",
       "  </thead>\n",
       "  <tbody>\n",
       "    <tr>\n",
       "      <th>count</th>\n",
       "      <td>5,173.00</td>\n",
       "      <td>5,634.00</td>\n",
       "      <td>5,626.00</td>\n",
       "      <td>5,634.00</td>\n",
       "      <td>5,626.00</td>\n",
       "      <td>5,165.00</td>\n",
       "    </tr>\n",
       "    <tr>\n",
       "      <th>mean</th>\n",
       "      <td>32.33</td>\n",
       "      <td>64.63</td>\n",
       "      <td>2,273.51</td>\n",
       "      <td>2,270.31</td>\n",
       "      <td>32.40</td>\n",
       "      <td>-0.00</td>\n",
       "    </tr>\n",
       "    <tr>\n",
       "      <th>std</th>\n",
       "      <td>24.46</td>\n",
       "      <td>30.02</td>\n",
       "      <td>2,258.38</td>\n",
       "      <td>2,258.37</td>\n",
       "      <td>24.53</td>\n",
       "      <td>0.05</td>\n",
       "    </tr>\n",
       "    <tr>\n",
       "      <th>min</th>\n",
       "      <td>0.00</td>\n",
       "      <td>18.25</td>\n",
       "      <td>18.80</td>\n",
       "      <td>18.80</td>\n",
       "      <td>1.00</td>\n",
       "      <td>-0.57</td>\n",
       "    </tr>\n",
       "    <tr>\n",
       "      <th>25%</th>\n",
       "      <td>9.00</td>\n",
       "      <td>35.46</td>\n",
       "      <td>401.59</td>\n",
       "      <td>399.30</td>\n",
       "      <td>8.82</td>\n",
       "      <td>-0.02</td>\n",
       "    </tr>\n",
       "    <tr>\n",
       "      <th>50%</th>\n",
       "      <td>29.00</td>\n",
       "      <td>70.25</td>\n",
       "      <td>1,396.12</td>\n",
       "      <td>1,392.92</td>\n",
       "      <td>28.85</td>\n",
       "      <td>0.00</td>\n",
       "    </tr>\n",
       "    <tr>\n",
       "      <th>75%</th>\n",
       "      <td>55.00</td>\n",
       "      <td>89.80</td>\n",
       "      <td>3,764.29</td>\n",
       "      <td>3,758.40</td>\n",
       "      <td>54.98</td>\n",
       "      <td>0.02</td>\n",
       "    </tr>\n",
       "    <tr>\n",
       "      <th>max</th>\n",
       "      <td>72.00</td>\n",
       "      <td>118.75</td>\n",
       "      <td>8,684.80</td>\n",
       "      <td>8,684.80</td>\n",
       "      <td>79.34</td>\n",
       "      <td>0.31</td>\n",
       "    </tr>\n",
       "  </tbody>\n",
       "</table>\n",
       "</div>"
      ],
      "text/plain": [
       "       MesesNaCompanhia  CobrancaMensal  CobrancaTotal  CobrancaTotal_2  \\\n",
       "count          5,173.00        5,634.00       5,626.00         5,634.00   \n",
       "mean              32.33           64.63       2,273.51         2,270.31   \n",
       "std               24.46           30.02       2,258.38         2,258.37   \n",
       "min                0.00           18.25          18.80            18.80   \n",
       "25%                9.00           35.46         401.59           399.30   \n",
       "50%               29.00           70.25       1,396.12         1,392.92   \n",
       "75%               55.00           89.80       3,764.29         3,758.40   \n",
       "max               72.00          118.75       8,684.80         8,684.80   \n",
       "\n",
       "       RazaoCobrTotalMensal  DiferencapercRazaoCobrTotMensal  \n",
       "count              5,626.00                         5,165.00  \n",
       "mean                  32.40                            -0.00  \n",
       "std                   24.53                             0.05  \n",
       "min                    1.00                            -0.57  \n",
       "25%                    8.82                            -0.02  \n",
       "50%                   28.85                             0.00  \n",
       "75%                   54.98                             0.02  \n",
       "max                   79.34                             0.31  "
      ]
     },
     "execution_count": 36,
     "metadata": {},
     "output_type": "execute_result"
    }
   ],
   "source": [
    "# Cria a coluna 'DiferencapercRazaoCobrTotMensal' para registrar a diferença entre a RazaoCobTotalMensal e a qtde de\n",
    "# meses na companhia.\n",
    "quantitativas['DiferencapercRazaoCobrTotMensal'] = (quantitativas['MesesNaCompanhia']-quantitativas['RazaoCobrTotalMensal'])/quantitativas['MesesNaCompanhia']\n",
    "quantitativas.describe()"
   ]
  },
  {
   "cell_type": "markdown",
   "metadata": {},
   "source": [
    "Verifica-se que a razão entre os valores das variáveis CobrancaTotal e CobrancaMensal é um bom indicador<br>\n",
    "do valor da variável MesesNaCompanhia. Dessa forma, vamos usar essa razão para preencher os valores faltantes <br>\n",
    "da variável 'MesesNaCompanhia'."
   ]
  },
  {
   "cell_type": "code",
   "execution_count": 37,
   "metadata": {},
   "outputs": [
    {
     "data": {
      "text/html": [
       "<div>\n",
       "<style scoped>\n",
       "    .dataframe tbody tr th:only-of-type {\n",
       "        vertical-align: middle;\n",
       "    }\n",
       "\n",
       "    .dataframe tbody tr th {\n",
       "        vertical-align: top;\n",
       "    }\n",
       "\n",
       "    .dataframe thead th {\n",
       "        text-align: right;\n",
       "    }\n",
       "</style>\n",
       "<table border=\"1\" class=\"dataframe\">\n",
       "  <thead>\n",
       "    <tr style=\"text-align: right;\">\n",
       "      <th></th>\n",
       "      <th>0</th>\n",
       "      <th>1</th>\n",
       "      <th>2</th>\n",
       "      <th>3</th>\n",
       "      <th>4</th>\n",
       "      <th>5</th>\n",
       "      <th>6</th>\n",
       "      <th>7</th>\n",
       "      <th>8</th>\n",
       "      <th>9</th>\n",
       "      <th>10</th>\n",
       "      <th>11</th>\n",
       "      <th>12</th>\n",
       "      <th>13</th>\n",
       "      <th>14</th>\n",
       "      <th>15</th>\n",
       "      <th>16</th>\n",
       "      <th>17</th>\n",
       "      <th>18</th>\n",
       "      <th>19</th>\n",
       "      <th>20</th>\n",
       "      <th>21</th>\n",
       "      <th>22</th>\n",
       "    </tr>\n",
       "  </thead>\n",
       "  <tbody>\n",
       "    <tr>\n",
       "      <th>MesesNaCompanhia</th>\n",
       "      <td>56.00</td>\n",
       "      <td>nan</td>\n",
       "      <td>60.00</td>\n",
       "      <td>37.00</td>\n",
       "      <td>29.00</td>\n",
       "      <td>70.00</td>\n",
       "      <td>31.00</td>\n",
       "      <td>3.00</td>\n",
       "      <td>54.00</td>\n",
       "      <td>72.00</td>\n",
       "      <td>6.00</td>\n",
       "      <td>nan</td>\n",
       "      <td>7.00</td>\n",
       "      <td>1.00</td>\n",
       "      <td>72.00</td>\n",
       "      <td>19.00</td>\n",
       "      <td>8.00</td>\n",
       "      <td>72.00</td>\n",
       "      <td>4.00</td>\n",
       "      <td>38.00</td>\n",
       "      <td>17.00</td>\n",
       "      <td>25.00</td>\n",
       "      <td>70.00</td>\n",
       "    </tr>\n",
       "    <tr>\n",
       "      <th>CobrancaMensal</th>\n",
       "      <td>45.05</td>\n",
       "      <td>19.65</td>\n",
       "      <td>110.80</td>\n",
       "      <td>101.90</td>\n",
       "      <td>70.75</td>\n",
       "      <td>48.40</td>\n",
       "      <td>59.95</td>\n",
       "      <td>19.55</td>\n",
       "      <td>19.65</td>\n",
       "      <td>85.10</td>\n",
       "      <td>18.95</td>\n",
       "      <td>94.90</td>\n",
       "      <td>66.85</td>\n",
       "      <td>69.80</td>\n",
       "      <td>84.45</td>\n",
       "      <td>69.60</td>\n",
       "      <td>43.45</td>\n",
       "      <td>90.45</td>\n",
       "      <td>76.05</td>\n",
       "      <td>81.85</td>\n",
       "      <td>44.45</td>\n",
       "      <td>61.60</td>\n",
       "      <td>57.80</td>\n",
       "    </tr>\n",
       "    <tr>\n",
       "      <th>CobrancaTotal</th>\n",
       "      <td>2,560.10</td>\n",
       "      <td>332.65</td>\n",
       "      <td>6,640.70</td>\n",
       "      <td>3,545.35</td>\n",
       "      <td>1,974.80</td>\n",
       "      <td>3,442.80</td>\n",
       "      <td>1,848.80</td>\n",
       "      <td>61.05</td>\n",
       "      <td>1,008.70</td>\n",
       "      <td>6,155.40</td>\n",
       "      <td>110.15</td>\n",
       "      <td>4,422.95</td>\n",
       "      <td>458.10</td>\n",
       "      <td>69.80</td>\n",
       "      <td>6,033.10</td>\n",
       "      <td>1,394.55</td>\n",
       "      <td>345.50</td>\n",
       "      <td>6,565.85</td>\n",
       "      <td>318.90</td>\n",
       "      <td>3,141.70</td>\n",
       "      <td>792.15</td>\n",
       "      <td>1,611.00</td>\n",
       "      <td>4,039.30</td>\n",
       "    </tr>\n",
       "    <tr>\n",
       "      <th>CobrancaTotal_2</th>\n",
       "      <td>2,560.10</td>\n",
       "      <td>332.65</td>\n",
       "      <td>6,640.70</td>\n",
       "      <td>3,545.35</td>\n",
       "      <td>1,974.80</td>\n",
       "      <td>3,442.80</td>\n",
       "      <td>1,848.80</td>\n",
       "      <td>61.05</td>\n",
       "      <td>1,008.70</td>\n",
       "      <td>6,155.40</td>\n",
       "      <td>110.15</td>\n",
       "      <td>4,422.95</td>\n",
       "      <td>458.10</td>\n",
       "      <td>69.80</td>\n",
       "      <td>6,033.10</td>\n",
       "      <td>1,394.55</td>\n",
       "      <td>345.50</td>\n",
       "      <td>6,565.85</td>\n",
       "      <td>318.90</td>\n",
       "      <td>3,141.70</td>\n",
       "      <td>792.15</td>\n",
       "      <td>1,611.00</td>\n",
       "      <td>4,039.30</td>\n",
       "    </tr>\n",
       "    <tr>\n",
       "      <th>RazaoCobrTotalMensal</th>\n",
       "      <td>56.83</td>\n",
       "      <td>16.93</td>\n",
       "      <td>59.93</td>\n",
       "      <td>34.79</td>\n",
       "      <td>27.91</td>\n",
       "      <td>71.13</td>\n",
       "      <td>30.84</td>\n",
       "      <td>3.12</td>\n",
       "      <td>51.33</td>\n",
       "      <td>72.33</td>\n",
       "      <td>5.81</td>\n",
       "      <td>46.61</td>\n",
       "      <td>6.85</td>\n",
       "      <td>1.00</td>\n",
       "      <td>71.44</td>\n",
       "      <td>20.04</td>\n",
       "      <td>7.95</td>\n",
       "      <td>72.59</td>\n",
       "      <td>4.19</td>\n",
       "      <td>38.38</td>\n",
       "      <td>17.82</td>\n",
       "      <td>26.15</td>\n",
       "      <td>69.88</td>\n",
       "    </tr>\n",
       "    <tr>\n",
       "      <th>DiferencapercRazaoCobrTotMensal</th>\n",
       "      <td>-0.01</td>\n",
       "      <td>nan</td>\n",
       "      <td>0.00</td>\n",
       "      <td>0.06</td>\n",
       "      <td>0.04</td>\n",
       "      <td>-0.02</td>\n",
       "      <td>0.01</td>\n",
       "      <td>-0.04</td>\n",
       "      <td>0.05</td>\n",
       "      <td>-0.00</td>\n",
       "      <td>0.03</td>\n",
       "      <td>nan</td>\n",
       "      <td>0.02</td>\n",
       "      <td>0.00</td>\n",
       "      <td>0.01</td>\n",
       "      <td>-0.05</td>\n",
       "      <td>0.01</td>\n",
       "      <td>-0.01</td>\n",
       "      <td>-0.05</td>\n",
       "      <td>-0.01</td>\n",
       "      <td>-0.05</td>\n",
       "      <td>-0.05</td>\n",
       "      <td>0.00</td>\n",
       "    </tr>\n",
       "  </tbody>\n",
       "</table>\n",
       "</div>"
      ],
      "text/plain": [
       "                                      0      1        2        3        4   \\\n",
       "MesesNaCompanhia                   56.00    nan    60.00    37.00    29.00   \n",
       "CobrancaMensal                     45.05  19.65   110.80   101.90    70.75   \n",
       "CobrancaTotal                   2,560.10 332.65 6,640.70 3,545.35 1,974.80   \n",
       "CobrancaTotal_2                 2,560.10 332.65 6,640.70 3,545.35 1,974.80   \n",
       "RazaoCobrTotalMensal               56.83  16.93    59.93    34.79    27.91   \n",
       "DiferencapercRazaoCobrTotMensal    -0.01    nan     0.00     0.06     0.04   \n",
       "\n",
       "                                      5        6     7        8        9   \\\n",
       "MesesNaCompanhia                   70.00    31.00  3.00    54.00    72.00   \n",
       "CobrancaMensal                     48.40    59.95 19.55    19.65    85.10   \n",
       "CobrancaTotal                   3,442.80 1,848.80 61.05 1,008.70 6,155.40   \n",
       "CobrancaTotal_2                 3,442.80 1,848.80 61.05 1,008.70 6,155.40   \n",
       "RazaoCobrTotalMensal               71.13    30.84  3.12    51.33    72.33   \n",
       "DiferencapercRazaoCobrTotMensal    -0.02     0.01 -0.04     0.05    -0.00   \n",
       "\n",
       "                                    10       11     12    13       14  \\\n",
       "MesesNaCompanhia                  6.00      nan   7.00  1.00    72.00   \n",
       "CobrancaMensal                   18.95    94.90  66.85 69.80    84.45   \n",
       "CobrancaTotal                   110.15 4,422.95 458.10 69.80 6,033.10   \n",
       "CobrancaTotal_2                 110.15 4,422.95 458.10 69.80 6,033.10   \n",
       "RazaoCobrTotalMensal              5.81    46.61   6.85  1.00    71.44   \n",
       "DiferencapercRazaoCobrTotMensal   0.03      nan   0.02  0.00     0.01   \n",
       "\n",
       "                                      15     16       17     18       19  \\\n",
       "MesesNaCompanhia                   19.00   8.00    72.00   4.00    38.00   \n",
       "CobrancaMensal                     69.60  43.45    90.45  76.05    81.85   \n",
       "CobrancaTotal                   1,394.55 345.50 6,565.85 318.90 3,141.70   \n",
       "CobrancaTotal_2                 1,394.55 345.50 6,565.85 318.90 3,141.70   \n",
       "RazaoCobrTotalMensal               20.04   7.95    72.59   4.19    38.38   \n",
       "DiferencapercRazaoCobrTotMensal    -0.05   0.01    -0.01  -0.05    -0.01   \n",
       "\n",
       "                                    20       21       22  \n",
       "MesesNaCompanhia                 17.00    25.00    70.00  \n",
       "CobrancaMensal                   44.45    61.60    57.80  \n",
       "CobrancaTotal                   792.15 1,611.00 4,039.30  \n",
       "CobrancaTotal_2                 792.15 1,611.00 4,039.30  \n",
       "RazaoCobrTotalMensal             17.82    26.15    69.88  \n",
       "DiferencapercRazaoCobrTotMensal  -0.05    -0.05     0.00  "
      ]
     },
     "execution_count": 37,
     "metadata": {},
     "output_type": "execute_result"
    }
   ],
   "source": [
    "quantitativas.head(23).T"
   ]
  },
  {
   "cell_type": "code",
   "execution_count": 38,
   "metadata": {},
   "outputs": [],
   "source": [
    "quantitativas = quantitativas.drop(columns=['RazaoCobrTotalMensal','DiferencapercRazaoCobrTotMensal'],\n",
    "                   axis=1)"
   ]
  },
  {
   "cell_type": "code",
   "execution_count": 39,
   "metadata": {},
   "outputs": [
    {
     "data": {
      "text/html": [
       "<div>\n",
       "<style scoped>\n",
       "    .dataframe tbody tr th:only-of-type {\n",
       "        vertical-align: middle;\n",
       "    }\n",
       "\n",
       "    .dataframe tbody tr th {\n",
       "        vertical-align: top;\n",
       "    }\n",
       "\n",
       "    .dataframe thead th {\n",
       "        text-align: right;\n",
       "    }\n",
       "</style>\n",
       "<table border=\"1\" class=\"dataframe\">\n",
       "  <thead>\n",
       "    <tr style=\"text-align: right;\">\n",
       "      <th></th>\n",
       "      <th>0</th>\n",
       "      <th>1</th>\n",
       "      <th>2</th>\n",
       "      <th>3</th>\n",
       "      <th>4</th>\n",
       "    </tr>\n",
       "  </thead>\n",
       "  <tbody>\n",
       "    <tr>\n",
       "      <th>MesesNaCompanhia</th>\n",
       "      <td>56.00</td>\n",
       "      <td>nan</td>\n",
       "      <td>60.00</td>\n",
       "      <td>37.00</td>\n",
       "      <td>29.00</td>\n",
       "    </tr>\n",
       "    <tr>\n",
       "      <th>CobrancaMensal</th>\n",
       "      <td>45.05</td>\n",
       "      <td>19.65</td>\n",
       "      <td>110.80</td>\n",
       "      <td>101.90</td>\n",
       "      <td>70.75</td>\n",
       "    </tr>\n",
       "    <tr>\n",
       "      <th>CobrancaTotal</th>\n",
       "      <td>2,560.10</td>\n",
       "      <td>332.65</td>\n",
       "      <td>6,640.70</td>\n",
       "      <td>3,545.35</td>\n",
       "      <td>1,974.80</td>\n",
       "    </tr>\n",
       "    <tr>\n",
       "      <th>CobrancaTotal_2</th>\n",
       "      <td>2,560.10</td>\n",
       "      <td>332.65</td>\n",
       "      <td>6,640.70</td>\n",
       "      <td>3,545.35</td>\n",
       "      <td>1,974.80</td>\n",
       "    </tr>\n",
       "  </tbody>\n",
       "</table>\n",
       "</div>"
      ],
      "text/plain": [
       "                        0      1        2        3        4\n",
       "MesesNaCompanhia    56.00    nan    60.00    37.00    29.00\n",
       "CobrancaMensal      45.05  19.65   110.80   101.90    70.75\n",
       "CobrancaTotal    2,560.10 332.65 6,640.70 3,545.35 1,974.80\n",
       "CobrancaTotal_2  2,560.10 332.65 6,640.70 3,545.35 1,974.80"
      ]
     },
     "execution_count": 39,
     "metadata": {},
     "output_type": "execute_result"
    }
   ],
   "source": [
    "quantitativas.head().T"
   ]
  },
  {
   "cell_type": "code",
   "execution_count": 40,
   "metadata": {},
   "outputs": [],
   "source": [
    "quantitativas['MesesNaCompanhia_2']  = quantitativas['MesesNaCompanhia'].fillna(quantitativas['CobrancaTotal']/\n",
    "                                                                               quantitativas['CobrancaMensal'])"
   ]
  },
  {
   "cell_type": "code",
   "execution_count": 57,
   "metadata": {},
   "outputs": [
    {
     "data": {
      "text/html": [
       "<div>\n",
       "<style scoped>\n",
       "    .dataframe tbody tr th:only-of-type {\n",
       "        vertical-align: middle;\n",
       "    }\n",
       "\n",
       "    .dataframe tbody tr th {\n",
       "        vertical-align: top;\n",
       "    }\n",
       "\n",
       "    .dataframe thead th {\n",
       "        text-align: right;\n",
       "    }\n",
       "</style>\n",
       "<table border=\"1\" class=\"dataframe\">\n",
       "  <thead>\n",
       "    <tr style=\"text-align: right;\">\n",
       "      <th></th>\n",
       "      <th>0</th>\n",
       "      <th>1</th>\n",
       "      <th>2</th>\n",
       "      <th>3</th>\n",
       "      <th>4</th>\n",
       "      <th>5</th>\n",
       "      <th>6</th>\n",
       "      <th>7</th>\n",
       "      <th>8</th>\n",
       "      <th>9</th>\n",
       "      <th>10</th>\n",
       "      <th>11</th>\n",
       "      <th>12</th>\n",
       "      <th>13</th>\n",
       "      <th>14</th>\n",
       "      <th>15</th>\n",
       "      <th>16</th>\n",
       "      <th>17</th>\n",
       "      <th>18</th>\n",
       "      <th>19</th>\n",
       "    </tr>\n",
       "  </thead>\n",
       "  <tbody>\n",
       "    <tr>\n",
       "      <th>MesesNaCompanhia</th>\n",
       "      <td>56.00</td>\n",
       "      <td>nan</td>\n",
       "      <td>60.00</td>\n",
       "      <td>37.00</td>\n",
       "      <td>29.00</td>\n",
       "      <td>70.00</td>\n",
       "      <td>31.00</td>\n",
       "      <td>3.00</td>\n",
       "      <td>54.00</td>\n",
       "      <td>72.00</td>\n",
       "      <td>6.00</td>\n",
       "      <td>nan</td>\n",
       "      <td>7.00</td>\n",
       "      <td>1.00</td>\n",
       "      <td>72.00</td>\n",
       "      <td>19.00</td>\n",
       "      <td>8.00</td>\n",
       "      <td>72.00</td>\n",
       "      <td>4.00</td>\n",
       "      <td>38.00</td>\n",
       "    </tr>\n",
       "    <tr>\n",
       "      <th>CobrancaMensal</th>\n",
       "      <td>45.05</td>\n",
       "      <td>19.65</td>\n",
       "      <td>110.80</td>\n",
       "      <td>101.90</td>\n",
       "      <td>70.75</td>\n",
       "      <td>48.40</td>\n",
       "      <td>59.95</td>\n",
       "      <td>19.55</td>\n",
       "      <td>19.65</td>\n",
       "      <td>85.10</td>\n",
       "      <td>18.95</td>\n",
       "      <td>94.90</td>\n",
       "      <td>66.85</td>\n",
       "      <td>69.80</td>\n",
       "      <td>84.45</td>\n",
       "      <td>69.60</td>\n",
       "      <td>43.45</td>\n",
       "      <td>90.45</td>\n",
       "      <td>76.05</td>\n",
       "      <td>81.85</td>\n",
       "    </tr>\n",
       "    <tr>\n",
       "      <th>CobrancaTotal</th>\n",
       "      <td>2,560.10</td>\n",
       "      <td>332.65</td>\n",
       "      <td>6,640.70</td>\n",
       "      <td>3,545.35</td>\n",
       "      <td>1,974.80</td>\n",
       "      <td>3,442.80</td>\n",
       "      <td>1,848.80</td>\n",
       "      <td>61.05</td>\n",
       "      <td>1,008.70</td>\n",
       "      <td>6,155.40</td>\n",
       "      <td>110.15</td>\n",
       "      <td>4,422.95</td>\n",
       "      <td>458.10</td>\n",
       "      <td>69.80</td>\n",
       "      <td>6,033.10</td>\n",
       "      <td>1,394.55</td>\n",
       "      <td>345.50</td>\n",
       "      <td>6,565.85</td>\n",
       "      <td>318.90</td>\n",
       "      <td>3,141.70</td>\n",
       "    </tr>\n",
       "    <tr>\n",
       "      <th>CobrancaTotal_2</th>\n",
       "      <td>2,560.10</td>\n",
       "      <td>332.65</td>\n",
       "      <td>6,640.70</td>\n",
       "      <td>3,545.35</td>\n",
       "      <td>1,974.80</td>\n",
       "      <td>3,442.80</td>\n",
       "      <td>1,848.80</td>\n",
       "      <td>61.05</td>\n",
       "      <td>1,008.70</td>\n",
       "      <td>6,155.40</td>\n",
       "      <td>110.15</td>\n",
       "      <td>4,422.95</td>\n",
       "      <td>458.10</td>\n",
       "      <td>69.80</td>\n",
       "      <td>6,033.10</td>\n",
       "      <td>1,394.55</td>\n",
       "      <td>345.50</td>\n",
       "      <td>6,565.85</td>\n",
       "      <td>318.90</td>\n",
       "      <td>3,141.70</td>\n",
       "    </tr>\n",
       "    <tr>\n",
       "      <th>MesesNaCompanhia_2</th>\n",
       "      <td>56.00</td>\n",
       "      <td>16.93</td>\n",
       "      <td>60.00</td>\n",
       "      <td>37.00</td>\n",
       "      <td>29.00</td>\n",
       "      <td>70.00</td>\n",
       "      <td>31.00</td>\n",
       "      <td>3.00</td>\n",
       "      <td>54.00</td>\n",
       "      <td>72.00</td>\n",
       "      <td>6.00</td>\n",
       "      <td>46.61</td>\n",
       "      <td>7.00</td>\n",
       "      <td>1.00</td>\n",
       "      <td>72.00</td>\n",
       "      <td>19.00</td>\n",
       "      <td>8.00</td>\n",
       "      <td>72.00</td>\n",
       "      <td>4.00</td>\n",
       "      <td>38.00</td>\n",
       "    </tr>\n",
       "  </tbody>\n",
       "</table>\n",
       "</div>"
      ],
      "text/plain": [
       "                         0      1        2        3        4        5   \\\n",
       "MesesNaCompanhia      56.00    nan    60.00    37.00    29.00    70.00   \n",
       "CobrancaMensal        45.05  19.65   110.80   101.90    70.75    48.40   \n",
       "CobrancaTotal      2,560.10 332.65 6,640.70 3,545.35 1,974.80 3,442.80   \n",
       "CobrancaTotal_2    2,560.10 332.65 6,640.70 3,545.35 1,974.80 3,442.80   \n",
       "MesesNaCompanhia_2    56.00  16.93    60.00    37.00    29.00    70.00   \n",
       "\n",
       "                         6     7        8        9      10       11     12  \\\n",
       "MesesNaCompanhia      31.00  3.00    54.00    72.00   6.00      nan   7.00   \n",
       "CobrancaMensal        59.95 19.55    19.65    85.10  18.95    94.90  66.85   \n",
       "CobrancaTotal      1,848.80 61.05 1,008.70 6,155.40 110.15 4,422.95 458.10   \n",
       "CobrancaTotal_2    1,848.80 61.05 1,008.70 6,155.40 110.15 4,422.95 458.10   \n",
       "MesesNaCompanhia_2    31.00  3.00    54.00    72.00   6.00    46.61   7.00   \n",
       "\n",
       "                      13       14       15     16       17     18       19  \n",
       "MesesNaCompanhia    1.00    72.00    19.00   8.00    72.00   4.00    38.00  \n",
       "CobrancaMensal     69.80    84.45    69.60  43.45    90.45  76.05    81.85  \n",
       "CobrancaTotal      69.80 6,033.10 1,394.55 345.50 6,565.85 318.90 3,141.70  \n",
       "CobrancaTotal_2    69.80 6,033.10 1,394.55 345.50 6,565.85 318.90 3,141.70  \n",
       "MesesNaCompanhia_2  1.00    72.00    19.00   8.00    72.00   4.00    38.00  "
      ]
     },
     "execution_count": 57,
     "metadata": {},
     "output_type": "execute_result"
    }
   ],
   "source": [
    "quantitativas.head(20).T"
   ]
  },
  {
   "cell_type": "code",
   "execution_count": 42,
   "metadata": {},
   "outputs": [],
   "source": [
    "quantitativas_2 = quantitativas[['CobrancaMensal','CobrancaTotal_2','MesesNaCompanhia_2']]"
   ]
  },
  {
   "cell_type": "code",
   "execution_count": 43,
   "metadata": {},
   "outputs": [
    {
     "data": {
      "text/plain": [
       "CobrancaMensal        0\n",
       "CobrancaTotal_2       0\n",
       "MesesNaCompanhia_2    0\n",
       "dtype: int64"
      ]
     },
     "execution_count": 43,
     "metadata": {},
     "output_type": "execute_result"
    }
   ],
   "source": [
    "quantitativas_2.isnull().sum()"
   ]
  },
  {
   "cell_type": "markdown",
   "metadata": {},
   "source": [
    "### Discretização das variáveis quantitativas"
   ]
  },
  {
   "cell_type": "code",
   "execution_count": 46,
   "metadata": {},
   "outputs": [
    {
     "data": {
      "text/plain": [
       "CobrancaMensal        1505\n",
       "CobrancaTotal_2       5285\n",
       "MesesNaCompanhia_2     490\n",
       "dtype: int64"
      ]
     },
     "execution_count": 46,
     "metadata": {},
     "output_type": "execute_result"
    }
   ],
   "source": [
    "quantitativas_2.nunique()"
   ]
  },
  {
   "cell_type": "code",
   "execution_count": 47,
   "metadata": {},
   "outputs": [],
   "source": [
    "from sklearn.preprocessing import KBinsDiscretizer"
   ]
  },
  {
   "cell_type": "code",
   "execution_count": 48,
   "metadata": {},
   "outputs": [],
   "source": [
    "discretizer = KBinsDiscretizer(n_bins=5,\n",
    "                              encode='ordinal',\n",
    "                              strategy='quantile')"
   ]
  },
  {
   "cell_type": "code",
   "execution_count": 49,
   "metadata": {},
   "outputs": [
    {
     "data": {
      "text/plain": [
       "KBinsDiscretizer(encode='ordinal', n_bins=5, strategy='quantile')"
      ]
     },
     "execution_count": 49,
     "metadata": {},
     "output_type": "execute_result"
    }
   ],
   "source": [
    "discretizer.fit(quantitativas_2)"
   ]
  },
  {
   "cell_type": "code",
   "execution_count": 60,
   "metadata": {},
   "outputs": [
    {
     "data": {
      "text/plain": [
       "array([[1., 3., 3.],\n",
       "       [0., 1., 1.],\n",
       "       [4., 4., 4.],\n",
       "       ...,\n",
       "       [1., 2., 2.],\n",
       "       [1., 2., 4.],\n",
       "       [4., 3., 2.]])"
      ]
     },
     "execution_count": 60,
     "metadata": {},
     "output_type": "execute_result"
    }
   ],
   "source": [
    "bining = discretizer.fit_transform(quantitativas_2)"
   ]
  },
  {
   "cell_type": "code",
   "execution_count": 51,
   "metadata": {},
   "outputs": [],
   "source": [
    "quantitativas_bining = pd.DataFrame(bining,\n",
    "                                    columns=['CobrancaMensal',\n",
    "                                             'CobrancaTotal_2',\n",
    "                                             'MesesNaCompanhia_2'])"
   ]
  },
  {
   "cell_type": "code",
   "execution_count": 59,
   "metadata": {},
   "outputs": [
    {
     "data": {
      "text/html": [
       "<div>\n",
       "<style scoped>\n",
       "    .dataframe tbody tr th:only-of-type {\n",
       "        vertical-align: middle;\n",
       "    }\n",
       "\n",
       "    .dataframe tbody tr th {\n",
       "        vertical-align: top;\n",
       "    }\n",
       "\n",
       "    .dataframe thead th {\n",
       "        text-align: right;\n",
       "    }\n",
       "</style>\n",
       "<table border=\"1\" class=\"dataframe\">\n",
       "  <thead>\n",
       "    <tr style=\"text-align: right;\">\n",
       "      <th></th>\n",
       "      <th>0</th>\n",
       "      <th>1</th>\n",
       "      <th>2</th>\n",
       "      <th>3</th>\n",
       "      <th>4</th>\n",
       "      <th>5</th>\n",
       "      <th>6</th>\n",
       "      <th>7</th>\n",
       "      <th>8</th>\n",
       "      <th>9</th>\n",
       "      <th>10</th>\n",
       "      <th>11</th>\n",
       "      <th>12</th>\n",
       "      <th>13</th>\n",
       "      <th>14</th>\n",
       "      <th>15</th>\n",
       "      <th>16</th>\n",
       "      <th>17</th>\n",
       "      <th>18</th>\n",
       "      <th>19</th>\n",
       "      <th>20</th>\n",
       "      <th>21</th>\n",
       "      <th>22</th>\n",
       "      <th>23</th>\n",
       "      <th>24</th>\n",
       "      <th>25</th>\n",
       "      <th>26</th>\n",
       "      <th>27</th>\n",
       "      <th>28</th>\n",
       "      <th>29</th>\n",
       "    </tr>\n",
       "  </thead>\n",
       "  <tbody>\n",
       "    <tr>\n",
       "      <th>CobrancaMensal</th>\n",
       "      <td>1.00</td>\n",
       "      <td>0.00</td>\n",
       "      <td>4.00</td>\n",
       "      <td>4.00</td>\n",
       "      <td>2.00</td>\n",
       "      <td>1.00</td>\n",
       "      <td>2.00</td>\n",
       "      <td>0.00</td>\n",
       "      <td>0.00</td>\n",
       "      <td>3.00</td>\n",
       "      <td>0.00</td>\n",
       "      <td>4.00</td>\n",
       "      <td>2.00</td>\n",
       "      <td>2.00</td>\n",
       "      <td>3.00</td>\n",
       "      <td>2.00</td>\n",
       "      <td>1.00</td>\n",
       "      <td>3.00</td>\n",
       "      <td>2.00</td>\n",
       "      <td>3.00</td>\n",
       "      <td>1.00</td>\n",
       "      <td>2.00</td>\n",
       "      <td>1.00</td>\n",
       "      <td>2.00</td>\n",
       "      <td>1.00</td>\n",
       "      <td>3.00</td>\n",
       "      <td>1.00</td>\n",
       "      <td>2.00</td>\n",
       "      <td>4.00</td>\n",
       "      <td>0.00</td>\n",
       "    </tr>\n",
       "    <tr>\n",
       "      <th>CobrancaTotal_2</th>\n",
       "      <td>3.00</td>\n",
       "      <td>1.00</td>\n",
       "      <td>4.00</td>\n",
       "      <td>3.00</td>\n",
       "      <td>2.00</td>\n",
       "      <td>3.00</td>\n",
       "      <td>2.00</td>\n",
       "      <td>0.00</td>\n",
       "      <td>2.00</td>\n",
       "      <td>4.00</td>\n",
       "      <td>0.00</td>\n",
       "      <td>3.00</td>\n",
       "      <td>1.00</td>\n",
       "      <td>0.00</td>\n",
       "      <td>4.00</td>\n",
       "      <td>2.00</td>\n",
       "      <td>1.00</td>\n",
       "      <td>4.00</td>\n",
       "      <td>1.00</td>\n",
       "      <td>3.00</td>\n",
       "      <td>1.00</td>\n",
       "      <td>2.00</td>\n",
       "      <td>3.00</td>\n",
       "      <td>3.00</td>\n",
       "      <td>3.00</td>\n",
       "      <td>4.00</td>\n",
       "      <td>3.00</td>\n",
       "      <td>3.00</td>\n",
       "      <td>4.00</td>\n",
       "      <td>1.00</td>\n",
       "    </tr>\n",
       "    <tr>\n",
       "      <th>MesesNaCompanhia_2</th>\n",
       "      <td>3.00</td>\n",
       "      <td>1.00</td>\n",
       "      <td>4.00</td>\n",
       "      <td>2.00</td>\n",
       "      <td>2.00</td>\n",
       "      <td>4.00</td>\n",
       "      <td>2.00</td>\n",
       "      <td>0.00</td>\n",
       "      <td>3.00</td>\n",
       "      <td>4.00</td>\n",
       "      <td>1.00</td>\n",
       "      <td>3.00</td>\n",
       "      <td>1.00</td>\n",
       "      <td>0.00</td>\n",
       "      <td>4.00</td>\n",
       "      <td>1.00</td>\n",
       "      <td>1.00</td>\n",
       "      <td>4.00</td>\n",
       "      <td>0.00</td>\n",
       "      <td>2.00</td>\n",
       "      <td>1.00</td>\n",
       "      <td>2.00</td>\n",
       "      <td>4.00</td>\n",
       "      <td>3.00</td>\n",
       "      <td>4.00</td>\n",
       "      <td>4.00</td>\n",
       "      <td>3.00</td>\n",
       "      <td>4.00</td>\n",
       "      <td>4.00</td>\n",
       "      <td>1.00</td>\n",
       "    </tr>\n",
       "  </tbody>\n",
       "</table>\n",
       "</div>"
      ],
      "text/plain": [
       "                     0    1    2    3    4    5    6    7    8    9    10  \\\n",
       "CobrancaMensal     1.00 0.00 4.00 4.00 2.00 1.00 2.00 0.00 0.00 3.00 0.00   \n",
       "CobrancaTotal_2    3.00 1.00 4.00 3.00 2.00 3.00 2.00 0.00 2.00 4.00 0.00   \n",
       "MesesNaCompanhia_2 3.00 1.00 4.00 2.00 2.00 4.00 2.00 0.00 3.00 4.00 1.00   \n",
       "\n",
       "                     11   12   13   14   15   16   17   18   19   20   21  \\\n",
       "CobrancaMensal     4.00 2.00 2.00 3.00 2.00 1.00 3.00 2.00 3.00 1.00 2.00   \n",
       "CobrancaTotal_2    3.00 1.00 0.00 4.00 2.00 1.00 4.00 1.00 3.00 1.00 2.00   \n",
       "MesesNaCompanhia_2 3.00 1.00 0.00 4.00 1.00 1.00 4.00 0.00 2.00 1.00 2.00   \n",
       "\n",
       "                     22   23   24   25   26   27   28   29  \n",
       "CobrancaMensal     1.00 2.00 1.00 3.00 1.00 2.00 4.00 0.00  \n",
       "CobrancaTotal_2    3.00 3.00 3.00 4.00 3.00 3.00 4.00 1.00  \n",
       "MesesNaCompanhia_2 4.00 3.00 4.00 4.00 3.00 4.00 4.00 1.00  "
      ]
     },
     "execution_count": 59,
     "metadata": {},
     "output_type": "execute_result"
    }
   ],
   "source": [
    "quantitativas_bining.head(30).T"
   ]
  },
  {
   "cell_type": "markdown",
   "metadata": {},
   "source": [
    "### Variáveis categóricas"
   ]
  },
  {
   "cell_type": "code",
   "execution_count": 53,
   "metadata": {},
   "outputs": [
    {
     "data": {
      "text/html": [
       "<div>\n",
       "<style scoped>\n",
       "    .dataframe tbody tr th:only-of-type {\n",
       "        vertical-align: middle;\n",
       "    }\n",
       "\n",
       "    .dataframe tbody tr th {\n",
       "        vertical-align: top;\n",
       "    }\n",
       "\n",
       "    .dataframe thead th {\n",
       "        text-align: right;\n",
       "    }\n",
       "</style>\n",
       "<table border=\"1\" class=\"dataframe\">\n",
       "  <thead>\n",
       "    <tr style=\"text-align: right;\">\n",
       "      <th></th>\n",
       "      <th>genero</th>\n",
       "      <th>Idoso</th>\n",
       "      <th>TemParceiro</th>\n",
       "      <th>TemDependentes</th>\n",
       "      <th>TemTelefone</th>\n",
       "      <th>MaisLinhas</th>\n",
       "      <th>TemInternet</th>\n",
       "      <th>ServicoSegurancaOnline</th>\n",
       "      <th>ServicoBackupOnline</th>\n",
       "      <th>ServicoProtecaoOnline</th>\n",
       "      <th>ServicoSuporteOnline</th>\n",
       "      <th>ServicoTV</th>\n",
       "      <th>ServicoPctFilmes</th>\n",
       "      <th>Contrato</th>\n",
       "      <th>ContaOnline</th>\n",
       "      <th>MetodoPagamento</th>\n",
       "    </tr>\n",
       "  </thead>\n",
       "  <tbody>\n",
       "    <tr>\n",
       "      <th>0</th>\n",
       "      <td>Female</td>\n",
       "      <td>0</td>\n",
       "      <td>No</td>\n",
       "      <td>No</td>\n",
       "      <td>No</td>\n",
       "      <td>No phone service</td>\n",
       "      <td>DSL</td>\n",
       "      <td>Yes</td>\n",
       "      <td>Yes</td>\n",
       "      <td>Yes</td>\n",
       "      <td>Yes</td>\n",
       "      <td>No</td>\n",
       "      <td>No</td>\n",
       "      <td>Two year</td>\n",
       "      <td>No</td>\n",
       "      <td>NaN</td>\n",
       "    </tr>\n",
       "    <tr>\n",
       "      <th>1</th>\n",
       "      <td>Male</td>\n",
       "      <td>0</td>\n",
       "      <td>Yes</td>\n",
       "      <td>Yes</td>\n",
       "      <td>Yes</td>\n",
       "      <td>No</td>\n",
       "      <td>No</td>\n",
       "      <td>No internet service</td>\n",
       "      <td>No internet service</td>\n",
       "      <td>No internet service</td>\n",
       "      <td>No internet service</td>\n",
       "      <td>No internet service</td>\n",
       "      <td>No internet service</td>\n",
       "      <td>One year</td>\n",
       "      <td>No</td>\n",
       "      <td>Mailed check</td>\n",
       "    </tr>\n",
       "    <tr>\n",
       "      <th>2</th>\n",
       "      <td>Female</td>\n",
       "      <td>0</td>\n",
       "      <td>Yes</td>\n",
       "      <td>No</td>\n",
       "      <td>Yes</td>\n",
       "      <td>Yes</td>\n",
       "      <td>Fiber optic</td>\n",
       "      <td>No</td>\n",
       "      <td>Yes</td>\n",
       "      <td>Yes</td>\n",
       "      <td>Yes</td>\n",
       "      <td>Yes</td>\n",
       "      <td>Yes</td>\n",
       "      <td>Two year</td>\n",
       "      <td>Yes</td>\n",
       "      <td>Credit card (automatic)</td>\n",
       "    </tr>\n",
       "    <tr>\n",
       "      <th>3</th>\n",
       "      <td>Female</td>\n",
       "      <td>0</td>\n",
       "      <td>No</td>\n",
       "      <td>No</td>\n",
       "      <td>Yes</td>\n",
       "      <td>Yes</td>\n",
       "      <td>Fiber optic</td>\n",
       "      <td>No</td>\n",
       "      <td>Yes</td>\n",
       "      <td>Yes</td>\n",
       "      <td>No</td>\n",
       "      <td>Yes</td>\n",
       "      <td>Yes</td>\n",
       "      <td>Month-to-month</td>\n",
       "      <td>Yes</td>\n",
       "      <td>Bank transfer (automatic)</td>\n",
       "    </tr>\n",
       "    <tr>\n",
       "      <th>4</th>\n",
       "      <td>Male</td>\n",
       "      <td>0</td>\n",
       "      <td>Yes</td>\n",
       "      <td>Yes</td>\n",
       "      <td>Yes</td>\n",
       "      <td>No</td>\n",
       "      <td>Fiber optic</td>\n",
       "      <td>No</td>\n",
       "      <td>No</td>\n",
       "      <td>No</td>\n",
       "      <td>No</td>\n",
       "      <td>No</td>\n",
       "      <td>No</td>\n",
       "      <td>Month-to-month</td>\n",
       "      <td>Yes</td>\n",
       "      <td>Electronic check</td>\n",
       "    </tr>\n",
       "  </tbody>\n",
       "</table>\n",
       "</div>"
      ],
      "text/plain": [
       "   genero  Idoso TemParceiro TemDependentes TemTelefone        MaisLinhas  \\\n",
       "0  Female      0          No             No          No  No phone service   \n",
       "1    Male      0         Yes            Yes         Yes                No   \n",
       "2  Female      0         Yes             No         Yes               Yes   \n",
       "3  Female      0          No             No         Yes               Yes   \n",
       "4    Male      0         Yes            Yes         Yes                No   \n",
       "\n",
       "   TemInternet ServicoSegurancaOnline  ServicoBackupOnline  \\\n",
       "0          DSL                    Yes                  Yes   \n",
       "1           No    No internet service  No internet service   \n",
       "2  Fiber optic                     No                  Yes   \n",
       "3  Fiber optic                     No                  Yes   \n",
       "4  Fiber optic                     No                   No   \n",
       "\n",
       "  ServicoProtecaoOnline ServicoSuporteOnline            ServicoTV  \\\n",
       "0                   Yes                  Yes                   No   \n",
       "1   No internet service  No internet service  No internet service   \n",
       "2                   Yes                  Yes                  Yes   \n",
       "3                   Yes                   No                  Yes   \n",
       "4                    No                   No                   No   \n",
       "\n",
       "      ServicoPctFilmes        Contrato ContaOnline            MetodoPagamento  \n",
       "0                   No        Two year          No                        NaN  \n",
       "1  No internet service        One year          No               Mailed check  \n",
       "2                  Yes        Two year         Yes    Credit card (automatic)  \n",
       "3                  Yes  Month-to-month         Yes  Bank transfer (automatic)  \n",
       "4                   No  Month-to-month         Yes           Electronic check  "
      ]
     },
     "execution_count": 53,
     "metadata": {},
     "output_type": "execute_result"
    }
   ],
   "source": [
    "categóricas.head()"
   ]
  },
  {
   "cell_type": "code",
   "execution_count": 54,
   "metadata": {},
   "outputs": [
    {
     "data": {
      "text/plain": [
       "genero                      0\n",
       "Idoso                       0\n",
       "TemParceiro                 0\n",
       "TemDependentes            218\n",
       "TemTelefone                 0\n",
       "MaisLinhas                  0\n",
       "TemInternet                 0\n",
       "ServicoSegurancaOnline      0\n",
       "ServicoBackupOnline         0\n",
       "ServicoProtecaoOnline       0\n",
       "ServicoSuporteOnline        0\n",
       "ServicoTV                   0\n",
       "ServicoPctFilmes            0\n",
       "Contrato                    0\n",
       "ContaOnline                 0\n",
       "MetodoPagamento            99\n",
       "dtype: int64"
      ]
     },
     "execution_count": 54,
     "metadata": {},
     "output_type": "execute_result"
    }
   ],
   "source": [
    "categóricas.isna().sum()"
   ]
  },
  {
   "cell_type": "markdown",
   "metadata": {},
   "source": [
    "#### Contagem de valores da variavel genero"
   ]
  },
  {
   "cell_type": "code",
   "execution_count": 55,
   "metadata": {},
   "outputs": [
    {
     "data": {
      "text/plain": [
       "Male      2849\n",
       "Female    2785\n",
       "Name: genero, dtype: int64"
      ]
     },
     "execution_count": 55,
     "metadata": {},
     "output_type": "execute_result"
    }
   ],
   "source": [
    "categóricas['genero'].value_counts()"
   ]
  },
  {
   "cell_type": "markdown",
   "metadata": {},
   "source": [
    "#### Tabela de frequencias Churn x genero"
   ]
  },
  {
   "cell_type": "code",
   "execution_count": 61,
   "metadata": {},
   "outputs": [
    {
     "data": {
      "text/html": [
       "<div>\n",
       "<style scoped>\n",
       "    .dataframe tbody tr th:only-of-type {\n",
       "        vertical-align: middle;\n",
       "    }\n",
       "\n",
       "    .dataframe tbody tr th {\n",
       "        vertical-align: top;\n",
       "    }\n",
       "\n",
       "    .dataframe thead th {\n",
       "        text-align: right;\n",
       "    }\n",
       "</style>\n",
       "<table border=\"1\" class=\"dataframe\">\n",
       "  <thead>\n",
       "    <tr style=\"text-align: right;\">\n",
       "      <th></th>\n",
       "      <th>Female</th>\n",
       "      <th>Male</th>\n",
       "      <th>rowtotal</th>\n",
       "    </tr>\n",
       "  </thead>\n",
       "  <tbody>\n",
       "    <tr>\n",
       "      <th>0</th>\n",
       "      <td>2045</td>\n",
       "      <td>2094</td>\n",
       "      <td>4139</td>\n",
       "    </tr>\n",
       "    <tr>\n",
       "      <th>1</th>\n",
       "      <td>740</td>\n",
       "      <td>755</td>\n",
       "      <td>1495</td>\n",
       "    </tr>\n",
       "    <tr>\n",
       "      <th>coltotal</th>\n",
       "      <td>2785</td>\n",
       "      <td>2849</td>\n",
       "      <td>5634</td>\n",
       "    </tr>\n",
       "  </tbody>\n",
       "</table>\n",
       "</div>"
      ],
      "text/plain": [
       "          Female  Male  rowtotal\n",
       "0           2045  2094      4139\n",
       "1            740   755      1495\n",
       "coltotal    2785  2849      5634"
      ]
     },
     "execution_count": 61,
     "metadata": {},
     "output_type": "execute_result"
    }
   ],
   "source": [
    "# Table of survival vs. sex\n",
    "Churn_genero = pd.crosstab(index=dados[\"Churn\"], \n",
    "                           columns=dados[\"genero\"],\n",
    "                          margins=True)\n",
    "\n",
    "Churn_genero.columns=['Female','Male',\"rowtotal\"]\n",
    "Churn_genero.index= [\"0\",\"1\",\"coltotal\"]\n",
    "\n",
    "Churn_genero"
   ]
  },
  {
   "cell_type": "code",
   "execution_count": 62,
   "metadata": {},
   "outputs": [
    {
     "data": {
      "text/html": [
       "<div>\n",
       "<style scoped>\n",
       "    .dataframe tbody tr th:only-of-type {\n",
       "        vertical-align: middle;\n",
       "    }\n",
       "\n",
       "    .dataframe tbody tr th {\n",
       "        vertical-align: top;\n",
       "    }\n",
       "\n",
       "    .dataframe thead th {\n",
       "        text-align: right;\n",
       "    }\n",
       "</style>\n",
       "<table border=\"1\" class=\"dataframe\">\n",
       "  <thead>\n",
       "    <tr style=\"text-align: right;\">\n",
       "      <th></th>\n",
       "      <th>Female</th>\n",
       "      <th>Male</th>\n",
       "      <th>rowtotal</th>\n",
       "    </tr>\n",
       "  </thead>\n",
       "  <tbody>\n",
       "    <tr>\n",
       "      <th>0</th>\n",
       "      <td>0.36</td>\n",
       "      <td>0.37</td>\n",
       "      <td>0.73</td>\n",
       "    </tr>\n",
       "    <tr>\n",
       "      <th>1</th>\n",
       "      <td>0.13</td>\n",
       "      <td>0.13</td>\n",
       "      <td>0.27</td>\n",
       "    </tr>\n",
       "    <tr>\n",
       "      <th>coltotal</th>\n",
       "      <td>0.49</td>\n",
       "      <td>0.51</td>\n",
       "      <td>1.00</td>\n",
       "    </tr>\n",
       "  </tbody>\n",
       "</table>\n",
       "</div>"
      ],
      "text/plain": [
       "          Female  Male  rowtotal\n",
       "0           0.36  0.37      0.73\n",
       "1           0.13  0.13      0.27\n",
       "coltotal    0.49  0.51      1.00"
      ]
     },
     "execution_count": 62,
     "metadata": {},
     "output_type": "execute_result"
    }
   ],
   "source": [
    "Churn_genero/Churn_genero.loc[\"coltotal\",\"rowtotal\"]"
   ]
  },
  {
   "cell_type": "markdown",
   "metadata": {},
   "source": [
    "#Temos missing values em duas variáveis categóricas:\n",
    "#'TemDependentes'        categórica\n",
    "#'MetodoPagamento'    categórica"
   ]
  },
  {
   "cell_type": "markdown",
   "metadata": {},
   "source": [
    "#### Imputação de missing values na variável 'TemDependente'\n",
    "Como 'TemDependentes' é uma variável categórica, criaremos uma nova categoria, chamada 'Miss', a qual será imputada a todos os missing values dessa variável."
   ]
  },
  {
   "cell_type": "code",
   "execution_count": 71,
   "metadata": {},
   "outputs": [],
   "source": [
    "# Não entendi o critério 'Miss'\n",
    "categóricas['TemDependentes'] = categóricas['TemDependentes'].fillna(categóricas['TemDependentes']=='Miss')"
   ]
  },
  {
   "cell_type": "code",
   "execution_count": 72,
   "metadata": {},
   "outputs": [
    {
     "data": {
      "text/plain": [
       "False"
      ]
     },
     "execution_count": 72,
     "metadata": {},
     "output_type": "execute_result"
    }
   ],
   "source": [
    "categóricas['TemDependentes'].isnull().any()"
   ]
  },
  {
   "cell_type": "markdown",
   "metadata": {},
   "source": [
    "#### Imputação de missing values na variável 'MetodoPagamento'"
   ]
  },
  {
   "cell_type": "code",
   "execution_count": 75,
   "metadata": {},
   "outputs": [],
   "source": [
    "categóricas['MetodoPagamento'] = categóricas['MetodoPagamento'].fillna(categóricas['MetodoPagamento']=='Miss')\n"
   ]
  },
  {
   "cell_type": "code",
   "execution_count": 76,
   "metadata": {},
   "outputs": [
    {
     "data": {
      "text/plain": [
       "False"
      ]
     },
     "execution_count": 76,
     "metadata": {},
     "output_type": "execute_result"
    }
   ],
   "source": [
    "categóricas['MetodoPagamento'].isnull().any()"
   ]
  },
  {
   "cell_type": "code",
   "execution_count": 77,
   "metadata": {},
   "outputs": [
    {
     "data": {
      "text/plain": [
       "genero                    0\n",
       "Idoso                     0\n",
       "TemParceiro               0\n",
       "TemDependentes            0\n",
       "TemTelefone               0\n",
       "MaisLinhas                0\n",
       "TemInternet               0\n",
       "ServicoSegurancaOnline    0\n",
       "ServicoBackupOnline       0\n",
       "ServicoProtecaoOnline     0\n",
       "ServicoSuporteOnline      0\n",
       "ServicoTV                 0\n",
       "ServicoPctFilmes          0\n",
       "Contrato                  0\n",
       "ContaOnline               0\n",
       "MetodoPagamento           0\n",
       "dtype: int64"
      ]
     },
     "execution_count": 77,
     "metadata": {},
     "output_type": "execute_result"
    }
   ],
   "source": [
    "categóricas.isnull().sum()"
   ]
  },
  {
   "cell_type": "code",
   "execution_count": 78,
   "metadata": {},
   "outputs": [
    {
     "data": {
      "text/plain": [
       "Electronic check             1887\n",
       "Mailed check                 1272\n",
       "Bank transfer (automatic)    1212\n",
       "Credit card (automatic)      1164\n",
       "Name: MetodoPagamento, dtype: int64"
      ]
     },
     "execution_count": 78,
     "metadata": {},
     "output_type": "execute_result"
    }
   ],
   "source": [
    "dados['MetodoPagamento'].value_counts()"
   ]
  },
  {
   "cell_type": "markdown",
   "metadata": {},
   "source": [
    "## Verificação da cardinalidade das variaveis categoricas\n",
    "Como todas as variáveis categóricas têm baixa cardinalidade (quantidade de valores únicos menor que 10), vamos criar variáveis dummy para todas."
   ]
  },
  {
   "cell_type": "code",
   "execution_count": 79,
   "metadata": {},
   "outputs": [
    {
     "data": {
      "text/plain": [
       "genero                    2\n",
       "Idoso                     2\n",
       "TemParceiro               2\n",
       "TemDependentes            3\n",
       "TemTelefone               2\n",
       "MaisLinhas                3\n",
       "TemInternet               3\n",
       "ServicoSegurancaOnline    3\n",
       "ServicoBackupOnline       3\n",
       "ServicoProtecaoOnline     3\n",
       "ServicoSuporteOnline      3\n",
       "ServicoTV                 3\n",
       "ServicoPctFilmes          3\n",
       "Contrato                  3\n",
       "ContaOnline               2\n",
       "MetodoPagamento           5\n",
       "dtype: int64"
      ]
     },
     "execution_count": 79,
     "metadata": {},
     "output_type": "execute_result"
    }
   ],
   "source": [
    "categóricas.nunique()"
   ]
  },
  {
   "cell_type": "code",
   "execution_count": 80,
   "metadata": {},
   "outputs": [],
   "source": [
    "dummies = pd.get_dummies(categóricas,\n",
    "                        prefix_sep='_',\n",
    "                        drop_first=True)"
   ]
  },
  {
   "cell_type": "code",
   "execution_count": 81,
   "metadata": {},
   "outputs": [
    {
     "data": {
      "text/html": [
       "<div>\n",
       "<style scoped>\n",
       "    .dataframe tbody tr th:only-of-type {\n",
       "        vertical-align: middle;\n",
       "    }\n",
       "\n",
       "    .dataframe tbody tr th {\n",
       "        vertical-align: top;\n",
       "    }\n",
       "\n",
       "    .dataframe thead th {\n",
       "        text-align: right;\n",
       "    }\n",
       "</style>\n",
       "<table border=\"1\" class=\"dataframe\">\n",
       "  <thead>\n",
       "    <tr style=\"text-align: right;\">\n",
       "      <th></th>\n",
       "      <th>Idoso</th>\n",
       "      <th>genero_Male</th>\n",
       "      <th>TemParceiro_Yes</th>\n",
       "      <th>TemDependentes_No</th>\n",
       "      <th>TemDependentes_Yes</th>\n",
       "      <th>TemTelefone_Yes</th>\n",
       "      <th>MaisLinhas_No phone service</th>\n",
       "      <th>MaisLinhas_Yes</th>\n",
       "      <th>TemInternet_Fiber optic</th>\n",
       "      <th>TemInternet_No</th>\n",
       "      <th>ServicoSegurancaOnline_No internet service</th>\n",
       "      <th>ServicoSegurancaOnline_Yes</th>\n",
       "      <th>ServicoBackupOnline_No internet service</th>\n",
       "      <th>ServicoBackupOnline_Yes</th>\n",
       "      <th>ServicoProtecaoOnline_No internet service</th>\n",
       "      <th>ServicoProtecaoOnline_Yes</th>\n",
       "      <th>ServicoSuporteOnline_No internet service</th>\n",
       "      <th>ServicoSuporteOnline_Yes</th>\n",
       "      <th>ServicoTV_No internet service</th>\n",
       "      <th>ServicoTV_Yes</th>\n",
       "      <th>ServicoPctFilmes_No internet service</th>\n",
       "      <th>ServicoPctFilmes_Yes</th>\n",
       "      <th>Contrato_One year</th>\n",
       "      <th>Contrato_Two year</th>\n",
       "      <th>ContaOnline_Yes</th>\n",
       "      <th>MetodoPagamento_Bank transfer (automatic)</th>\n",
       "      <th>MetodoPagamento_Credit card (automatic)</th>\n",
       "      <th>MetodoPagamento_Electronic check</th>\n",
       "      <th>MetodoPagamento_Mailed check</th>\n",
       "    </tr>\n",
       "  </thead>\n",
       "  <tbody>\n",
       "    <tr>\n",
       "      <th>0</th>\n",
       "      <td>0</td>\n",
       "      <td>0</td>\n",
       "      <td>0</td>\n",
       "      <td>1</td>\n",
       "      <td>0</td>\n",
       "      <td>0</td>\n",
       "      <td>1</td>\n",
       "      <td>0</td>\n",
       "      <td>0</td>\n",
       "      <td>0</td>\n",
       "      <td>0</td>\n",
       "      <td>1</td>\n",
       "      <td>0</td>\n",
       "      <td>1</td>\n",
       "      <td>0</td>\n",
       "      <td>1</td>\n",
       "      <td>0</td>\n",
       "      <td>1</td>\n",
       "      <td>0</td>\n",
       "      <td>0</td>\n",
       "      <td>0</td>\n",
       "      <td>0</td>\n",
       "      <td>0</td>\n",
       "      <td>1</td>\n",
       "      <td>0</td>\n",
       "      <td>0</td>\n",
       "      <td>0</td>\n",
       "      <td>0</td>\n",
       "      <td>0</td>\n",
       "    </tr>\n",
       "    <tr>\n",
       "      <th>1</th>\n",
       "      <td>0</td>\n",
       "      <td>1</td>\n",
       "      <td>1</td>\n",
       "      <td>0</td>\n",
       "      <td>1</td>\n",
       "      <td>1</td>\n",
       "      <td>0</td>\n",
       "      <td>0</td>\n",
       "      <td>0</td>\n",
       "      <td>1</td>\n",
       "      <td>1</td>\n",
       "      <td>0</td>\n",
       "      <td>1</td>\n",
       "      <td>0</td>\n",
       "      <td>1</td>\n",
       "      <td>0</td>\n",
       "      <td>1</td>\n",
       "      <td>0</td>\n",
       "      <td>1</td>\n",
       "      <td>0</td>\n",
       "      <td>1</td>\n",
       "      <td>0</td>\n",
       "      <td>1</td>\n",
       "      <td>0</td>\n",
       "      <td>0</td>\n",
       "      <td>0</td>\n",
       "      <td>0</td>\n",
       "      <td>0</td>\n",
       "      <td>1</td>\n",
       "    </tr>\n",
       "    <tr>\n",
       "      <th>2</th>\n",
       "      <td>0</td>\n",
       "      <td>0</td>\n",
       "      <td>1</td>\n",
       "      <td>1</td>\n",
       "      <td>0</td>\n",
       "      <td>1</td>\n",
       "      <td>0</td>\n",
       "      <td>1</td>\n",
       "      <td>1</td>\n",
       "      <td>0</td>\n",
       "      <td>0</td>\n",
       "      <td>0</td>\n",
       "      <td>0</td>\n",
       "      <td>1</td>\n",
       "      <td>0</td>\n",
       "      <td>1</td>\n",
       "      <td>0</td>\n",
       "      <td>1</td>\n",
       "      <td>0</td>\n",
       "      <td>1</td>\n",
       "      <td>0</td>\n",
       "      <td>1</td>\n",
       "      <td>0</td>\n",
       "      <td>1</td>\n",
       "      <td>1</td>\n",
       "      <td>0</td>\n",
       "      <td>1</td>\n",
       "      <td>0</td>\n",
       "      <td>0</td>\n",
       "    </tr>\n",
       "    <tr>\n",
       "      <th>3</th>\n",
       "      <td>0</td>\n",
       "      <td>0</td>\n",
       "      <td>0</td>\n",
       "      <td>1</td>\n",
       "      <td>0</td>\n",
       "      <td>1</td>\n",
       "      <td>0</td>\n",
       "      <td>1</td>\n",
       "      <td>1</td>\n",
       "      <td>0</td>\n",
       "      <td>0</td>\n",
       "      <td>0</td>\n",
       "      <td>0</td>\n",
       "      <td>1</td>\n",
       "      <td>0</td>\n",
       "      <td>1</td>\n",
       "      <td>0</td>\n",
       "      <td>0</td>\n",
       "      <td>0</td>\n",
       "      <td>1</td>\n",
       "      <td>0</td>\n",
       "      <td>1</td>\n",
       "      <td>0</td>\n",
       "      <td>0</td>\n",
       "      <td>1</td>\n",
       "      <td>1</td>\n",
       "      <td>0</td>\n",
       "      <td>0</td>\n",
       "      <td>0</td>\n",
       "    </tr>\n",
       "    <tr>\n",
       "      <th>4</th>\n",
       "      <td>0</td>\n",
       "      <td>1</td>\n",
       "      <td>1</td>\n",
       "      <td>0</td>\n",
       "      <td>1</td>\n",
       "      <td>1</td>\n",
       "      <td>0</td>\n",
       "      <td>0</td>\n",
       "      <td>1</td>\n",
       "      <td>0</td>\n",
       "      <td>0</td>\n",
       "      <td>0</td>\n",
       "      <td>0</td>\n",
       "      <td>0</td>\n",
       "      <td>0</td>\n",
       "      <td>0</td>\n",
       "      <td>0</td>\n",
       "      <td>0</td>\n",
       "      <td>0</td>\n",
       "      <td>0</td>\n",
       "      <td>0</td>\n",
       "      <td>0</td>\n",
       "      <td>0</td>\n",
       "      <td>0</td>\n",
       "      <td>1</td>\n",
       "      <td>0</td>\n",
       "      <td>0</td>\n",
       "      <td>1</td>\n",
       "      <td>0</td>\n",
       "    </tr>\n",
       "  </tbody>\n",
       "</table>\n",
       "</div>"
      ],
      "text/plain": [
       "   Idoso  genero_Male  TemParceiro_Yes  TemDependentes_No  TemDependentes_Yes  \\\n",
       "0      0            0                0                  1                   0   \n",
       "1      0            1                1                  0                   1   \n",
       "2      0            0                1                  1                   0   \n",
       "3      0            0                0                  1                   0   \n",
       "4      0            1                1                  0                   1   \n",
       "\n",
       "   TemTelefone_Yes  MaisLinhas_No phone service  MaisLinhas_Yes  \\\n",
       "0                0                            1               0   \n",
       "1                1                            0               0   \n",
       "2                1                            0               1   \n",
       "3                1                            0               1   \n",
       "4                1                            0               0   \n",
       "\n",
       "   TemInternet_Fiber optic  TemInternet_No  \\\n",
       "0                        0               0   \n",
       "1                        0               1   \n",
       "2                        1               0   \n",
       "3                        1               0   \n",
       "4                        1               0   \n",
       "\n",
       "   ServicoSegurancaOnline_No internet service  ServicoSegurancaOnline_Yes  \\\n",
       "0                                           0                           1   \n",
       "1                                           1                           0   \n",
       "2                                           0                           0   \n",
       "3                                           0                           0   \n",
       "4                                           0                           0   \n",
       "\n",
       "   ServicoBackupOnline_No internet service  ServicoBackupOnline_Yes  \\\n",
       "0                                        0                        1   \n",
       "1                                        1                        0   \n",
       "2                                        0                        1   \n",
       "3                                        0                        1   \n",
       "4                                        0                        0   \n",
       "\n",
       "   ServicoProtecaoOnline_No internet service  ServicoProtecaoOnline_Yes  \\\n",
       "0                                          0                          1   \n",
       "1                                          1                          0   \n",
       "2                                          0                          1   \n",
       "3                                          0                          1   \n",
       "4                                          0                          0   \n",
       "\n",
       "   ServicoSuporteOnline_No internet service  ServicoSuporteOnline_Yes  \\\n",
       "0                                         0                         1   \n",
       "1                                         1                         0   \n",
       "2                                         0                         1   \n",
       "3                                         0                         0   \n",
       "4                                         0                         0   \n",
       "\n",
       "   ServicoTV_No internet service  ServicoTV_Yes  \\\n",
       "0                              0              0   \n",
       "1                              1              0   \n",
       "2                              0              1   \n",
       "3                              0              1   \n",
       "4                              0              0   \n",
       "\n",
       "   ServicoPctFilmes_No internet service  ServicoPctFilmes_Yes  \\\n",
       "0                                     0                     0   \n",
       "1                                     1                     0   \n",
       "2                                     0                     1   \n",
       "3                                     0                     1   \n",
       "4                                     0                     0   \n",
       "\n",
       "   Contrato_One year  Contrato_Two year  ContaOnline_Yes  \\\n",
       "0                  0                  1                0   \n",
       "1                  1                  0                0   \n",
       "2                  0                  1                1   \n",
       "3                  0                  0                1   \n",
       "4                  0                  0                1   \n",
       "\n",
       "   MetodoPagamento_Bank transfer (automatic)  \\\n",
       "0                                          0   \n",
       "1                                          0   \n",
       "2                                          0   \n",
       "3                                          1   \n",
       "4                                          0   \n",
       "\n",
       "   MetodoPagamento_Credit card (automatic)  MetodoPagamento_Electronic check  \\\n",
       "0                                        0                                 0   \n",
       "1                                        0                                 0   \n",
       "2                                        1                                 0   \n",
       "3                                        0                                 0   \n",
       "4                                        0                                 1   \n",
       "\n",
       "   MetodoPagamento_Mailed check  \n",
       "0                             0  \n",
       "1                             1  \n",
       "2                             0  \n",
       "3                             0  \n",
       "4                             0  "
      ]
     },
     "execution_count": 81,
     "metadata": {},
     "output_type": "execute_result"
    }
   ],
   "source": [
    "dummies.head()"
   ]
  },
  {
   "cell_type": "code",
   "execution_count": 82,
   "metadata": {},
   "outputs": [
    {
     "data": {
      "text/plain": [
       "array([0, 1], dtype=int64)"
      ]
     },
     "execution_count": 82,
     "metadata": {},
     "output_type": "execute_result"
    }
   ],
   "source": [
    "dummies['Idoso'].unique()"
   ]
  },
  {
   "cell_type": "code",
   "execution_count": 83,
   "metadata": {},
   "outputs": [
    {
     "data": {
      "text/plain": [
       "Index(['Idoso', 'genero_Male', 'TemParceiro_Yes', 'TemDependentes_No',\n",
       "       'TemDependentes_Yes', 'TemTelefone_Yes', 'MaisLinhas_No phone service',\n",
       "       'MaisLinhas_Yes', 'TemInternet_Fiber optic', 'TemInternet_No',\n",
       "       'ServicoSegurancaOnline_No internet service',\n",
       "       'ServicoSegurancaOnline_Yes', 'ServicoBackupOnline_No internet service',\n",
       "       'ServicoBackupOnline_Yes', 'ServicoProtecaoOnline_No internet service',\n",
       "       'ServicoProtecaoOnline_Yes', 'ServicoSuporteOnline_No internet service',\n",
       "       'ServicoSuporteOnline_Yes', 'ServicoTV_No internet service',\n",
       "       'ServicoTV_Yes', 'ServicoPctFilmes_No internet service',\n",
       "       'ServicoPctFilmes_Yes', 'Contrato_One year', 'Contrato_Two year',\n",
       "       'ContaOnline_Yes', 'MetodoPagamento_Bank transfer (automatic)',\n",
       "       'MetodoPagamento_Credit card (automatic)',\n",
       "       'MetodoPagamento_Electronic check', 'MetodoPagamento_Mailed check'],\n",
       "      dtype='object')"
      ]
     },
     "execution_count": 83,
     "metadata": {},
     "output_type": "execute_result"
    }
   ],
   "source": [
    "dummies.columns"
   ]
  },
  {
   "cell_type": "markdown",
   "metadata": {},
   "source": [
    "## Formação dos bancos de dados explicativas e target"
   ]
  },
  {
   "cell_type": "code",
   "execution_count": 84,
   "metadata": {},
   "outputs": [],
   "source": [
    "explicativas=pd.concat([quantitativas_bining,dummies],\n",
    "                      axis=1)"
   ]
  },
  {
   "cell_type": "code",
   "execution_count": 85,
   "metadata": {},
   "outputs": [
    {
     "data": {
      "text/plain": [
       "Index(['CobrancaMensal', 'CobrancaTotal_2', 'MesesNaCompanhia_2', 'Idoso',\n",
       "       'genero_Male', 'TemParceiro_Yes', 'TemDependentes_No',\n",
       "       'TemDependentes_Yes', 'TemTelefone_Yes', 'MaisLinhas_No phone service',\n",
       "       'MaisLinhas_Yes', 'TemInternet_Fiber optic', 'TemInternet_No',\n",
       "       'ServicoSegurancaOnline_No internet service',\n",
       "       'ServicoSegurancaOnline_Yes', 'ServicoBackupOnline_No internet service',\n",
       "       'ServicoBackupOnline_Yes', 'ServicoProtecaoOnline_No internet service',\n",
       "       'ServicoProtecaoOnline_Yes', 'ServicoSuporteOnline_No internet service',\n",
       "       'ServicoSuporteOnline_Yes', 'ServicoTV_No internet service',\n",
       "       'ServicoTV_Yes', 'ServicoPctFilmes_No internet service',\n",
       "       'ServicoPctFilmes_Yes', 'Contrato_One year', 'Contrato_Two year',\n",
       "       'ContaOnline_Yes', 'MetodoPagamento_Bank transfer (automatic)',\n",
       "       'MetodoPagamento_Credit card (automatic)',\n",
       "       'MetodoPagamento_Electronic check', 'MetodoPagamento_Mailed check'],\n",
       "      dtype='object')"
      ]
     },
     "execution_count": 85,
     "metadata": {},
     "output_type": "execute_result"
    }
   ],
   "source": [
    "explicativas.columns"
   ]
  },
  {
   "cell_type": "code",
   "execution_count": 86,
   "metadata": {},
   "outputs": [
    {
     "data": {
      "text/html": [
       "<div>\n",
       "<style scoped>\n",
       "    .dataframe tbody tr th:only-of-type {\n",
       "        vertical-align: middle;\n",
       "    }\n",
       "\n",
       "    .dataframe tbody tr th {\n",
       "        vertical-align: top;\n",
       "    }\n",
       "\n",
       "    .dataframe thead th {\n",
       "        text-align: right;\n",
       "    }\n",
       "</style>\n",
       "<table border=\"1\" class=\"dataframe\">\n",
       "  <thead>\n",
       "    <tr style=\"text-align: right;\">\n",
       "      <th></th>\n",
       "      <th>CobrancaMensal</th>\n",
       "      <th>CobrancaTotal_2</th>\n",
       "      <th>MesesNaCompanhia_2</th>\n",
       "      <th>Idoso</th>\n",
       "      <th>genero_Male</th>\n",
       "      <th>TemParceiro_Yes</th>\n",
       "      <th>TemDependentes_No</th>\n",
       "      <th>TemDependentes_Yes</th>\n",
       "      <th>TemTelefone_Yes</th>\n",
       "      <th>MaisLinhas_No phone service</th>\n",
       "      <th>MaisLinhas_Yes</th>\n",
       "      <th>TemInternet_Fiber optic</th>\n",
       "      <th>TemInternet_No</th>\n",
       "      <th>ServicoSegurancaOnline_No internet service</th>\n",
       "      <th>ServicoSegurancaOnline_Yes</th>\n",
       "      <th>ServicoBackupOnline_No internet service</th>\n",
       "      <th>ServicoBackupOnline_Yes</th>\n",
       "      <th>ServicoProtecaoOnline_No internet service</th>\n",
       "      <th>ServicoProtecaoOnline_Yes</th>\n",
       "      <th>ServicoSuporteOnline_No internet service</th>\n",
       "      <th>ServicoSuporteOnline_Yes</th>\n",
       "      <th>ServicoTV_No internet service</th>\n",
       "      <th>ServicoTV_Yes</th>\n",
       "      <th>ServicoPctFilmes_No internet service</th>\n",
       "      <th>ServicoPctFilmes_Yes</th>\n",
       "      <th>Contrato_One year</th>\n",
       "      <th>Contrato_Two year</th>\n",
       "      <th>ContaOnline_Yes</th>\n",
       "      <th>MetodoPagamento_Bank transfer (automatic)</th>\n",
       "      <th>MetodoPagamento_Credit card (automatic)</th>\n",
       "      <th>MetodoPagamento_Electronic check</th>\n",
       "      <th>MetodoPagamento_Mailed check</th>\n",
       "    </tr>\n",
       "  </thead>\n",
       "  <tbody>\n",
       "    <tr>\n",
       "      <th>0</th>\n",
       "      <td>1.00</td>\n",
       "      <td>3.00</td>\n",
       "      <td>3.00</td>\n",
       "      <td>0</td>\n",
       "      <td>0</td>\n",
       "      <td>0</td>\n",
       "      <td>1</td>\n",
       "      <td>0</td>\n",
       "      <td>0</td>\n",
       "      <td>1</td>\n",
       "      <td>0</td>\n",
       "      <td>0</td>\n",
       "      <td>0</td>\n",
       "      <td>0</td>\n",
       "      <td>1</td>\n",
       "      <td>0</td>\n",
       "      <td>1</td>\n",
       "      <td>0</td>\n",
       "      <td>1</td>\n",
       "      <td>0</td>\n",
       "      <td>1</td>\n",
       "      <td>0</td>\n",
       "      <td>0</td>\n",
       "      <td>0</td>\n",
       "      <td>0</td>\n",
       "      <td>0</td>\n",
       "      <td>1</td>\n",
       "      <td>0</td>\n",
       "      <td>0</td>\n",
       "      <td>0</td>\n",
       "      <td>0</td>\n",
       "      <td>0</td>\n",
       "    </tr>\n",
       "    <tr>\n",
       "      <th>1</th>\n",
       "      <td>0.00</td>\n",
       "      <td>1.00</td>\n",
       "      <td>1.00</td>\n",
       "      <td>0</td>\n",
       "      <td>1</td>\n",
       "      <td>1</td>\n",
       "      <td>0</td>\n",
       "      <td>1</td>\n",
       "      <td>1</td>\n",
       "      <td>0</td>\n",
       "      <td>0</td>\n",
       "      <td>0</td>\n",
       "      <td>1</td>\n",
       "      <td>1</td>\n",
       "      <td>0</td>\n",
       "      <td>1</td>\n",
       "      <td>0</td>\n",
       "      <td>1</td>\n",
       "      <td>0</td>\n",
       "      <td>1</td>\n",
       "      <td>0</td>\n",
       "      <td>1</td>\n",
       "      <td>0</td>\n",
       "      <td>1</td>\n",
       "      <td>0</td>\n",
       "      <td>1</td>\n",
       "      <td>0</td>\n",
       "      <td>0</td>\n",
       "      <td>0</td>\n",
       "      <td>0</td>\n",
       "      <td>0</td>\n",
       "      <td>1</td>\n",
       "    </tr>\n",
       "    <tr>\n",
       "      <th>2</th>\n",
       "      <td>4.00</td>\n",
       "      <td>4.00</td>\n",
       "      <td>4.00</td>\n",
       "      <td>0</td>\n",
       "      <td>0</td>\n",
       "      <td>1</td>\n",
       "      <td>1</td>\n",
       "      <td>0</td>\n",
       "      <td>1</td>\n",
       "      <td>0</td>\n",
       "      <td>1</td>\n",
       "      <td>1</td>\n",
       "      <td>0</td>\n",
       "      <td>0</td>\n",
       "      <td>0</td>\n",
       "      <td>0</td>\n",
       "      <td>1</td>\n",
       "      <td>0</td>\n",
       "      <td>1</td>\n",
       "      <td>0</td>\n",
       "      <td>1</td>\n",
       "      <td>0</td>\n",
       "      <td>1</td>\n",
       "      <td>0</td>\n",
       "      <td>1</td>\n",
       "      <td>0</td>\n",
       "      <td>1</td>\n",
       "      <td>1</td>\n",
       "      <td>0</td>\n",
       "      <td>1</td>\n",
       "      <td>0</td>\n",
       "      <td>0</td>\n",
       "    </tr>\n",
       "    <tr>\n",
       "      <th>3</th>\n",
       "      <td>4.00</td>\n",
       "      <td>3.00</td>\n",
       "      <td>2.00</td>\n",
       "      <td>0</td>\n",
       "      <td>0</td>\n",
       "      <td>0</td>\n",
       "      <td>1</td>\n",
       "      <td>0</td>\n",
       "      <td>1</td>\n",
       "      <td>0</td>\n",
       "      <td>1</td>\n",
       "      <td>1</td>\n",
       "      <td>0</td>\n",
       "      <td>0</td>\n",
       "      <td>0</td>\n",
       "      <td>0</td>\n",
       "      <td>1</td>\n",
       "      <td>0</td>\n",
       "      <td>1</td>\n",
       "      <td>0</td>\n",
       "      <td>0</td>\n",
       "      <td>0</td>\n",
       "      <td>1</td>\n",
       "      <td>0</td>\n",
       "      <td>1</td>\n",
       "      <td>0</td>\n",
       "      <td>0</td>\n",
       "      <td>1</td>\n",
       "      <td>1</td>\n",
       "      <td>0</td>\n",
       "      <td>0</td>\n",
       "      <td>0</td>\n",
       "    </tr>\n",
       "    <tr>\n",
       "      <th>4</th>\n",
       "      <td>2.00</td>\n",
       "      <td>2.00</td>\n",
       "      <td>2.00</td>\n",
       "      <td>0</td>\n",
       "      <td>1</td>\n",
       "      <td>1</td>\n",
       "      <td>0</td>\n",
       "      <td>1</td>\n",
       "      <td>1</td>\n",
       "      <td>0</td>\n",
       "      <td>0</td>\n",
       "      <td>1</td>\n",
       "      <td>0</td>\n",
       "      <td>0</td>\n",
       "      <td>0</td>\n",
       "      <td>0</td>\n",
       "      <td>0</td>\n",
       "      <td>0</td>\n",
       "      <td>0</td>\n",
       "      <td>0</td>\n",
       "      <td>0</td>\n",
       "      <td>0</td>\n",
       "      <td>0</td>\n",
       "      <td>0</td>\n",
       "      <td>0</td>\n",
       "      <td>0</td>\n",
       "      <td>0</td>\n",
       "      <td>1</td>\n",
       "      <td>0</td>\n",
       "      <td>0</td>\n",
       "      <td>1</td>\n",
       "      <td>0</td>\n",
       "    </tr>\n",
       "  </tbody>\n",
       "</table>\n",
       "</div>"
      ],
      "text/plain": [
       "   CobrancaMensal  CobrancaTotal_2  MesesNaCompanhia_2  Idoso  genero_Male  \\\n",
       "0            1.00             3.00                3.00      0            0   \n",
       "1            0.00             1.00                1.00      0            1   \n",
       "2            4.00             4.00                4.00      0            0   \n",
       "3            4.00             3.00                2.00      0            0   \n",
       "4            2.00             2.00                2.00      0            1   \n",
       "\n",
       "   TemParceiro_Yes  TemDependentes_No  TemDependentes_Yes  TemTelefone_Yes  \\\n",
       "0                0                  1                   0                0   \n",
       "1                1                  0                   1                1   \n",
       "2                1                  1                   0                1   \n",
       "3                0                  1                   0                1   \n",
       "4                1                  0                   1                1   \n",
       "\n",
       "   MaisLinhas_No phone service  MaisLinhas_Yes  TemInternet_Fiber optic  \\\n",
       "0                            1               0                        0   \n",
       "1                            0               0                        0   \n",
       "2                            0               1                        1   \n",
       "3                            0               1                        1   \n",
       "4                            0               0                        1   \n",
       "\n",
       "   TemInternet_No  ServicoSegurancaOnline_No internet service  \\\n",
       "0               0                                           0   \n",
       "1               1                                           1   \n",
       "2               0                                           0   \n",
       "3               0                                           0   \n",
       "4               0                                           0   \n",
       "\n",
       "   ServicoSegurancaOnline_Yes  ServicoBackupOnline_No internet service  \\\n",
       "0                           1                                        0   \n",
       "1                           0                                        1   \n",
       "2                           0                                        0   \n",
       "3                           0                                        0   \n",
       "4                           0                                        0   \n",
       "\n",
       "   ServicoBackupOnline_Yes  ServicoProtecaoOnline_No internet service  \\\n",
       "0                        1                                          0   \n",
       "1                        0                                          1   \n",
       "2                        1                                          0   \n",
       "3                        1                                          0   \n",
       "4                        0                                          0   \n",
       "\n",
       "   ServicoProtecaoOnline_Yes  ServicoSuporteOnline_No internet service  \\\n",
       "0                          1                                         0   \n",
       "1                          0                                         1   \n",
       "2                          1                                         0   \n",
       "3                          1                                         0   \n",
       "4                          0                                         0   \n",
       "\n",
       "   ServicoSuporteOnline_Yes  ServicoTV_No internet service  ServicoTV_Yes  \\\n",
       "0                         1                              0              0   \n",
       "1                         0                              1              0   \n",
       "2                         1                              0              1   \n",
       "3                         0                              0              1   \n",
       "4                         0                              0              0   \n",
       "\n",
       "   ServicoPctFilmes_No internet service  ServicoPctFilmes_Yes  \\\n",
       "0                                     0                     0   \n",
       "1                                     1                     0   \n",
       "2                                     0                     1   \n",
       "3                                     0                     1   \n",
       "4                                     0                     0   \n",
       "\n",
       "   Contrato_One year  Contrato_Two year  ContaOnline_Yes  \\\n",
       "0                  0                  1                0   \n",
       "1                  1                  0                0   \n",
       "2                  0                  1                1   \n",
       "3                  0                  0                1   \n",
       "4                  0                  0                1   \n",
       "\n",
       "   MetodoPagamento_Bank transfer (automatic)  \\\n",
       "0                                          0   \n",
       "1                                          0   \n",
       "2                                          0   \n",
       "3                                          1   \n",
       "4                                          0   \n",
       "\n",
       "   MetodoPagamento_Credit card (automatic)  MetodoPagamento_Electronic check  \\\n",
       "0                                        0                                 0   \n",
       "1                                        0                                 0   \n",
       "2                                        1                                 0   \n",
       "3                                        0                                 0   \n",
       "4                                        0                                 1   \n",
       "\n",
       "   MetodoPagamento_Mailed check  \n",
       "0                             0  \n",
       "1                             1  \n",
       "2                             0  \n",
       "3                             0  \n",
       "4                             0  "
      ]
     },
     "execution_count": 86,
     "metadata": {},
     "output_type": "execute_result"
    }
   ],
   "source": [
    "#explicativas.drop(['id'],axis=1,inplace=True)\n",
    "explicativas.head()"
   ]
  },
  {
   "cell_type": "code",
   "execution_count": 87,
   "metadata": {},
   "outputs": [
    {
     "data": {
      "text/plain": [
       "0    0\n",
       "1    0\n",
       "2    0\n",
       "3    1\n",
       "4    1\n",
       "Name: Churn, dtype: int64"
      ]
     },
     "execution_count": 87,
     "metadata": {},
     "output_type": "execute_result"
    }
   ],
   "source": [
    "target.head()"
   ]
  },
  {
   "cell_type": "markdown",
   "metadata": {},
   "source": [
    "## Separação dos conjuntos de treino e teste"
   ]
  },
  {
   "cell_type": "code",
   "execution_count": 88,
   "metadata": {},
   "outputs": [],
   "source": [
    "from sklearn.model_selection import train_test_split\n",
    "x_treino, x_teste, y_treino, y_teste = train_test_split(explicativas,\n",
    "                                                       target,\n",
    "                                                       test_size=0.3,\n",
    "                                                      random_state=42)"
   ]
  },
  {
   "cell_type": "markdown",
   "metadata": {},
   "source": [
    "## Tuninng de hiperparâmetros\n",
    "Inicialmente, chamar o módulo de tuning.<br>\n",
    "Passo a passo <br>\n",
    "1 - definir um dict(dicionario com os valores dos hiperparams)<br>\n",
    "2 - chamar o modulo de tunning<br>\n",
    "3 - chamar obj do tunning<br>\n",
    "4 - treinamento<br>\n",
    "5 - avaliar os resultados"
   ]
  },
  {
   "cell_type": "markdown",
   "metadata": {},
   "source": [
    "### Chamar o módulo de Tuning"
   ]
  },
  {
   "cell_type": "code",
   "execution_count": 89,
   "metadata": {},
   "outputs": [],
   "source": [
    "from sklearn.model_selection import  GridSearchCV"
   ]
  },
  {
   "cell_type": "markdown",
   "metadata": {},
   "source": [
    "### Chamar módulo de acurácia"
   ]
  },
  {
   "cell_type": "code",
   "execution_count": 90,
   "metadata": {},
   "outputs": [],
   "source": [
    "from sklearn.metrics import accuracy_score"
   ]
  },
  {
   "cell_type": "markdown",
   "metadata": {},
   "source": [
    "### Random Forest"
   ]
  },
  {
   "cell_type": "code",
   "execution_count": 91,
   "metadata": {},
   "outputs": [],
   "source": [
    "import timeit"
   ]
  },
  {
   "cell_type": "code",
   "execution_count": 92,
   "metadata": {},
   "outputs": [],
   "source": [
    "#1\n",
    "rf_dict = {                            # nome do dicionário que está sendo criado.\n",
    "    'n_estimators':[40,50,60,70],   # numero de estimadores que será testado. Quanto maior, mais exige poder computacional.\n",
    "    'criterion':['gini', 'entropy'],   #  critérios\n",
    "    'bootstrap':[False, True],  # Faz amostragem com e sem reposição.\n",
    "    'random_state': [42]\n",
    "}\n"
   ]
  },
  {
   "cell_type": "code",
   "execution_count": 93,
   "metadata": {},
   "outputs": [],
   "source": [
    "#2\n",
    "from sklearn.ensemble import RandomForestClassifier\n"
   ]
  },
  {
   "cell_type": "code",
   "execution_count": 94,
   "metadata": {},
   "outputs": [],
   "source": [
    "#3\n",
    "rf = RandomForestClassifier(random_state=42)\n"
   ]
  },
  {
   "cell_type": "code",
   "execution_count": 95,
   "metadata": {},
   "outputs": [],
   "source": [
    "rf_grid = GridSearchCV(estimator=rf,\n",
    "                      param_grid=rf_dict,\n",
    "                      scoring='accuracy',\n",
    "                      cv=10,\n",
    "                      n_jobs=-1)\n"
   ]
  },
  {
   "cell_type": "code",
   "execution_count": 110,
   "metadata": {},
   "outputs": [
    {
     "name": "stdout",
     "output_type": "stream",
     "text": [
      "Collecting joblib\n",
      "  Downloading https://files.pythonhosted.org/packages/fc/c9/f58220ac44a1592f79a343caba12f6837f9e0c04c196176a3d66338e1ea8/joblib-0.17.0-py3-none-any.whl (301kB)\n",
      "Installing collected packages: joblib\n",
      "Successfully installed joblib-0.17.0\n",
      "Note: you may need to restart the kernel to use updated packages.\n"
     ]
    }
   ],
   "source": [
    "pip install joblib"
   ]
  },
  {
   "cell_type": "code",
   "execution_count": 111,
   "metadata": {},
   "outputs": [],
   "source": [
    "import joblib"
   ]
  },
  {
   "cell_type": "code",
   "execution_count": 97,
   "metadata": {},
   "outputs": [
    {
     "data": {
      "text/plain": [
       "GridSearchCV(cv=10, error_score='raise-deprecating',\n",
       "       estimator=RandomForestClassifier(bootstrap=True, class_weight=None, criterion='gini',\n",
       "            max_depth=None, max_features='auto', max_leaf_nodes=None,\n",
       "            min_impurity_decrease=0.0, min_impurity_split=None,\n",
       "            min_samples_leaf=1, min_samples_split=2,\n",
       "            min_weight_fraction_leaf=0.0, n_estimators='warn', n_jobs=None,\n",
       "            oob_score=False, random_state=42, verbose=0, warm_start=False),\n",
       "       fit_params=None, iid='warn', n_jobs=-1,\n",
       "       param_grid={'n_estimators': [40, 50, 60, 70], 'criterion': ['gini', 'entropy'], 'bootstrap': [False, True], 'random_state': [42]},\n",
       "       pre_dispatch='2*n_jobs', refit=True, return_train_score='warn',\n",
       "       scoring='accuracy', verbose=0)"
      ]
     },
     "execution_count": 97,
     "metadata": {},
     "output_type": "execute_result"
    }
   ],
   "source": [
    "rf_grid.fit(x_treino, y_treino)#.values.ravel()  colocar este comando depois de y_treino se precisar."
   ]
  },
  {
   "cell_type": "code",
   "execution_count": 98,
   "metadata": {},
   "outputs": [
    {
     "data": {
      "text/plain": [
       "{'bootstrap': True,\n",
       " 'criterion': 'entropy',\n",
       " 'n_estimators': 40,\n",
       " 'random_state': 42}"
      ]
     },
     "execution_count": 98,
     "metadata": {},
     "output_type": "execute_result"
    }
   ],
   "source": [
    "rf_grid.best_params_"
   ]
  },
  {
   "cell_type": "code",
   "execution_count": 99,
   "metadata": {},
   "outputs": [
    {
     "data": {
      "text/plain": [
       "0.7829064164341871"
      ]
     },
     "execution_count": 99,
     "metadata": {},
     "output_type": "execute_result"
    }
   ],
   "source": [
    "rf_grid.best_score_"
   ]
  },
  {
   "cell_type": "code",
   "execution_count": 100,
   "metadata": {},
   "outputs": [
    {
     "data": {
      "text/plain": [
       "0.7853341218214075"
      ]
     },
     "execution_count": 100,
     "metadata": {},
     "output_type": "execute_result"
    }
   ],
   "source": [
    "accuracy_score(y_teste, rf_grid.predict(x_teste))"
   ]
  },
  {
   "cell_type": "markdown",
   "metadata": {},
   "source": [
    "### Gradient Boosting"
   ]
  },
  {
   "cell_type": "code",
   "execution_count": 101,
   "metadata": {},
   "outputs": [],
   "source": [
    "gb_dict = { \n",
    "    \"max_depth\":[3,5,8],\n",
    "    \"max_features\":[\"log2\",\"sqrt\"],\n",
    "    \"criterion\": [\"friedman_mse\",  \"mae\"],\n",
    "    'random_state': [1967]    \n",
    "    }"
   ]
  },
  {
   "cell_type": "code",
   "execution_count": 102,
   "metadata": {},
   "outputs": [],
   "source": [
    "from sklearn.ensemble import GradientBoostingClassifier"
   ]
  },
  {
   "cell_type": "code",
   "execution_count": 103,
   "metadata": {},
   "outputs": [],
   "source": [
    "gb = GradientBoostingClassifier(random_state=42)"
   ]
  },
  {
   "cell_type": "code",
   "execution_count": 104,
   "metadata": {},
   "outputs": [],
   "source": [
    "gb_grid = GridSearchCV(estimator=gb,\n",
    "                       param_grid=gb_dict,\n",
    "                       scoring='accuracy',\n",
    "                       cv=10,\n",
    "                       n_jobs=-1 # ACELERA O TEMPO DE PROCESSAMENTO\n",
    "                      )"
   ]
  },
  {
   "cell_type": "code",
   "execution_count": 105,
   "metadata": {},
   "outputs": [
    {
     "data": {
      "text/plain": [
       "GridSearchCV(cv=10, error_score='raise-deprecating',\n",
       "       estimator=GradientBoostingClassifier(criterion='friedman_mse', init=None,\n",
       "              learning_rate=0.1, loss='deviance', max_depth=3,\n",
       "              max_features=None, max_leaf_nodes=None,\n",
       "              min_impurity_decrease=0.0, min_impurity_split=None,\n",
       "              min_samples_leaf=1, min_sampl...      subsample=1.0, tol=0.0001, validation_fraction=0.1,\n",
       "              verbose=0, warm_start=False),\n",
       "       fit_params=None, iid='warn', n_jobs=-1,\n",
       "       param_grid={'max_depth': [3, 5, 8], 'max_features': ['log2', 'sqrt'], 'criterion': ['friedman_mse', 'mae'], 'random_state': [1967]},\n",
       "       pre_dispatch='2*n_jobs', refit=True, return_train_score='warn',\n",
       "       scoring='accuracy', verbose=0)"
      ]
     },
     "execution_count": 105,
     "metadata": {},
     "output_type": "execute_result"
    }
   ],
   "source": [
    "gb_grid.fit(x_treino,y_treino)"
   ]
  },
  {
   "cell_type": "code",
   "execution_count": 106,
   "metadata": {},
   "outputs": [
    {
     "data": {
      "text/plain": [
       "{'criterion': 'friedman_mse',\n",
       " 'max_depth': 3,\n",
       " 'max_features': 'log2',\n",
       " 'random_state': 1967}"
      ]
     },
     "execution_count": 106,
     "metadata": {},
     "output_type": "execute_result"
    }
   ],
   "source": [
    "gb_grid.best_params_"
   ]
  },
  {
   "cell_type": "code",
   "execution_count": 107,
   "metadata": {},
   "outputs": [
    {
     "data": {
      "text/plain": [
       "0.809789500380421"
      ]
     },
     "execution_count": 107,
     "metadata": {},
     "output_type": "execute_result"
    }
   ],
   "source": [
    "gb_grid.best_score_"
   ]
  },
  {
   "cell_type": "code",
   "execution_count": 108,
   "metadata": {},
   "outputs": [
    {
     "data": {
      "text/plain": [
       "GradientBoostingClassifier(criterion='friedman_mse', init=None,\n",
       "              learning_rate=0.1, loss='deviance', max_depth=3,\n",
       "              max_features='log2', max_leaf_nodes=None,\n",
       "              min_impurity_decrease=0.0, min_impurity_split=None,\n",
       "              min_samples_leaf=1, min_samples_split=2,\n",
       "              min_weight_fraction_leaf=0.0, n_estimators=100,\n",
       "              n_iter_no_change=None, presort='auto', random_state=1967,\n",
       "              subsample=1.0, tol=0.0001, validation_fraction=0.1,\n",
       "              verbose=0, warm_start=False)"
      ]
     },
     "execution_count": 108,
     "metadata": {},
     "output_type": "execute_result"
    }
   ],
   "source": [
    "gb_grid.best_estimator_"
   ]
  },
  {
   "cell_type": "markdown",
   "metadata": {},
   "source": [
    "### Salvar melhor modelo"
   ]
  },
  {
   "cell_type": "code",
   "execution_count": 112,
   "metadata": {},
   "outputs": [],
   "source": [
    "import joblib"
   ]
  },
  {
   "cell_type": "code",
   "execution_count": 113,
   "metadata": {},
   "outputs": [
    {
     "data": {
      "text/plain": [
       "['modelo_exemplo_gb.pkl']"
      ]
     },
     "execution_count": 113,
     "metadata": {},
     "output_type": "execute_result"
    }
   ],
   "source": [
    "joblib.dump(gb_grid.best_estimator_,\n",
    "            'modelo_exemplo_gb.pkl',\n",
    "            compress=1)"
   ]
  },
  {
   "cell_type": "markdown",
   "metadata": {},
   "source": [
    "### Score do grupo de teste"
   ]
  },
  {
   "cell_type": "code",
   "execution_count": 114,
   "metadata": {},
   "outputs": [],
   "source": [
    "dados_teste = pd.read_csv('test.csv', sep=',')"
   ]
  },
  {
   "cell_type": "code",
   "execution_count": 115,
   "metadata": {},
   "outputs": [
    {
     "data": {
      "text/html": [
       "<div>\n",
       "<style scoped>\n",
       "    .dataframe tbody tr th:only-of-type {\n",
       "        vertical-align: middle;\n",
       "    }\n",
       "\n",
       "    .dataframe tbody tr th {\n",
       "        vertical-align: top;\n",
       "    }\n",
       "\n",
       "    .dataframe thead th {\n",
       "        text-align: right;\n",
       "    }\n",
       "</style>\n",
       "<table border=\"1\" class=\"dataframe\">\n",
       "  <thead>\n",
       "    <tr style=\"text-align: right;\">\n",
       "      <th></th>\n",
       "      <th>id</th>\n",
       "      <th>gender</th>\n",
       "      <th>SeniorCitizen</th>\n",
       "      <th>Partner</th>\n",
       "      <th>Dependents</th>\n",
       "      <th>tenure</th>\n",
       "      <th>PhoneService</th>\n",
       "      <th>MultipleLines</th>\n",
       "      <th>InternetService</th>\n",
       "      <th>OnlineSecurity</th>\n",
       "      <th>OnlineBackup</th>\n",
       "      <th>DeviceProtection</th>\n",
       "      <th>TechSupport</th>\n",
       "      <th>StreamingTV</th>\n",
       "      <th>StreamingMovies</th>\n",
       "      <th>Contract</th>\n",
       "      <th>PaperlessBilling</th>\n",
       "      <th>PaymentMethod</th>\n",
       "      <th>MonthlyCharges</th>\n",
       "      <th>TotalCharges</th>\n",
       "    </tr>\n",
       "  </thead>\n",
       "  <tbody>\n",
       "    <tr>\n",
       "      <th>0</th>\n",
       "      <td>5027</td>\n",
       "      <td>Male</td>\n",
       "      <td>0</td>\n",
       "      <td>Yes</td>\n",
       "      <td>Yes</td>\n",
       "      <td>23.00</td>\n",
       "      <td>Yes</td>\n",
       "      <td>No</td>\n",
       "      <td>No</td>\n",
       "      <td>No internet service</td>\n",
       "      <td>No internet service</td>\n",
       "      <td>No internet service</td>\n",
       "      <td>No internet service</td>\n",
       "      <td>No internet service</td>\n",
       "      <td>No internet service</td>\n",
       "      <td>One year</td>\n",
       "      <td>Yes</td>\n",
       "      <td>Credit card (automatic)</td>\n",
       "      <td>20.00</td>\n",
       "      <td>445.3</td>\n",
       "    </tr>\n",
       "    <tr>\n",
       "      <th>1</th>\n",
       "      <td>1733</td>\n",
       "      <td>Male</td>\n",
       "      <td>1</td>\n",
       "      <td>Yes</td>\n",
       "      <td>Yes</td>\n",
       "      <td>61.00</td>\n",
       "      <td>Yes</td>\n",
       "      <td>Yes</td>\n",
       "      <td>Fiber optic</td>\n",
       "      <td>No</td>\n",
       "      <td>Yes</td>\n",
       "      <td>No</td>\n",
       "      <td>No</td>\n",
       "      <td>Yes</td>\n",
       "      <td>Yes</td>\n",
       "      <td>One year</td>\n",
       "      <td>No</td>\n",
       "      <td>NaN</td>\n",
       "      <td>99.00</td>\n",
       "      <td>5969.3</td>\n",
       "    </tr>\n",
       "    <tr>\n",
       "      <th>2</th>\n",
       "      <td>5384</td>\n",
       "      <td>Male</td>\n",
       "      <td>0</td>\n",
       "      <td>No</td>\n",
       "      <td>No</td>\n",
       "      <td>36.00</td>\n",
       "      <td>Yes</td>\n",
       "      <td>Yes</td>\n",
       "      <td>Fiber optic</td>\n",
       "      <td>No</td>\n",
       "      <td>No</td>\n",
       "      <td>No</td>\n",
       "      <td>No</td>\n",
       "      <td>No</td>\n",
       "      <td>Yes</td>\n",
       "      <td>Month-to-month</td>\n",
       "      <td>Yes</td>\n",
       "      <td>Electronic check</td>\n",
       "      <td>84.75</td>\n",
       "      <td>3050.15</td>\n",
       "    </tr>\n",
       "    <tr>\n",
       "      <th>3</th>\n",
       "      <td>6554</td>\n",
       "      <td>Female</td>\n",
       "      <td>0</td>\n",
       "      <td>Yes</td>\n",
       "      <td>Yes</td>\n",
       "      <td>61.00</td>\n",
       "      <td>No</td>\n",
       "      <td>No phone service</td>\n",
       "      <td>DSL</td>\n",
       "      <td>No</td>\n",
       "      <td>Yes</td>\n",
       "      <td>Yes</td>\n",
       "      <td>Yes</td>\n",
       "      <td>Yes</td>\n",
       "      <td>Yes</td>\n",
       "      <td>Two year</td>\n",
       "      <td>Yes</td>\n",
       "      <td>Bank transfer (automatic)</td>\n",
       "      <td>61.45</td>\n",
       "      <td>3751.15</td>\n",
       "    </tr>\n",
       "    <tr>\n",
       "      <th>4</th>\n",
       "      <td>364</td>\n",
       "      <td>Female</td>\n",
       "      <td>0</td>\n",
       "      <td>No</td>\n",
       "      <td>No</td>\n",
       "      <td>47.00</td>\n",
       "      <td>Yes</td>\n",
       "      <td>No</td>\n",
       "      <td>No</td>\n",
       "      <td>No internet service</td>\n",
       "      <td>No internet service</td>\n",
       "      <td>No internet service</td>\n",
       "      <td>No internet service</td>\n",
       "      <td>No internet service</td>\n",
       "      <td>No internet service</td>\n",
       "      <td>Two year</td>\n",
       "      <td>Yes</td>\n",
       "      <td>Mailed check</td>\n",
       "      <td>20.55</td>\n",
       "      <td>945.7</td>\n",
       "    </tr>\n",
       "  </tbody>\n",
       "</table>\n",
       "</div>"
      ],
      "text/plain": [
       "     id  gender  SeniorCitizen Partner Dependents  tenure PhoneService  \\\n",
       "0  5027    Male              0     Yes        Yes   23.00          Yes   \n",
       "1  1733    Male              1     Yes        Yes   61.00          Yes   \n",
       "2  5384    Male              0      No         No   36.00          Yes   \n",
       "3  6554  Female              0     Yes        Yes   61.00           No   \n",
       "4   364  Female              0      No         No   47.00          Yes   \n",
       "\n",
       "      MultipleLines InternetService       OnlineSecurity         OnlineBackup  \\\n",
       "0                No              No  No internet service  No internet service   \n",
       "1               Yes     Fiber optic                   No                  Yes   \n",
       "2               Yes     Fiber optic                   No                   No   \n",
       "3  No phone service             DSL                   No                  Yes   \n",
       "4                No              No  No internet service  No internet service   \n",
       "\n",
       "      DeviceProtection          TechSupport          StreamingTV  \\\n",
       "0  No internet service  No internet service  No internet service   \n",
       "1                   No                   No                  Yes   \n",
       "2                   No                   No                   No   \n",
       "3                  Yes                  Yes                  Yes   \n",
       "4  No internet service  No internet service  No internet service   \n",
       "\n",
       "       StreamingMovies        Contract PaperlessBilling  \\\n",
       "0  No internet service        One year              Yes   \n",
       "1                  Yes        One year               No   \n",
       "2                  Yes  Month-to-month              Yes   \n",
       "3                  Yes        Two year              Yes   \n",
       "4  No internet service        Two year              Yes   \n",
       "\n",
       "               PaymentMethod  MonthlyCharges TotalCharges  \n",
       "0    Credit card (automatic)           20.00        445.3  \n",
       "1                        NaN           99.00       5969.3  \n",
       "2           Electronic check           84.75      3050.15  \n",
       "3  Bank transfer (automatic)           61.45      3751.15  \n",
       "4               Mailed check           20.55        945.7  "
      ]
     },
     "execution_count": 115,
     "metadata": {},
     "output_type": "execute_result"
    }
   ],
   "source": [
    "dados_teste.head()"
   ]
  },
  {
   "cell_type": "code",
   "execution_count": 116,
   "metadata": {},
   "outputs": [],
   "source": [
    "dados_teste = dados_teste.rename(columns={\n",
    "    'id':'id',\n",
    "    'gender':'genero',\n",
    "    'SeniorCitizen':'Idoso',\n",
    "    'Partner':'TemParceiro',\n",
    "    'Dependents':'TemDependentes',\n",
    "    'tenure':'MesesNaCompanhia',\n",
    "    'PhoneService':'TemTelefone',\n",
    "    'MultipleLines':'MaisLinhas',\n",
    "    'InternetService':'TemInternet',\n",
    "    'OnlineSecurity':'ServicoSegurancaOnline',\n",
    "    'OnlineBackup':'ServicoBackupOnline',\n",
    "    'DeviceProtection':'ServicoProtecaoOnline',\n",
    "    'TechSupport':'ServicoSuporteOnline',\n",
    "    'StreamingTV':'ServicoTV',\n",
    "    'StreamingMovies':'ServicoPctFilmes',\n",
    "    'Contract':'Contrato',\n",
    "    'PaperlessBilling':'ContaOnline',\n",
    "    'PaymentMethod':'MetodoPagamento',\n",
    "    'MonthlyCharges':'CobrancaMensal',\n",
    "    'TotalCharges':'CobrancaTotal'\n",
    "})"
   ]
  },
  {
   "cell_type": "code",
   "execution_count": 117,
   "metadata": {},
   "outputs": [],
   "source": [
    "quantitativas_teste = dados_teste[['MesesNaCompanhia','CobrancaMensal','CobrancaTotal']]\n",
    "categóricas_teste = dados_teste.drop(columns=['id','MesesNaCompanhia','CobrancaMensal','CobrancaTotal'],\n",
    "                         axis=1)"
   ]
  },
  {
   "cell_type": "code",
   "execution_count": 118,
   "metadata": {},
   "outputs": [
    {
     "data": {
      "text/html": [
       "<div>\n",
       "<style scoped>\n",
       "    .dataframe tbody tr th:only-of-type {\n",
       "        vertical-align: middle;\n",
       "    }\n",
       "\n",
       "    .dataframe tbody tr th {\n",
       "        vertical-align: top;\n",
       "    }\n",
       "\n",
       "    .dataframe thead th {\n",
       "        text-align: right;\n",
       "    }\n",
       "</style>\n",
       "<table border=\"1\" class=\"dataframe\">\n",
       "  <thead>\n",
       "    <tr style=\"text-align: right;\">\n",
       "      <th></th>\n",
       "      <th>MesesNaCompanhia</th>\n",
       "      <th>CobrancaMensal</th>\n",
       "      <th>CobrancaTotal</th>\n",
       "    </tr>\n",
       "  </thead>\n",
       "  <tbody>\n",
       "    <tr>\n",
       "      <th>0</th>\n",
       "      <td>23.00</td>\n",
       "      <td>20.00</td>\n",
       "      <td>445.3</td>\n",
       "    </tr>\n",
       "    <tr>\n",
       "      <th>1</th>\n",
       "      <td>61.00</td>\n",
       "      <td>99.00</td>\n",
       "      <td>5969.3</td>\n",
       "    </tr>\n",
       "    <tr>\n",
       "      <th>2</th>\n",
       "      <td>36.00</td>\n",
       "      <td>84.75</td>\n",
       "      <td>3050.15</td>\n",
       "    </tr>\n",
       "    <tr>\n",
       "      <th>3</th>\n",
       "      <td>61.00</td>\n",
       "      <td>61.45</td>\n",
       "      <td>3751.15</td>\n",
       "    </tr>\n",
       "    <tr>\n",
       "      <th>4</th>\n",
       "      <td>47.00</td>\n",
       "      <td>20.55</td>\n",
       "      <td>945.7</td>\n",
       "    </tr>\n",
       "  </tbody>\n",
       "</table>\n",
       "</div>"
      ],
      "text/plain": [
       "   MesesNaCompanhia  CobrancaMensal CobrancaTotal\n",
       "0             23.00           20.00         445.3\n",
       "1             61.00           99.00        5969.3\n",
       "2             36.00           84.75       3050.15\n",
       "3             61.00           61.45       3751.15\n",
       "4             47.00           20.55         945.7"
      ]
     },
     "execution_count": 118,
     "metadata": {},
     "output_type": "execute_result"
    }
   ],
   "source": [
    "quantitativas_teste.head()"
   ]
  },
  {
   "cell_type": "code",
   "execution_count": 119,
   "metadata": {},
   "outputs": [
    {
     "data": {
      "text/html": [
       "<div>\n",
       "<style scoped>\n",
       "    .dataframe tbody tr th:only-of-type {\n",
       "        vertical-align: middle;\n",
       "    }\n",
       "\n",
       "    .dataframe tbody tr th {\n",
       "        vertical-align: top;\n",
       "    }\n",
       "\n",
       "    .dataframe thead th {\n",
       "        text-align: right;\n",
       "    }\n",
       "</style>\n",
       "<table border=\"1\" class=\"dataframe\">\n",
       "  <thead>\n",
       "    <tr style=\"text-align: right;\">\n",
       "      <th></th>\n",
       "      <th>genero</th>\n",
       "      <th>Idoso</th>\n",
       "      <th>TemParceiro</th>\n",
       "      <th>TemDependentes</th>\n",
       "      <th>TemTelefone</th>\n",
       "      <th>MaisLinhas</th>\n",
       "      <th>TemInternet</th>\n",
       "      <th>ServicoSegurancaOnline</th>\n",
       "      <th>ServicoBackupOnline</th>\n",
       "      <th>ServicoProtecaoOnline</th>\n",
       "      <th>ServicoSuporteOnline</th>\n",
       "      <th>ServicoTV</th>\n",
       "      <th>ServicoPctFilmes</th>\n",
       "      <th>Contrato</th>\n",
       "      <th>ContaOnline</th>\n",
       "      <th>MetodoPagamento</th>\n",
       "    </tr>\n",
       "  </thead>\n",
       "  <tbody>\n",
       "    <tr>\n",
       "      <th>0</th>\n",
       "      <td>Male</td>\n",
       "      <td>0</td>\n",
       "      <td>Yes</td>\n",
       "      <td>Yes</td>\n",
       "      <td>Yes</td>\n",
       "      <td>No</td>\n",
       "      <td>No</td>\n",
       "      <td>No internet service</td>\n",
       "      <td>No internet service</td>\n",
       "      <td>No internet service</td>\n",
       "      <td>No internet service</td>\n",
       "      <td>No internet service</td>\n",
       "      <td>No internet service</td>\n",
       "      <td>One year</td>\n",
       "      <td>Yes</td>\n",
       "      <td>Credit card (automatic)</td>\n",
       "    </tr>\n",
       "    <tr>\n",
       "      <th>1</th>\n",
       "      <td>Male</td>\n",
       "      <td>1</td>\n",
       "      <td>Yes</td>\n",
       "      <td>Yes</td>\n",
       "      <td>Yes</td>\n",
       "      <td>Yes</td>\n",
       "      <td>Fiber optic</td>\n",
       "      <td>No</td>\n",
       "      <td>Yes</td>\n",
       "      <td>No</td>\n",
       "      <td>No</td>\n",
       "      <td>Yes</td>\n",
       "      <td>Yes</td>\n",
       "      <td>One year</td>\n",
       "      <td>No</td>\n",
       "      <td>NaN</td>\n",
       "    </tr>\n",
       "    <tr>\n",
       "      <th>2</th>\n",
       "      <td>Male</td>\n",
       "      <td>0</td>\n",
       "      <td>No</td>\n",
       "      <td>No</td>\n",
       "      <td>Yes</td>\n",
       "      <td>Yes</td>\n",
       "      <td>Fiber optic</td>\n",
       "      <td>No</td>\n",
       "      <td>No</td>\n",
       "      <td>No</td>\n",
       "      <td>No</td>\n",
       "      <td>No</td>\n",
       "      <td>Yes</td>\n",
       "      <td>Month-to-month</td>\n",
       "      <td>Yes</td>\n",
       "      <td>Electronic check</td>\n",
       "    </tr>\n",
       "    <tr>\n",
       "      <th>3</th>\n",
       "      <td>Female</td>\n",
       "      <td>0</td>\n",
       "      <td>Yes</td>\n",
       "      <td>Yes</td>\n",
       "      <td>No</td>\n",
       "      <td>No phone service</td>\n",
       "      <td>DSL</td>\n",
       "      <td>No</td>\n",
       "      <td>Yes</td>\n",
       "      <td>Yes</td>\n",
       "      <td>Yes</td>\n",
       "      <td>Yes</td>\n",
       "      <td>Yes</td>\n",
       "      <td>Two year</td>\n",
       "      <td>Yes</td>\n",
       "      <td>Bank transfer (automatic)</td>\n",
       "    </tr>\n",
       "    <tr>\n",
       "      <th>4</th>\n",
       "      <td>Female</td>\n",
       "      <td>0</td>\n",
       "      <td>No</td>\n",
       "      <td>No</td>\n",
       "      <td>Yes</td>\n",
       "      <td>No</td>\n",
       "      <td>No</td>\n",
       "      <td>No internet service</td>\n",
       "      <td>No internet service</td>\n",
       "      <td>No internet service</td>\n",
       "      <td>No internet service</td>\n",
       "      <td>No internet service</td>\n",
       "      <td>No internet service</td>\n",
       "      <td>Two year</td>\n",
       "      <td>Yes</td>\n",
       "      <td>Mailed check</td>\n",
       "    </tr>\n",
       "  </tbody>\n",
       "</table>\n",
       "</div>"
      ],
      "text/plain": [
       "   genero  Idoso TemParceiro TemDependentes TemTelefone        MaisLinhas  \\\n",
       "0    Male      0         Yes            Yes         Yes                No   \n",
       "1    Male      1         Yes            Yes         Yes               Yes   \n",
       "2    Male      0          No             No         Yes               Yes   \n",
       "3  Female      0         Yes            Yes          No  No phone service   \n",
       "4  Female      0          No             No         Yes                No   \n",
       "\n",
       "   TemInternet ServicoSegurancaOnline  ServicoBackupOnline  \\\n",
       "0           No    No internet service  No internet service   \n",
       "1  Fiber optic                     No                  Yes   \n",
       "2  Fiber optic                     No                   No   \n",
       "3          DSL                     No                  Yes   \n",
       "4           No    No internet service  No internet service   \n",
       "\n",
       "  ServicoProtecaoOnline ServicoSuporteOnline            ServicoTV  \\\n",
       "0   No internet service  No internet service  No internet service   \n",
       "1                    No                   No                  Yes   \n",
       "2                    No                   No                   No   \n",
       "3                   Yes                  Yes                  Yes   \n",
       "4   No internet service  No internet service  No internet service   \n",
       "\n",
       "      ServicoPctFilmes        Contrato ContaOnline            MetodoPagamento  \n",
       "0  No internet service        One year         Yes    Credit card (automatic)  \n",
       "1                  Yes        One year          No                        NaN  \n",
       "2                  Yes  Month-to-month         Yes           Electronic check  \n",
       "3                  Yes        Two year         Yes  Bank transfer (automatic)  \n",
       "4  No internet service        Two year         Yes               Mailed check  "
      ]
     },
     "execution_count": 119,
     "metadata": {},
     "output_type": "execute_result"
    }
   ],
   "source": [
    "categóricas_teste.head()"
   ]
  },
  {
   "cell_type": "code",
   "execution_count": 120,
   "metadata": {},
   "outputs": [
    {
     "name": "stderr",
     "output_type": "stream",
     "text": [
      "D:\\ANACONDA\\lib\\site-packages\\ipykernel_launcher.py:1: SettingWithCopyWarning: \n",
      "A value is trying to be set on a copy of a slice from a DataFrame.\n",
      "Try using .loc[row_indexer,col_indexer] = value instead\n",
      "\n",
      "See the caveats in the documentation: http://pandas.pydata.org/pandas-docs/stable/indexing.html#indexing-view-versus-copy\n",
      "  \"\"\"Entry point for launching an IPython kernel.\n"
     ]
    }
   ],
   "source": [
    "quantitativas_teste['CobrancaTotal'] = pd.to_numeric(quantitativas_teste['CobrancaTotal'], errors='coerce')"
   ]
  },
  {
   "cell_type": "code",
   "execution_count": 121,
   "metadata": {},
   "outputs": [
    {
     "data": {
      "text/plain": [
       "MesesNaCompanhia    float64\n",
       "CobrancaMensal      float64\n",
       "CobrancaTotal       float64\n",
       "dtype: object"
      ]
     },
     "execution_count": 121,
     "metadata": {},
     "output_type": "execute_result"
    }
   ],
   "source": [
    "quantitativas_teste.dtypes"
   ]
  },
  {
   "cell_type": "code",
   "execution_count": 122,
   "metadata": {},
   "outputs": [
    {
     "data": {
      "text/plain": [
       "MesesNaCompanhia    118\n",
       "CobrancaMensal        0\n",
       "CobrancaTotal         3\n",
       "dtype: int64"
      ]
     },
     "execution_count": 122,
     "metadata": {},
     "output_type": "execute_result"
    }
   ],
   "source": [
    "quantitativas_teste.isnull().sum()"
   ]
  },
  {
   "cell_type": "code",
   "execution_count": 123,
   "metadata": {},
   "outputs": [
    {
     "name": "stderr",
     "output_type": "stream",
     "text": [
      "D:\\ANACONDA\\lib\\site-packages\\ipykernel_launcher.py:1: SettingWithCopyWarning: \n",
      "A value is trying to be set on a copy of a slice from a DataFrame.\n",
      "Try using .loc[row_indexer,col_indexer] = value instead\n",
      "\n",
      "See the caveats in the documentation: http://pandas.pydata.org/pandas-docs/stable/indexing.html#indexing-view-versus-copy\n",
      "  \"\"\"Entry point for launching an IPython kernel.\n"
     ]
    }
   ],
   "source": [
    "quantitativas_teste['CobrancaTotal_2'] = quantitativas_teste['CobrancaTotal'].fillna(quantitativas_teste['CobrancaTotal'].mode()[0])"
   ]
  },
  {
   "cell_type": "code",
   "execution_count": 124,
   "metadata": {},
   "outputs": [
    {
     "data": {
      "text/plain": [
       "CobrancaTotal_2    False\n",
       "dtype: bool"
      ]
     },
     "execution_count": 124,
     "metadata": {},
     "output_type": "execute_result"
    }
   ],
   "source": [
    "quantitativas_teste[['CobrancaTotal_2']].isnull().any()"
   ]
  },
  {
   "cell_type": "code",
   "execution_count": 125,
   "metadata": {},
   "outputs": [
    {
     "name": "stderr",
     "output_type": "stream",
     "text": [
      "D:\\ANACONDA\\lib\\site-packages\\ipykernel_launcher.py:2: SettingWithCopyWarning: \n",
      "A value is trying to be set on a copy of a slice from a DataFrame.\n",
      "Try using .loc[row_indexer,col_indexer] = value instead\n",
      "\n",
      "See the caveats in the documentation: http://pandas.pydata.org/pandas-docs/stable/indexing.html#indexing-view-versus-copy\n",
      "  \n"
     ]
    }
   ],
   "source": [
    "quantitativas_teste['MesesNaCompanhia_2']  = quantitativas_teste['MesesNaCompanhia'].fillna(quantitativas_teste['CobrancaTotal']/\n",
    "                                                                               quantitativas_teste['CobrancaMensal'])"
   ]
  },
  {
   "cell_type": "code",
   "execution_count": 126,
   "metadata": {},
   "outputs": [
    {
     "data": {
      "text/plain": [
       "False"
      ]
     },
     "execution_count": 126,
     "metadata": {},
     "output_type": "execute_result"
    }
   ],
   "source": [
    "quantitativas_teste['MesesNaCompanhia_2'].isnull().any()"
   ]
  },
  {
   "cell_type": "code",
   "execution_count": 127,
   "metadata": {},
   "outputs": [],
   "source": [
    "quantitativas_teste_2 = quantitativas_teste[['CobrancaMensal','CobrancaTotal_2','MesesNaCompanhia_2']]"
   ]
  },
  {
   "cell_type": "code",
   "execution_count": 128,
   "metadata": {},
   "outputs": [
    {
     "data": {
      "text/html": [
       "<div>\n",
       "<style scoped>\n",
       "    .dataframe tbody tr th:only-of-type {\n",
       "        vertical-align: middle;\n",
       "    }\n",
       "\n",
       "    .dataframe tbody tr th {\n",
       "        vertical-align: top;\n",
       "    }\n",
       "\n",
       "    .dataframe thead th {\n",
       "        text-align: right;\n",
       "    }\n",
       "</style>\n",
       "<table border=\"1\" class=\"dataframe\">\n",
       "  <thead>\n",
       "    <tr style=\"text-align: right;\">\n",
       "      <th></th>\n",
       "      <th>CobrancaMensal</th>\n",
       "      <th>CobrancaTotal_2</th>\n",
       "      <th>MesesNaCompanhia_2</th>\n",
       "    </tr>\n",
       "  </thead>\n",
       "  <tbody>\n",
       "    <tr>\n",
       "      <th>0</th>\n",
       "      <td>20.00</td>\n",
       "      <td>445.30</td>\n",
       "      <td>23.00</td>\n",
       "    </tr>\n",
       "    <tr>\n",
       "      <th>1</th>\n",
       "      <td>99.00</td>\n",
       "      <td>5,969.30</td>\n",
       "      <td>61.00</td>\n",
       "    </tr>\n",
       "    <tr>\n",
       "      <th>2</th>\n",
       "      <td>84.75</td>\n",
       "      <td>3,050.15</td>\n",
       "      <td>36.00</td>\n",
       "    </tr>\n",
       "    <tr>\n",
       "      <th>3</th>\n",
       "      <td>61.45</td>\n",
       "      <td>3,751.15</td>\n",
       "      <td>61.00</td>\n",
       "    </tr>\n",
       "    <tr>\n",
       "      <th>4</th>\n",
       "      <td>20.55</td>\n",
       "      <td>945.70</td>\n",
       "      <td>47.00</td>\n",
       "    </tr>\n",
       "  </tbody>\n",
       "</table>\n",
       "</div>"
      ],
      "text/plain": [
       "   CobrancaMensal  CobrancaTotal_2  MesesNaCompanhia_2\n",
       "0           20.00           445.30               23.00\n",
       "1           99.00         5,969.30               61.00\n",
       "2           84.75         3,050.15               36.00\n",
       "3           61.45         3,751.15               61.00\n",
       "4           20.55           945.70               47.00"
      ]
     },
     "execution_count": 128,
     "metadata": {},
     "output_type": "execute_result"
    }
   ],
   "source": [
    "quantitativas_teste_2.head()"
   ]
  },
  {
   "cell_type": "code",
   "execution_count": 129,
   "metadata": {},
   "outputs": [
    {
     "data": {
      "text/plain": [
       "CobrancaMensal        0\n",
       "CobrancaTotal_2       0\n",
       "MesesNaCompanhia_2    0\n",
       "dtype: int64"
      ]
     },
     "execution_count": 129,
     "metadata": {},
     "output_type": "execute_result"
    }
   ],
   "source": [
    "quantitativas_teste_2.isnull().sum()"
   ]
  },
  {
   "cell_type": "code",
   "execution_count": 130,
   "metadata": {},
   "outputs": [],
   "source": [
    "discretizer_teste = KBinsDiscretizer(n_bins=5,\n",
    "                              encode='ordinal',\n",
    "                              strategy='quantile')"
   ]
  },
  {
   "cell_type": "code",
   "execution_count": 131,
   "metadata": {},
   "outputs": [
    {
     "data": {
      "text/plain": [
       "KBinsDiscretizer(encode='ordinal', n_bins=5, strategy='quantile')"
      ]
     },
     "execution_count": 131,
     "metadata": {},
     "output_type": "execute_result"
    }
   ],
   "source": [
    "discretizer_teste.fit(quantitativas_teste_2)"
   ]
  },
  {
   "cell_type": "code",
   "execution_count": 132,
   "metadata": {},
   "outputs": [],
   "source": [
    "bining_teste = discretizer_teste.fit_transform(quantitativas_teste_2)"
   ]
  },
  {
   "cell_type": "code",
   "execution_count": 133,
   "metadata": {},
   "outputs": [],
   "source": [
    "quantitativas_teste_bining = pd.DataFrame(bining_teste,\n",
    "                                    columns=['CobrancaMensal',\n",
    "                                             'CobrancaTotal_2',\n",
    "                                             'MesesNaCompanhia_2'])"
   ]
  },
  {
   "cell_type": "code",
   "execution_count": 134,
   "metadata": {},
   "outputs": [
    {
     "data": {
      "text/html": [
       "<div>\n",
       "<style scoped>\n",
       "    .dataframe tbody tr th:only-of-type {\n",
       "        vertical-align: middle;\n",
       "    }\n",
       "\n",
       "    .dataframe tbody tr th {\n",
       "        vertical-align: top;\n",
       "    }\n",
       "\n",
       "    .dataframe thead th {\n",
       "        text-align: right;\n",
       "    }\n",
       "</style>\n",
       "<table border=\"1\" class=\"dataframe\">\n",
       "  <thead>\n",
       "    <tr style=\"text-align: right;\">\n",
       "      <th></th>\n",
       "      <th>CobrancaMensal</th>\n",
       "      <th>CobrancaTotal_2</th>\n",
       "      <th>MesesNaCompanhia_2</th>\n",
       "    </tr>\n",
       "  </thead>\n",
       "  <tbody>\n",
       "    <tr>\n",
       "      <th>0</th>\n",
       "      <td>0.00</td>\n",
       "      <td>1.00</td>\n",
       "      <td>2.00</td>\n",
       "    </tr>\n",
       "    <tr>\n",
       "      <th>1</th>\n",
       "      <td>4.00</td>\n",
       "      <td>4.00</td>\n",
       "      <td>4.00</td>\n",
       "    </tr>\n",
       "    <tr>\n",
       "      <th>2</th>\n",
       "      <td>3.00</td>\n",
       "      <td>3.00</td>\n",
       "      <td>2.00</td>\n",
       "    </tr>\n",
       "    <tr>\n",
       "      <th>3</th>\n",
       "      <td>2.00</td>\n",
       "      <td>3.00</td>\n",
       "      <td>4.00</td>\n",
       "    </tr>\n",
       "    <tr>\n",
       "      <th>4</th>\n",
       "      <td>0.00</td>\n",
       "      <td>1.00</td>\n",
       "      <td>3.00</td>\n",
       "    </tr>\n",
       "  </tbody>\n",
       "</table>\n",
       "</div>"
      ],
      "text/plain": [
       "   CobrancaMensal  CobrancaTotal_2  MesesNaCompanhia_2\n",
       "0            0.00             1.00                2.00\n",
       "1            4.00             4.00                4.00\n",
       "2            3.00             3.00                2.00\n",
       "3            2.00             3.00                4.00\n",
       "4            0.00             1.00                3.00"
      ]
     },
     "execution_count": 134,
     "metadata": {},
     "output_type": "execute_result"
    }
   ],
   "source": [
    "quantitativas_teste_bining.head()"
   ]
  },
  {
   "cell_type": "code",
   "execution_count": 135,
   "metadata": {},
   "outputs": [
    {
     "data": {
      "text/plain": [
       "CobrancaMensal        0\n",
       "CobrancaTotal_2       0\n",
       "MesesNaCompanhia_2    0\n",
       "dtype: int64"
      ]
     },
     "execution_count": 135,
     "metadata": {},
     "output_type": "execute_result"
    }
   ],
   "source": [
    "quantitativas_teste_bining.isnull().sum()"
   ]
  },
  {
   "cell_type": "code",
   "execution_count": 136,
   "metadata": {},
   "outputs": [
    {
     "data": {
      "text/html": [
       "<div>\n",
       "<style scoped>\n",
       "    .dataframe tbody tr th:only-of-type {\n",
       "        vertical-align: middle;\n",
       "    }\n",
       "\n",
       "    .dataframe tbody tr th {\n",
       "        vertical-align: top;\n",
       "    }\n",
       "\n",
       "    .dataframe thead th {\n",
       "        text-align: right;\n",
       "    }\n",
       "</style>\n",
       "<table border=\"1\" class=\"dataframe\">\n",
       "  <thead>\n",
       "    <tr style=\"text-align: right;\">\n",
       "      <th></th>\n",
       "      <th>genero</th>\n",
       "      <th>Idoso</th>\n",
       "      <th>TemParceiro</th>\n",
       "      <th>TemDependentes</th>\n",
       "      <th>TemTelefone</th>\n",
       "      <th>MaisLinhas</th>\n",
       "      <th>TemInternet</th>\n",
       "      <th>ServicoSegurancaOnline</th>\n",
       "      <th>ServicoBackupOnline</th>\n",
       "      <th>ServicoProtecaoOnline</th>\n",
       "      <th>ServicoSuporteOnline</th>\n",
       "      <th>ServicoTV</th>\n",
       "      <th>ServicoPctFilmes</th>\n",
       "      <th>Contrato</th>\n",
       "      <th>ContaOnline</th>\n",
       "      <th>MetodoPagamento</th>\n",
       "    </tr>\n",
       "  </thead>\n",
       "  <tbody>\n",
       "    <tr>\n",
       "      <th>0</th>\n",
       "      <td>Male</td>\n",
       "      <td>0</td>\n",
       "      <td>Yes</td>\n",
       "      <td>Yes</td>\n",
       "      <td>Yes</td>\n",
       "      <td>No</td>\n",
       "      <td>No</td>\n",
       "      <td>No internet service</td>\n",
       "      <td>No internet service</td>\n",
       "      <td>No internet service</td>\n",
       "      <td>No internet service</td>\n",
       "      <td>No internet service</td>\n",
       "      <td>No internet service</td>\n",
       "      <td>One year</td>\n",
       "      <td>Yes</td>\n",
       "      <td>Credit card (automatic)</td>\n",
       "    </tr>\n",
       "    <tr>\n",
       "      <th>1</th>\n",
       "      <td>Male</td>\n",
       "      <td>1</td>\n",
       "      <td>Yes</td>\n",
       "      <td>Yes</td>\n",
       "      <td>Yes</td>\n",
       "      <td>Yes</td>\n",
       "      <td>Fiber optic</td>\n",
       "      <td>No</td>\n",
       "      <td>Yes</td>\n",
       "      <td>No</td>\n",
       "      <td>No</td>\n",
       "      <td>Yes</td>\n",
       "      <td>Yes</td>\n",
       "      <td>One year</td>\n",
       "      <td>No</td>\n",
       "      <td>NaN</td>\n",
       "    </tr>\n",
       "    <tr>\n",
       "      <th>2</th>\n",
       "      <td>Male</td>\n",
       "      <td>0</td>\n",
       "      <td>No</td>\n",
       "      <td>No</td>\n",
       "      <td>Yes</td>\n",
       "      <td>Yes</td>\n",
       "      <td>Fiber optic</td>\n",
       "      <td>No</td>\n",
       "      <td>No</td>\n",
       "      <td>No</td>\n",
       "      <td>No</td>\n",
       "      <td>No</td>\n",
       "      <td>Yes</td>\n",
       "      <td>Month-to-month</td>\n",
       "      <td>Yes</td>\n",
       "      <td>Electronic check</td>\n",
       "    </tr>\n",
       "    <tr>\n",
       "      <th>3</th>\n",
       "      <td>Female</td>\n",
       "      <td>0</td>\n",
       "      <td>Yes</td>\n",
       "      <td>Yes</td>\n",
       "      <td>No</td>\n",
       "      <td>No phone service</td>\n",
       "      <td>DSL</td>\n",
       "      <td>No</td>\n",
       "      <td>Yes</td>\n",
       "      <td>Yes</td>\n",
       "      <td>Yes</td>\n",
       "      <td>Yes</td>\n",
       "      <td>Yes</td>\n",
       "      <td>Two year</td>\n",
       "      <td>Yes</td>\n",
       "      <td>Bank transfer (automatic)</td>\n",
       "    </tr>\n",
       "    <tr>\n",
       "      <th>4</th>\n",
       "      <td>Female</td>\n",
       "      <td>0</td>\n",
       "      <td>No</td>\n",
       "      <td>No</td>\n",
       "      <td>Yes</td>\n",
       "      <td>No</td>\n",
       "      <td>No</td>\n",
       "      <td>No internet service</td>\n",
       "      <td>No internet service</td>\n",
       "      <td>No internet service</td>\n",
       "      <td>No internet service</td>\n",
       "      <td>No internet service</td>\n",
       "      <td>No internet service</td>\n",
       "      <td>Two year</td>\n",
       "      <td>Yes</td>\n",
       "      <td>Mailed check</td>\n",
       "    </tr>\n",
       "  </tbody>\n",
       "</table>\n",
       "</div>"
      ],
      "text/plain": [
       "   genero  Idoso TemParceiro TemDependentes TemTelefone        MaisLinhas  \\\n",
       "0    Male      0         Yes            Yes         Yes                No   \n",
       "1    Male      1         Yes            Yes         Yes               Yes   \n",
       "2    Male      0          No             No         Yes               Yes   \n",
       "3  Female      0         Yes            Yes          No  No phone service   \n",
       "4  Female      0          No             No         Yes                No   \n",
       "\n",
       "   TemInternet ServicoSegurancaOnline  ServicoBackupOnline  \\\n",
       "0           No    No internet service  No internet service   \n",
       "1  Fiber optic                     No                  Yes   \n",
       "2  Fiber optic                     No                   No   \n",
       "3          DSL                     No                  Yes   \n",
       "4           No    No internet service  No internet service   \n",
       "\n",
       "  ServicoProtecaoOnline ServicoSuporteOnline            ServicoTV  \\\n",
       "0   No internet service  No internet service  No internet service   \n",
       "1                    No                   No                  Yes   \n",
       "2                    No                   No                   No   \n",
       "3                   Yes                  Yes                  Yes   \n",
       "4   No internet service  No internet service  No internet service   \n",
       "\n",
       "      ServicoPctFilmes        Contrato ContaOnline            MetodoPagamento  \n",
       "0  No internet service        One year         Yes    Credit card (automatic)  \n",
       "1                  Yes        One year          No                        NaN  \n",
       "2                  Yes  Month-to-month         Yes           Electronic check  \n",
       "3                  Yes        Two year         Yes  Bank transfer (automatic)  \n",
       "4  No internet service        Two year         Yes               Mailed check  "
      ]
     },
     "execution_count": 136,
     "metadata": {},
     "output_type": "execute_result"
    }
   ],
   "source": [
    "categóricas_teste.head()\n"
   ]
  },
  {
   "cell_type": "code",
   "execution_count": 137,
   "metadata": {},
   "outputs": [
    {
     "data": {
      "text/plain": [
       "genero                     0\n",
       "Idoso                      0\n",
       "TemParceiro                0\n",
       "TemDependentes            41\n",
       "TemTelefone                0\n",
       "MaisLinhas                 0\n",
       "TemInternet                0\n",
       "ServicoSegurancaOnline     0\n",
       "ServicoBackupOnline        0\n",
       "ServicoProtecaoOnline      0\n",
       "ServicoSuporteOnline       0\n",
       "ServicoTV                  0\n",
       "ServicoPctFilmes           0\n",
       "Contrato                   0\n",
       "ContaOnline                0\n",
       "MetodoPagamento           30\n",
       "dtype: int64"
      ]
     },
     "execution_count": 137,
     "metadata": {},
     "output_type": "execute_result"
    }
   ],
   "source": [
    "categóricas_teste.isnull().sum()"
   ]
  },
  {
   "cell_type": "code",
   "execution_count": 138,
   "metadata": {},
   "outputs": [],
   "source": [
    "categóricas_teste['TemDependentes'] = categóricas_teste['TemDependentes'].fillna(categóricas_teste['TemDependentes']=='Miss')"
   ]
  },
  {
   "cell_type": "code",
   "execution_count": 139,
   "metadata": {},
   "outputs": [],
   "source": [
    "categóricas_teste['MetodoPagamento'] = categóricas_teste['MetodoPagamento'].fillna(categóricas_teste['MetodoPagamento']=='Miss')"
   ]
  },
  {
   "cell_type": "code",
   "execution_count": 140,
   "metadata": {},
   "outputs": [
    {
     "data": {
      "text/plain": [
       "genero                    0\n",
       "Idoso                     0\n",
       "TemParceiro               0\n",
       "TemDependentes            0\n",
       "TemTelefone               0\n",
       "MaisLinhas                0\n",
       "TemInternet               0\n",
       "ServicoSegurancaOnline    0\n",
       "ServicoBackupOnline       0\n",
       "ServicoProtecaoOnline     0\n",
       "ServicoSuporteOnline      0\n",
       "ServicoTV                 0\n",
       "ServicoPctFilmes          0\n",
       "Contrato                  0\n",
       "ContaOnline               0\n",
       "MetodoPagamento           0\n",
       "dtype: int64"
      ]
     },
     "execution_count": 140,
     "metadata": {},
     "output_type": "execute_result"
    }
   ],
   "source": [
    "categóricas_teste.isnull().sum()"
   ]
  },
  {
   "cell_type": "code",
   "execution_count": 141,
   "metadata": {},
   "outputs": [
    {
     "data": {
      "text/plain": [
       "genero                    2\n",
       "Idoso                     2\n",
       "TemParceiro               2\n",
       "TemDependentes            3\n",
       "TemTelefone               2\n",
       "MaisLinhas                3\n",
       "TemInternet               3\n",
       "ServicoSegurancaOnline    3\n",
       "ServicoBackupOnline       3\n",
       "ServicoProtecaoOnline     3\n",
       "ServicoSuporteOnline      3\n",
       "ServicoTV                 3\n",
       "ServicoPctFilmes          3\n",
       "Contrato                  3\n",
       "ContaOnline               2\n",
       "MetodoPagamento           5\n",
       "dtype: int64"
      ]
     },
     "execution_count": 141,
     "metadata": {},
     "output_type": "execute_result"
    }
   ],
   "source": [
    "categóricas_teste.nunique()"
   ]
  },
  {
   "cell_type": "code",
   "execution_count": 142,
   "metadata": {},
   "outputs": [],
   "source": [
    "dummies_teste = pd.get_dummies(categóricas_teste,\n",
    "                        prefix_sep='_',\n",
    "                        drop_first=True)"
   ]
  },
  {
   "cell_type": "code",
   "execution_count": 143,
   "metadata": {},
   "outputs": [
    {
     "data": {
      "text/html": [
       "<div>\n",
       "<style scoped>\n",
       "    .dataframe tbody tr th:only-of-type {\n",
       "        vertical-align: middle;\n",
       "    }\n",
       "\n",
       "    .dataframe tbody tr th {\n",
       "        vertical-align: top;\n",
       "    }\n",
       "\n",
       "    .dataframe thead th {\n",
       "        text-align: right;\n",
       "    }\n",
       "</style>\n",
       "<table border=\"1\" class=\"dataframe\">\n",
       "  <thead>\n",
       "    <tr style=\"text-align: right;\">\n",
       "      <th></th>\n",
       "      <th>Idoso</th>\n",
       "      <th>genero_Male</th>\n",
       "      <th>TemParceiro_Yes</th>\n",
       "      <th>TemDependentes_No</th>\n",
       "      <th>TemDependentes_Yes</th>\n",
       "      <th>TemTelefone_Yes</th>\n",
       "      <th>MaisLinhas_No phone service</th>\n",
       "      <th>MaisLinhas_Yes</th>\n",
       "      <th>TemInternet_Fiber optic</th>\n",
       "      <th>TemInternet_No</th>\n",
       "      <th>ServicoSegurancaOnline_No internet service</th>\n",
       "      <th>ServicoSegurancaOnline_Yes</th>\n",
       "      <th>ServicoBackupOnline_No internet service</th>\n",
       "      <th>ServicoBackupOnline_Yes</th>\n",
       "      <th>ServicoProtecaoOnline_No internet service</th>\n",
       "      <th>ServicoProtecaoOnline_Yes</th>\n",
       "      <th>ServicoSuporteOnline_No internet service</th>\n",
       "      <th>ServicoSuporteOnline_Yes</th>\n",
       "      <th>ServicoTV_No internet service</th>\n",
       "      <th>ServicoTV_Yes</th>\n",
       "      <th>ServicoPctFilmes_No internet service</th>\n",
       "      <th>ServicoPctFilmes_Yes</th>\n",
       "      <th>Contrato_One year</th>\n",
       "      <th>Contrato_Two year</th>\n",
       "      <th>ContaOnline_Yes</th>\n",
       "      <th>MetodoPagamento_Bank transfer (automatic)</th>\n",
       "      <th>MetodoPagamento_Credit card (automatic)</th>\n",
       "      <th>MetodoPagamento_Electronic check</th>\n",
       "      <th>MetodoPagamento_Mailed check</th>\n",
       "    </tr>\n",
       "  </thead>\n",
       "  <tbody>\n",
       "    <tr>\n",
       "      <th>0</th>\n",
       "      <td>0</td>\n",
       "      <td>1</td>\n",
       "      <td>1</td>\n",
       "      <td>0</td>\n",
       "      <td>1</td>\n",
       "      <td>1</td>\n",
       "      <td>0</td>\n",
       "      <td>0</td>\n",
       "      <td>0</td>\n",
       "      <td>1</td>\n",
       "      <td>1</td>\n",
       "      <td>0</td>\n",
       "      <td>1</td>\n",
       "      <td>0</td>\n",
       "      <td>1</td>\n",
       "      <td>0</td>\n",
       "      <td>1</td>\n",
       "      <td>0</td>\n",
       "      <td>1</td>\n",
       "      <td>0</td>\n",
       "      <td>1</td>\n",
       "      <td>0</td>\n",
       "      <td>1</td>\n",
       "      <td>0</td>\n",
       "      <td>1</td>\n",
       "      <td>0</td>\n",
       "      <td>1</td>\n",
       "      <td>0</td>\n",
       "      <td>0</td>\n",
       "    </tr>\n",
       "    <tr>\n",
       "      <th>1</th>\n",
       "      <td>1</td>\n",
       "      <td>1</td>\n",
       "      <td>1</td>\n",
       "      <td>0</td>\n",
       "      <td>1</td>\n",
       "      <td>1</td>\n",
       "      <td>0</td>\n",
       "      <td>1</td>\n",
       "      <td>1</td>\n",
       "      <td>0</td>\n",
       "      <td>0</td>\n",
       "      <td>0</td>\n",
       "      <td>0</td>\n",
       "      <td>1</td>\n",
       "      <td>0</td>\n",
       "      <td>0</td>\n",
       "      <td>0</td>\n",
       "      <td>0</td>\n",
       "      <td>0</td>\n",
       "      <td>1</td>\n",
       "      <td>0</td>\n",
       "      <td>1</td>\n",
       "      <td>1</td>\n",
       "      <td>0</td>\n",
       "      <td>0</td>\n",
       "      <td>0</td>\n",
       "      <td>0</td>\n",
       "      <td>0</td>\n",
       "      <td>0</td>\n",
       "    </tr>\n",
       "    <tr>\n",
       "      <th>2</th>\n",
       "      <td>0</td>\n",
       "      <td>1</td>\n",
       "      <td>0</td>\n",
       "      <td>1</td>\n",
       "      <td>0</td>\n",
       "      <td>1</td>\n",
       "      <td>0</td>\n",
       "      <td>1</td>\n",
       "      <td>1</td>\n",
       "      <td>0</td>\n",
       "      <td>0</td>\n",
       "      <td>0</td>\n",
       "      <td>0</td>\n",
       "      <td>0</td>\n",
       "      <td>0</td>\n",
       "      <td>0</td>\n",
       "      <td>0</td>\n",
       "      <td>0</td>\n",
       "      <td>0</td>\n",
       "      <td>0</td>\n",
       "      <td>0</td>\n",
       "      <td>1</td>\n",
       "      <td>0</td>\n",
       "      <td>0</td>\n",
       "      <td>1</td>\n",
       "      <td>0</td>\n",
       "      <td>0</td>\n",
       "      <td>1</td>\n",
       "      <td>0</td>\n",
       "    </tr>\n",
       "    <tr>\n",
       "      <th>3</th>\n",
       "      <td>0</td>\n",
       "      <td>0</td>\n",
       "      <td>1</td>\n",
       "      <td>0</td>\n",
       "      <td>1</td>\n",
       "      <td>0</td>\n",
       "      <td>1</td>\n",
       "      <td>0</td>\n",
       "      <td>0</td>\n",
       "      <td>0</td>\n",
       "      <td>0</td>\n",
       "      <td>0</td>\n",
       "      <td>0</td>\n",
       "      <td>1</td>\n",
       "      <td>0</td>\n",
       "      <td>1</td>\n",
       "      <td>0</td>\n",
       "      <td>1</td>\n",
       "      <td>0</td>\n",
       "      <td>1</td>\n",
       "      <td>0</td>\n",
       "      <td>1</td>\n",
       "      <td>0</td>\n",
       "      <td>1</td>\n",
       "      <td>1</td>\n",
       "      <td>1</td>\n",
       "      <td>0</td>\n",
       "      <td>0</td>\n",
       "      <td>0</td>\n",
       "    </tr>\n",
       "    <tr>\n",
       "      <th>4</th>\n",
       "      <td>0</td>\n",
       "      <td>0</td>\n",
       "      <td>0</td>\n",
       "      <td>1</td>\n",
       "      <td>0</td>\n",
       "      <td>1</td>\n",
       "      <td>0</td>\n",
       "      <td>0</td>\n",
       "      <td>0</td>\n",
       "      <td>1</td>\n",
       "      <td>1</td>\n",
       "      <td>0</td>\n",
       "      <td>1</td>\n",
       "      <td>0</td>\n",
       "      <td>1</td>\n",
       "      <td>0</td>\n",
       "      <td>1</td>\n",
       "      <td>0</td>\n",
       "      <td>1</td>\n",
       "      <td>0</td>\n",
       "      <td>1</td>\n",
       "      <td>0</td>\n",
       "      <td>0</td>\n",
       "      <td>1</td>\n",
       "      <td>1</td>\n",
       "      <td>0</td>\n",
       "      <td>0</td>\n",
       "      <td>0</td>\n",
       "      <td>1</td>\n",
       "    </tr>\n",
       "  </tbody>\n",
       "</table>\n",
       "</div>"
      ],
      "text/plain": [
       "   Idoso  genero_Male  TemParceiro_Yes  TemDependentes_No  TemDependentes_Yes  \\\n",
       "0      0            1                1                  0                   1   \n",
       "1      1            1                1                  0                   1   \n",
       "2      0            1                0                  1                   0   \n",
       "3      0            0                1                  0                   1   \n",
       "4      0            0                0                  1                   0   \n",
       "\n",
       "   TemTelefone_Yes  MaisLinhas_No phone service  MaisLinhas_Yes  \\\n",
       "0                1                            0               0   \n",
       "1                1                            0               1   \n",
       "2                1                            0               1   \n",
       "3                0                            1               0   \n",
       "4                1                            0               0   \n",
       "\n",
       "   TemInternet_Fiber optic  TemInternet_No  \\\n",
       "0                        0               1   \n",
       "1                        1               0   \n",
       "2                        1               0   \n",
       "3                        0               0   \n",
       "4                        0               1   \n",
       "\n",
       "   ServicoSegurancaOnline_No internet service  ServicoSegurancaOnline_Yes  \\\n",
       "0                                           1                           0   \n",
       "1                                           0                           0   \n",
       "2                                           0                           0   \n",
       "3                                           0                           0   \n",
       "4                                           1                           0   \n",
       "\n",
       "   ServicoBackupOnline_No internet service  ServicoBackupOnline_Yes  \\\n",
       "0                                        1                        0   \n",
       "1                                        0                        1   \n",
       "2                                        0                        0   \n",
       "3                                        0                        1   \n",
       "4                                        1                        0   \n",
       "\n",
       "   ServicoProtecaoOnline_No internet service  ServicoProtecaoOnline_Yes  \\\n",
       "0                                          1                          0   \n",
       "1                                          0                          0   \n",
       "2                                          0                          0   \n",
       "3                                          0                          1   \n",
       "4                                          1                          0   \n",
       "\n",
       "   ServicoSuporteOnline_No internet service  ServicoSuporteOnline_Yes  \\\n",
       "0                                         1                         0   \n",
       "1                                         0                         0   \n",
       "2                                         0                         0   \n",
       "3                                         0                         1   \n",
       "4                                         1                         0   \n",
       "\n",
       "   ServicoTV_No internet service  ServicoTV_Yes  \\\n",
       "0                              1              0   \n",
       "1                              0              1   \n",
       "2                              0              0   \n",
       "3                              0              1   \n",
       "4                              1              0   \n",
       "\n",
       "   ServicoPctFilmes_No internet service  ServicoPctFilmes_Yes  \\\n",
       "0                                     1                     0   \n",
       "1                                     0                     1   \n",
       "2                                     0                     1   \n",
       "3                                     0                     1   \n",
       "4                                     1                     0   \n",
       "\n",
       "   Contrato_One year  Contrato_Two year  ContaOnline_Yes  \\\n",
       "0                  1                  0                1   \n",
       "1                  1                  0                0   \n",
       "2                  0                  0                1   \n",
       "3                  0                  1                1   \n",
       "4                  0                  1                1   \n",
       "\n",
       "   MetodoPagamento_Bank transfer (automatic)  \\\n",
       "0                                          0   \n",
       "1                                          0   \n",
       "2                                          0   \n",
       "3                                          1   \n",
       "4                                          0   \n",
       "\n",
       "   MetodoPagamento_Credit card (automatic)  MetodoPagamento_Electronic check  \\\n",
       "0                                        1                                 0   \n",
       "1                                        0                                 0   \n",
       "2                                        0                                 1   \n",
       "3                                        0                                 0   \n",
       "4                                        0                                 0   \n",
       "\n",
       "   MetodoPagamento_Mailed check  \n",
       "0                             0  \n",
       "1                             0  \n",
       "2                             0  \n",
       "3                             0  \n",
       "4                             1  "
      ]
     },
     "execution_count": 143,
     "metadata": {},
     "output_type": "execute_result"
    }
   ],
   "source": [
    "dummies_teste.head()"
   ]
  },
  {
   "cell_type": "code",
   "execution_count": 144,
   "metadata": {},
   "outputs": [
    {
     "data": {
      "text/plain": [
       "Index(['Idoso', 'genero_Male', 'TemParceiro_Yes', 'TemDependentes_No',\n",
       "       'TemDependentes_Yes', 'TemTelefone_Yes', 'MaisLinhas_No phone service',\n",
       "       'MaisLinhas_Yes', 'TemInternet_Fiber optic', 'TemInternet_No',\n",
       "       'ServicoSegurancaOnline_No internet service',\n",
       "       'ServicoSegurancaOnline_Yes', 'ServicoBackupOnline_No internet service',\n",
       "       'ServicoBackupOnline_Yes', 'ServicoProtecaoOnline_No internet service',\n",
       "       'ServicoProtecaoOnline_Yes', 'ServicoSuporteOnline_No internet service',\n",
       "       'ServicoSuporteOnline_Yes', 'ServicoTV_No internet service',\n",
       "       'ServicoTV_Yes', 'ServicoPctFilmes_No internet service',\n",
       "       'ServicoPctFilmes_Yes', 'Contrato_One year', 'Contrato_Two year',\n",
       "       'ContaOnline_Yes', 'MetodoPagamento_Bank transfer (automatic)',\n",
       "       'MetodoPagamento_Credit card (automatic)',\n",
       "       'MetodoPagamento_Electronic check', 'MetodoPagamento_Mailed check'],\n",
       "      dtype='object')"
      ]
     },
     "execution_count": 144,
     "metadata": {},
     "output_type": "execute_result"
    }
   ],
   "source": [
    "dummies_teste.columns"
   ]
  },
  {
   "cell_type": "code",
   "execution_count": 145,
   "metadata": {},
   "outputs": [],
   "source": [
    "explicativas_teste=pd.concat([quantitativas_teste_bining,dummies_teste],\n",
    "                      axis=1)"
   ]
  },
  {
   "cell_type": "code",
   "execution_count": 146,
   "metadata": {},
   "outputs": [
    {
     "data": {
      "text/html": [
       "<div>\n",
       "<style scoped>\n",
       "    .dataframe tbody tr th:only-of-type {\n",
       "        vertical-align: middle;\n",
       "    }\n",
       "\n",
       "    .dataframe tbody tr th {\n",
       "        vertical-align: top;\n",
       "    }\n",
       "\n",
       "    .dataframe thead th {\n",
       "        text-align: right;\n",
       "    }\n",
       "</style>\n",
       "<table border=\"1\" class=\"dataframe\">\n",
       "  <thead>\n",
       "    <tr style=\"text-align: right;\">\n",
       "      <th></th>\n",
       "      <th>CobrancaMensal</th>\n",
       "      <th>CobrancaTotal_2</th>\n",
       "      <th>MesesNaCompanhia_2</th>\n",
       "      <th>Idoso</th>\n",
       "      <th>genero_Male</th>\n",
       "      <th>TemParceiro_Yes</th>\n",
       "      <th>TemDependentes_No</th>\n",
       "      <th>TemDependentes_Yes</th>\n",
       "      <th>TemTelefone_Yes</th>\n",
       "      <th>MaisLinhas_No phone service</th>\n",
       "      <th>MaisLinhas_Yes</th>\n",
       "      <th>TemInternet_Fiber optic</th>\n",
       "      <th>TemInternet_No</th>\n",
       "      <th>ServicoSegurancaOnline_No internet service</th>\n",
       "      <th>ServicoSegurancaOnline_Yes</th>\n",
       "      <th>ServicoBackupOnline_No internet service</th>\n",
       "      <th>ServicoBackupOnline_Yes</th>\n",
       "      <th>ServicoProtecaoOnline_No internet service</th>\n",
       "      <th>ServicoProtecaoOnline_Yes</th>\n",
       "      <th>ServicoSuporteOnline_No internet service</th>\n",
       "      <th>ServicoSuporteOnline_Yes</th>\n",
       "      <th>ServicoTV_No internet service</th>\n",
       "      <th>ServicoTV_Yes</th>\n",
       "      <th>ServicoPctFilmes_No internet service</th>\n",
       "      <th>ServicoPctFilmes_Yes</th>\n",
       "      <th>Contrato_One year</th>\n",
       "      <th>Contrato_Two year</th>\n",
       "      <th>ContaOnline_Yes</th>\n",
       "      <th>MetodoPagamento_Bank transfer (automatic)</th>\n",
       "      <th>MetodoPagamento_Credit card (automatic)</th>\n",
       "      <th>MetodoPagamento_Electronic check</th>\n",
       "      <th>MetodoPagamento_Mailed check</th>\n",
       "    </tr>\n",
       "  </thead>\n",
       "  <tbody>\n",
       "    <tr>\n",
       "      <th>0</th>\n",
       "      <td>0.00</td>\n",
       "      <td>1.00</td>\n",
       "      <td>2.00</td>\n",
       "      <td>0</td>\n",
       "      <td>1</td>\n",
       "      <td>1</td>\n",
       "      <td>0</td>\n",
       "      <td>1</td>\n",
       "      <td>1</td>\n",
       "      <td>0</td>\n",
       "      <td>0</td>\n",
       "      <td>0</td>\n",
       "      <td>1</td>\n",
       "      <td>1</td>\n",
       "      <td>0</td>\n",
       "      <td>1</td>\n",
       "      <td>0</td>\n",
       "      <td>1</td>\n",
       "      <td>0</td>\n",
       "      <td>1</td>\n",
       "      <td>0</td>\n",
       "      <td>1</td>\n",
       "      <td>0</td>\n",
       "      <td>1</td>\n",
       "      <td>0</td>\n",
       "      <td>1</td>\n",
       "      <td>0</td>\n",
       "      <td>1</td>\n",
       "      <td>0</td>\n",
       "      <td>1</td>\n",
       "      <td>0</td>\n",
       "      <td>0</td>\n",
       "    </tr>\n",
       "    <tr>\n",
       "      <th>1</th>\n",
       "      <td>4.00</td>\n",
       "      <td>4.00</td>\n",
       "      <td>4.00</td>\n",
       "      <td>1</td>\n",
       "      <td>1</td>\n",
       "      <td>1</td>\n",
       "      <td>0</td>\n",
       "      <td>1</td>\n",
       "      <td>1</td>\n",
       "      <td>0</td>\n",
       "      <td>1</td>\n",
       "      <td>1</td>\n",
       "      <td>0</td>\n",
       "      <td>0</td>\n",
       "      <td>0</td>\n",
       "      <td>0</td>\n",
       "      <td>1</td>\n",
       "      <td>0</td>\n",
       "      <td>0</td>\n",
       "      <td>0</td>\n",
       "      <td>0</td>\n",
       "      <td>0</td>\n",
       "      <td>1</td>\n",
       "      <td>0</td>\n",
       "      <td>1</td>\n",
       "      <td>1</td>\n",
       "      <td>0</td>\n",
       "      <td>0</td>\n",
       "      <td>0</td>\n",
       "      <td>0</td>\n",
       "      <td>0</td>\n",
       "      <td>0</td>\n",
       "    </tr>\n",
       "    <tr>\n",
       "      <th>2</th>\n",
       "      <td>3.00</td>\n",
       "      <td>3.00</td>\n",
       "      <td>2.00</td>\n",
       "      <td>0</td>\n",
       "      <td>1</td>\n",
       "      <td>0</td>\n",
       "      <td>1</td>\n",
       "      <td>0</td>\n",
       "      <td>1</td>\n",
       "      <td>0</td>\n",
       "      <td>1</td>\n",
       "      <td>1</td>\n",
       "      <td>0</td>\n",
       "      <td>0</td>\n",
       "      <td>0</td>\n",
       "      <td>0</td>\n",
       "      <td>0</td>\n",
       "      <td>0</td>\n",
       "      <td>0</td>\n",
       "      <td>0</td>\n",
       "      <td>0</td>\n",
       "      <td>0</td>\n",
       "      <td>0</td>\n",
       "      <td>0</td>\n",
       "      <td>1</td>\n",
       "      <td>0</td>\n",
       "      <td>0</td>\n",
       "      <td>1</td>\n",
       "      <td>0</td>\n",
       "      <td>0</td>\n",
       "      <td>1</td>\n",
       "      <td>0</td>\n",
       "    </tr>\n",
       "    <tr>\n",
       "      <th>3</th>\n",
       "      <td>2.00</td>\n",
       "      <td>3.00</td>\n",
       "      <td>4.00</td>\n",
       "      <td>0</td>\n",
       "      <td>0</td>\n",
       "      <td>1</td>\n",
       "      <td>0</td>\n",
       "      <td>1</td>\n",
       "      <td>0</td>\n",
       "      <td>1</td>\n",
       "      <td>0</td>\n",
       "      <td>0</td>\n",
       "      <td>0</td>\n",
       "      <td>0</td>\n",
       "      <td>0</td>\n",
       "      <td>0</td>\n",
       "      <td>1</td>\n",
       "      <td>0</td>\n",
       "      <td>1</td>\n",
       "      <td>0</td>\n",
       "      <td>1</td>\n",
       "      <td>0</td>\n",
       "      <td>1</td>\n",
       "      <td>0</td>\n",
       "      <td>1</td>\n",
       "      <td>0</td>\n",
       "      <td>1</td>\n",
       "      <td>1</td>\n",
       "      <td>1</td>\n",
       "      <td>0</td>\n",
       "      <td>0</td>\n",
       "      <td>0</td>\n",
       "    </tr>\n",
       "    <tr>\n",
       "      <th>4</th>\n",
       "      <td>0.00</td>\n",
       "      <td>1.00</td>\n",
       "      <td>3.00</td>\n",
       "      <td>0</td>\n",
       "      <td>0</td>\n",
       "      <td>0</td>\n",
       "      <td>1</td>\n",
       "      <td>0</td>\n",
       "      <td>1</td>\n",
       "      <td>0</td>\n",
       "      <td>0</td>\n",
       "      <td>0</td>\n",
       "      <td>1</td>\n",
       "      <td>1</td>\n",
       "      <td>0</td>\n",
       "      <td>1</td>\n",
       "      <td>0</td>\n",
       "      <td>1</td>\n",
       "      <td>0</td>\n",
       "      <td>1</td>\n",
       "      <td>0</td>\n",
       "      <td>1</td>\n",
       "      <td>0</td>\n",
       "      <td>1</td>\n",
       "      <td>0</td>\n",
       "      <td>0</td>\n",
       "      <td>1</td>\n",
       "      <td>1</td>\n",
       "      <td>0</td>\n",
       "      <td>0</td>\n",
       "      <td>0</td>\n",
       "      <td>1</td>\n",
       "    </tr>\n",
       "  </tbody>\n",
       "</table>\n",
       "</div>"
      ],
      "text/plain": [
       "   CobrancaMensal  CobrancaTotal_2  MesesNaCompanhia_2  Idoso  genero_Male  \\\n",
       "0            0.00             1.00                2.00      0            1   \n",
       "1            4.00             4.00                4.00      1            1   \n",
       "2            3.00             3.00                2.00      0            1   \n",
       "3            2.00             3.00                4.00      0            0   \n",
       "4            0.00             1.00                3.00      0            0   \n",
       "\n",
       "   TemParceiro_Yes  TemDependentes_No  TemDependentes_Yes  TemTelefone_Yes  \\\n",
       "0                1                  0                   1                1   \n",
       "1                1                  0                   1                1   \n",
       "2                0                  1                   0                1   \n",
       "3                1                  0                   1                0   \n",
       "4                0                  1                   0                1   \n",
       "\n",
       "   MaisLinhas_No phone service  MaisLinhas_Yes  TemInternet_Fiber optic  \\\n",
       "0                            0               0                        0   \n",
       "1                            0               1                        1   \n",
       "2                            0               1                        1   \n",
       "3                            1               0                        0   \n",
       "4                            0               0                        0   \n",
       "\n",
       "   TemInternet_No  ServicoSegurancaOnline_No internet service  \\\n",
       "0               1                                           1   \n",
       "1               0                                           0   \n",
       "2               0                                           0   \n",
       "3               0                                           0   \n",
       "4               1                                           1   \n",
       "\n",
       "   ServicoSegurancaOnline_Yes  ServicoBackupOnline_No internet service  \\\n",
       "0                           0                                        1   \n",
       "1                           0                                        0   \n",
       "2                           0                                        0   \n",
       "3                           0                                        0   \n",
       "4                           0                                        1   \n",
       "\n",
       "   ServicoBackupOnline_Yes  ServicoProtecaoOnline_No internet service  \\\n",
       "0                        0                                          1   \n",
       "1                        1                                          0   \n",
       "2                        0                                          0   \n",
       "3                        1                                          0   \n",
       "4                        0                                          1   \n",
       "\n",
       "   ServicoProtecaoOnline_Yes  ServicoSuporteOnline_No internet service  \\\n",
       "0                          0                                         1   \n",
       "1                          0                                         0   \n",
       "2                          0                                         0   \n",
       "3                          1                                         0   \n",
       "4                          0                                         1   \n",
       "\n",
       "   ServicoSuporteOnline_Yes  ServicoTV_No internet service  ServicoTV_Yes  \\\n",
       "0                         0                              1              0   \n",
       "1                         0                              0              1   \n",
       "2                         0                              0              0   \n",
       "3                         1                              0              1   \n",
       "4                         0                              1              0   \n",
       "\n",
       "   ServicoPctFilmes_No internet service  ServicoPctFilmes_Yes  \\\n",
       "0                                     1                     0   \n",
       "1                                     0                     1   \n",
       "2                                     0                     1   \n",
       "3                                     0                     1   \n",
       "4                                     1                     0   \n",
       "\n",
       "   Contrato_One year  Contrato_Two year  ContaOnline_Yes  \\\n",
       "0                  1                  0                1   \n",
       "1                  1                  0                0   \n",
       "2                  0                  0                1   \n",
       "3                  0                  1                1   \n",
       "4                  0                  1                1   \n",
       "\n",
       "   MetodoPagamento_Bank transfer (automatic)  \\\n",
       "0                                          0   \n",
       "1                                          0   \n",
       "2                                          0   \n",
       "3                                          1   \n",
       "4                                          0   \n",
       "\n",
       "   MetodoPagamento_Credit card (automatic)  MetodoPagamento_Electronic check  \\\n",
       "0                                        1                                 0   \n",
       "1                                        0                                 0   \n",
       "2                                        0                                 1   \n",
       "3                                        0                                 0   \n",
       "4                                        0                                 0   \n",
       "\n",
       "   MetodoPagamento_Mailed check  \n",
       "0                             0  \n",
       "1                             0  \n",
       "2                             0  \n",
       "3                             0  \n",
       "4                             1  "
      ]
     },
     "execution_count": 146,
     "metadata": {},
     "output_type": "execute_result"
    }
   ],
   "source": [
    "explicativas_teste.head()"
   ]
  },
  {
   "cell_type": "code",
   "execution_count": 147,
   "metadata": {},
   "outputs": [
    {
     "data": {
      "text/plain": [
       "(1409, 32)"
      ]
     },
     "execution_count": 147,
     "metadata": {},
     "output_type": "execute_result"
    }
   ],
   "source": [
    "explicativas_teste.shape"
   ]
  },
  {
   "cell_type": "code",
   "execution_count": 148,
   "metadata": {},
   "outputs": [
    {
     "data": {
      "text/plain": [
       "CobrancaMensal                                0\n",
       "CobrancaTotal_2                               0\n",
       "MesesNaCompanhia_2                            0\n",
       "Idoso                                         0\n",
       "genero_Male                                   0\n",
       "TemParceiro_Yes                               0\n",
       "TemDependentes_No                             0\n",
       "TemDependentes_Yes                            0\n",
       "TemTelefone_Yes                               0\n",
       "MaisLinhas_No phone service                   0\n",
       "MaisLinhas_Yes                                0\n",
       "TemInternet_Fiber optic                       0\n",
       "TemInternet_No                                0\n",
       "ServicoSegurancaOnline_No internet service    0\n",
       "ServicoSegurancaOnline_Yes                    0\n",
       "ServicoBackupOnline_No internet service       0\n",
       "ServicoBackupOnline_Yes                       0\n",
       "ServicoProtecaoOnline_No internet service     0\n",
       "ServicoProtecaoOnline_Yes                     0\n",
       "ServicoSuporteOnline_No internet service      0\n",
       "ServicoSuporteOnline_Yes                      0\n",
       "ServicoTV_No internet service                 0\n",
       "ServicoTV_Yes                                 0\n",
       "ServicoPctFilmes_No internet service          0\n",
       "ServicoPctFilmes_Yes                          0\n",
       "Contrato_One year                             0\n",
       "Contrato_Two year                             0\n",
       "ContaOnline_Yes                               0\n",
       "MetodoPagamento_Bank transfer (automatic)     0\n",
       "MetodoPagamento_Credit card (automatic)       0\n",
       "MetodoPagamento_Electronic check              0\n",
       "MetodoPagamento_Mailed check                  0\n",
       "dtype: int64"
      ]
     },
     "execution_count": 148,
     "metadata": {},
     "output_type": "execute_result"
    }
   ],
   "source": [
    "explicativas_teste.isnull().sum()"
   ]
  },
  {
   "cell_type": "code",
   "execution_count": 149,
   "metadata": {},
   "outputs": [],
   "source": [
    "df_id = dados_teste[['id']]"
   ]
  },
  {
   "cell_type": "code",
   "execution_count": 150,
   "metadata": {},
   "outputs": [
    {
     "data": {
      "text/html": [
       "<div>\n",
       "<style scoped>\n",
       "    .dataframe tbody tr th:only-of-type {\n",
       "        vertical-align: middle;\n",
       "    }\n",
       "\n",
       "    .dataframe tbody tr th {\n",
       "        vertical-align: top;\n",
       "    }\n",
       "\n",
       "    .dataframe thead th {\n",
       "        text-align: right;\n",
       "    }\n",
       "</style>\n",
       "<table border=\"1\" class=\"dataframe\">\n",
       "  <thead>\n",
       "    <tr style=\"text-align: right;\">\n",
       "      <th></th>\n",
       "      <th>id</th>\n",
       "    </tr>\n",
       "  </thead>\n",
       "  <tbody>\n",
       "    <tr>\n",
       "      <th>0</th>\n",
       "      <td>5027</td>\n",
       "    </tr>\n",
       "    <tr>\n",
       "      <th>1</th>\n",
       "      <td>1733</td>\n",
       "    </tr>\n",
       "    <tr>\n",
       "      <th>2</th>\n",
       "      <td>5384</td>\n",
       "    </tr>\n",
       "    <tr>\n",
       "      <th>3</th>\n",
       "      <td>6554</td>\n",
       "    </tr>\n",
       "    <tr>\n",
       "      <th>4</th>\n",
       "      <td>364</td>\n",
       "    </tr>\n",
       "  </tbody>\n",
       "</table>\n",
       "</div>"
      ],
      "text/plain": [
       "     id\n",
       "0  5027\n",
       "1  1733\n",
       "2  5384\n",
       "3  6554\n",
       "4   364"
      ]
     },
     "execution_count": 150,
     "metadata": {},
     "output_type": "execute_result"
    }
   ],
   "source": [
    "df_id.head()"
   ]
  },
  {
   "cell_type": "code",
   "execution_count": 151,
   "metadata": {},
   "outputs": [],
   "source": [
    "import joblib"
   ]
  },
  {
   "cell_type": "code",
   "execution_count": 152,
   "metadata": {},
   "outputs": [],
   "source": [
    "modelo_salvo = joblib.load(open('modelo_exemplo_gb.pkl', 'rb'))"
   ]
  },
  {
   "cell_type": "code",
   "execution_count": 153,
   "metadata": {},
   "outputs": [
    {
     "data": {
      "text/plain": [
       "GradientBoostingClassifier(criterion='friedman_mse', init=None,\n",
       "              learning_rate=0.1, loss='deviance', max_depth=3,\n",
       "              max_features='log2', max_leaf_nodes=None,\n",
       "              min_impurity_decrease=0.0, min_impurity_split=None,\n",
       "              min_samples_leaf=1, min_samples_split=2,\n",
       "              min_weight_fraction_leaf=0.0, n_estimators=100,\n",
       "              n_iter_no_change=None, presort='auto', random_state=1967,\n",
       "              subsample=1.0, tol=0.0001, validation_fraction=0.1,\n",
       "              verbose=0, warm_start=False)"
      ]
     },
     "execution_count": 153,
     "metadata": {},
     "output_type": "execute_result"
    }
   ],
   "source": [
    "modelo_salvo"
   ]
  },
  {
   "cell_type": "code",
   "execution_count": 154,
   "metadata": {},
   "outputs": [],
   "source": [
    "resposta = modelo_salvo.predict(explicativas_teste)"
   ]
  },
  {
   "cell_type": "code",
   "execution_count": 155,
   "metadata": {},
   "outputs": [],
   "source": [
    "resposta_df = pd.DataFrame(resposta, columns=['Churn'])"
   ]
  },
  {
   "cell_type": "code",
   "execution_count": 156,
   "metadata": {},
   "outputs": [
    {
     "data": {
      "text/html": [
       "<div>\n",
       "<style scoped>\n",
       "    .dataframe tbody tr th:only-of-type {\n",
       "        vertical-align: middle;\n",
       "    }\n",
       "\n",
       "    .dataframe tbody tr th {\n",
       "        vertical-align: top;\n",
       "    }\n",
       "\n",
       "    .dataframe thead th {\n",
       "        text-align: right;\n",
       "    }\n",
       "</style>\n",
       "<table border=\"1\" class=\"dataframe\">\n",
       "  <thead>\n",
       "    <tr style=\"text-align: right;\">\n",
       "      <th></th>\n",
       "      <th>Churn</th>\n",
       "    </tr>\n",
       "  </thead>\n",
       "  <tbody>\n",
       "    <tr>\n",
       "      <th>0</th>\n",
       "      <td>0</td>\n",
       "    </tr>\n",
       "    <tr>\n",
       "      <th>1</th>\n",
       "      <td>0</td>\n",
       "    </tr>\n",
       "    <tr>\n",
       "      <th>2</th>\n",
       "      <td>1</td>\n",
       "    </tr>\n",
       "    <tr>\n",
       "      <th>3</th>\n",
       "      <td>0</td>\n",
       "    </tr>\n",
       "    <tr>\n",
       "      <th>4</th>\n",
       "      <td>0</td>\n",
       "    </tr>\n",
       "  </tbody>\n",
       "</table>\n",
       "</div>"
      ],
      "text/plain": [
       "   Churn\n",
       "0      0\n",
       "1      0\n",
       "2      1\n",
       "3      0\n",
       "4      0"
      ]
     },
     "execution_count": 156,
     "metadata": {},
     "output_type": "execute_result"
    }
   ],
   "source": [
    "resposta_df.head()"
   ]
  },
  {
   "cell_type": "code",
   "execution_count": 157,
   "metadata": {},
   "outputs": [],
   "source": [
    "resultado_submissao = pd.concat([df_id,\n",
    "                                resposta_df], axis=1)"
   ]
  },
  {
   "cell_type": "code",
   "execution_count": 158,
   "metadata": {},
   "outputs": [
    {
     "data": {
      "text/html": [
       "<div>\n",
       "<style scoped>\n",
       "    .dataframe tbody tr th:only-of-type {\n",
       "        vertical-align: middle;\n",
       "    }\n",
       "\n",
       "    .dataframe tbody tr th {\n",
       "        vertical-align: top;\n",
       "    }\n",
       "\n",
       "    .dataframe thead th {\n",
       "        text-align: right;\n",
       "    }\n",
       "</style>\n",
       "<table border=\"1\" class=\"dataframe\">\n",
       "  <thead>\n",
       "    <tr style=\"text-align: right;\">\n",
       "      <th></th>\n",
       "      <th>0</th>\n",
       "      <th>1</th>\n",
       "      <th>2</th>\n",
       "      <th>3</th>\n",
       "      <th>4</th>\n",
       "    </tr>\n",
       "  </thead>\n",
       "  <tbody>\n",
       "    <tr>\n",
       "      <th>id</th>\n",
       "      <td>5027</td>\n",
       "      <td>1733</td>\n",
       "      <td>5384</td>\n",
       "      <td>6554</td>\n",
       "      <td>364</td>\n",
       "    </tr>\n",
       "    <tr>\n",
       "      <th>Churn</th>\n",
       "      <td>0</td>\n",
       "      <td>0</td>\n",
       "      <td>1</td>\n",
       "      <td>0</td>\n",
       "      <td>0</td>\n",
       "    </tr>\n",
       "  </tbody>\n",
       "</table>\n",
       "</div>"
      ],
      "text/plain": [
       "          0     1     2     3    4\n",
       "id     5027  1733  5384  6554  364\n",
       "Churn     0     0     1     0    0"
      ]
     },
     "execution_count": 158,
     "metadata": {},
     "output_type": "execute_result"
    }
   ],
   "source": [
    "resultado_submissao.head().T"
   ]
  },
  {
   "cell_type": "code",
   "execution_count": 159,
   "metadata": {},
   "outputs": [],
   "source": [
    "resultado_submissao.to_csv('submissao_kaggle_2.csv', index=False)"
   ]
  },
  {
   "cell_type": "code",
   "execution_count": 160,
   "metadata": {},
   "outputs": [],
   "source": [
    "csv = pd.read_csv('submissao_kaggle_2.csv',sep=',')"
   ]
  },
  {
   "cell_type": "code",
   "execution_count": 161,
   "metadata": {},
   "outputs": [
    {
     "data": {
      "text/html": [
       "<div>\n",
       "<style scoped>\n",
       "    .dataframe tbody tr th:only-of-type {\n",
       "        vertical-align: middle;\n",
       "    }\n",
       "\n",
       "    .dataframe tbody tr th {\n",
       "        vertical-align: top;\n",
       "    }\n",
       "\n",
       "    .dataframe thead th {\n",
       "        text-align: right;\n",
       "    }\n",
       "</style>\n",
       "<table border=\"1\" class=\"dataframe\">\n",
       "  <thead>\n",
       "    <tr style=\"text-align: right;\">\n",
       "      <th></th>\n",
       "      <th>id</th>\n",
       "      <th>Churn</th>\n",
       "    </tr>\n",
       "  </thead>\n",
       "  <tbody>\n",
       "    <tr>\n",
       "      <th>0</th>\n",
       "      <td>5027</td>\n",
       "      <td>0</td>\n",
       "    </tr>\n",
       "    <tr>\n",
       "      <th>1</th>\n",
       "      <td>1733</td>\n",
       "      <td>0</td>\n",
       "    </tr>\n",
       "    <tr>\n",
       "      <th>2</th>\n",
       "      <td>5384</td>\n",
       "      <td>1</td>\n",
       "    </tr>\n",
       "    <tr>\n",
       "      <th>3</th>\n",
       "      <td>6554</td>\n",
       "      <td>0</td>\n",
       "    </tr>\n",
       "    <tr>\n",
       "      <th>4</th>\n",
       "      <td>364</td>\n",
       "      <td>0</td>\n",
       "    </tr>\n",
       "  </tbody>\n",
       "</table>\n",
       "</div>"
      ],
      "text/plain": [
       "     id  Churn\n",
       "0  5027      0\n",
       "1  1733      0\n",
       "2  5384      1\n",
       "3  6554      0\n",
       "4   364      0"
      ]
     },
     "execution_count": 161,
     "metadata": {},
     "output_type": "execute_result"
    }
   ],
   "source": [
    "csv.head()"
   ]
  },
  {
   "cell_type": "code",
   "execution_count": null,
   "metadata": {},
   "outputs": [],
   "source": []
  },
  {
   "cell_type": "code",
   "execution_count": null,
   "metadata": {},
   "outputs": [],
   "source": []
  },
  {
   "cell_type": "code",
   "execution_count": null,
   "metadata": {},
   "outputs": [],
   "source": []
  }
 ],
 "metadata": {
  "kernelspec": {
   "display_name": "Python 3",
   "language": "python",
   "name": "python3"
  },
  "language_info": {
   "codemirror_mode": {
    "name": "ipython",
    "version": 3
   },
   "file_extension": ".py",
   "mimetype": "text/x-python",
   "name": "python",
   "nbconvert_exporter": "python",
   "pygments_lexer": "ipython3",
   "version": "3.7.3"
  },
  "toc": {
   "base_numbering": 1,
   "nav_menu": {},
   "number_sections": true,
   "sideBar": true,
   "skip_h1_title": true,
   "title_cell": "Table of Contents",
   "title_sidebar": "Contents",
   "toc_cell": false,
   "toc_position": {
    "height": "calc(100% - 180px)",
    "left": "10px",
    "top": "150px",
    "width": "341.306px"
   },
   "toc_section_display": true,
   "toc_window_display": true
  },
  "varInspector": {
   "cols": {
    "lenName": 16,
    "lenType": 16,
    "lenVar": 40
   },
   "kernels_config": {
    "python": {
     "delete_cmd_postfix": "",
     "delete_cmd_prefix": "del ",
     "library": "var_list.py",
     "varRefreshCmd": "print(var_dic_list())"
    },
    "r": {
     "delete_cmd_postfix": ") ",
     "delete_cmd_prefix": "rm(",
     "library": "var_list.r",
     "varRefreshCmd": "cat(var_dic_list()) "
    }
   },
   "types_to_exclude": [
    "module",
    "function",
    "builtin_function_or_method",
    "instance",
    "_Feature"
   ],
   "window_display": false
  }
 },
 "nbformat": 4,
 "nbformat_minor": 4
}
