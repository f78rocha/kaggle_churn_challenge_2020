{
  "nbformat": 4,
  "nbformat_minor": 0,
  "metadata": {
    "colab": {
      "name": "Untitled2.ipynb",
      "provenance": [],
      "toc_visible": true,
      "authorship_tag": "ABX9TyPEoF1HaxEarMixA8ueqxgo",
      "include_colab_link": true
    },
    "kernelspec": {
      "name": "python3",
      "display_name": "Python 3"
    }
  },
  "cells": [
    {
      "cell_type": "markdown",
      "metadata": {
        "id": "view-in-github",
        "colab_type": "text"
      },
      "source": [
        "<a href=\"https://colab.research.google.com/github/f78rocha/kaggle_churn_challenge_2020/blob/main/Pycaret.ipynb\" target=\"_parent\"><img src=\"https://colab.research.google.com/assets/colab-badge.svg\" alt=\"Open In Colab\"/></a>"
      ]
    },
    {
      "cell_type": "code",
      "metadata": {
        "id": "23Zgwb20cjHO"
      },
      "source": [
        ""
      ],
      "execution_count": null,
      "outputs": []
    },
    {
      "cell_type": "code",
      "metadata": {
        "id": "v0HhkDoZbpNc"
      },
      "source": [
        "import pandas as pd\n",
        "import numpy as np\n",
        "import matplotlib.pyplot as plt\n",
        "import seaborn as sns\n",
        "import warnings\n",
        "from sklearn.model_selection import train_test_split\n",
        "from sklearn.model_selection import cross_val_score\n",
        "from sklearn.preprocessing import LabelEncoder"
      ],
      "execution_count": null,
      "outputs": []
    },
    {
      "cell_type": "code",
      "metadata": {
        "id": "Seb6u8MbIDjl"
      },
      "source": [
        "warnings.filterwarnings(\"ignore\", category=FutureWarning)\n",
        "pd.options.display.float_format = '{:,.2f}'.format\n",
        "pd.set_option('display.max_columns', None)\n",
        "pd.set_option('display.max_rows', 72)"
      ],
      "execution_count": null,
      "outputs": []
    },
    {
      "cell_type": "code",
      "metadata": {
        "id": "_2yUXzNV3gyg"
      },
      "source": [
        "!pip install pycaret --upgrade"
      ],
      "execution_count": null,
      "outputs": []
    },
    {
      "cell_type": "code",
      "metadata": {
        "id": "Kbu7vsFgE3bU"
      },
      "source": [
        "from pycaret.classification import *"
      ],
      "execution_count": null,
      "outputs": []
    },
    {
      "cell_type": "code",
      "metadata": {
        "id": "9wIEUez4HbWa"
      },
      "source": [
        "from pycaret.utils import enable_colab\n",
        "enable_colab()"
      ],
      "execution_count": null,
      "outputs": []
    },
    {
      "cell_type": "code",
      "metadata": {
        "id": "wusd6B5ppWUl"
      },
      "source": [
        "from google.colab import drive\n",
        "drive.mount('/content/drive')"
      ],
      "execution_count": null,
      "outputs": []
    },
    {
      "cell_type": "markdown",
      "metadata": {
        "id": "v3TveGBo0eb_"
      },
      "source": [
        "## Criação dos datasets X e y"
      ]
    },
    {
      "cell_type": "code",
      "metadata": {
        "id": "q6iNmhxZ0iGN"
      },
      "source": [
        "dados = pd.concat([quantitativas, dummies], axis =1)"
      ],
      "execution_count": null,
      "outputs": []
    },
    {
      "cell_type": "code",
      "metadata": {
        "id": "7nBeOlThGC1T"
      },
      "source": [
        "dados.info()"
      ],
      "execution_count": null,
      "outputs": []
    },
    {
      "cell_type": "code",
      "metadata": {
        "id": "NrtFzLKmIzcE"
      },
      "source": [
        "data = dados.sample(frac = 0.95, random_state = 786)\n",
        "data_unseen = dados.drop(data.index)"
      ],
      "execution_count": null,
      "outputs": []
    },
    {
      "cell_type": "code",
      "metadata": {
        "id": "dFErZkLtLoXR"
      },
      "source": [
        "print(data.shape)\n",
        "print(data_unseen.shape)"
      ],
      "execution_count": null,
      "outputs": []
    },
    {
      "cell_type": "code",
      "metadata": {
        "id": "6xkss-gzCIYQ"
      },
      "source": [
        "data.select_dtypes('object').columns"
      ],
      "execution_count": null,
      "outputs": []
    },
    {
      "cell_type": "code",
      "metadata": {
        "id": "8qmKMrxcMp4U"
      },
      "source": [
        "clf = setup(data = data,\n",
        "            target = 'Churn', \n",
        "            session_id = 786, # Seed por questões de reproducibilidade\n",
        "            silent = False)"
      ],
      "execution_count": null,
      "outputs": []
    },
    {
      "cell_type": "code",
      "metadata": {
        "id": "6pU1l9Yv3gqf"
      },
      "source": [
        "best_model = compare_models()"
      ],
      "execution_count": null,
      "outputs": []
    },
    {
      "cell_type": "code",
      "metadata": {
        "id": "uH4CKwzs3gn2"
      },
      "source": [
        "gbc = create_model('gbc')"
      ],
      "execution_count": null,
      "outputs": []
    },
    {
      "cell_type": "code",
      "metadata": {
        "id": "Kmzz0q3h3gd3"
      },
      "source": [
        "lr = create_model('lr')"
      ],
      "execution_count": null,
      "outputs": []
    },
    {
      "cell_type": "code",
      "metadata": {
        "id": "MaTRu7P83gbh"
      },
      "source": [
        "ada = create_model('ada')"
      ],
      "execution_count": null,
      "outputs": []
    },
    {
      "cell_type": "code",
      "metadata": {
        "id": "Pp1Ih-oD3gZH"
      },
      "source": [
        "catboost = create_model('catboost')"
      ],
      "execution_count": null,
      "outputs": []
    },
    {
      "cell_type": "code",
      "metadata": {
        "id": "I0zD-z1i3gWX"
      },
      "source": [
        "tuned_gbc = tune_model(gbc)"
      ],
      "execution_count": null,
      "outputs": []
    },
    {
      "cell_type": "code",
      "metadata": {
        "id": "M9hnpSd83gTh"
      },
      "source": [
        "tuned_lr = tune_model(lr)"
      ],
      "execution_count": null,
      "outputs": []
    },
    {
      "cell_type": "code",
      "metadata": {
        "id": "3y-YZJfXUmPv"
      },
      "source": [
        "tuned_ada = tune_model(ada)"
      ],
      "execution_count": null,
      "outputs": []
    },
    {
      "cell_type": "code",
      "metadata": {
        "id": "Hqkz7scVU3jR"
      },
      "source": [
        "tuned_catboost = tune_model(catboost)"
      ],
      "execution_count": null,
      "outputs": []
    },
    {
      "cell_type": "code",
      "metadata": {
        "id": "x4nkx9w7Vdwb"
      },
      "source": [
        "plot_model(tuned_gbc, plot = 'confusion_matrix')"
      ],
      "execution_count": null,
      "outputs": []
    },
    {
      "cell_type": "code",
      "metadata": {
        "id": "wjNERyAsW1hQ"
      },
      "source": [
        "plot_model(tuned_lr, plot = 'confusion_matrix')"
      ],
      "execution_count": null,
      "outputs": []
    },
    {
      "cell_type": "code",
      "metadata": {
        "id": "T2qPyWyOW_Pr"
      },
      "source": [
        "plot_model(tuned_ada, plot='confusion_matrix')"
      ],
      "execution_count": null,
      "outputs": []
    },
    {
      "cell_type": "code",
      "metadata": {
        "id": "BhGhxTIqXF0d"
      },
      "source": [
        "plot_model(tuned_catboost, plot='confusion_matrix')"
      ],
      "execution_count": null,
      "outputs": []
    },
    {
      "cell_type": "code",
      "metadata": {
        "id": "-fVrzkkYXQr7"
      },
      "source": [
        "predict_model(tuned_gbc);"
      ],
      "execution_count": null,
      "outputs": []
    },
    {
      "cell_type": "code",
      "metadata": {
        "id": "kM3MrVjrxYB0"
      },
      "source": [
        "predict_model(tuned_lr);"
      ],
      "execution_count": null,
      "outputs": []
    },
    {
      "cell_type": "code",
      "metadata": {
        "id": "AQznike-xXsi"
      },
      "source": [
        "predict_model(tuned_ada);"
      ],
      "execution_count": null,
      "outputs": []
    },
    {
      "cell_type": "code",
      "metadata": {
        "id": "Dd-R76rzxXcz"
      },
      "source": [
        "predict_model(tuned_catboost);"
      ],
      "execution_count": null,
      "outputs": []
    },
    {
      "cell_type": "code",
      "metadata": {
        "id": "dHApKnsXxBwm"
      },
      "source": [
        "final_gbc = finalize_model(tuned_gbc);"
      ],
      "execution_count": null,
      "outputs": []
    },
    {
      "cell_type": "code",
      "metadata": {
        "id": "PaOPwfj_xT66"
      },
      "source": [
        "final_lr = finalize_model(tuned_lr);"
      ],
      "execution_count": null,
      "outputs": []
    },
    {
      "cell_type": "code",
      "metadata": {
        "id": "R7eqPlrsxwde"
      },
      "source": [
        "final_ada = finalize_model(tuned_ada);"
      ],
      "execution_count": null,
      "outputs": []
    },
    {
      "cell_type": "code",
      "metadata": {
        "id": "zU-3LdERx4yH"
      },
      "source": [
        "final_catboost = finalize_model(tuned_catboost);"
      ],
      "execution_count": null,
      "outputs": []
    },
    {
      "cell_type": "code",
      "metadata": {
        "id": "O2-tKjON7Pq1"
      },
      "source": [
        "dados.info()"
      ],
      "execution_count": null,
      "outputs": []
    },
    {
      "cell_type": "code",
      "metadata": {
        "id": "5TB9zseHIygp"
      },
      "source": [
        "y_pred = final_catboost.predict(dados)"
      ],
      "execution_count": null,
      "outputs": []
    },
    {
      "cell_type": "code",
      "metadata": {
        "id": "qKSUME4XPITw"
      },
      "source": [
        "submission = pd.DataFrame(zip(dados.index, y_pred), columns=['Churn'], index='id')"
      ],
      "execution_count": null,
      "outputs": []
    },
    {
      "cell_type": "code",
      "metadata": {
        "id": "Yquu_KRnSvOR"
      },
      "source": [
        "submission"
      ],
      "execution_count": null,
      "outputs": []
    },
    {
      "cell_type": "code",
      "metadata": {
        "id": "EIPOwQjmS4mN"
      },
      "source": [
        "submission.set_index('id', inplace=True)"
      ],
      "execution_count": null,
      "outputs": []
    },
    {
      "cell_type": "code",
      "metadata": {
        "id": "XNPGc8OSS7hM"
      },
      "source": [
        "submission"
      ],
      "execution_count": null,
      "outputs": []
    },
    {
      "cell_type": "code",
      "metadata": {
        "id": "wQgAuzxkPW4R"
      },
      "source": [
        "submission.to_csv('/content/drive/My Drive/Kaggle Challenge/submission_v05_catboost_baseline.csv')"
      ],
      "execution_count": null,
      "outputs": []
    },
    {
      "cell_type": "code",
      "metadata": {
        "id": "H2_F6lOvPmxs"
      },
      "source": [
        ""
      ],
      "execution_count": null,
      "outputs": []
    }
  ]
}