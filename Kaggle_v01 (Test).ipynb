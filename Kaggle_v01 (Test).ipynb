{
  "nbformat": 4,
  "nbformat_minor": 0,
  "metadata": {
    "colab": {
      "name": "Untitled2.ipynb",
      "provenance": [],
      "authorship_tag": "ABX9TyPf0dh1fp07BV6sEVab3AoH",
      "include_colab_link": true
    },
    "kernelspec": {
      "name": "python3",
      "display_name": "Python 3"
    }
  },
  "cells": [
    {
      "cell_type": "markdown",
      "metadata": {
        "id": "view-in-github",
        "colab_type": "text"
      },
      "source": [
        "<a href=\"https://colab.research.google.com/github/f78rocha/kaggle_churn_challenge_2020/blob/main/Kaggle_v01%20(Test).ipynb\" target=\"_parent\"><img src=\"https://colab.research.google.com/assets/colab-badge.svg\" alt=\"Open In Colab\"/></a>"
      ]
    },
    {
      "cell_type": "markdown",
      "metadata": {
        "id": "bn21-7iDcphC"
      },
      "source": [
        "# Notebook de testes para o Kaggle Churn Challenge 2020\n",
        "\n",
        "https://www.kaggle.com/c/labdata-churn-challenge-2020/overview"
      ]
    },
    {
      "cell_type": "markdown",
      "metadata": {
        "id": "sl3D9v87c3xS"
      },
      "source": [
        "## Problema:\n",
        "O objetivo desta análise consiste em prever a probabilidade de churn dos clientes de uma empresa de telecomunicações, isto é, a probabilidade de o cliente deixar de ser cliente."
      ]
    },
    {
      "cell_type": "markdown",
      "metadata": {
        "id": "cO9SKVmKc64J"
      },
      "source": [
        "Importação de bibliotecas e configuração do ambiente"
      ]
    },
    {
      "cell_type": "code",
      "metadata": {
        "id": "v0HhkDoZbpNc"
      },
      "source": [
        "import pandas as pd\n",
        "import numpy as np\n",
        "import matplotlib.pyplot as plt\n",
        "import seaborn as sns\n",
        "import warnings\n",
        "warnings.filterwarnings(\"ignore\", category=FutureWarning)\n",
        "pd.options.display.float_format = '{:,.2f}'.format\n",
        "pd.set_option('display.max_columns', None)\n",
        "pd.set_option('display.max_rows', 72)"
      ],
      "execution_count": 54,
      "outputs": []
    },
    {
      "cell_type": "markdown",
      "metadata": {
        "id": "2mXgnOSfdTAY"
      },
      "source": [
        "## Importação dos dados"
      ]
    },
    {
      "cell_type": "code",
      "metadata": {
        "id": "ewZWFuHhdIUo"
      },
      "source": [
        "dados = pd.read_csv('https://raw.githubusercontent.com/f78rocha/kaggle_churn_challenge_2020/main/train.csv',sep=',')"
      ],
      "execution_count": 55,
      "outputs": []
    },
    {
      "cell_type": "code",
      "metadata": {
        "id": "yPtporYmdh5s"
      },
      "source": [
        "dados = dados.rename(columns={\n",
        "    'id':'id',\n",
        "    'gender':'genero',\n",
        "    'SeniorCitizen':'Idoso',\n",
        "    'Partner':'TemParceiro',\n",
        "    'Dependents':'TemDependentes',\n",
        "    'tenure':'MesesNaCompanhia',\n",
        "    'PhoneService':'TemTelefone',\n",
        "    'MultipleLines':'MaisLinhas',\n",
        "    'InternetService':'TemInternet',\n",
        "    'OnlineSecurity':'ServicoSegurancaOnline',\n",
        "    'OnlineBackup':'ServicoBackupOnline',\n",
        "    'DeviceProtection':'ServicoProtecaoOnline',\n",
        "    'TechSupport':'ServicoSuporteOnline',\n",
        "    'StreamingTV':'ServicoTV',\n",
        "    'StreamingMovies':'ServicoPctFilmes',\n",
        "    'Contract':'Contrato',\n",
        "    'PaperlessBilling':'ContaOnline',\n",
        "    'PaymentMethod':'MetodoPagamento',\n",
        "    'MonthlyCharges':'CobrancaMensal',\n",
        "    'TotalCharges':'CobrancaTotal',\n",
        "    'Churn':'Churn'\n",
        "})"
      ],
      "execution_count": 56,
      "outputs": []
    },
    {
      "cell_type": "markdown",
      "metadata": {
        "id": "bxFmUKjYdWQ3"
      },
      "source": [
        "# Análise Exploratória de Dados (EDA)"
      ]
    },
    {
      "cell_type": "code",
      "metadata": {
        "id": "shv6TfSbdM7w",
        "outputId": "9b9459f7-f772-46e5-90d2-284f78900758",
        "colab": {
          "base_uri": "https://localhost:8080/",
          "height": 870
        }
      },
      "source": [
        "# Cabeçalho\n",
        "dados.head(10).T"
      ],
      "execution_count": 57,
      "outputs": [
        {
          "output_type": "execute_result",
          "data": {
            "text/html": [
              "<div>\n",
              "<style scoped>\n",
              "    .dataframe tbody tr th:only-of-type {\n",
              "        vertical-align: middle;\n",
              "    }\n",
              "\n",
              "    .dataframe tbody tr th {\n",
              "        vertical-align: top;\n",
              "    }\n",
              "\n",
              "    .dataframe thead th {\n",
              "        text-align: right;\n",
              "    }\n",
              "</style>\n",
              "<table border=\"1\" class=\"dataframe\">\n",
              "  <thead>\n",
              "    <tr style=\"text-align: right;\">\n",
              "      <th></th>\n",
              "      <th>0</th>\n",
              "      <th>1</th>\n",
              "      <th>2</th>\n",
              "      <th>3</th>\n",
              "      <th>4</th>\n",
              "      <th>5</th>\n",
              "      <th>6</th>\n",
              "      <th>7</th>\n",
              "      <th>8</th>\n",
              "      <th>9</th>\n",
              "    </tr>\n",
              "  </thead>\n",
              "  <tbody>\n",
              "    <tr>\n",
              "      <th>id</th>\n",
              "      <td>4030</td>\n",
              "      <td>6731</td>\n",
              "      <td>6479</td>\n",
              "      <td>6861</td>\n",
              "      <td>3266</td>\n",
              "      <td>6368</td>\n",
              "      <td>5830</td>\n",
              "      <td>4476</td>\n",
              "      <td>1508</td>\n",
              "      <td>2921</td>\n",
              "    </tr>\n",
              "    <tr>\n",
              "      <th>genero</th>\n",
              "      <td>Female</td>\n",
              "      <td>Male</td>\n",
              "      <td>Female</td>\n",
              "      <td>Female</td>\n",
              "      <td>Male</td>\n",
              "      <td>Male</td>\n",
              "      <td>Male</td>\n",
              "      <td>Female</td>\n",
              "      <td>Male</td>\n",
              "      <td>Female</td>\n",
              "    </tr>\n",
              "    <tr>\n",
              "      <th>Idoso</th>\n",
              "      <td>0</td>\n",
              "      <td>0</td>\n",
              "      <td>0</td>\n",
              "      <td>0</td>\n",
              "      <td>0</td>\n",
              "      <td>0</td>\n",
              "      <td>0</td>\n",
              "      <td>0</td>\n",
              "      <td>0</td>\n",
              "      <td>0</td>\n",
              "    </tr>\n",
              "    <tr>\n",
              "      <th>TemParceiro</th>\n",
              "      <td>No</td>\n",
              "      <td>Yes</td>\n",
              "      <td>Yes</td>\n",
              "      <td>No</td>\n",
              "      <td>Yes</td>\n",
              "      <td>No</td>\n",
              "      <td>Yes</td>\n",
              "      <td>No</td>\n",
              "      <td>No</td>\n",
              "      <td>Yes</td>\n",
              "    </tr>\n",
              "    <tr>\n",
              "      <th>TemDependentes</th>\n",
              "      <td>No</td>\n",
              "      <td>Yes</td>\n",
              "      <td>No</td>\n",
              "      <td>No</td>\n",
              "      <td>Yes</td>\n",
              "      <td>No</td>\n",
              "      <td>Yes</td>\n",
              "      <td>No</td>\n",
              "      <td>No</td>\n",
              "      <td>No</td>\n",
              "    </tr>\n",
              "    <tr>\n",
              "      <th>MesesNaCompanhia</th>\n",
              "      <td>56.00</td>\n",
              "      <td>NaN</td>\n",
              "      <td>60.00</td>\n",
              "      <td>37.00</td>\n",
              "      <td>29.00</td>\n",
              "      <td>70.00</td>\n",
              "      <td>31.00</td>\n",
              "      <td>3.00</td>\n",
              "      <td>54.00</td>\n",
              "      <td>72.00</td>\n",
              "    </tr>\n",
              "    <tr>\n",
              "      <th>TemTelefone</th>\n",
              "      <td>No</td>\n",
              "      <td>Yes</td>\n",
              "      <td>Yes</td>\n",
              "      <td>Yes</td>\n",
              "      <td>Yes</td>\n",
              "      <td>No</td>\n",
              "      <td>No</td>\n",
              "      <td>Yes</td>\n",
              "      <td>Yes</td>\n",
              "      <td>Yes</td>\n",
              "    </tr>\n",
              "    <tr>\n",
              "      <th>MaisLinhas</th>\n",
              "      <td>No phone service</td>\n",
              "      <td>No</td>\n",
              "      <td>Yes</td>\n",
              "      <td>Yes</td>\n",
              "      <td>No</td>\n",
              "      <td>No phone service</td>\n",
              "      <td>No phone service</td>\n",
              "      <td>No</td>\n",
              "      <td>No</td>\n",
              "      <td>No</td>\n",
              "    </tr>\n",
              "    <tr>\n",
              "      <th>TemInternet</th>\n",
              "      <td>DSL</td>\n",
              "      <td>No</td>\n",
              "      <td>Fiber optic</td>\n",
              "      <td>Fiber optic</td>\n",
              "      <td>Fiber optic</td>\n",
              "      <td>DSL</td>\n",
              "      <td>DSL</td>\n",
              "      <td>No</td>\n",
              "      <td>No</td>\n",
              "      <td>DSL</td>\n",
              "    </tr>\n",
              "    <tr>\n",
              "      <th>ServicoSegurancaOnline</th>\n",
              "      <td>Yes</td>\n",
              "      <td>No internet service</td>\n",
              "      <td>No</td>\n",
              "      <td>No</td>\n",
              "      <td>No</td>\n",
              "      <td>Yes</td>\n",
              "      <td>Yes</td>\n",
              "      <td>No internet service</td>\n",
              "      <td>No internet service</td>\n",
              "      <td>Yes</td>\n",
              "    </tr>\n",
              "    <tr>\n",
              "      <th>ServicoBackupOnline</th>\n",
              "      <td>Yes</td>\n",
              "      <td>No internet service</td>\n",
              "      <td>Yes</td>\n",
              "      <td>Yes</td>\n",
              "      <td>No</td>\n",
              "      <td>No</td>\n",
              "      <td>No</td>\n",
              "      <td>No internet service</td>\n",
              "      <td>No internet service</td>\n",
              "      <td>Yes</td>\n",
              "    </tr>\n",
              "    <tr>\n",
              "      <th>ServicoProtecaoOnline</th>\n",
              "      <td>Yes</td>\n",
              "      <td>No internet service</td>\n",
              "      <td>Yes</td>\n",
              "      <td>Yes</td>\n",
              "      <td>No</td>\n",
              "      <td>Yes</td>\n",
              "      <td>Yes</td>\n",
              "      <td>No internet service</td>\n",
              "      <td>No internet service</td>\n",
              "      <td>Yes</td>\n",
              "    </tr>\n",
              "    <tr>\n",
              "      <th>ServicoSuporteOnline</th>\n",
              "      <td>Yes</td>\n",
              "      <td>No internet service</td>\n",
              "      <td>Yes</td>\n",
              "      <td>No</td>\n",
              "      <td>No</td>\n",
              "      <td>Yes</td>\n",
              "      <td>Yes</td>\n",
              "      <td>No internet service</td>\n",
              "      <td>No internet service</td>\n",
              "      <td>Yes</td>\n",
              "    </tr>\n",
              "    <tr>\n",
              "      <th>ServicoTV</th>\n",
              "      <td>No</td>\n",
              "      <td>No internet service</td>\n",
              "      <td>Yes</td>\n",
              "      <td>Yes</td>\n",
              "      <td>No</td>\n",
              "      <td>No</td>\n",
              "      <td>Yes</td>\n",
              "      <td>No internet service</td>\n",
              "      <td>No internet service</td>\n",
              "      <td>Yes</td>\n",
              "    </tr>\n",
              "    <tr>\n",
              "      <th>ServicoPctFilmes</th>\n",
              "      <td>No</td>\n",
              "      <td>No internet service</td>\n",
              "      <td>Yes</td>\n",
              "      <td>Yes</td>\n",
              "      <td>No</td>\n",
              "      <td>Yes</td>\n",
              "      <td>Yes</td>\n",
              "      <td>No internet service</td>\n",
              "      <td>No internet service</td>\n",
              "      <td>Yes</td>\n",
              "    </tr>\n",
              "    <tr>\n",
              "      <th>Contrato</th>\n",
              "      <td>Two year</td>\n",
              "      <td>One year</td>\n",
              "      <td>Two year</td>\n",
              "      <td>Month-to-month</td>\n",
              "      <td>Month-to-month</td>\n",
              "      <td>Two year</td>\n",
              "      <td>One year</td>\n",
              "      <td>Month-to-month</td>\n",
              "      <td>Two year</td>\n",
              "      <td>Two year</td>\n",
              "    </tr>\n",
              "    <tr>\n",
              "      <th>ContaOnline</th>\n",
              "      <td>No</td>\n",
              "      <td>No</td>\n",
              "      <td>Yes</td>\n",
              "      <td>Yes</td>\n",
              "      <td>Yes</td>\n",
              "      <td>No</td>\n",
              "      <td>No</td>\n",
              "      <td>No</td>\n",
              "      <td>No</td>\n",
              "      <td>No</td>\n",
              "    </tr>\n",
              "    <tr>\n",
              "      <th>MetodoPagamento</th>\n",
              "      <td>NaN</td>\n",
              "      <td>Mailed check</td>\n",
              "      <td>Credit card (automatic)</td>\n",
              "      <td>Bank transfer (automatic)</td>\n",
              "      <td>Electronic check</td>\n",
              "      <td>Bank transfer (automatic)</td>\n",
              "      <td>Electronic check</td>\n",
              "      <td>Electronic check</td>\n",
              "      <td>Credit card (automatic)</td>\n",
              "      <td>Mailed check</td>\n",
              "    </tr>\n",
              "    <tr>\n",
              "      <th>CobrancaMensal</th>\n",
              "      <td>45.05</td>\n",
              "      <td>19.65</td>\n",
              "      <td>110.80</td>\n",
              "      <td>101.90</td>\n",
              "      <td>70.75</td>\n",
              "      <td>48.40</td>\n",
              "      <td>59.95</td>\n",
              "      <td>19.55</td>\n",
              "      <td>19.65</td>\n",
              "      <td>85.10</td>\n",
              "    </tr>\n",
              "    <tr>\n",
              "      <th>CobrancaTotal</th>\n",
              "      <td>2560.1</td>\n",
              "      <td>332.65</td>\n",
              "      <td>6640.7</td>\n",
              "      <td>3545.35</td>\n",
              "      <td>1974.8</td>\n",
              "      <td>3442.8</td>\n",
              "      <td>1848.8</td>\n",
              "      <td>61.05</td>\n",
              "      <td>1008.7</td>\n",
              "      <td>6155.4</td>\n",
              "    </tr>\n",
              "    <tr>\n",
              "      <th>Churn</th>\n",
              "      <td>0</td>\n",
              "      <td>0</td>\n",
              "      <td>0</td>\n",
              "      <td>1</td>\n",
              "      <td>1</td>\n",
              "      <td>0</td>\n",
              "      <td>0</td>\n",
              "      <td>0</td>\n",
              "      <td>0</td>\n",
              "      <td>0</td>\n",
              "    </tr>\n",
              "  </tbody>\n",
              "</table>\n",
              "</div>"
            ],
            "text/plain": [
              "                                       0                    1  \\\n",
              "id                                  4030                 6731   \n",
              "genero                            Female                 Male   \n",
              "Idoso                                  0                    0   \n",
              "TemParceiro                           No                  Yes   \n",
              "TemDependentes                        No                  Yes   \n",
              "MesesNaCompanhia                   56.00                  NaN   \n",
              "TemTelefone                           No                  Yes   \n",
              "MaisLinhas              No phone service                   No   \n",
              "TemInternet                          DSL                   No   \n",
              "ServicoSegurancaOnline               Yes  No internet service   \n",
              "ServicoBackupOnline                  Yes  No internet service   \n",
              "ServicoProtecaoOnline                Yes  No internet service   \n",
              "ServicoSuporteOnline                 Yes  No internet service   \n",
              "ServicoTV                             No  No internet service   \n",
              "ServicoPctFilmes                      No  No internet service   \n",
              "Contrato                        Two year             One year   \n",
              "ContaOnline                           No                   No   \n",
              "MetodoPagamento                      NaN         Mailed check   \n",
              "CobrancaMensal                     45.05                19.65   \n",
              "CobrancaTotal                     2560.1               332.65   \n",
              "Churn                                  0                    0   \n",
              "\n",
              "                                              2                          3  \\\n",
              "id                                         6479                       6861   \n",
              "genero                                   Female                     Female   \n",
              "Idoso                                         0                          0   \n",
              "TemParceiro                                 Yes                         No   \n",
              "TemDependentes                               No                         No   \n",
              "MesesNaCompanhia                          60.00                      37.00   \n",
              "TemTelefone                                 Yes                        Yes   \n",
              "MaisLinhas                                  Yes                        Yes   \n",
              "TemInternet                         Fiber optic                Fiber optic   \n",
              "ServicoSegurancaOnline                       No                         No   \n",
              "ServicoBackupOnline                         Yes                        Yes   \n",
              "ServicoProtecaoOnline                       Yes                        Yes   \n",
              "ServicoSuporteOnline                        Yes                         No   \n",
              "ServicoTV                                   Yes                        Yes   \n",
              "ServicoPctFilmes                            Yes                        Yes   \n",
              "Contrato                               Two year             Month-to-month   \n",
              "ContaOnline                                 Yes                        Yes   \n",
              "MetodoPagamento         Credit card (automatic)  Bank transfer (automatic)   \n",
              "CobrancaMensal                           110.80                     101.90   \n",
              "CobrancaTotal                            6640.7                    3545.35   \n",
              "Churn                                         0                          1   \n",
              "\n",
              "                                       4                          5  \\\n",
              "id                                  3266                       6368   \n",
              "genero                              Male                       Male   \n",
              "Idoso                                  0                          0   \n",
              "TemParceiro                          Yes                         No   \n",
              "TemDependentes                       Yes                         No   \n",
              "MesesNaCompanhia                   29.00                      70.00   \n",
              "TemTelefone                          Yes                         No   \n",
              "MaisLinhas                            No           No phone service   \n",
              "TemInternet                  Fiber optic                        DSL   \n",
              "ServicoSegurancaOnline                No                        Yes   \n",
              "ServicoBackupOnline                   No                         No   \n",
              "ServicoProtecaoOnline                 No                        Yes   \n",
              "ServicoSuporteOnline                  No                        Yes   \n",
              "ServicoTV                             No                         No   \n",
              "ServicoPctFilmes                      No                        Yes   \n",
              "Contrato                  Month-to-month                   Two year   \n",
              "ContaOnline                          Yes                         No   \n",
              "MetodoPagamento         Electronic check  Bank transfer (automatic)   \n",
              "CobrancaMensal                     70.75                      48.40   \n",
              "CobrancaTotal                     1974.8                     3442.8   \n",
              "Churn                                  1                          0   \n",
              "\n",
              "                                       6                    7  \\\n",
              "id                                  5830                 4476   \n",
              "genero                              Male               Female   \n",
              "Idoso                                  0                    0   \n",
              "TemParceiro                          Yes                   No   \n",
              "TemDependentes                       Yes                   No   \n",
              "MesesNaCompanhia                   31.00                 3.00   \n",
              "TemTelefone                           No                  Yes   \n",
              "MaisLinhas              No phone service                   No   \n",
              "TemInternet                          DSL                   No   \n",
              "ServicoSegurancaOnline               Yes  No internet service   \n",
              "ServicoBackupOnline                   No  No internet service   \n",
              "ServicoProtecaoOnline                Yes  No internet service   \n",
              "ServicoSuporteOnline                 Yes  No internet service   \n",
              "ServicoTV                            Yes  No internet service   \n",
              "ServicoPctFilmes                     Yes  No internet service   \n",
              "Contrato                        One year       Month-to-month   \n",
              "ContaOnline                           No                   No   \n",
              "MetodoPagamento         Electronic check     Electronic check   \n",
              "CobrancaMensal                     59.95                19.55   \n",
              "CobrancaTotal                     1848.8                61.05   \n",
              "Churn                                  0                    0   \n",
              "\n",
              "                                              8             9  \n",
              "id                                         1508          2921  \n",
              "genero                                     Male        Female  \n",
              "Idoso                                         0             0  \n",
              "TemParceiro                                  No           Yes  \n",
              "TemDependentes                               No            No  \n",
              "MesesNaCompanhia                          54.00         72.00  \n",
              "TemTelefone                                 Yes           Yes  \n",
              "MaisLinhas                                   No            No  \n",
              "TemInternet                                  No           DSL  \n",
              "ServicoSegurancaOnline      No internet service           Yes  \n",
              "ServicoBackupOnline         No internet service           Yes  \n",
              "ServicoProtecaoOnline       No internet service           Yes  \n",
              "ServicoSuporteOnline        No internet service           Yes  \n",
              "ServicoTV                   No internet service           Yes  \n",
              "ServicoPctFilmes            No internet service           Yes  \n",
              "Contrato                               Two year      Two year  \n",
              "ContaOnline                                  No            No  \n",
              "MetodoPagamento         Credit card (automatic)  Mailed check  \n",
              "CobrancaMensal                            19.65         85.10  \n",
              "CobrancaTotal                            1008.7        6155.4  \n",
              "Churn                                         0             0  "
            ]
          },
          "metadata": {
            "tags": []
          },
          "execution_count": 57
        }
      ]
    },
    {
      "cell_type": "code",
      "metadata": {
        "id": "psXPIVCudeNG",
        "outputId": "5f7a5fdd-7147-4ae8-a3c3-0b0fbb098fde",
        "colab": {
          "base_uri": "https://localhost:8080/"
        }
      },
      "source": [
        "dados.info()"
      ],
      "execution_count": 58,
      "outputs": [
        {
          "output_type": "stream",
          "text": [
            "<class 'pandas.core.frame.DataFrame'>\n",
            "RangeIndex: 5634 entries, 0 to 5633\n",
            "Data columns (total 21 columns):\n",
            " #   Column                  Non-Null Count  Dtype  \n",
            "---  ------                  --------------  -----  \n",
            " 0   id                      5634 non-null   int64  \n",
            " 1   genero                  5634 non-null   object \n",
            " 2   Idoso                   5634 non-null   int64  \n",
            " 3   TemParceiro             5634 non-null   object \n",
            " 4   TemDependentes          5416 non-null   object \n",
            " 5   MesesNaCompanhia        5173 non-null   float64\n",
            " 6   TemTelefone             5634 non-null   object \n",
            " 7   MaisLinhas              5634 non-null   object \n",
            " 8   TemInternet             5634 non-null   object \n",
            " 9   ServicoSegurancaOnline  5634 non-null   object \n",
            " 10  ServicoBackupOnline     5634 non-null   object \n",
            " 11  ServicoProtecaoOnline   5634 non-null   object \n",
            " 12  ServicoSuporteOnline    5634 non-null   object \n",
            " 13  ServicoTV               5634 non-null   object \n",
            " 14  ServicoPctFilmes        5634 non-null   object \n",
            " 15  Contrato                5634 non-null   object \n",
            " 16  ContaOnline             5634 non-null   object \n",
            " 17  MetodoPagamento         5535 non-null   object \n",
            " 18  CobrancaMensal          5634 non-null   float64\n",
            " 19  CobrancaTotal           5634 non-null   object \n",
            " 20  Churn                   5634 non-null   int64  \n",
            "dtypes: float64(2), int64(3), object(16)\n",
            "memory usage: 924.5+ KB\n"
          ],
          "name": "stdout"
        }
      ]
    },
    {
      "cell_type": "code",
      "metadata": {
        "id": "r3NQeYTnd8IC"
      },
      "source": [
        "quantitativas = dados[['MesesNaCompanhia','CobrancaMensal','CobrancaTotal']]\n",
        "categoricas = dados.drop(columns=['id','MesesNaCompanhia','CobrancaMensal','CobrancaTotal','Churn'],\n",
        "                         axis=1)\n",
        "target = dados['Churn']"
      ],
      "execution_count": 59,
      "outputs": []
    },
    {
      "cell_type": "code",
      "metadata": {
        "id": "caWbVDyYeLnk",
        "outputId": "cdea1a05-b881-4254-fd31-4da855f1ae84",
        "colab": {
          "base_uri": "https://localhost:8080/",
          "height": 142
        }
      },
      "source": [
        "quantitativas.head(10).T"
      ],
      "execution_count": 60,
      "outputs": [
        {
          "output_type": "execute_result",
          "data": {
            "text/html": [
              "<div>\n",
              "<style scoped>\n",
              "    .dataframe tbody tr th:only-of-type {\n",
              "        vertical-align: middle;\n",
              "    }\n",
              "\n",
              "    .dataframe tbody tr th {\n",
              "        vertical-align: top;\n",
              "    }\n",
              "\n",
              "    .dataframe thead th {\n",
              "        text-align: right;\n",
              "    }\n",
              "</style>\n",
              "<table border=\"1\" class=\"dataframe\">\n",
              "  <thead>\n",
              "    <tr style=\"text-align: right;\">\n",
              "      <th></th>\n",
              "      <th>0</th>\n",
              "      <th>1</th>\n",
              "      <th>2</th>\n",
              "      <th>3</th>\n",
              "      <th>4</th>\n",
              "      <th>5</th>\n",
              "      <th>6</th>\n",
              "      <th>7</th>\n",
              "      <th>8</th>\n",
              "      <th>9</th>\n",
              "    </tr>\n",
              "  </thead>\n",
              "  <tbody>\n",
              "    <tr>\n",
              "      <th>MesesNaCompanhia</th>\n",
              "      <td>56.00</td>\n",
              "      <td>NaN</td>\n",
              "      <td>60.00</td>\n",
              "      <td>37.00</td>\n",
              "      <td>29.00</td>\n",
              "      <td>70.00</td>\n",
              "      <td>31.00</td>\n",
              "      <td>3.00</td>\n",
              "      <td>54.00</td>\n",
              "      <td>72.00</td>\n",
              "    </tr>\n",
              "    <tr>\n",
              "      <th>CobrancaMensal</th>\n",
              "      <td>45.05</td>\n",
              "      <td>19.65</td>\n",
              "      <td>110.80</td>\n",
              "      <td>101.90</td>\n",
              "      <td>70.75</td>\n",
              "      <td>48.40</td>\n",
              "      <td>59.95</td>\n",
              "      <td>19.55</td>\n",
              "      <td>19.65</td>\n",
              "      <td>85.10</td>\n",
              "    </tr>\n",
              "    <tr>\n",
              "      <th>CobrancaTotal</th>\n",
              "      <td>2560.1</td>\n",
              "      <td>332.65</td>\n",
              "      <td>6640.7</td>\n",
              "      <td>3545.35</td>\n",
              "      <td>1974.8</td>\n",
              "      <td>3442.8</td>\n",
              "      <td>1848.8</td>\n",
              "      <td>61.05</td>\n",
              "      <td>1008.7</td>\n",
              "      <td>6155.4</td>\n",
              "    </tr>\n",
              "  </tbody>\n",
              "</table>\n",
              "</div>"
            ],
            "text/plain": [
              "                       0       1       2        3       4       5       6  \\\n",
              "MesesNaCompanhia   56.00     NaN   60.00    37.00   29.00   70.00   31.00   \n",
              "CobrancaMensal     45.05   19.65  110.80   101.90   70.75   48.40   59.95   \n",
              "CobrancaTotal     2560.1  332.65  6640.7  3545.35  1974.8  3442.8  1848.8   \n",
              "\n",
              "                      7       8       9  \n",
              "MesesNaCompanhia   3.00   54.00   72.00  \n",
              "CobrancaMensal    19.55   19.65   85.10  \n",
              "CobrancaTotal     61.05  1008.7  6155.4  "
            ]
          },
          "metadata": {
            "tags": []
          },
          "execution_count": 60
        }
      ]
    },
    {
      "cell_type": "code",
      "metadata": {
        "id": "11iJMZM5eRl9",
        "outputId": "322af2f9-80b2-40b0-93e2-dbec66ab3939",
        "colab": {
          "base_uri": "https://localhost:8080/",
          "height": 715
        }
      },
      "source": [
        "categoricas.head(10).T"
      ],
      "execution_count": 61,
      "outputs": [
        {
          "output_type": "execute_result",
          "data": {
            "text/html": [
              "<div>\n",
              "<style scoped>\n",
              "    .dataframe tbody tr th:only-of-type {\n",
              "        vertical-align: middle;\n",
              "    }\n",
              "\n",
              "    .dataframe tbody tr th {\n",
              "        vertical-align: top;\n",
              "    }\n",
              "\n",
              "    .dataframe thead th {\n",
              "        text-align: right;\n",
              "    }\n",
              "</style>\n",
              "<table border=\"1\" class=\"dataframe\">\n",
              "  <thead>\n",
              "    <tr style=\"text-align: right;\">\n",
              "      <th></th>\n",
              "      <th>0</th>\n",
              "      <th>1</th>\n",
              "      <th>2</th>\n",
              "      <th>3</th>\n",
              "      <th>4</th>\n",
              "      <th>5</th>\n",
              "      <th>6</th>\n",
              "      <th>7</th>\n",
              "      <th>8</th>\n",
              "      <th>9</th>\n",
              "    </tr>\n",
              "  </thead>\n",
              "  <tbody>\n",
              "    <tr>\n",
              "      <th>genero</th>\n",
              "      <td>Female</td>\n",
              "      <td>Male</td>\n",
              "      <td>Female</td>\n",
              "      <td>Female</td>\n",
              "      <td>Male</td>\n",
              "      <td>Male</td>\n",
              "      <td>Male</td>\n",
              "      <td>Female</td>\n",
              "      <td>Male</td>\n",
              "      <td>Female</td>\n",
              "    </tr>\n",
              "    <tr>\n",
              "      <th>Idoso</th>\n",
              "      <td>0</td>\n",
              "      <td>0</td>\n",
              "      <td>0</td>\n",
              "      <td>0</td>\n",
              "      <td>0</td>\n",
              "      <td>0</td>\n",
              "      <td>0</td>\n",
              "      <td>0</td>\n",
              "      <td>0</td>\n",
              "      <td>0</td>\n",
              "    </tr>\n",
              "    <tr>\n",
              "      <th>TemParceiro</th>\n",
              "      <td>No</td>\n",
              "      <td>Yes</td>\n",
              "      <td>Yes</td>\n",
              "      <td>No</td>\n",
              "      <td>Yes</td>\n",
              "      <td>No</td>\n",
              "      <td>Yes</td>\n",
              "      <td>No</td>\n",
              "      <td>No</td>\n",
              "      <td>Yes</td>\n",
              "    </tr>\n",
              "    <tr>\n",
              "      <th>TemDependentes</th>\n",
              "      <td>No</td>\n",
              "      <td>Yes</td>\n",
              "      <td>No</td>\n",
              "      <td>No</td>\n",
              "      <td>Yes</td>\n",
              "      <td>No</td>\n",
              "      <td>Yes</td>\n",
              "      <td>No</td>\n",
              "      <td>No</td>\n",
              "      <td>No</td>\n",
              "    </tr>\n",
              "    <tr>\n",
              "      <th>TemTelefone</th>\n",
              "      <td>No</td>\n",
              "      <td>Yes</td>\n",
              "      <td>Yes</td>\n",
              "      <td>Yes</td>\n",
              "      <td>Yes</td>\n",
              "      <td>No</td>\n",
              "      <td>No</td>\n",
              "      <td>Yes</td>\n",
              "      <td>Yes</td>\n",
              "      <td>Yes</td>\n",
              "    </tr>\n",
              "    <tr>\n",
              "      <th>MaisLinhas</th>\n",
              "      <td>No phone service</td>\n",
              "      <td>No</td>\n",
              "      <td>Yes</td>\n",
              "      <td>Yes</td>\n",
              "      <td>No</td>\n",
              "      <td>No phone service</td>\n",
              "      <td>No phone service</td>\n",
              "      <td>No</td>\n",
              "      <td>No</td>\n",
              "      <td>No</td>\n",
              "    </tr>\n",
              "    <tr>\n",
              "      <th>TemInternet</th>\n",
              "      <td>DSL</td>\n",
              "      <td>No</td>\n",
              "      <td>Fiber optic</td>\n",
              "      <td>Fiber optic</td>\n",
              "      <td>Fiber optic</td>\n",
              "      <td>DSL</td>\n",
              "      <td>DSL</td>\n",
              "      <td>No</td>\n",
              "      <td>No</td>\n",
              "      <td>DSL</td>\n",
              "    </tr>\n",
              "    <tr>\n",
              "      <th>ServicoSegurancaOnline</th>\n",
              "      <td>Yes</td>\n",
              "      <td>No internet service</td>\n",
              "      <td>No</td>\n",
              "      <td>No</td>\n",
              "      <td>No</td>\n",
              "      <td>Yes</td>\n",
              "      <td>Yes</td>\n",
              "      <td>No internet service</td>\n",
              "      <td>No internet service</td>\n",
              "      <td>Yes</td>\n",
              "    </tr>\n",
              "    <tr>\n",
              "      <th>ServicoBackupOnline</th>\n",
              "      <td>Yes</td>\n",
              "      <td>No internet service</td>\n",
              "      <td>Yes</td>\n",
              "      <td>Yes</td>\n",
              "      <td>No</td>\n",
              "      <td>No</td>\n",
              "      <td>No</td>\n",
              "      <td>No internet service</td>\n",
              "      <td>No internet service</td>\n",
              "      <td>Yes</td>\n",
              "    </tr>\n",
              "    <tr>\n",
              "      <th>ServicoProtecaoOnline</th>\n",
              "      <td>Yes</td>\n",
              "      <td>No internet service</td>\n",
              "      <td>Yes</td>\n",
              "      <td>Yes</td>\n",
              "      <td>No</td>\n",
              "      <td>Yes</td>\n",
              "      <td>Yes</td>\n",
              "      <td>No internet service</td>\n",
              "      <td>No internet service</td>\n",
              "      <td>Yes</td>\n",
              "    </tr>\n",
              "    <tr>\n",
              "      <th>ServicoSuporteOnline</th>\n",
              "      <td>Yes</td>\n",
              "      <td>No internet service</td>\n",
              "      <td>Yes</td>\n",
              "      <td>No</td>\n",
              "      <td>No</td>\n",
              "      <td>Yes</td>\n",
              "      <td>Yes</td>\n",
              "      <td>No internet service</td>\n",
              "      <td>No internet service</td>\n",
              "      <td>Yes</td>\n",
              "    </tr>\n",
              "    <tr>\n",
              "      <th>ServicoTV</th>\n",
              "      <td>No</td>\n",
              "      <td>No internet service</td>\n",
              "      <td>Yes</td>\n",
              "      <td>Yes</td>\n",
              "      <td>No</td>\n",
              "      <td>No</td>\n",
              "      <td>Yes</td>\n",
              "      <td>No internet service</td>\n",
              "      <td>No internet service</td>\n",
              "      <td>Yes</td>\n",
              "    </tr>\n",
              "    <tr>\n",
              "      <th>ServicoPctFilmes</th>\n",
              "      <td>No</td>\n",
              "      <td>No internet service</td>\n",
              "      <td>Yes</td>\n",
              "      <td>Yes</td>\n",
              "      <td>No</td>\n",
              "      <td>Yes</td>\n",
              "      <td>Yes</td>\n",
              "      <td>No internet service</td>\n",
              "      <td>No internet service</td>\n",
              "      <td>Yes</td>\n",
              "    </tr>\n",
              "    <tr>\n",
              "      <th>Contrato</th>\n",
              "      <td>Two year</td>\n",
              "      <td>One year</td>\n",
              "      <td>Two year</td>\n",
              "      <td>Month-to-month</td>\n",
              "      <td>Month-to-month</td>\n",
              "      <td>Two year</td>\n",
              "      <td>One year</td>\n",
              "      <td>Month-to-month</td>\n",
              "      <td>Two year</td>\n",
              "      <td>Two year</td>\n",
              "    </tr>\n",
              "    <tr>\n",
              "      <th>ContaOnline</th>\n",
              "      <td>No</td>\n",
              "      <td>No</td>\n",
              "      <td>Yes</td>\n",
              "      <td>Yes</td>\n",
              "      <td>Yes</td>\n",
              "      <td>No</td>\n",
              "      <td>No</td>\n",
              "      <td>No</td>\n",
              "      <td>No</td>\n",
              "      <td>No</td>\n",
              "    </tr>\n",
              "    <tr>\n",
              "      <th>MetodoPagamento</th>\n",
              "      <td>NaN</td>\n",
              "      <td>Mailed check</td>\n",
              "      <td>Credit card (automatic)</td>\n",
              "      <td>Bank transfer (automatic)</td>\n",
              "      <td>Electronic check</td>\n",
              "      <td>Bank transfer (automatic)</td>\n",
              "      <td>Electronic check</td>\n",
              "      <td>Electronic check</td>\n",
              "      <td>Credit card (automatic)</td>\n",
              "      <td>Mailed check</td>\n",
              "    </tr>\n",
              "  </tbody>\n",
              "</table>\n",
              "</div>"
            ],
            "text/plain": [
              "                                       0                    1  \\\n",
              "genero                            Female                 Male   \n",
              "Idoso                                  0                    0   \n",
              "TemParceiro                           No                  Yes   \n",
              "TemDependentes                        No                  Yes   \n",
              "TemTelefone                           No                  Yes   \n",
              "MaisLinhas              No phone service                   No   \n",
              "TemInternet                          DSL                   No   \n",
              "ServicoSegurancaOnline               Yes  No internet service   \n",
              "ServicoBackupOnline                  Yes  No internet service   \n",
              "ServicoProtecaoOnline                Yes  No internet service   \n",
              "ServicoSuporteOnline                 Yes  No internet service   \n",
              "ServicoTV                             No  No internet service   \n",
              "ServicoPctFilmes                      No  No internet service   \n",
              "Contrato                        Two year             One year   \n",
              "ContaOnline                           No                   No   \n",
              "MetodoPagamento                      NaN         Mailed check   \n",
              "\n",
              "                                              2                          3  \\\n",
              "genero                                   Female                     Female   \n",
              "Idoso                                         0                          0   \n",
              "TemParceiro                                 Yes                         No   \n",
              "TemDependentes                               No                         No   \n",
              "TemTelefone                                 Yes                        Yes   \n",
              "MaisLinhas                                  Yes                        Yes   \n",
              "TemInternet                         Fiber optic                Fiber optic   \n",
              "ServicoSegurancaOnline                       No                         No   \n",
              "ServicoBackupOnline                         Yes                        Yes   \n",
              "ServicoProtecaoOnline                       Yes                        Yes   \n",
              "ServicoSuporteOnline                        Yes                         No   \n",
              "ServicoTV                                   Yes                        Yes   \n",
              "ServicoPctFilmes                            Yes                        Yes   \n",
              "Contrato                               Two year             Month-to-month   \n",
              "ContaOnline                                 Yes                        Yes   \n",
              "MetodoPagamento         Credit card (automatic)  Bank transfer (automatic)   \n",
              "\n",
              "                                       4                          5  \\\n",
              "genero                              Male                       Male   \n",
              "Idoso                                  0                          0   \n",
              "TemParceiro                          Yes                         No   \n",
              "TemDependentes                       Yes                         No   \n",
              "TemTelefone                          Yes                         No   \n",
              "MaisLinhas                            No           No phone service   \n",
              "TemInternet                  Fiber optic                        DSL   \n",
              "ServicoSegurancaOnline                No                        Yes   \n",
              "ServicoBackupOnline                   No                         No   \n",
              "ServicoProtecaoOnline                 No                        Yes   \n",
              "ServicoSuporteOnline                  No                        Yes   \n",
              "ServicoTV                             No                         No   \n",
              "ServicoPctFilmes                      No                        Yes   \n",
              "Contrato                  Month-to-month                   Two year   \n",
              "ContaOnline                          Yes                         No   \n",
              "MetodoPagamento         Electronic check  Bank transfer (automatic)   \n",
              "\n",
              "                                       6                    7  \\\n",
              "genero                              Male               Female   \n",
              "Idoso                                  0                    0   \n",
              "TemParceiro                          Yes                   No   \n",
              "TemDependentes                       Yes                   No   \n",
              "TemTelefone                           No                  Yes   \n",
              "MaisLinhas              No phone service                   No   \n",
              "TemInternet                          DSL                   No   \n",
              "ServicoSegurancaOnline               Yes  No internet service   \n",
              "ServicoBackupOnline                   No  No internet service   \n",
              "ServicoProtecaoOnline                Yes  No internet service   \n",
              "ServicoSuporteOnline                 Yes  No internet service   \n",
              "ServicoTV                            Yes  No internet service   \n",
              "ServicoPctFilmes                     Yes  No internet service   \n",
              "Contrato                        One year       Month-to-month   \n",
              "ContaOnline                           No                   No   \n",
              "MetodoPagamento         Electronic check     Electronic check   \n",
              "\n",
              "                                              8             9  \n",
              "genero                                     Male        Female  \n",
              "Idoso                                         0             0  \n",
              "TemParceiro                                  No           Yes  \n",
              "TemDependentes                               No            No  \n",
              "TemTelefone                                 Yes           Yes  \n",
              "MaisLinhas                                   No            No  \n",
              "TemInternet                                  No           DSL  \n",
              "ServicoSegurancaOnline      No internet service           Yes  \n",
              "ServicoBackupOnline         No internet service           Yes  \n",
              "ServicoProtecaoOnline       No internet service           Yes  \n",
              "ServicoSuporteOnline        No internet service           Yes  \n",
              "ServicoTV                   No internet service           Yes  \n",
              "ServicoPctFilmes            No internet service           Yes  \n",
              "Contrato                               Two year      Two year  \n",
              "ContaOnline                                  No            No  \n",
              "MetodoPagamento         Credit card (automatic)  Mailed check  "
            ]
          },
          "metadata": {
            "tags": []
          },
          "execution_count": 61
        }
      ]
    },
    {
      "cell_type": "markdown",
      "metadata": {
        "id": "xtnpw9pFer6-"
      },
      "source": [
        "## Pre-processing"
      ]
    },
    {
      "cell_type": "markdown",
      "metadata": {
        "id": "EIQNegKOeu_B"
      },
      "source": [
        "### Pré-processamento das variáveis quantitativas"
      ]
    },
    {
      "cell_type": "code",
      "metadata": {
        "id": "eEdb9DWLeTdb",
        "outputId": "e907d27c-8420-484d-f205-d007af5f3bab",
        "colab": {
          "base_uri": "https://localhost:8080/"
        }
      },
      "source": [
        "quantitativas.info()"
      ],
      "execution_count": 62,
      "outputs": [
        {
          "output_type": "stream",
          "text": [
            "<class 'pandas.core.frame.DataFrame'>\n",
            "RangeIndex: 5634 entries, 0 to 5633\n",
            "Data columns (total 3 columns):\n",
            " #   Column            Non-Null Count  Dtype  \n",
            "---  ------            --------------  -----  \n",
            " 0   MesesNaCompanhia  5173 non-null   float64\n",
            " 1   CobrancaMensal    5634 non-null   float64\n",
            " 2   CobrancaTotal     5634 non-null   object \n",
            "dtypes: float64(2), object(1)\n",
            "memory usage: 132.2+ KB\n"
          ],
          "name": "stdout"
        }
      ]
    },
    {
      "cell_type": "markdown",
      "metadata": {
        "id": "CZvZs_0Ig8c1"
      },
      "source": [
        "A coluna CobrancaTotal está no formato object, embora seja numérica. Para convertê-la para o formato correto:"
      ]
    },
    {
      "cell_type": "code",
      "metadata": {
        "id": "RCTVzKSCe-YM",
        "outputId": "ad5e9142-8ae3-4c1d-e15d-88d795e6b30c",
        "colab": {
          "base_uri": "https://localhost:8080/"
        }
      },
      "source": [
        "quantitativas['CobrancaTotal'] = pd.to_numeric(quantitativas['CobrancaTotal'], errors = 'coerce')\n",
        "quantitativas.info()"
      ],
      "execution_count": 63,
      "outputs": [
        {
          "output_type": "stream",
          "text": [
            "<class 'pandas.core.frame.DataFrame'>\n",
            "RangeIndex: 5634 entries, 0 to 5633\n",
            "Data columns (total 3 columns):\n",
            " #   Column            Non-Null Count  Dtype  \n",
            "---  ------            --------------  -----  \n",
            " 0   MesesNaCompanhia  5173 non-null   float64\n",
            " 1   CobrancaMensal    5634 non-null   float64\n",
            " 2   CobrancaTotal     5626 non-null   float64\n",
            "dtypes: float64(3)\n",
            "memory usage: 132.2 KB\n"
          ],
          "name": "stdout"
        },
        {
          "output_type": "stream",
          "text": [
            "/usr/local/lib/python3.6/dist-packages/ipykernel_launcher.py:1: SettingWithCopyWarning: \n",
            "A value is trying to be set on a copy of a slice from a DataFrame.\n",
            "Try using .loc[row_indexer,col_indexer] = value instead\n",
            "\n",
            "See the caveats in the documentation: https://pandas.pydata.org/pandas-docs/stable/user_guide/indexing.html#returning-a-view-versus-a-copy\n",
            "  \"\"\"Entry point for launching an IPython kernel.\n"
          ],
          "name": "stderr"
        }
      ]
    },
    {
      "cell_type": "code",
      "metadata": {
        "id": "XYADda1oezDP",
        "outputId": "b9168d8a-755d-43f8-aa09-7c5904b8b936",
        "colab": {
          "base_uri": "https://localhost:8080/"
        }
      },
      "source": [
        "# Verificando missing values:\n",
        "quantitativas.isna().sum()"
      ],
      "execution_count": 64,
      "outputs": [
        {
          "output_type": "execute_result",
          "data": {
            "text/plain": [
              "MesesNaCompanhia    461\n",
              "CobrancaMensal        0\n",
              "CobrancaTotal         8\n",
              "dtype: int64"
            ]
          },
          "metadata": {
            "tags": []
          },
          "execution_count": 64
        }
      ]
    },
    {
      "cell_type": "code",
      "metadata": {
        "id": "M9N5bojee-aH",
        "outputId": "c48858d3-49a5-4b60-da46-be3e1a981f6f",
        "colab": {
          "base_uri": "https://localhost:8080/",
          "height": 297
        }
      },
      "source": [
        "# Verificando valores zerados em cada coluna:\n",
        "quantitativas[quantitativas['MesesNaCompanhia'] == 0]"
      ],
      "execution_count": 65,
      "outputs": [
        {
          "output_type": "execute_result",
          "data": {
            "text/html": [
              "<div>\n",
              "<style scoped>\n",
              "    .dataframe tbody tr th:only-of-type {\n",
              "        vertical-align: middle;\n",
              "    }\n",
              "\n",
              "    .dataframe tbody tr th {\n",
              "        vertical-align: top;\n",
              "    }\n",
              "\n",
              "    .dataframe thead th {\n",
              "        text-align: right;\n",
              "    }\n",
              "</style>\n",
              "<table border=\"1\" class=\"dataframe\">\n",
              "  <thead>\n",
              "    <tr style=\"text-align: right;\">\n",
              "      <th></th>\n",
              "      <th>MesesNaCompanhia</th>\n",
              "      <th>CobrancaMensal</th>\n",
              "      <th>CobrancaTotal</th>\n",
              "    </tr>\n",
              "  </thead>\n",
              "  <tbody>\n",
              "    <tr>\n",
              "      <th>161</th>\n",
              "      <td>0.00</td>\n",
              "      <td>61.90</td>\n",
              "      <td>nan</td>\n",
              "    </tr>\n",
              "    <tr>\n",
              "      <th>416</th>\n",
              "      <td>0.00</td>\n",
              "      <td>19.70</td>\n",
              "      <td>nan</td>\n",
              "    </tr>\n",
              "    <tr>\n",
              "      <th>1766</th>\n",
              "      <td>0.00</td>\n",
              "      <td>73.35</td>\n",
              "      <td>nan</td>\n",
              "    </tr>\n",
              "    <tr>\n",
              "      <th>2145</th>\n",
              "      <td>0.00</td>\n",
              "      <td>80.85</td>\n",
              "      <td>nan</td>\n",
              "    </tr>\n",
              "    <tr>\n",
              "      <th>3375</th>\n",
              "      <td>0.00</td>\n",
              "      <td>25.35</td>\n",
              "      <td>nan</td>\n",
              "    </tr>\n",
              "    <tr>\n",
              "      <th>3404</th>\n",
              "      <td>0.00</td>\n",
              "      <td>25.75</td>\n",
              "      <td>nan</td>\n",
              "    </tr>\n",
              "    <tr>\n",
              "      <th>4008</th>\n",
              "      <td>0.00</td>\n",
              "      <td>19.85</td>\n",
              "      <td>nan</td>\n",
              "    </tr>\n",
              "    <tr>\n",
              "      <th>5151</th>\n",
              "      <td>0.00</td>\n",
              "      <td>56.05</td>\n",
              "      <td>nan</td>\n",
              "    </tr>\n",
              "  </tbody>\n",
              "</table>\n",
              "</div>"
            ],
            "text/plain": [
              "      MesesNaCompanhia  CobrancaMensal  CobrancaTotal\n",
              "161               0.00           61.90            nan\n",
              "416               0.00           19.70            nan\n",
              "1766              0.00           73.35            nan\n",
              "2145              0.00           80.85            nan\n",
              "3375              0.00           25.35            nan\n",
              "3404              0.00           25.75            nan\n",
              "4008              0.00           19.85            nan\n",
              "5151              0.00           56.05            nan"
            ]
          },
          "metadata": {
            "tags": []
          },
          "execution_count": 65
        }
      ]
    },
    {
      "cell_type": "code",
      "metadata": {
        "id": "7RyXEU0jfVBi",
        "outputId": "39db381e-451d-4348-feda-45db67750d21",
        "colab": {
          "base_uri": "https://localhost:8080/",
          "height": 49
        }
      },
      "source": [
        "quantitativas[quantitativas['CobrancaMensal'] == 0]"
      ],
      "execution_count": 66,
      "outputs": [
        {
          "output_type": "execute_result",
          "data": {
            "text/html": [
              "<div>\n",
              "<style scoped>\n",
              "    .dataframe tbody tr th:only-of-type {\n",
              "        vertical-align: middle;\n",
              "    }\n",
              "\n",
              "    .dataframe tbody tr th {\n",
              "        vertical-align: top;\n",
              "    }\n",
              "\n",
              "    .dataframe thead th {\n",
              "        text-align: right;\n",
              "    }\n",
              "</style>\n",
              "<table border=\"1\" class=\"dataframe\">\n",
              "  <thead>\n",
              "    <tr style=\"text-align: right;\">\n",
              "      <th></th>\n",
              "      <th>MesesNaCompanhia</th>\n",
              "      <th>CobrancaMensal</th>\n",
              "      <th>CobrancaTotal</th>\n",
              "    </tr>\n",
              "  </thead>\n",
              "  <tbody>\n",
              "  </tbody>\n",
              "</table>\n",
              "</div>"
            ],
            "text/plain": [
              "Empty DataFrame\n",
              "Columns: [MesesNaCompanhia, CobrancaMensal, CobrancaTotal]\n",
              "Index: []"
            ]
          },
          "metadata": {
            "tags": []
          },
          "execution_count": 66
        }
      ]
    },
    {
      "cell_type": "code",
      "metadata": {
        "id": "IW3GpjFsfV2g",
        "outputId": "427b2163-b9e7-4294-d806-98361ed4c214",
        "colab": {
          "base_uri": "https://localhost:8080/",
          "height": 49
        }
      },
      "source": [
        "quantitativas[quantitativas['CobrancaTotal'] == 0]"
      ],
      "execution_count": 67,
      "outputs": [
        {
          "output_type": "execute_result",
          "data": {
            "text/html": [
              "<div>\n",
              "<style scoped>\n",
              "    .dataframe tbody tr th:only-of-type {\n",
              "        vertical-align: middle;\n",
              "    }\n",
              "\n",
              "    .dataframe tbody tr th {\n",
              "        vertical-align: top;\n",
              "    }\n",
              "\n",
              "    .dataframe thead th {\n",
              "        text-align: right;\n",
              "    }\n",
              "</style>\n",
              "<table border=\"1\" class=\"dataframe\">\n",
              "  <thead>\n",
              "    <tr style=\"text-align: right;\">\n",
              "      <th></th>\n",
              "      <th>MesesNaCompanhia</th>\n",
              "      <th>CobrancaMensal</th>\n",
              "      <th>CobrancaTotal</th>\n",
              "    </tr>\n",
              "  </thead>\n",
              "  <tbody>\n",
              "  </tbody>\n",
              "</table>\n",
              "</div>"
            ],
            "text/plain": [
              "Empty DataFrame\n",
              "Columns: [MesesNaCompanhia, CobrancaMensal, CobrancaTotal]\n",
              "Index: []"
            ]
          },
          "metadata": {
            "tags": []
          },
          "execution_count": 67
        }
      ]
    },
    {
      "cell_type": "markdown",
      "metadata": {
        "id": "A_lNxCO-fayJ"
      },
      "source": [
        "Conclusão: Há 461 NaNs na coluna MesesNaCompanhia e 8 NaN na coluna CobrancaTotal. Além disso, os mesmos registros com  NaNs na coluna CobrancaTotal estão com zero em MesesNaCompanhia. Assumimos que os primeiros referem-se a clientes que estão na companhia a menos de um mês. Assim, os NaNs de CobrancaTotal serão imputados pela CobrancaMensal respectiva:"
      ]
    },
    {
      "cell_type": "code",
      "metadata": {
        "id": "HoSj9QGCh8_x",
        "outputId": "c2f84cfe-1893-4b70-9589-cc883d9fcc24",
        "colab": {
          "base_uri": "https://localhost:8080/"
        }
      },
      "source": [
        "# Criar coluna 'CobrancaTotal2':\n",
        "quantitativas['CobrancaTotal2'] = quantitativas['CobrancaTotal']\n"
      ],
      "execution_count": 68,
      "outputs": [
        {
          "output_type": "stream",
          "text": [
            "/usr/local/lib/python3.6/dist-packages/ipykernel_launcher.py:2: SettingWithCopyWarning: \n",
            "A value is trying to be set on a copy of a slice from a DataFrame.\n",
            "Try using .loc[row_indexer,col_indexer] = value instead\n",
            "\n",
            "See the caveats in the documentation: https://pandas.pydata.org/pandas-docs/stable/user_guide/indexing.html#returning-a-view-versus-a-copy\n",
            "  \n"
          ],
          "name": "stderr"
        }
      ]
    },
    {
      "cell_type": "code",
      "metadata": {
        "id": "98FnbGKsiP4N",
        "outputId": "069e68aa-3399-4af7-9cd7-59b6a781d7e5",
        "colab": {
          "base_uri": "https://localhost:8080/",
          "height": 297
        }
      },
      "source": [
        "quantitativas[quantitativas['CobrancaTotal2'].isna()]"
      ],
      "execution_count": 69,
      "outputs": [
        {
          "output_type": "execute_result",
          "data": {
            "text/html": [
              "<div>\n",
              "<style scoped>\n",
              "    .dataframe tbody tr th:only-of-type {\n",
              "        vertical-align: middle;\n",
              "    }\n",
              "\n",
              "    .dataframe tbody tr th {\n",
              "        vertical-align: top;\n",
              "    }\n",
              "\n",
              "    .dataframe thead th {\n",
              "        text-align: right;\n",
              "    }\n",
              "</style>\n",
              "<table border=\"1\" class=\"dataframe\">\n",
              "  <thead>\n",
              "    <tr style=\"text-align: right;\">\n",
              "      <th></th>\n",
              "      <th>MesesNaCompanhia</th>\n",
              "      <th>CobrancaMensal</th>\n",
              "      <th>CobrancaTotal</th>\n",
              "      <th>CobrancaTotal2</th>\n",
              "    </tr>\n",
              "  </thead>\n",
              "  <tbody>\n",
              "    <tr>\n",
              "      <th>161</th>\n",
              "      <td>0.00</td>\n",
              "      <td>61.90</td>\n",
              "      <td>nan</td>\n",
              "      <td>nan</td>\n",
              "    </tr>\n",
              "    <tr>\n",
              "      <th>416</th>\n",
              "      <td>0.00</td>\n",
              "      <td>19.70</td>\n",
              "      <td>nan</td>\n",
              "      <td>nan</td>\n",
              "    </tr>\n",
              "    <tr>\n",
              "      <th>1766</th>\n",
              "      <td>0.00</td>\n",
              "      <td>73.35</td>\n",
              "      <td>nan</td>\n",
              "      <td>nan</td>\n",
              "    </tr>\n",
              "    <tr>\n",
              "      <th>2145</th>\n",
              "      <td>0.00</td>\n",
              "      <td>80.85</td>\n",
              "      <td>nan</td>\n",
              "      <td>nan</td>\n",
              "    </tr>\n",
              "    <tr>\n",
              "      <th>3375</th>\n",
              "      <td>0.00</td>\n",
              "      <td>25.35</td>\n",
              "      <td>nan</td>\n",
              "      <td>nan</td>\n",
              "    </tr>\n",
              "    <tr>\n",
              "      <th>3404</th>\n",
              "      <td>0.00</td>\n",
              "      <td>25.75</td>\n",
              "      <td>nan</td>\n",
              "      <td>nan</td>\n",
              "    </tr>\n",
              "    <tr>\n",
              "      <th>4008</th>\n",
              "      <td>0.00</td>\n",
              "      <td>19.85</td>\n",
              "      <td>nan</td>\n",
              "      <td>nan</td>\n",
              "    </tr>\n",
              "    <tr>\n",
              "      <th>5151</th>\n",
              "      <td>0.00</td>\n",
              "      <td>56.05</td>\n",
              "      <td>nan</td>\n",
              "      <td>nan</td>\n",
              "    </tr>\n",
              "  </tbody>\n",
              "</table>\n",
              "</div>"
            ],
            "text/plain": [
              "      MesesNaCompanhia  CobrancaMensal  CobrancaTotal  CobrancaTotal2\n",
              "161               0.00           61.90            nan             nan\n",
              "416               0.00           19.70            nan             nan\n",
              "1766              0.00           73.35            nan             nan\n",
              "2145              0.00           80.85            nan             nan\n",
              "3375              0.00           25.35            nan             nan\n",
              "3404              0.00           25.75            nan             nan\n",
              "4008              0.00           19.85            nan             nan\n",
              "5151              0.00           56.05            nan             nan"
            ]
          },
          "metadata": {
            "tags": []
          },
          "execution_count": 69
        }
      ]
    },
    {
      "cell_type": "code",
      "metadata": {
        "id": "bqGFBjxegCrQ",
        "outputId": "5f54916d-58ef-4913-953c-0c532abf3c72",
        "colab": {
          "base_uri": "https://localhost:8080/"
        }
      },
      "source": [
        "# Preenche os NaNs de CobrancaTotal2 pelo valor respectivo de CobrancaMensal:\n",
        "quantitativas['CobrancaTotal2'].fillna(quantitativas[quantitativas['CobrancaTotal'].isna()]['CobrancaMensal'], inplace = True)"
      ],
      "execution_count": 70,
      "outputs": [
        {
          "output_type": "stream",
          "text": [
            "/usr/local/lib/python3.6/dist-packages/pandas/core/series.py:4523: SettingWithCopyWarning: \n",
            "A value is trying to be set on a copy of a slice from a DataFrame\n",
            "\n",
            "See the caveats in the documentation: https://pandas.pydata.org/pandas-docs/stable/user_guide/indexing.html#returning-a-view-versus-a-copy\n",
            "  downcast=downcast,\n"
          ],
          "name": "stderr"
        }
      ]
    },
    {
      "cell_type": "code",
      "metadata": {
        "id": "uEYDImJ_ipOt",
        "outputId": "fa9fdb4c-56d1-44cd-8466-811ad7ed8855",
        "colab": {
          "base_uri": "https://localhost:8080/",
          "height": 297
        }
      },
      "source": [
        "# Verifica que os NaNs de CobrancaTotal foram substituídos pelos valores respectivos de CobrancaMensal na coluna CobrancaTotal2:\n",
        "quantitativas[quantitativas['CobrancaTotal'].isna()]"
      ],
      "execution_count": 71,
      "outputs": [
        {
          "output_type": "execute_result",
          "data": {
            "text/html": [
              "<div>\n",
              "<style scoped>\n",
              "    .dataframe tbody tr th:only-of-type {\n",
              "        vertical-align: middle;\n",
              "    }\n",
              "\n",
              "    .dataframe tbody tr th {\n",
              "        vertical-align: top;\n",
              "    }\n",
              "\n",
              "    .dataframe thead th {\n",
              "        text-align: right;\n",
              "    }\n",
              "</style>\n",
              "<table border=\"1\" class=\"dataframe\">\n",
              "  <thead>\n",
              "    <tr style=\"text-align: right;\">\n",
              "      <th></th>\n",
              "      <th>MesesNaCompanhia</th>\n",
              "      <th>CobrancaMensal</th>\n",
              "      <th>CobrancaTotal</th>\n",
              "      <th>CobrancaTotal2</th>\n",
              "    </tr>\n",
              "  </thead>\n",
              "  <tbody>\n",
              "    <tr>\n",
              "      <th>161</th>\n",
              "      <td>0.00</td>\n",
              "      <td>61.90</td>\n",
              "      <td>nan</td>\n",
              "      <td>61.90</td>\n",
              "    </tr>\n",
              "    <tr>\n",
              "      <th>416</th>\n",
              "      <td>0.00</td>\n",
              "      <td>19.70</td>\n",
              "      <td>nan</td>\n",
              "      <td>19.70</td>\n",
              "    </tr>\n",
              "    <tr>\n",
              "      <th>1766</th>\n",
              "      <td>0.00</td>\n",
              "      <td>73.35</td>\n",
              "      <td>nan</td>\n",
              "      <td>73.35</td>\n",
              "    </tr>\n",
              "    <tr>\n",
              "      <th>2145</th>\n",
              "      <td>0.00</td>\n",
              "      <td>80.85</td>\n",
              "      <td>nan</td>\n",
              "      <td>80.85</td>\n",
              "    </tr>\n",
              "    <tr>\n",
              "      <th>3375</th>\n",
              "      <td>0.00</td>\n",
              "      <td>25.35</td>\n",
              "      <td>nan</td>\n",
              "      <td>25.35</td>\n",
              "    </tr>\n",
              "    <tr>\n",
              "      <th>3404</th>\n",
              "      <td>0.00</td>\n",
              "      <td>25.75</td>\n",
              "      <td>nan</td>\n",
              "      <td>25.75</td>\n",
              "    </tr>\n",
              "    <tr>\n",
              "      <th>4008</th>\n",
              "      <td>0.00</td>\n",
              "      <td>19.85</td>\n",
              "      <td>nan</td>\n",
              "      <td>19.85</td>\n",
              "    </tr>\n",
              "    <tr>\n",
              "      <th>5151</th>\n",
              "      <td>0.00</td>\n",
              "      <td>56.05</td>\n",
              "      <td>nan</td>\n",
              "      <td>56.05</td>\n",
              "    </tr>\n",
              "  </tbody>\n",
              "</table>\n",
              "</div>"
            ],
            "text/plain": [
              "      MesesNaCompanhia  CobrancaMensal  CobrancaTotal  CobrancaTotal2\n",
              "161               0.00           61.90            nan           61.90\n",
              "416               0.00           19.70            nan           19.70\n",
              "1766              0.00           73.35            nan           73.35\n",
              "2145              0.00           80.85            nan           80.85\n",
              "3375              0.00           25.35            nan           25.35\n",
              "3404              0.00           25.75            nan           25.75\n",
              "4008              0.00           19.85            nan           19.85\n",
              "5151              0.00           56.05            nan           56.05"
            ]
          },
          "metadata": {
            "tags": []
          },
          "execution_count": 71
        }
      ]
    },
    {
      "cell_type": "code",
      "metadata": {
        "id": "Pm7c6F8NjFW4",
        "outputId": "51e7ea1c-37c8-451a-b57c-2e0b2e11c35f",
        "colab": {
          "base_uri": "https://localhost:8080/",
          "height": 297
        }
      },
      "source": [
        "# Novo describe:\n",
        "quantitativas.describe()"
      ],
      "execution_count": 72,
      "outputs": [
        {
          "output_type": "execute_result",
          "data": {
            "text/html": [
              "<div>\n",
              "<style scoped>\n",
              "    .dataframe tbody tr th:only-of-type {\n",
              "        vertical-align: middle;\n",
              "    }\n",
              "\n",
              "    .dataframe tbody tr th {\n",
              "        vertical-align: top;\n",
              "    }\n",
              "\n",
              "    .dataframe thead th {\n",
              "        text-align: right;\n",
              "    }\n",
              "</style>\n",
              "<table border=\"1\" class=\"dataframe\">\n",
              "  <thead>\n",
              "    <tr style=\"text-align: right;\">\n",
              "      <th></th>\n",
              "      <th>MesesNaCompanhia</th>\n",
              "      <th>CobrancaMensal</th>\n",
              "      <th>CobrancaTotal</th>\n",
              "      <th>CobrancaTotal2</th>\n",
              "    </tr>\n",
              "  </thead>\n",
              "  <tbody>\n",
              "    <tr>\n",
              "      <th>count</th>\n",
              "      <td>5,173.00</td>\n",
              "      <td>5,634.00</td>\n",
              "      <td>5,626.00</td>\n",
              "      <td>5,634.00</td>\n",
              "    </tr>\n",
              "    <tr>\n",
              "      <th>mean</th>\n",
              "      <td>32.33</td>\n",
              "      <td>64.63</td>\n",
              "      <td>2,273.51</td>\n",
              "      <td>2,270.35</td>\n",
              "    </tr>\n",
              "    <tr>\n",
              "      <th>std</th>\n",
              "      <td>24.46</td>\n",
              "      <td>30.02</td>\n",
              "      <td>2,258.38</td>\n",
              "      <td>2,258.34</td>\n",
              "    </tr>\n",
              "    <tr>\n",
              "      <th>min</th>\n",
              "      <td>0.00</td>\n",
              "      <td>18.25</td>\n",
              "      <td>18.80</td>\n",
              "      <td>18.80</td>\n",
              "    </tr>\n",
              "    <tr>\n",
              "      <th>25%</th>\n",
              "      <td>9.00</td>\n",
              "      <td>35.46</td>\n",
              "      <td>401.59</td>\n",
              "      <td>399.30</td>\n",
              "    </tr>\n",
              "    <tr>\n",
              "      <th>50%</th>\n",
              "      <td>29.00</td>\n",
              "      <td>70.25</td>\n",
              "      <td>1,396.12</td>\n",
              "      <td>1,392.92</td>\n",
              "    </tr>\n",
              "    <tr>\n",
              "      <th>75%</th>\n",
              "      <td>55.00</td>\n",
              "      <td>89.80</td>\n",
              "      <td>3,764.29</td>\n",
              "      <td>3,758.40</td>\n",
              "    </tr>\n",
              "    <tr>\n",
              "      <th>max</th>\n",
              "      <td>72.00</td>\n",
              "      <td>118.75</td>\n",
              "      <td>8,684.80</td>\n",
              "      <td>8,684.80</td>\n",
              "    </tr>\n",
              "  </tbody>\n",
              "</table>\n",
              "</div>"
            ],
            "text/plain": [
              "       MesesNaCompanhia  CobrancaMensal  CobrancaTotal  CobrancaTotal2\n",
              "count          5,173.00        5,634.00       5,626.00        5,634.00\n",
              "mean              32.33           64.63       2,273.51        2,270.35\n",
              "std               24.46           30.02       2,258.38        2,258.34\n",
              "min                0.00           18.25          18.80           18.80\n",
              "25%                9.00           35.46         401.59          399.30\n",
              "50%               29.00           70.25       1,396.12        1,392.92\n",
              "75%               55.00           89.80       3,764.29        3,758.40\n",
              "max               72.00          118.75       8,684.80        8,684.80"
            ]
          },
          "metadata": {
            "tags": []
          },
          "execution_count": 72
        }
      ]
    },
    {
      "cell_type": "markdown",
      "metadata": {
        "id": "uCan9abbjO5S"
      },
      "source": [
        "Tratamento dos missing values da coluna MesesNaCompanhia:"
      ]
    },
    {
      "cell_type": "code",
      "metadata": {
        "id": "YSIfykKpfTVP",
        "outputId": "67694b2f-7664-4680-96c5-4b83077e4a37",
        "colab": {
          "base_uri": "https://localhost:8080/"
        }
      },
      "source": [
        "# Ao dividir a cobrança total pela mensal, temos a quantidade de meses aproximados, incluída na coluna CobrancaTotalPorMensal:\n",
        "quantitativas['CobrancaTotalPorMensal'] = quantitativas['CobrancaTotal']/quantitativas['CobrancaMensal']"
      ],
      "execution_count": 73,
      "outputs": [
        {
          "output_type": "stream",
          "text": [
            "/usr/local/lib/python3.6/dist-packages/ipykernel_launcher.py:2: SettingWithCopyWarning: \n",
            "A value is trying to be set on a copy of a slice from a DataFrame.\n",
            "Try using .loc[row_indexer,col_indexer] = value instead\n",
            "\n",
            "See the caveats in the documentation: https://pandas.pydata.org/pandas-docs/stable/user_guide/indexing.html#returning-a-view-versus-a-copy\n",
            "  \n"
          ],
          "name": "stderr"
        }
      ]
    },
    {
      "cell_type": "code",
      "metadata": {
        "id": "LTy5SiEzfmGW",
        "outputId": "5f39cd9e-80be-4ff3-f58a-532a079e3d29",
        "colab": {
          "base_uri": "https://localhost:8080/",
          "height": 399
        }
      },
      "source": [
        "# A diferença entre a coluna CobrancaTotalPorMensal e a MesesNaCompanhia é relativamente pequena, conforme describe e coluna Erro_Meses:\n",
        "quantitativas['Erro_Meses'] = (quantitativas['CobrancaTotalPorMensal'] - quantitativas['MesesNaCompanhia'])/quantitativas['MesesNaCompanhia']\n",
        "quantitativas[quantitativas['MesesNaCompanhia'].notna()].describe()"
      ],
      "execution_count": 74,
      "outputs": [
        {
          "output_type": "stream",
          "text": [
            "/usr/local/lib/python3.6/dist-packages/ipykernel_launcher.py:2: SettingWithCopyWarning: \n",
            "A value is trying to be set on a copy of a slice from a DataFrame.\n",
            "Try using .loc[row_indexer,col_indexer] = value instead\n",
            "\n",
            "See the caveats in the documentation: https://pandas.pydata.org/pandas-docs/stable/user_guide/indexing.html#returning-a-view-versus-a-copy\n",
            "  \n"
          ],
          "name": "stderr"
        },
        {
          "output_type": "execute_result",
          "data": {
            "text/html": [
              "<div>\n",
              "<style scoped>\n",
              "    .dataframe tbody tr th:only-of-type {\n",
              "        vertical-align: middle;\n",
              "    }\n",
              "\n",
              "    .dataframe tbody tr th {\n",
              "        vertical-align: top;\n",
              "    }\n",
              "\n",
              "    .dataframe thead th {\n",
              "        text-align: right;\n",
              "    }\n",
              "</style>\n",
              "<table border=\"1\" class=\"dataframe\">\n",
              "  <thead>\n",
              "    <tr style=\"text-align: right;\">\n",
              "      <th></th>\n",
              "      <th>MesesNaCompanhia</th>\n",
              "      <th>CobrancaMensal</th>\n",
              "      <th>CobrancaTotal</th>\n",
              "      <th>CobrancaTotal2</th>\n",
              "      <th>CobrancaTotalPorMensal</th>\n",
              "      <th>Erro_Meses</th>\n",
              "    </tr>\n",
              "  </thead>\n",
              "  <tbody>\n",
              "    <tr>\n",
              "      <th>count</th>\n",
              "      <td>5,173.00</td>\n",
              "      <td>5,173.00</td>\n",
              "      <td>5,165.00</td>\n",
              "      <td>5,173.00</td>\n",
              "      <td>5,165.00</td>\n",
              "      <td>5,165.00</td>\n",
              "    </tr>\n",
              "    <tr>\n",
              "      <th>mean</th>\n",
              "      <td>32.33</td>\n",
              "      <td>64.66</td>\n",
              "      <td>2,278.96</td>\n",
              "      <td>2,275.50</td>\n",
              "      <td>32.40</td>\n",
              "      <td>0.00</td>\n",
              "    </tr>\n",
              "    <tr>\n",
              "      <th>std</th>\n",
              "      <td>24.46</td>\n",
              "      <td>30.05</td>\n",
              "      <td>2,260.02</td>\n",
              "      <td>2,259.97</td>\n",
              "      <td>24.49</td>\n",
              "      <td>0.05</td>\n",
              "    </tr>\n",
              "    <tr>\n",
              "      <th>min</th>\n",
              "      <td>0.00</td>\n",
              "      <td>18.25</td>\n",
              "      <td>18.80</td>\n",
              "      <td>18.80</td>\n",
              "      <td>1.00</td>\n",
              "      <td>-0.31</td>\n",
              "    </tr>\n",
              "    <tr>\n",
              "      <th>25%</th>\n",
              "      <td>9.00</td>\n",
              "      <td>35.45</td>\n",
              "      <td>403.15</td>\n",
              "      <td>401.30</td>\n",
              "      <td>8.92</td>\n",
              "      <td>-0.02</td>\n",
              "    </tr>\n",
              "    <tr>\n",
              "      <th>50%</th>\n",
              "      <td>29.00</td>\n",
              "      <td>70.30</td>\n",
              "      <td>1,398.60</td>\n",
              "      <td>1,396.25</td>\n",
              "      <td>28.53</td>\n",
              "      <td>0.00</td>\n",
              "    </tr>\n",
              "    <tr>\n",
              "      <th>75%</th>\n",
              "      <td>55.00</td>\n",
              "      <td>89.85</td>\n",
              "      <td>3,770.00</td>\n",
              "      <td>3,766.20</td>\n",
              "      <td>54.85</td>\n",
              "      <td>0.02</td>\n",
              "    </tr>\n",
              "    <tr>\n",
              "      <th>max</th>\n",
              "      <td>72.00</td>\n",
              "      <td>118.75</td>\n",
              "      <td>8,684.80</td>\n",
              "      <td>8,684.80</td>\n",
              "      <td>79.34</td>\n",
              "      <td>0.57</td>\n",
              "    </tr>\n",
              "  </tbody>\n",
              "</table>\n",
              "</div>"
            ],
            "text/plain": [
              "       MesesNaCompanhia  CobrancaMensal  CobrancaTotal  CobrancaTotal2  \\\n",
              "count          5,173.00        5,173.00       5,165.00        5,173.00   \n",
              "mean              32.33           64.66       2,278.96        2,275.50   \n",
              "std               24.46           30.05       2,260.02        2,259.97   \n",
              "min                0.00           18.25          18.80           18.80   \n",
              "25%                9.00           35.45         403.15          401.30   \n",
              "50%               29.00           70.30       1,398.60        1,396.25   \n",
              "75%               55.00           89.85       3,770.00        3,766.20   \n",
              "max               72.00          118.75       8,684.80        8,684.80   \n",
              "\n",
              "       CobrancaTotalPorMensal  Erro_Meses  \n",
              "count                5,165.00    5,165.00  \n",
              "mean                    32.40        0.00  \n",
              "std                     24.49        0.05  \n",
              "min                      1.00       -0.31  \n",
              "25%                      8.92       -0.02  \n",
              "50%                     28.53        0.00  \n",
              "75%                     54.85        0.02  \n",
              "max                     79.34        0.57  "
            ]
          },
          "metadata": {
            "tags": []
          },
          "execution_count": 74
        }
      ]
    },
    {
      "cell_type": "code",
      "metadata": {
        "id": "xj3YXsA6kADb",
        "outputId": "78be7665-928a-4d8c-f495-73f9f81085b1",
        "colab": {
          "base_uri": "https://localhost:8080/"
        }
      },
      "source": [
        "# Observe a coluna Erro_Meses, criada na célula anterior:\n",
        "quantitativas[quantitativas['MesesNaCompanhia'].notna()].sum()"
      ],
      "execution_count": 75,
      "outputs": [
        {
          "output_type": "execute_result",
          "data": {
            "text/plain": [
              "MesesNaCompanhia            167,258.00\n",
              "CobrancaMensal              334,511.15\n",
              "CobrancaTotal            11,770,815.55\n",
              "CobrancaTotal2           11,771,178.35\n",
              "CobrancaTotalPorMensal      167,329.22\n",
              "Erro_Meses                        3.50\n",
              "dtype: float64"
            ]
          },
          "metadata": {
            "tags": []
          },
          "execution_count": 75
        }
      ]
    },
    {
      "cell_type": "code",
      "metadata": {
        "id": "CTKd9JEaiEm_",
        "outputId": "3afadf9d-afc2-4bfb-8962-2a24d8626dcb",
        "colab": {
          "base_uri": "https://localhost:8080/",
          "height": 521
        }
      },
      "source": [
        "# Assim, criamos uma coluna para registrar os MesesNaCompanhia :\n",
        "\n",
        "quantitativas['MesesNaCompanhia2'] = quantitativas['MesesNaCompanhia']\n",
        "quantitativas"
      ],
      "execution_count": 76,
      "outputs": [
        {
          "output_type": "stream",
          "text": [
            "/usr/local/lib/python3.6/dist-packages/ipykernel_launcher.py:3: SettingWithCopyWarning: \n",
            "A value is trying to be set on a copy of a slice from a DataFrame.\n",
            "Try using .loc[row_indexer,col_indexer] = value instead\n",
            "\n",
            "See the caveats in the documentation: https://pandas.pydata.org/pandas-docs/stable/user_guide/indexing.html#returning-a-view-versus-a-copy\n",
            "  This is separate from the ipykernel package so we can avoid doing imports until\n"
          ],
          "name": "stderr"
        },
        {
          "output_type": "execute_result",
          "data": {
            "text/html": [
              "<div>\n",
              "<style scoped>\n",
              "    .dataframe tbody tr th:only-of-type {\n",
              "        vertical-align: middle;\n",
              "    }\n",
              "\n",
              "    .dataframe tbody tr th {\n",
              "        vertical-align: top;\n",
              "    }\n",
              "\n",
              "    .dataframe thead th {\n",
              "        text-align: right;\n",
              "    }\n",
              "</style>\n",
              "<table border=\"1\" class=\"dataframe\">\n",
              "  <thead>\n",
              "    <tr style=\"text-align: right;\">\n",
              "      <th></th>\n",
              "      <th>MesesNaCompanhia</th>\n",
              "      <th>CobrancaMensal</th>\n",
              "      <th>CobrancaTotal</th>\n",
              "      <th>CobrancaTotal2</th>\n",
              "      <th>CobrancaTotalPorMensal</th>\n",
              "      <th>Erro_Meses</th>\n",
              "      <th>MesesNaCompanhia2</th>\n",
              "    </tr>\n",
              "  </thead>\n",
              "  <tbody>\n",
              "    <tr>\n",
              "      <th>0</th>\n",
              "      <td>56.00</td>\n",
              "      <td>45.05</td>\n",
              "      <td>2,560.10</td>\n",
              "      <td>2,560.10</td>\n",
              "      <td>56.83</td>\n",
              "      <td>0.01</td>\n",
              "      <td>56.00</td>\n",
              "    </tr>\n",
              "    <tr>\n",
              "      <th>1</th>\n",
              "      <td>nan</td>\n",
              "      <td>19.65</td>\n",
              "      <td>332.65</td>\n",
              "      <td>332.65</td>\n",
              "      <td>16.93</td>\n",
              "      <td>nan</td>\n",
              "      <td>nan</td>\n",
              "    </tr>\n",
              "    <tr>\n",
              "      <th>2</th>\n",
              "      <td>60.00</td>\n",
              "      <td>110.80</td>\n",
              "      <td>6,640.70</td>\n",
              "      <td>6,640.70</td>\n",
              "      <td>59.93</td>\n",
              "      <td>-0.00</td>\n",
              "      <td>60.00</td>\n",
              "    </tr>\n",
              "    <tr>\n",
              "      <th>3</th>\n",
              "      <td>37.00</td>\n",
              "      <td>101.90</td>\n",
              "      <td>3,545.35</td>\n",
              "      <td>3,545.35</td>\n",
              "      <td>34.79</td>\n",
              "      <td>-0.06</td>\n",
              "      <td>37.00</td>\n",
              "    </tr>\n",
              "    <tr>\n",
              "      <th>4</th>\n",
              "      <td>29.00</td>\n",
              "      <td>70.75</td>\n",
              "      <td>1,974.80</td>\n",
              "      <td>1,974.80</td>\n",
              "      <td>27.91</td>\n",
              "      <td>-0.04</td>\n",
              "      <td>29.00</td>\n",
              "    </tr>\n",
              "    <tr>\n",
              "      <th>...</th>\n",
              "      <td>...</td>\n",
              "      <td>...</td>\n",
              "      <td>...</td>\n",
              "      <td>...</td>\n",
              "      <td>...</td>\n",
              "      <td>...</td>\n",
              "      <td>...</td>\n",
              "    </tr>\n",
              "    <tr>\n",
              "      <th>5629</th>\n",
              "      <td>43.00</td>\n",
              "      <td>44.15</td>\n",
              "      <td>1,931.30</td>\n",
              "      <td>1,931.30</td>\n",
              "      <td>43.74</td>\n",
              "      <td>0.02</td>\n",
              "      <td>43.00</td>\n",
              "    </tr>\n",
              "    <tr>\n",
              "      <th>5630</th>\n",
              "      <td>nan</td>\n",
              "      <td>108.65</td>\n",
              "      <td>4,903.20</td>\n",
              "      <td>4,903.20</td>\n",
              "      <td>45.13</td>\n",
              "      <td>nan</td>\n",
              "      <td>nan</td>\n",
              "    </tr>\n",
              "    <tr>\n",
              "      <th>5631</th>\n",
              "      <td>28.00</td>\n",
              "      <td>54.65</td>\n",
              "      <td>1,517.50</td>\n",
              "      <td>1,517.50</td>\n",
              "      <td>27.77</td>\n",
              "      <td>-0.01</td>\n",
              "      <td>28.00</td>\n",
              "    </tr>\n",
              "    <tr>\n",
              "      <th>5632</th>\n",
              "      <td>63.00</td>\n",
              "      <td>25.25</td>\n",
              "      <td>1,573.05</td>\n",
              "      <td>1,573.05</td>\n",
              "      <td>62.30</td>\n",
              "      <td>-0.01</td>\n",
              "      <td>63.00</td>\n",
              "    </tr>\n",
              "    <tr>\n",
              "      <th>5633</th>\n",
              "      <td>38.00</td>\n",
              "      <td>95.00</td>\n",
              "      <td>3,605.60</td>\n",
              "      <td>3,605.60</td>\n",
              "      <td>37.95</td>\n",
              "      <td>-0.00</td>\n",
              "      <td>38.00</td>\n",
              "    </tr>\n",
              "  </tbody>\n",
              "</table>\n",
              "<p>5634 rows × 7 columns</p>\n",
              "</div>"
            ],
            "text/plain": [
              "      MesesNaCompanhia  CobrancaMensal  CobrancaTotal  CobrancaTotal2  \\\n",
              "0                56.00           45.05       2,560.10        2,560.10   \n",
              "1                  nan           19.65         332.65          332.65   \n",
              "2                60.00          110.80       6,640.70        6,640.70   \n",
              "3                37.00          101.90       3,545.35        3,545.35   \n",
              "4                29.00           70.75       1,974.80        1,974.80   \n",
              "...                ...             ...            ...             ...   \n",
              "5629             43.00           44.15       1,931.30        1,931.30   \n",
              "5630               nan          108.65       4,903.20        4,903.20   \n",
              "5631             28.00           54.65       1,517.50        1,517.50   \n",
              "5632             63.00           25.25       1,573.05        1,573.05   \n",
              "5633             38.00           95.00       3,605.60        3,605.60   \n",
              "\n",
              "      CobrancaTotalPorMensal  Erro_Meses  MesesNaCompanhia2  \n",
              "0                      56.83        0.01              56.00  \n",
              "1                      16.93         nan                nan  \n",
              "2                      59.93       -0.00              60.00  \n",
              "3                      34.79       -0.06              37.00  \n",
              "4                      27.91       -0.04              29.00  \n",
              "...                      ...         ...                ...  \n",
              "5629                   43.74        0.02              43.00  \n",
              "5630                   45.13         nan                nan  \n",
              "5631                   27.77       -0.01              28.00  \n",
              "5632                   62.30       -0.01              63.00  \n",
              "5633                   37.95       -0.00              38.00  \n",
              "\n",
              "[5634 rows x 7 columns]"
            ]
          },
          "metadata": {
            "tags": []
          },
          "execution_count": 76
        }
      ]
    },
    {
      "cell_type": "code",
      "metadata": {
        "id": "nrfPTHx5iaw7",
        "outputId": "88caf5a0-53c7-4012-942f-97019f47e64b",
        "colab": {
          "base_uri": "https://localhost:8080/"
        }
      },
      "source": [
        "# Em seguida, preenchemos os NaNs da coluna criada com a CobrancaTotalPorMensal\n",
        "quantitativas['MesesNaCompanhia2'].fillna(quantitativas['CobrancaTotalPorMensal'], inplace = True)"
      ],
      "execution_count": 77,
      "outputs": [
        {
          "output_type": "stream",
          "text": [
            "/usr/local/lib/python3.6/dist-packages/pandas/core/series.py:4523: SettingWithCopyWarning: \n",
            "A value is trying to be set on a copy of a slice from a DataFrame\n",
            "\n",
            "See the caveats in the documentation: https://pandas.pydata.org/pandas-docs/stable/user_guide/indexing.html#returning-a-view-versus-a-copy\n",
            "  downcast=downcast,\n"
          ],
          "name": "stderr"
        }
      ]
    },
    {
      "cell_type": "code",
      "metadata": {
        "id": "9A1ltND3lQaT",
        "outputId": "9618b83f-b5c6-4daf-9454-589e77f4a636",
        "colab": {
          "base_uri": "https://localhost:8080/",
          "height": 419
        }
      },
      "source": [
        "quantitativas[quantitativas['MesesNaCompanhia'].isna()]"
      ],
      "execution_count": 78,
      "outputs": [
        {
          "output_type": "execute_result",
          "data": {
            "text/html": [
              "<div>\n",
              "<style scoped>\n",
              "    .dataframe tbody tr th:only-of-type {\n",
              "        vertical-align: middle;\n",
              "    }\n",
              "\n",
              "    .dataframe tbody tr th {\n",
              "        vertical-align: top;\n",
              "    }\n",
              "\n",
              "    .dataframe thead th {\n",
              "        text-align: right;\n",
              "    }\n",
              "</style>\n",
              "<table border=\"1\" class=\"dataframe\">\n",
              "  <thead>\n",
              "    <tr style=\"text-align: right;\">\n",
              "      <th></th>\n",
              "      <th>MesesNaCompanhia</th>\n",
              "      <th>CobrancaMensal</th>\n",
              "      <th>CobrancaTotal</th>\n",
              "      <th>CobrancaTotal2</th>\n",
              "      <th>CobrancaTotalPorMensal</th>\n",
              "      <th>Erro_Meses</th>\n",
              "      <th>MesesNaCompanhia2</th>\n",
              "    </tr>\n",
              "  </thead>\n",
              "  <tbody>\n",
              "    <tr>\n",
              "      <th>1</th>\n",
              "      <td>nan</td>\n",
              "      <td>19.65</td>\n",
              "      <td>332.65</td>\n",
              "      <td>332.65</td>\n",
              "      <td>16.93</td>\n",
              "      <td>nan</td>\n",
              "      <td>16.93</td>\n",
              "    </tr>\n",
              "    <tr>\n",
              "      <th>11</th>\n",
              "      <td>nan</td>\n",
              "      <td>94.90</td>\n",
              "      <td>4,422.95</td>\n",
              "      <td>4,422.95</td>\n",
              "      <td>46.61</td>\n",
              "      <td>nan</td>\n",
              "      <td>46.61</td>\n",
              "    </tr>\n",
              "    <tr>\n",
              "      <th>34</th>\n",
              "      <td>nan</td>\n",
              "      <td>44.70</td>\n",
              "      <td>44.70</td>\n",
              "      <td>44.70</td>\n",
              "      <td>1.00</td>\n",
              "      <td>nan</td>\n",
              "      <td>1.00</td>\n",
              "    </tr>\n",
              "    <tr>\n",
              "      <th>45</th>\n",
              "      <td>nan</td>\n",
              "      <td>97.80</td>\n",
              "      <td>4,913.30</td>\n",
              "      <td>4,913.30</td>\n",
              "      <td>50.24</td>\n",
              "      <td>nan</td>\n",
              "      <td>50.24</td>\n",
              "    </tr>\n",
              "    <tr>\n",
              "      <th>55</th>\n",
              "      <td>nan</td>\n",
              "      <td>25.05</td>\n",
              "      <td>963.95</td>\n",
              "      <td>963.95</td>\n",
              "      <td>38.48</td>\n",
              "      <td>nan</td>\n",
              "      <td>38.48</td>\n",
              "    </tr>\n",
              "    <tr>\n",
              "      <th>...</th>\n",
              "      <td>...</td>\n",
              "      <td>...</td>\n",
              "      <td>...</td>\n",
              "      <td>...</td>\n",
              "      <td>...</td>\n",
              "      <td>...</td>\n",
              "      <td>...</td>\n",
              "    </tr>\n",
              "    <tr>\n",
              "      <th>5587</th>\n",
              "      <td>nan</td>\n",
              "      <td>64.85</td>\n",
              "      <td>950.75</td>\n",
              "      <td>950.75</td>\n",
              "      <td>14.66</td>\n",
              "      <td>nan</td>\n",
              "      <td>14.66</td>\n",
              "    </tr>\n",
              "    <tr>\n",
              "      <th>5596</th>\n",
              "      <td>nan</td>\n",
              "      <td>54.40</td>\n",
              "      <td>114.10</td>\n",
              "      <td>114.10</td>\n",
              "      <td>2.10</td>\n",
              "      <td>nan</td>\n",
              "      <td>2.10</td>\n",
              "    </tr>\n",
              "    <tr>\n",
              "      <th>5613</th>\n",
              "      <td>nan</td>\n",
              "      <td>29.90</td>\n",
              "      <td>118.25</td>\n",
              "      <td>118.25</td>\n",
              "      <td>3.95</td>\n",
              "      <td>nan</td>\n",
              "      <td>3.95</td>\n",
              "    </tr>\n",
              "    <tr>\n",
              "      <th>5623</th>\n",
              "      <td>nan</td>\n",
              "      <td>49.85</td>\n",
              "      <td>1,336.15</td>\n",
              "      <td>1,336.15</td>\n",
              "      <td>26.80</td>\n",
              "      <td>nan</td>\n",
              "      <td>26.80</td>\n",
              "    </tr>\n",
              "    <tr>\n",
              "      <th>5630</th>\n",
              "      <td>nan</td>\n",
              "      <td>108.65</td>\n",
              "      <td>4,903.20</td>\n",
              "      <td>4,903.20</td>\n",
              "      <td>45.13</td>\n",
              "      <td>nan</td>\n",
              "      <td>45.13</td>\n",
              "    </tr>\n",
              "  </tbody>\n",
              "</table>\n",
              "<p>461 rows × 7 columns</p>\n",
              "</div>"
            ],
            "text/plain": [
              "      MesesNaCompanhia  CobrancaMensal  CobrancaTotal  CobrancaTotal2  \\\n",
              "1                  nan           19.65         332.65          332.65   \n",
              "11                 nan           94.90       4,422.95        4,422.95   \n",
              "34                 nan           44.70          44.70           44.70   \n",
              "45                 nan           97.80       4,913.30        4,913.30   \n",
              "55                 nan           25.05         963.95          963.95   \n",
              "...                ...             ...            ...             ...   \n",
              "5587               nan           64.85         950.75          950.75   \n",
              "5596               nan           54.40         114.10          114.10   \n",
              "5613               nan           29.90         118.25          118.25   \n",
              "5623               nan           49.85       1,336.15        1,336.15   \n",
              "5630               nan          108.65       4,903.20        4,903.20   \n",
              "\n",
              "      CobrancaTotalPorMensal  Erro_Meses  MesesNaCompanhia2  \n",
              "1                      16.93         nan              16.93  \n",
              "11                     46.61         nan              46.61  \n",
              "34                      1.00         nan               1.00  \n",
              "45                     50.24         nan              50.24  \n",
              "55                     38.48         nan              38.48  \n",
              "...                      ...         ...                ...  \n",
              "5587                   14.66         nan              14.66  \n",
              "5596                    2.10         nan               2.10  \n",
              "5613                    3.95         nan               3.95  \n",
              "5623                   26.80         nan              26.80  \n",
              "5630                   45.13         nan              45.13  \n",
              "\n",
              "[461 rows x 7 columns]"
            ]
          },
          "metadata": {
            "tags": []
          },
          "execution_count": 78
        }
      ]
    },
    {
      "cell_type": "code",
      "metadata": {
        "id": "w27nKYqyl-JR"
      },
      "source": [
        "quantitativas = quantitativas[['MesesNaCompanhia2', 'CobrancaMensal', 'CobrancaTotal2']].copy()\n",
        "quantitativas.columns = ['MesesNaCompanhia', 'CobrancaMensal', 'CobrancaTotal']\n"
      ],
      "execution_count": 79,
      "outputs": []
    },
    {
      "cell_type": "code",
      "metadata": {
        "id": "3_n2Pgx1mfhg",
        "outputId": "ea92d8ef-408e-4943-ff86-3c3c8f6f1dc1",
        "colab": {
          "base_uri": "https://localhost:8080/"
        }
      },
      "source": [
        "quantitativas.info()"
      ],
      "execution_count": 80,
      "outputs": [
        {
          "output_type": "stream",
          "text": [
            "<class 'pandas.core.frame.DataFrame'>\n",
            "RangeIndex: 5634 entries, 0 to 5633\n",
            "Data columns (total 3 columns):\n",
            " #   Column            Non-Null Count  Dtype  \n",
            "---  ------            --------------  -----  \n",
            " 0   MesesNaCompanhia  5634 non-null   float64\n",
            " 1   CobrancaMensal    5634 non-null   float64\n",
            " 2   CobrancaTotal     5634 non-null   float64\n",
            "dtypes: float64(3)\n",
            "memory usage: 132.2 KB\n"
          ],
          "name": "stdout"
        }
      ]
    },
    {
      "cell_type": "code",
      "metadata": {
        "id": "JhkRr0ZMmL5n",
        "outputId": "9071aabb-ca6a-49d2-fc21-e2bd16539937",
        "colab": {
          "base_uri": "https://localhost:8080/",
          "height": 619
        }
      },
      "source": [
        "# Verificando o formato da distribuição:\n",
        "plt.figure(figsize = (12, 8))\n",
        "plt.hist(quantitativas['MesesNaCompanhia'], color = 'blue', edgecolor = 'black', bins = 20)"
      ],
      "execution_count": 81,
      "outputs": [
        {
          "output_type": "execute_result",
          "data": {
            "text/plain": [
              "(array([843., 448., 363., 312., 220., 235., 270., 225., 163., 210., 206.,\n",
              "        202., 159., 228., 231., 204., 233., 200., 395., 287.]),\n",
              " array([ 0.        ,  3.76629779,  7.53259557, 11.29889336, 15.06519115,\n",
              "        18.83148893, 22.59778672, 26.36408451, 30.13038229, 33.89668008,\n",
              "        37.66297787, 41.42927565, 45.19557344, 48.96187123, 52.72816901,\n",
              "        56.4944668 , 60.26076459, 64.02706237, 67.79336016, 71.55965795,\n",
              "        75.32595573]),\n",
              " <a list of 20 Patch objects>)"
            ]
          },
          "metadata": {
            "tags": []
          },
          "execution_count": 81
        },
        {
          "output_type": "display_data",
          "data": {
            "image/png": "[encoded data removed]",
            "text/plain": [
              "<Figure size 864x576 with 1 Axes>"
            ]
          },
          "metadata": {
            "tags": [],
            "needs_background": "light"
          }
        }
      ]
    },
    {
      "cell_type": "code",
      "metadata": {
        "id": "tOunlJiYo3Jz",
        "outputId": "0a90212c-d904-49a0-9a30-5371b85aa13f",
        "colab": {
          "base_uri": "https://localhost:8080/",
          "height": 585
        }
      },
      "source": [
        "plt.figure(figsize = (12, 8))\n",
        "plt.hist(quantitativas['CobrancaMensal'], color = 'blue', edgecolor = 'black', bins = 20)"
      ],
      "execution_count": 82,
      "outputs": [
        {
          "output_type": "execute_result",
          "data": {
            "text/plain": [
              "(array([942., 344.,  73.,  82.,  86., 204., 254., 263., 197., 179., 364.,\n",
              "        370., 396., 358., 355., 331., 316., 290., 155.,  75.]),\n",
              " array([ 18.25 ,  23.275,  28.3  ,  33.325,  38.35 ,  43.375,  48.4  ,\n",
              "         53.425,  58.45 ,  63.475,  68.5  ,  73.525,  78.55 ,  83.575,\n",
              "         88.6  ,  93.625,  98.65 , 103.675, 108.7  , 113.725, 118.75 ]),\n",
              " <a list of 20 Patch objects>)"
            ]
          },
          "metadata": {
            "tags": []
          },
          "execution_count": 82
        },
        {
          "output_type": "display_data",
          "data": {
            "image/png": "[encoded data removed]",
            "text/plain": [
              "<Figure size 864x576 with 1 Axes>"
            ]
          },
          "metadata": {
            "tags": [],
            "needs_background": "light"
          }
        }
      ]
    },
    {
      "cell_type": "code",
      "metadata": {
        "id": "zbC1aj3ko7sr",
        "outputId": "476bea7e-40f9-4dd3-9344-f918035b6771",
        "colab": {
          "base_uri": "https://localhost:8080/",
          "height": 602
        }
      },
      "source": [
        "plt.figure(figsize = (12, 8))\n",
        "plt.hist(quantitativas['CobrancaTotal'], color = 'blue', edgecolor = 'black', bins = 20)"
      ],
      "execution_count": 83,
      "outputs": [
        {
          "output_type": "execute_result",
          "data": {
            "text/plain": [
              "(array([1512.,  673.,  546.,  430.,  292.,  258.,  209.,  200.,  174.,\n",
              "         183.,  161.,  168.,  147.,  157.,  137.,  116.,  104.,   73.,\n",
              "          64.,   30.]),\n",
              " array([  18.8,  452.1,  885.4, 1318.7, 1752. , 2185.3, 2618.6, 3051.9,\n",
              "        3485.2, 3918.5, 4351.8, 4785.1, 5218.4, 5651.7, 6085. , 6518.3,\n",
              "        6951.6, 7384.9, 7818.2, 8251.5, 8684.8]),\n",
              " <a list of 20 Patch objects>)"
            ]
          },
          "metadata": {
            "tags": []
          },
          "execution_count": 83
        },
        {
          "output_type": "display_data",
          "data": {
            "image/png": "[encoded data removed]",
            "text/plain": [
              "<Figure size 864x576 with 1 Axes>"
            ]
          },
          "metadata": {
            "tags": [],
            "needs_background": "light"
          }
        }
      ]
    },
    {
      "cell_type": "code",
      "metadata": {
        "id": "a9JiPb3Ao-5F",
        "outputId": "54cb2730-45ae-4acd-b688-d21baec65d82",
        "colab": {
          "base_uri": "https://localhost:8080/",
          "height": 282
        }
      },
      "source": [
        "quantitativas.plot(kind = 'kde')"
      ],
      "execution_count": 84,
      "outputs": [
        {
          "output_type": "execute_result",
          "data": {
            "text/plain": [
              "<matplotlib.axes._subplots.AxesSubplot at 0x7f7fb5e90128>"
            ]
          },
          "metadata": {
            "tags": []
          },
          "execution_count": 84
        },
        {
          "output_type": "display_data",
          "data": {
            "image/png": "[encoded data removed]",
            "text/plain": [
              "<Figure size 432x288 with 1 Axes>"
            ]
          },
          "metadata": {
            "tags": [],
            "needs_background": "light"
          }
        }
      ]
    },
    {
      "cell_type": "code",
      "metadata": {
        "id": "qMSnVJiVpFZB"
      },
      "source": [
        "# 1a Transformação: StandardScaler\n",
        "from sklearn.preprocessing import StandardScaler\n",
        "\n",
        "quant_scale = StandardScaler().fit_transform(quantitativas)"
      ],
      "execution_count": 85,
      "outputs": []
    },
    {
      "cell_type": "code",
      "metadata": {
        "id": "zfswaTjNpKvj",
        "outputId": "8ff2a673-f16a-4628-924a-01286c599dc0",
        "colab": {
          "base_uri": "https://localhost:8080/",
          "height": 297
        }
      },
      "source": [
        "quant_scale = pd.DataFrame(quant_scale, columns= quantitativas.columns)\n",
        "quant_scale.describe()"
      ],
      "execution_count": 86,
      "outputs": [
        {
          "output_type": "execute_result",
          "data": {
            "text/html": [
              "<div>\n",
              "<style scoped>\n",
              "    .dataframe tbody tr th:only-of-type {\n",
              "        vertical-align: middle;\n",
              "    }\n",
              "\n",
              "    .dataframe tbody tr th {\n",
              "        vertical-align: top;\n",
              "    }\n",
              "\n",
              "    .dataframe thead th {\n",
              "        text-align: right;\n",
              "    }\n",
              "</style>\n",
              "<table border=\"1\" class=\"dataframe\">\n",
              "  <thead>\n",
              "    <tr style=\"text-align: right;\">\n",
              "      <th></th>\n",
              "      <th>MesesNaCompanhia</th>\n",
              "      <th>CobrancaMensal</th>\n",
              "      <th>CobrancaTotal</th>\n",
              "    </tr>\n",
              "  </thead>\n",
              "  <tbody>\n",
              "    <tr>\n",
              "      <th>count</th>\n",
              "      <td>5,634.00</td>\n",
              "      <td>5,634.00</td>\n",
              "      <td>5,634.00</td>\n",
              "    </tr>\n",
              "    <tr>\n",
              "      <th>mean</th>\n",
              "      <td>-0.00</td>\n",
              "      <td>0.00</td>\n",
              "      <td>0.00</td>\n",
              "    </tr>\n",
              "    <tr>\n",
              "      <th>std</th>\n",
              "      <td>1.00</td>\n",
              "      <td>1.00</td>\n",
              "      <td>1.00</td>\n",
              "    </tr>\n",
              "    <tr>\n",
              "      <th>min</th>\n",
              "      <td>-1.32</td>\n",
              "      <td>-1.54</td>\n",
              "      <td>-1.00</td>\n",
              "    </tr>\n",
              "    <tr>\n",
              "      <th>25%</th>\n",
              "      <td>-0.95</td>\n",
              "      <td>-0.97</td>\n",
              "      <td>-0.83</td>\n",
              "    </tr>\n",
              "    <tr>\n",
              "      <th>50%</th>\n",
              "      <td>-0.14</td>\n",
              "      <td>0.19</td>\n",
              "      <td>-0.39</td>\n",
              "    </tr>\n",
              "    <tr>\n",
              "      <th>75%</th>\n",
              "      <td>0.92</td>\n",
              "      <td>0.84</td>\n",
              "      <td>0.66</td>\n",
              "    </tr>\n",
              "    <tr>\n",
              "      <th>max</th>\n",
              "      <td>1.75</td>\n",
              "      <td>1.80</td>\n",
              "      <td>2.84</td>\n",
              "    </tr>\n",
              "  </tbody>\n",
              "</table>\n",
              "</div>"
            ],
            "text/plain": [
              "       MesesNaCompanhia  CobrancaMensal  CobrancaTotal\n",
              "count          5,634.00        5,634.00       5,634.00\n",
              "mean              -0.00            0.00           0.00\n",
              "std                1.00            1.00           1.00\n",
              "min               -1.32           -1.54          -1.00\n",
              "25%               -0.95           -0.97          -0.83\n",
              "50%               -0.14            0.19          -0.39\n",
              "75%                0.92            0.84           0.66\n",
              "max                1.75            1.80           2.84"
            ]
          },
          "metadata": {
            "tags": []
          },
          "execution_count": 86
        }
      ]
    },
    {
      "cell_type": "code",
      "metadata": {
        "id": "gr0Z6bdPqUhW",
        "outputId": "ec75fa56-99dc-4e2b-fed2-093b7cbf41a4",
        "colab": {
          "base_uri": "https://localhost:8080/",
          "height": 297
        }
      },
      "source": [
        "# 2a Transformação: MinMaxScaler\n",
        "from sklearn.preprocessing import MinMaxScaler\n",
        "\n",
        "quant_minmax = MinMaxScaler().fit_transform(quantitativas)\n",
        "quant_minmax = pd.DataFrame(quant_minmax, columns= quantitativas.columns)\n",
        "quant_minmax.describe()"
      ],
      "execution_count": 87,
      "outputs": [
        {
          "output_type": "execute_result",
          "data": {
            "text/html": [
              "<div>\n",
              "<style scoped>\n",
              "    .dataframe tbody tr th:only-of-type {\n",
              "        vertical-align: middle;\n",
              "    }\n",
              "\n",
              "    .dataframe tbody tr th {\n",
              "        vertical-align: top;\n",
              "    }\n",
              "\n",
              "    .dataframe thead th {\n",
              "        text-align: right;\n",
              "    }\n",
              "</style>\n",
              "<table border=\"1\" class=\"dataframe\">\n",
              "  <thead>\n",
              "    <tr style=\"text-align: right;\">\n",
              "      <th></th>\n",
              "      <th>MesesNaCompanhia</th>\n",
              "      <th>CobrancaMensal</th>\n",
              "      <th>CobrancaTotal</th>\n",
              "    </tr>\n",
              "  </thead>\n",
              "  <tbody>\n",
              "    <tr>\n",
              "      <th>count</th>\n",
              "      <td>5,634.00</td>\n",
              "      <td>5,634.00</td>\n",
              "      <td>5,634.00</td>\n",
              "    </tr>\n",
              "    <tr>\n",
              "      <th>mean</th>\n",
              "      <td>0.43</td>\n",
              "      <td>0.46</td>\n",
              "      <td>0.26</td>\n",
              "    </tr>\n",
              "    <tr>\n",
              "      <th>std</th>\n",
              "      <td>0.33</td>\n",
              "      <td>0.30</td>\n",
              "      <td>0.26</td>\n",
              "    </tr>\n",
              "    <tr>\n",
              "      <th>min</th>\n",
              "      <td>0.00</td>\n",
              "      <td>0.00</td>\n",
              "      <td>0.00</td>\n",
              "    </tr>\n",
              "    <tr>\n",
              "      <th>25%</th>\n",
              "      <td>0.12</td>\n",
              "      <td>0.17</td>\n",
              "      <td>0.04</td>\n",
              "    </tr>\n",
              "    <tr>\n",
              "      <th>50%</th>\n",
              "      <td>0.38</td>\n",
              "      <td>0.52</td>\n",
              "      <td>0.16</td>\n",
              "    </tr>\n",
              "    <tr>\n",
              "      <th>75%</th>\n",
              "      <td>0.73</td>\n",
              "      <td>0.71</td>\n",
              "      <td>0.43</td>\n",
              "    </tr>\n",
              "    <tr>\n",
              "      <th>max</th>\n",
              "      <td>1.00</td>\n",
              "      <td>1.00</td>\n",
              "      <td>1.00</td>\n",
              "    </tr>\n",
              "  </tbody>\n",
              "</table>\n",
              "</div>"
            ],
            "text/plain": [
              "       MesesNaCompanhia  CobrancaMensal  CobrancaTotal\n",
              "count          5,634.00        5,634.00       5,634.00\n",
              "mean               0.43            0.46           0.26\n",
              "std                0.33            0.30           0.26\n",
              "min                0.00            0.00           0.00\n",
              "25%                0.12            0.17           0.04\n",
              "50%                0.38            0.52           0.16\n",
              "75%                0.73            0.71           0.43\n",
              "max                1.00            1.00           1.00"
            ]
          },
          "metadata": {
            "tags": []
          },
          "execution_count": 87
        }
      ]
    },
    {
      "cell_type": "code",
      "metadata": {
        "id": "ug-8QVnpsD_A",
        "outputId": "c6693d82-3553-44a3-ff0c-47a433c35ac1",
        "colab": {
          "base_uri": "https://localhost:8080/",
          "height": 297
        }
      },
      "source": [
        "# 3a Transformação: RobustScaler\n",
        "from sklearn.preprocessing import RobustScaler\n",
        "\n",
        "quant_robust = RobustScaler().fit_transform(quantitativas)\n",
        "quant_robust = pd.DataFrame(quant_minmax, columns= quantitativas.columns)\n",
        "quant_robust.describe()"
      ],
      "execution_count": 88,
      "outputs": [
        {
          "output_type": "execute_result",
          "data": {
            "text/html": [
              "<div>\n",
              "<style scoped>\n",
              "    .dataframe tbody tr th:only-of-type {\n",
              "        vertical-align: middle;\n",
              "    }\n",
              "\n",
              "    .dataframe tbody tr th {\n",
              "        vertical-align: top;\n",
              "    }\n",
              "\n",
              "    .dataframe thead th {\n",
              "        text-align: right;\n",
              "    }\n",
              "</style>\n",
              "<table border=\"1\" class=\"dataframe\">\n",
              "  <thead>\n",
              "    <tr style=\"text-align: right;\">\n",
              "      <th></th>\n",
              "      <th>MesesNaCompanhia</th>\n",
              "      <th>CobrancaMensal</th>\n",
              "      <th>CobrancaTotal</th>\n",
              "    </tr>\n",
              "  </thead>\n",
              "  <tbody>\n",
              "    <tr>\n",
              "      <th>count</th>\n",
              "      <td>5,634.00</td>\n",
              "      <td>5,634.00</td>\n",
              "      <td>5,634.00</td>\n",
              "    </tr>\n",
              "    <tr>\n",
              "      <th>mean</th>\n",
              "      <td>0.43</td>\n",
              "      <td>0.46</td>\n",
              "      <td>0.26</td>\n",
              "    </tr>\n",
              "    <tr>\n",
              "      <th>std</th>\n",
              "      <td>0.33</td>\n",
              "      <td>0.30</td>\n",
              "      <td>0.26</td>\n",
              "    </tr>\n",
              "    <tr>\n",
              "      <th>min</th>\n",
              "      <td>0.00</td>\n",
              "      <td>0.00</td>\n",
              "      <td>0.00</td>\n",
              "    </tr>\n",
              "    <tr>\n",
              "      <th>25%</th>\n",
              "      <td>0.12</td>\n",
              "      <td>0.17</td>\n",
              "      <td>0.04</td>\n",
              "    </tr>\n",
              "    <tr>\n",
              "      <th>50%</th>\n",
              "      <td>0.38</td>\n",
              "      <td>0.52</td>\n",
              "      <td>0.16</td>\n",
              "    </tr>\n",
              "    <tr>\n",
              "      <th>75%</th>\n",
              "      <td>0.73</td>\n",
              "      <td>0.71</td>\n",
              "      <td>0.43</td>\n",
              "    </tr>\n",
              "    <tr>\n",
              "      <th>max</th>\n",
              "      <td>1.00</td>\n",
              "      <td>1.00</td>\n",
              "      <td>1.00</td>\n",
              "    </tr>\n",
              "  </tbody>\n",
              "</table>\n",
              "</div>"
            ],
            "text/plain": [
              "       MesesNaCompanhia  CobrancaMensal  CobrancaTotal\n",
              "count          5,634.00        5,634.00       5,634.00\n",
              "mean               0.43            0.46           0.26\n",
              "std                0.33            0.30           0.26\n",
              "min                0.00            0.00           0.00\n",
              "25%                0.12            0.17           0.04\n",
              "50%                0.38            0.52           0.16\n",
              "75%                0.73            0.71           0.43\n",
              "max                1.00            1.00           1.00"
            ]
          },
          "metadata": {
            "tags": []
          },
          "execution_count": 88
        }
      ]
    },
    {
      "cell_type": "code",
      "metadata": {
        "id": "mk99nbNHrtE_",
        "outputId": "0eb41f2a-c52d-4842-c424-4f97a71670a2",
        "colab": {
          "base_uri": "https://localhost:8080/",
          "height": 286
        }
      },
      "source": [
        "quant_scale.plot(kind= 'kde')"
      ],
      "execution_count": 89,
      "outputs": [
        {
          "output_type": "execute_result",
          "data": {
            "text/plain": [
              "<matplotlib.axes._subplots.AxesSubplot at 0x7f7fb5c72710>"
            ]
          },
          "metadata": {
            "tags": []
          },
          "execution_count": 89
        },
        {
          "output_type": "display_data",
          "data": {
            "image/png": "[encoded data removed]",
            "text/plain": [
              "<Figure size 432x288 with 1 Axes>"
            ]
          },
          "metadata": {
            "tags": [],
            "needs_background": "light"
          }
        }
      ]
    },
    {
      "cell_type": "code",
      "metadata": {
        "id": "sVxsOn4Qq2sA",
        "outputId": "1cd1ae72-1f0f-432b-cae1-7f5e0dc9b292",
        "colab": {
          "base_uri": "https://localhost:8080/",
          "height": 282
        }
      },
      "source": [
        "quant_minmax.plot(kind='kde')"
      ],
      "execution_count": 90,
      "outputs": [
        {
          "output_type": "execute_result",
          "data": {
            "text/plain": [
              "<matplotlib.axes._subplots.AxesSubplot at 0x7f7fb5c0fda0>"
            ]
          },
          "metadata": {
            "tags": []
          },
          "execution_count": 90
        },
        {
          "output_type": "display_data",
          "data": {
            "image/png": "[encoded data removed]",
            "text/plain": [
              "<Figure size 432x288 with 1 Axes>"
            ]
          },
          "metadata": {
            "tags": [],
            "needs_background": "light"
          }
        }
      ]
    },
    {
      "cell_type": "code",
      "metadata": {
        "id": "fQMB8c5FrzP7",
        "outputId": "da51b14c-bd8e-43f4-daf6-7bcfba1fb569",
        "colab": {
          "base_uri": "https://localhost:8080/",
          "height": 282
        }
      },
      "source": [
        "quant_robust.plot(kind = 'kde')"
      ],
      "execution_count": 91,
      "outputs": [
        {
          "output_type": "execute_result",
          "data": {
            "text/plain": [
              "<matplotlib.axes._subplots.AxesSubplot at 0x7f7fb5c06518>"
            ]
          },
          "metadata": {
            "tags": []
          },
          "execution_count": 91
        },
        {
          "output_type": "display_data",
          "data": {
            "image/png": "[encoded data removed]",
            "text/plain": [
              "<Figure size 432x288 with 1 Axes>"
            ]
          },
          "metadata": {
            "tags": [],
            "needs_background": "light"
          }
        }
      ]
    },
    {
      "cell_type": "markdown",
      "metadata": {
        "id": "q5ns8as7stY8"
      },
      "source": [
        "## Tratamento das variáveis categórias"
      ]
    },
    {
      "cell_type": "code",
      "metadata": {
        "id": "VHN9ua09sx8q",
        "outputId": "b064f5d1-8231-4101-c2bf-6ec891fe04bb",
        "colab": {
          "base_uri": "https://localhost:8080/"
        }
      },
      "source": [
        "categoricas.info()"
      ],
      "execution_count": 92,
      "outputs": [
        {
          "output_type": "stream",
          "text": [
            "<class 'pandas.core.frame.DataFrame'>\n",
            "RangeIndex: 5634 entries, 0 to 5633\n",
            "Data columns (total 16 columns):\n",
            " #   Column                  Non-Null Count  Dtype \n",
            "---  ------                  --------------  ----- \n",
            " 0   genero                  5634 non-null   object\n",
            " 1   Idoso                   5634 non-null   int64 \n",
            " 2   TemParceiro             5634 non-null   object\n",
            " 3   TemDependentes          5416 non-null   object\n",
            " 4   TemTelefone             5634 non-null   object\n",
            " 5   MaisLinhas              5634 non-null   object\n",
            " 6   TemInternet             5634 non-null   object\n",
            " 7   ServicoSegurancaOnline  5634 non-null   object\n",
            " 8   ServicoBackupOnline     5634 non-null   object\n",
            " 9   ServicoProtecaoOnline   5634 non-null   object\n",
            " 10  ServicoSuporteOnline    5634 non-null   object\n",
            " 11  ServicoTV               5634 non-null   object\n",
            " 12  ServicoPctFilmes        5634 non-null   object\n",
            " 13  Contrato                5634 non-null   object\n",
            " 14  ContaOnline             5634 non-null   object\n",
            " 15  MetodoPagamento         5535 non-null   object\n",
            "dtypes: int64(1), object(15)\n",
            "memory usage: 704.4+ KB\n"
          ],
          "name": "stdout"
        }
      ]
    },
    {
      "cell_type": "markdown",
      "metadata": {
        "id": "U_JQL77VtB20"
      },
      "source": [
        "Tratamento de valores faltantes"
      ]
    },
    {
      "cell_type": "code",
      "metadata": {
        "id": "LxQdjG0JszRb",
        "outputId": "7c90bdfb-f47a-4dcd-f0f3-237bdbaad5e7",
        "colab": {
          "base_uri": "https://localhost:8080/"
        }
      },
      "source": [
        "categoricas.isna().sum()"
      ],
      "execution_count": 93,
      "outputs": [
        {
          "output_type": "execute_result",
          "data": {
            "text/plain": [
              "genero                      0\n",
              "Idoso                       0\n",
              "TemParceiro                 0\n",
              "TemDependentes            218\n",
              "TemTelefone                 0\n",
              "MaisLinhas                  0\n",
              "TemInternet                 0\n",
              "ServicoSegurancaOnline      0\n",
              "ServicoBackupOnline         0\n",
              "ServicoProtecaoOnline       0\n",
              "ServicoSuporteOnline        0\n",
              "ServicoTV                   0\n",
              "ServicoPctFilmes            0\n",
              "Contrato                    0\n",
              "ContaOnline                 0\n",
              "MetodoPagamento            99\n",
              "dtype: int64"
            ]
          },
          "metadata": {
            "tags": []
          },
          "execution_count": 93
        }
      ]
    },
    {
      "cell_type": "code",
      "metadata": {
        "id": "kBCuxaV7s7Y_"
      },
      "source": [
        "# Criar coluna TemDependentes2 e preencher os NaNs pela moda\n",
        "categoricas['TemDependentes2'] = categoricas['TemDependentes']"
      ],
      "execution_count": 94,
      "outputs": []
    },
    {
      "cell_type": "code",
      "metadata": {
        "id": "9EUmOLH2wzkl",
        "outputId": "fb91e862-446d-4835-cfe5-5b79066c3234",
        "colab": {
          "base_uri": "https://localhost:8080/"
        }
      },
      "source": [
        "categoricas.isna().sum()"
      ],
      "execution_count": 95,
      "outputs": [
        {
          "output_type": "execute_result",
          "data": {
            "text/plain": [
              "genero                      0\n",
              "Idoso                       0\n",
              "TemParceiro                 0\n",
              "TemDependentes            218\n",
              "TemTelefone                 0\n",
              "MaisLinhas                  0\n",
              "TemInternet                 0\n",
              "ServicoSegurancaOnline      0\n",
              "ServicoBackupOnline         0\n",
              "ServicoProtecaoOnline       0\n",
              "ServicoSuporteOnline        0\n",
              "ServicoTV                   0\n",
              "ServicoPctFilmes            0\n",
              "Contrato                    0\n",
              "ContaOnline                 0\n",
              "MetodoPagamento            99\n",
              "TemDependentes2           218\n",
              "dtype: int64"
            ]
          },
          "metadata": {
            "tags": []
          },
          "execution_count": 95
        }
      ]
    },
    {
      "cell_type": "code",
      "metadata": {
        "id": "_C8In3GixQMg",
        "outputId": "2f9727ca-d7b4-4184-9528-4e43c69bd231",
        "colab": {
          "base_uri": "https://localhost:8080/"
        }
      },
      "source": [
        "categoricas['TemDependentes2'].mode()"
      ],
      "execution_count": 96,
      "outputs": [
        {
          "output_type": "execute_result",
          "data": {
            "text/plain": [
              "0    No\n",
              "dtype: object"
            ]
          },
          "metadata": {
            "tags": []
          },
          "execution_count": 96
        }
      ]
    },
    {
      "cell_type": "code",
      "metadata": {
        "id": "CSaJWq1qtMC2",
        "outputId": "894e72ef-243f-4ab7-cf1f-610eed04374d",
        "colab": {
          "base_uri": "https://localhost:8080/"
        }
      },
      "source": [
        "categoricas['TemDependentes2'].fillna(value = 'No', inplace = True)\n",
        "categoricas.isna().sum()"
      ],
      "execution_count": 97,
      "outputs": [
        {
          "output_type": "execute_result",
          "data": {
            "text/plain": [
              "genero                      0\n",
              "Idoso                       0\n",
              "TemParceiro                 0\n",
              "TemDependentes            218\n",
              "TemTelefone                 0\n",
              "MaisLinhas                  0\n",
              "TemInternet                 0\n",
              "ServicoSegurancaOnline      0\n",
              "ServicoBackupOnline         0\n",
              "ServicoProtecaoOnline       0\n",
              "ServicoSuporteOnline        0\n",
              "ServicoTV                   0\n",
              "ServicoPctFilmes            0\n",
              "Contrato                    0\n",
              "ContaOnline                 0\n",
              "MetodoPagamento            99\n",
              "TemDependentes2             0\n",
              "dtype: int64"
            ]
          },
          "metadata": {
            "tags": []
          },
          "execution_count": 97
        }
      ]
    },
    {
      "cell_type": "code",
      "metadata": {
        "id": "qazfqVraxWbE",
        "outputId": "977cd55e-bcea-4861-a77f-dde7dda3eb32",
        "colab": {
          "base_uri": "https://localhost:8080/"
        }
      },
      "source": [
        "# Mesmo procedimento para a variável MetodoPagamento\n",
        "# Criar coluna TemDependentes2 e preencher os NaNs pela moda\n",
        "categoricas['MetodoPagamento2'] = categoricas['MetodoPagamento']\n",
        "categoricas.isna().sum()"
      ],
      "execution_count": 98,
      "outputs": [
        {
          "output_type": "execute_result",
          "data": {
            "text/plain": [
              "genero                      0\n",
              "Idoso                       0\n",
              "TemParceiro                 0\n",
              "TemDependentes            218\n",
              "TemTelefone                 0\n",
              "MaisLinhas                  0\n",
              "TemInternet                 0\n",
              "ServicoSegurancaOnline      0\n",
              "ServicoBackupOnline         0\n",
              "ServicoProtecaoOnline       0\n",
              "ServicoSuporteOnline        0\n",
              "ServicoTV                   0\n",
              "ServicoPctFilmes            0\n",
              "Contrato                    0\n",
              "ContaOnline                 0\n",
              "MetodoPagamento            99\n",
              "TemDependentes2             0\n",
              "MetodoPagamento2           99\n",
              "dtype: int64"
            ]
          },
          "metadata": {
            "tags": []
          },
          "execution_count": 98
        }
      ]
    },
    {
      "cell_type": "code",
      "metadata": {
        "id": "91AShTzexe7J",
        "outputId": "513a7b9b-e632-4aff-8953-d8213113b8a0",
        "colab": {
          "base_uri": "https://localhost:8080/"
        }
      },
      "source": [
        "categoricas['MetodoPagamento2'].value_counts()"
      ],
      "execution_count": 99,
      "outputs": [
        {
          "output_type": "execute_result",
          "data": {
            "text/plain": [
              "Electronic check             1887\n",
              "Mailed check                 1272\n",
              "Bank transfer (automatic)    1212\n",
              "Credit card (automatic)      1164\n",
              "Name: MetodoPagamento2, dtype: int64"
            ]
          },
          "metadata": {
            "tags": []
          },
          "execution_count": 99
        }
      ]
    },
    {
      "cell_type": "code",
      "metadata": {
        "id": "cMfZ9nBPyWNP",
        "outputId": "2c202e64-8e79-498f-8c5b-a3d99198503f",
        "colab": {
          "base_uri": "https://localhost:8080/"
        }
      },
      "source": [
        "categoricas['MetodoPagamento2'].fillna(value = 'Electronic check', inplace = True)\n",
        "categoricas.isna().sum()"
      ],
      "execution_count": 100,
      "outputs": [
        {
          "output_type": "execute_result",
          "data": {
            "text/plain": [
              "genero                      0\n",
              "Idoso                       0\n",
              "TemParceiro                 0\n",
              "TemDependentes            218\n",
              "TemTelefone                 0\n",
              "MaisLinhas                  0\n",
              "TemInternet                 0\n",
              "ServicoSegurancaOnline      0\n",
              "ServicoBackupOnline         0\n",
              "ServicoProtecaoOnline       0\n",
              "ServicoSuporteOnline        0\n",
              "ServicoTV                   0\n",
              "ServicoPctFilmes            0\n",
              "Contrato                    0\n",
              "ContaOnline                 0\n",
              "MetodoPagamento            99\n",
              "TemDependentes2             0\n",
              "MetodoPagamento2            0\n",
              "dtype: int64"
            ]
          },
          "metadata": {
            "tags": []
          },
          "execution_count": 100
        }
      ]
    },
    {
      "cell_type": "code",
      "metadata": {
        "id": "lLZfkXEnyqhn"
      },
      "source": [
        "# Apaga as columnas TemDependentes e MetodoPagamento originais e renomeia TemDependentes2 e MetodoPagamento2:\n",
        "categoricas.drop(columns = ['MetodoPagamento', 'TemDependentes'])\n",
        "categoricas.columns = ['genero', 'Idoso', 'TemParceiro', 'TemDependentes', 'TemTelefone',\n",
        "       'MaisLinhas', 'TemInternet', 'ServicoSegurancaOnline',\n",
        "       'ServicoBackupOnline', 'ServicoProtecaoOnline', 'ServicoSuporteOnline',\n",
        "       'ServicoTV', 'ServicoPctFilmes', 'Contrato', 'ContaOnline',\n",
        "       'MetodoPagamento', 'TemDependentes', 'MetodoPagamento']"
      ],
      "execution_count": 101,
      "outputs": []
    },
    {
      "cell_type": "code",
      "metadata": {
        "id": "cFPkcthpzTGo",
        "outputId": "9557f6d8-b83f-4850-e8a8-6e624f28d1a3",
        "colab": {
          "base_uri": "https://localhost:8080/"
        }
      },
      "source": [
        "categoricas.info()"
      ],
      "execution_count": 102,
      "outputs": [
        {
          "output_type": "stream",
          "text": [
            "<class 'pandas.core.frame.DataFrame'>\n",
            "RangeIndex: 5634 entries, 0 to 5633\n",
            "Data columns (total 18 columns):\n",
            " #   Column                  Non-Null Count  Dtype \n",
            "---  ------                  --------------  ----- \n",
            " 0   genero                  5634 non-null   object\n",
            " 1   Idoso                   5634 non-null   int64 \n",
            " 2   TemParceiro             5634 non-null   object\n",
            " 3   TemDependentes          5416 non-null   object\n",
            " 4   TemTelefone             5634 non-null   object\n",
            " 5   MaisLinhas              5634 non-null   object\n",
            " 6   TemInternet             5634 non-null   object\n",
            " 7   ServicoSegurancaOnline  5634 non-null   object\n",
            " 8   ServicoBackupOnline     5634 non-null   object\n",
            " 9   ServicoProtecaoOnline   5634 non-null   object\n",
            " 10  ServicoSuporteOnline    5634 non-null   object\n",
            " 11  ServicoTV               5634 non-null   object\n",
            " 12  ServicoPctFilmes        5634 non-null   object\n",
            " 13  Contrato                5634 non-null   object\n",
            " 14  ContaOnline             5634 non-null   object\n",
            " 15  MetodoPagamento         5535 non-null   object\n",
            " 16  TemDependentes          5634 non-null   object\n",
            " 17  MetodoPagamento         5634 non-null   object\n",
            "dtypes: int64(1), object(17)\n",
            "memory usage: 792.4+ KB\n"
          ],
          "name": "stdout"
        }
      ]
    },
    {
      "cell_type": "code",
      "metadata": {
        "id": "-T-Q8-oIzdBb",
        "outputId": "eb566d02-c64d-4a1c-e2d8-784249996db3",
        "colab": {
          "base_uri": "https://localhost:8080/",
          "height": 1000
        }
      },
      "source": [
        "# Cria variáveis dummies\n",
        "dummies = pd.get_dummies(categoricas, drop_first= True)\n",
        "dummies.head().T"
      ],
      "execution_count": 103,
      "outputs": [
        {
          "output_type": "execute_result",
          "data": {
            "text/html": [
              "<div>\n",
              "<style scoped>\n",
              "    .dataframe tbody tr th:only-of-type {\n",
              "        vertical-align: middle;\n",
              "    }\n",
              "\n",
              "    .dataframe tbody tr th {\n",
              "        vertical-align: top;\n",
              "    }\n",
              "\n",
              "    .dataframe thead th {\n",
              "        text-align: right;\n",
              "    }\n",
              "</style>\n",
              "<table border=\"1\" class=\"dataframe\">\n",
              "  <thead>\n",
              "    <tr style=\"text-align: right;\">\n",
              "      <th></th>\n",
              "      <th>0</th>\n",
              "      <th>1</th>\n",
              "      <th>2</th>\n",
              "      <th>3</th>\n",
              "      <th>4</th>\n",
              "    </tr>\n",
              "  </thead>\n",
              "  <tbody>\n",
              "    <tr>\n",
              "      <th>Idoso</th>\n",
              "      <td>0</td>\n",
              "      <td>0</td>\n",
              "      <td>0</td>\n",
              "      <td>0</td>\n",
              "      <td>0</td>\n",
              "    </tr>\n",
              "    <tr>\n",
              "      <th>genero_Male</th>\n",
              "      <td>0</td>\n",
              "      <td>1</td>\n",
              "      <td>0</td>\n",
              "      <td>0</td>\n",
              "      <td>1</td>\n",
              "    </tr>\n",
              "    <tr>\n",
              "      <th>TemParceiro_Yes</th>\n",
              "      <td>0</td>\n",
              "      <td>1</td>\n",
              "      <td>1</td>\n",
              "      <td>0</td>\n",
              "      <td>1</td>\n",
              "    </tr>\n",
              "    <tr>\n",
              "      <th>TemDependentes_Yes</th>\n",
              "      <td>0</td>\n",
              "      <td>1</td>\n",
              "      <td>0</td>\n",
              "      <td>0</td>\n",
              "      <td>1</td>\n",
              "    </tr>\n",
              "    <tr>\n",
              "      <th>TemTelefone_Yes</th>\n",
              "      <td>0</td>\n",
              "      <td>1</td>\n",
              "      <td>1</td>\n",
              "      <td>1</td>\n",
              "      <td>1</td>\n",
              "    </tr>\n",
              "    <tr>\n",
              "      <th>MaisLinhas_No phone service</th>\n",
              "      <td>1</td>\n",
              "      <td>0</td>\n",
              "      <td>0</td>\n",
              "      <td>0</td>\n",
              "      <td>0</td>\n",
              "    </tr>\n",
              "    <tr>\n",
              "      <th>MaisLinhas_Yes</th>\n",
              "      <td>0</td>\n",
              "      <td>0</td>\n",
              "      <td>1</td>\n",
              "      <td>1</td>\n",
              "      <td>0</td>\n",
              "    </tr>\n",
              "    <tr>\n",
              "      <th>TemInternet_Fiber optic</th>\n",
              "      <td>0</td>\n",
              "      <td>0</td>\n",
              "      <td>1</td>\n",
              "      <td>1</td>\n",
              "      <td>1</td>\n",
              "    </tr>\n",
              "    <tr>\n",
              "      <th>TemInternet_No</th>\n",
              "      <td>0</td>\n",
              "      <td>1</td>\n",
              "      <td>0</td>\n",
              "      <td>0</td>\n",
              "      <td>0</td>\n",
              "    </tr>\n",
              "    <tr>\n",
              "      <th>ServicoSegurancaOnline_No internet service</th>\n",
              "      <td>0</td>\n",
              "      <td>1</td>\n",
              "      <td>0</td>\n",
              "      <td>0</td>\n",
              "      <td>0</td>\n",
              "    </tr>\n",
              "    <tr>\n",
              "      <th>ServicoSegurancaOnline_Yes</th>\n",
              "      <td>1</td>\n",
              "      <td>0</td>\n",
              "      <td>0</td>\n",
              "      <td>0</td>\n",
              "      <td>0</td>\n",
              "    </tr>\n",
              "    <tr>\n",
              "      <th>ServicoBackupOnline_No internet service</th>\n",
              "      <td>0</td>\n",
              "      <td>1</td>\n",
              "      <td>0</td>\n",
              "      <td>0</td>\n",
              "      <td>0</td>\n",
              "    </tr>\n",
              "    <tr>\n",
              "      <th>ServicoBackupOnline_Yes</th>\n",
              "      <td>1</td>\n",
              "      <td>0</td>\n",
              "      <td>1</td>\n",
              "      <td>1</td>\n",
              "      <td>0</td>\n",
              "    </tr>\n",
              "    <tr>\n",
              "      <th>ServicoProtecaoOnline_No internet service</th>\n",
              "      <td>0</td>\n",
              "      <td>1</td>\n",
              "      <td>0</td>\n",
              "      <td>0</td>\n",
              "      <td>0</td>\n",
              "    </tr>\n",
              "    <tr>\n",
              "      <th>ServicoProtecaoOnline_Yes</th>\n",
              "      <td>1</td>\n",
              "      <td>0</td>\n",
              "      <td>1</td>\n",
              "      <td>1</td>\n",
              "      <td>0</td>\n",
              "    </tr>\n",
              "    <tr>\n",
              "      <th>ServicoSuporteOnline_No internet service</th>\n",
              "      <td>0</td>\n",
              "      <td>1</td>\n",
              "      <td>0</td>\n",
              "      <td>0</td>\n",
              "      <td>0</td>\n",
              "    </tr>\n",
              "    <tr>\n",
              "      <th>ServicoSuporteOnline_Yes</th>\n",
              "      <td>1</td>\n",
              "      <td>0</td>\n",
              "      <td>1</td>\n",
              "      <td>0</td>\n",
              "      <td>0</td>\n",
              "    </tr>\n",
              "    <tr>\n",
              "      <th>ServicoTV_No internet service</th>\n",
              "      <td>0</td>\n",
              "      <td>1</td>\n",
              "      <td>0</td>\n",
              "      <td>0</td>\n",
              "      <td>0</td>\n",
              "    </tr>\n",
              "    <tr>\n",
              "      <th>ServicoTV_Yes</th>\n",
              "      <td>0</td>\n",
              "      <td>0</td>\n",
              "      <td>1</td>\n",
              "      <td>1</td>\n",
              "      <td>0</td>\n",
              "    </tr>\n",
              "    <tr>\n",
              "      <th>ServicoPctFilmes_No internet service</th>\n",
              "      <td>0</td>\n",
              "      <td>1</td>\n",
              "      <td>0</td>\n",
              "      <td>0</td>\n",
              "      <td>0</td>\n",
              "    </tr>\n",
              "    <tr>\n",
              "      <th>ServicoPctFilmes_Yes</th>\n",
              "      <td>0</td>\n",
              "      <td>0</td>\n",
              "      <td>1</td>\n",
              "      <td>1</td>\n",
              "      <td>0</td>\n",
              "    </tr>\n",
              "    <tr>\n",
              "      <th>Contrato_One year</th>\n",
              "      <td>0</td>\n",
              "      <td>1</td>\n",
              "      <td>0</td>\n",
              "      <td>0</td>\n",
              "      <td>0</td>\n",
              "    </tr>\n",
              "    <tr>\n",
              "      <th>Contrato_Two year</th>\n",
              "      <td>1</td>\n",
              "      <td>0</td>\n",
              "      <td>1</td>\n",
              "      <td>0</td>\n",
              "      <td>0</td>\n",
              "    </tr>\n",
              "    <tr>\n",
              "      <th>ContaOnline_Yes</th>\n",
              "      <td>0</td>\n",
              "      <td>0</td>\n",
              "      <td>1</td>\n",
              "      <td>1</td>\n",
              "      <td>1</td>\n",
              "    </tr>\n",
              "    <tr>\n",
              "      <th>MetodoPagamento_Credit card (automatic)</th>\n",
              "      <td>0</td>\n",
              "      <td>0</td>\n",
              "      <td>1</td>\n",
              "      <td>0</td>\n",
              "      <td>0</td>\n",
              "    </tr>\n",
              "    <tr>\n",
              "      <th>MetodoPagamento_Electronic check</th>\n",
              "      <td>0</td>\n",
              "      <td>0</td>\n",
              "      <td>0</td>\n",
              "      <td>0</td>\n",
              "      <td>1</td>\n",
              "    </tr>\n",
              "    <tr>\n",
              "      <th>MetodoPagamento_Mailed check</th>\n",
              "      <td>0</td>\n",
              "      <td>1</td>\n",
              "      <td>0</td>\n",
              "      <td>0</td>\n",
              "      <td>0</td>\n",
              "    </tr>\n",
              "    <tr>\n",
              "      <th>TemDependentes_Yes</th>\n",
              "      <td>0</td>\n",
              "      <td>1</td>\n",
              "      <td>0</td>\n",
              "      <td>0</td>\n",
              "      <td>1</td>\n",
              "    </tr>\n",
              "    <tr>\n",
              "      <th>MetodoPagamento_Credit card (automatic)</th>\n",
              "      <td>0</td>\n",
              "      <td>0</td>\n",
              "      <td>1</td>\n",
              "      <td>0</td>\n",
              "      <td>0</td>\n",
              "    </tr>\n",
              "    <tr>\n",
              "      <th>MetodoPagamento_Electronic check</th>\n",
              "      <td>1</td>\n",
              "      <td>0</td>\n",
              "      <td>0</td>\n",
              "      <td>0</td>\n",
              "      <td>1</td>\n",
              "    </tr>\n",
              "    <tr>\n",
              "      <th>MetodoPagamento_Mailed check</th>\n",
              "      <td>0</td>\n",
              "      <td>1</td>\n",
              "      <td>0</td>\n",
              "      <td>0</td>\n",
              "      <td>0</td>\n",
              "    </tr>\n",
              "  </tbody>\n",
              "</table>\n",
              "</div>"
            ],
            "text/plain": [
              "                                            0  1  2  3  4\n",
              "Idoso                                       0  0  0  0  0\n",
              "genero_Male                                 0  1  0  0  1\n",
              "TemParceiro_Yes                             0  1  1  0  1\n",
              "TemDependentes_Yes                          0  1  0  0  1\n",
              "TemTelefone_Yes                             0  1  1  1  1\n",
              "MaisLinhas_No phone service                 1  0  0  0  0\n",
              "MaisLinhas_Yes                              0  0  1  1  0\n",
              "TemInternet_Fiber optic                     0  0  1  1  1\n",
              "TemInternet_No                              0  1  0  0  0\n",
              "ServicoSegurancaOnline_No internet service  0  1  0  0  0\n",
              "ServicoSegurancaOnline_Yes                  1  0  0  0  0\n",
              "ServicoBackupOnline_No internet service     0  1  0  0  0\n",
              "ServicoBackupOnline_Yes                     1  0  1  1  0\n",
              "ServicoProtecaoOnline_No internet service   0  1  0  0  0\n",
              "ServicoProtecaoOnline_Yes                   1  0  1  1  0\n",
              "ServicoSuporteOnline_No internet service    0  1  0  0  0\n",
              "ServicoSuporteOnline_Yes                    1  0  1  0  0\n",
              "ServicoTV_No internet service               0  1  0  0  0\n",
              "ServicoTV_Yes                               0  0  1  1  0\n",
              "ServicoPctFilmes_No internet service        0  1  0  0  0\n",
              "ServicoPctFilmes_Yes                        0  0  1  1  0\n",
              "Contrato_One year                           0  1  0  0  0\n",
              "Contrato_Two year                           1  0  1  0  0\n",
              "ContaOnline_Yes                             0  0  1  1  1\n",
              "MetodoPagamento_Credit card (automatic)     0  0  1  0  0\n",
              "MetodoPagamento_Electronic check            0  0  0  0  1\n",
              "MetodoPagamento_Mailed check                0  1  0  0  0\n",
              "TemDependentes_Yes                          0  1  0  0  1\n",
              "MetodoPagamento_Credit card (automatic)     0  0  1  0  0\n",
              "MetodoPagamento_Electronic check            1  0  0  0  1\n",
              "MetodoPagamento_Mailed check                0  1  0  0  0"
            ]
          },
          "metadata": {
            "tags": []
          },
          "execution_count": 103
        }
      ]
    },
    {
      "cell_type": "markdown",
      "metadata": {
        "id": "v3TveGBo0eb_"
      },
      "source": [
        "## Criação dos datasets X e y"
      ]
    },
    {
      "cell_type": "code",
      "metadata": {
        "id": "q6iNmhxZ0iGN"
      },
      "source": [
        "X = pd.concat([dados['id'], quant_scale, dummies], axis =1)"
      ],
      "execution_count": 104,
      "outputs": []
    },
    {
      "cell_type": "code",
      "metadata": {
        "id": "UD57FkWs2Igw"
      },
      "source": [
        "y = dados['Churn']"
      ],
      "execution_count": 105,
      "outputs": []
    },
    {
      "cell_type": "markdown",
      "metadata": {
        "id": "RApI5YK92cmc"
      },
      "source": [
        ""
      ]
    },
    {
      "cell_type": "code",
      "metadata": {
        "id": "8xukfyAx1oGN"
      },
      "source": [
        "# Importar timeit (necessário para o RandomForestClassifier)\n",
        "import timeit\n",
        "\n",
        "#Importar o train_test_split e GridSearchCV\n",
        "from sklearn.model_selection import train_test_split\n",
        "from sklearn.model_selection import GridSearchCV\n",
        "\n",
        "# Importar modelos\n",
        "from sklearn.linear_model import LogisticRegression\n",
        "from sklearn.ensemble import RandomForestClassifier\n",
        "\n",
        "#Importa métricas\n",
        "from sklearn.metrics import roc_auc_score, roc_curve, classification_report, accuracy_score, confusion_matrix, auc\n"
      ],
      "execution_count": 127,
      "outputs": []
    },
    {
      "cell_type": "code",
      "metadata": {
        "id": "FD_xWNWFCHtl"
      },
      "source": [
        "X_train, X_test, y_train, y_test = train_test_split(X, y)"
      ],
      "execution_count": 118,
      "outputs": []
    },
    {
      "cell_type": "code",
      "metadata": {
        "id": "YWIolo0oElg6",
        "outputId": "6a4bcd86-14bc-4208-f116-4c29ef8c8296",
        "colab": {
          "base_uri": "https://localhost:8080/"
        }
      },
      "source": [
        "X_train.shape"
      ],
      "execution_count": 119,
      "outputs": [
        {
          "output_type": "execute_result",
          "data": {
            "text/plain": [
              "(4225, 35)"
            ]
          },
          "metadata": {
            "tags": []
          },
          "execution_count": 119
        }
      ]
    },
    {
      "cell_type": "code",
      "metadata": {
        "id": "r4uJximGFb7O",
        "outputId": "4e32c18a-d274-4022-c8b3-f24baa2e0234",
        "colab": {
          "base_uri": "https://localhost:8080/"
        }
      },
      "source": [
        "y_train.shape"
      ],
      "execution_count": 121,
      "outputs": [
        {
          "output_type": "execute_result",
          "data": {
            "text/plain": [
              "(4225,)"
            ]
          },
          "metadata": {
            "tags": []
          },
          "execution_count": 121
        }
      ]
    },
    {
      "cell_type": "code",
      "metadata": {
        "id": "m7MNiqD9Fd3v",
        "outputId": "544ffb20-1c12-4efa-f544-2d82da6ea5e1",
        "colab": {
          "base_uri": "https://localhost:8080/"
        }
      },
      "source": [
        "X_test.shape"
      ],
      "execution_count": 122,
      "outputs": [
        {
          "output_type": "execute_result",
          "data": {
            "text/plain": [
              "(1409, 35)"
            ]
          },
          "metadata": {
            "tags": []
          },
          "execution_count": 122
        }
      ]
    },
    {
      "cell_type": "code",
      "metadata": {
        "id": "84CHeN2lFhuV",
        "outputId": "ea3d4063-6225-431e-fa06-48113ad858d3",
        "colab": {
          "base_uri": "https://localhost:8080/"
        }
      },
      "source": [
        "y_test.shape"
      ],
      "execution_count": 123,
      "outputs": [
        {
          "output_type": "execute_result",
          "data": {
            "text/plain": [
              "(1409,)"
            ]
          },
          "metadata": {
            "tags": []
          },
          "execution_count": 123
        }
      ]
    },
    {
      "cell_type": "code",
      "metadata": {
        "id": "3E6MXQVHFj0Y"
      },
      "source": [
        "# Instaciar o RandomForestClassifier \n",
        "\n",
        "mod_rf = RandomForestClassifier()  "
      ],
      "execution_count": 128,
      "outputs": []
    },
    {
      "cell_type": "code",
      "metadata": {
        "id": "Fa2hzuLeHXob",
        "outputId": "c4d06cd9-c333-43a8-b1ff-0bfd5cae90db",
        "colab": {
          "base_uri": "https://localhost:8080/"
        }
      },
      "source": [
        "# Criar dicionário de parâmetros para o RandomForestClassifier\n",
        "\n",
        "dict_param_rf = {\n",
        "    'n_estimators':[40,50,60,70],   # numero de estimadores que será testado. Quanto maior, mais exige poder computacional.\n",
        "    'criterion':['gini', 'entropy'],   #  critérios\n",
        "    'bootstrap':[False, True]\n",
        "}\n",
        "dict_param_rf"
      ],
      "execution_count": 131,
      "outputs": [
        {
          "output_type": "execute_result",
          "data": {
            "text/plain": [
              "{'bootstrap': [False, True],\n",
              " 'criterion': ['gini', 'entropy'],\n",
              " 'n_estimators': [40, 50, 60, 70]}"
            ]
          },
          "metadata": {
            "tags": []
          },
          "execution_count": 131
        }
      ]
    },
    {
      "cell_type": "code",
      "metadata": {
        "id": "a2VUbBBTF3B5"
      },
      "source": [
        "grid_rf = GridSearchCV(mod_rf, dict_param_rf, scoring='accuracy', n_jobs=2, cv = 10)"
      ],
      "execution_count": 132,
      "outputs": []
    },
    {
      "cell_type": "code",
      "metadata": {
        "id": "E1_kvd09Iq_e",
        "outputId": "2a294ffa-4192-40d4-8e91-132194402189",
        "colab": {
          "base_uri": "https://localhost:8080/"
        }
      },
      "source": [
        "grid_rf.fit(X_train, y_train)"
      ],
      "execution_count": 133,
      "outputs": [
        {
          "output_type": "execute_result",
          "data": {
            "text/plain": [
              "GridSearchCV(cv=10, error_score=nan,\n",
              "             estimator=RandomForestClassifier(bootstrap=True, ccp_alpha=0.0,\n",
              "                                              class_weight=None,\n",
              "                                              criterion='gini', max_depth=None,\n",
              "                                              max_features='auto',\n",
              "                                              max_leaf_nodes=None,\n",
              "                                              max_samples=None,\n",
              "                                              min_impurity_decrease=0.0,\n",
              "                                              min_impurity_split=None,\n",
              "                                              min_samples_leaf=1,\n",
              "                                              min_samples_split=2,\n",
              "                                              min_weight_fraction_leaf=0.0,\n",
              "                                              n_estimators=100, n_jobs=None,\n",
              "                                              oob_score=False,\n",
              "                                              random_state=None, verbose=0,\n",
              "                                              warm_start=False),\n",
              "             iid='deprecated', n_jobs=2,\n",
              "             param_grid={'bootstrap': [False, True],\n",
              "                         'criterion': ['gini', 'entropy'],\n",
              "                         'n_estimators': [40, 50, 60, 70]},\n",
              "             pre_dispatch='2*n_jobs', refit=True, return_train_score=False,\n",
              "             scoring='accuracy', verbose=0)"
            ]
          },
          "metadata": {
            "tags": []
          },
          "execution_count": 133
        }
      ]
    },
    {
      "cell_type": "code",
      "metadata": {
        "id": "dyKaL8DAI1pf",
        "outputId": "049d90a7-1d98-4370-dff7-9b04c4302883",
        "colab": {
          "base_uri": "https://localhost:8080/"
        }
      },
      "source": [
        "grid_rf.best_params_"
      ],
      "execution_count": 134,
      "outputs": [
        {
          "output_type": "execute_result",
          "data": {
            "text/plain": [
              "{'bootstrap': False, 'criterion': 'entropy', 'n_estimators': 40}"
            ]
          },
          "metadata": {
            "tags": []
          },
          "execution_count": 134
        }
      ]
    },
    {
      "cell_type": "code",
      "metadata": {
        "id": "rwCEyauNJGca",
        "outputId": "50c73035-c119-4158-80cb-870205c42be0",
        "colab": {
          "base_uri": "https://localhost:8080/"
        }
      },
      "source": [
        "grid_rf.best_score_"
      ],
      "execution_count": 135,
      "outputs": [
        {
          "output_type": "execute_result",
          "data": {
            "text/plain": [
              "0.8042620416120467"
            ]
          },
          "metadata": {
            "tags": []
          },
          "execution_count": 135
        }
      ]
    },
    {
      "cell_type": "code",
      "metadata": {
        "id": "ML4twsqOJJ1G"
      },
      "source": [
        "y_pred = grid_rf.predict(X_test)"
      ],
      "execution_count": 137,
      "outputs": []
    },
    {
      "cell_type": "code",
      "metadata": {
        "id": "o95FAB_JJTVY",
        "outputId": "3207ad58-37ca-41b8-fcb7-f093deb81317",
        "colab": {
          "base_uri": "https://localhost:8080/"
        }
      },
      "source": [
        "accuracy_score(y_test, y_pred)"
      ],
      "execution_count": 138,
      "outputs": [
        {
          "output_type": "execute_result",
          "data": {
            "text/plain": [
              "0.7842441447835344"
            ]
          },
          "metadata": {
            "tags": []
          },
          "execution_count": 138
        }
      ]
    },
    {
      "cell_type": "code",
      "metadata": {
        "id": "yefoJ9hlJY8C",
        "outputId": "58443a86-f80f-465e-a056-da25d1f63e10",
        "colab": {
          "base_uri": "https://localhost:8080/"
        }
      },
      "source": [
        "y_pred"
      ],
      "execution_count": 139,
      "outputs": [
        {
          "output_type": "execute_result",
          "data": {
            "text/plain": [
              "array([1, 0, 0, ..., 0, 0, 0])"
            ]
          },
          "metadata": {
            "tags": []
          },
          "execution_count": 139
        }
      ]
    },
    {
      "cell_type": "markdown",
      "metadata": {
        "id": "mTf7DcGFKmHm"
      },
      "source": [
        "Aplicando o modelo nos arquivo test.csv"
      ]
    },
    {
      "cell_type": "code",
      "metadata": {
        "id": "2zMo4TraKy5A"
      },
      "source": [
        ""
      ],
      "execution_count": null,
      "outputs": []
    }
  ]
}